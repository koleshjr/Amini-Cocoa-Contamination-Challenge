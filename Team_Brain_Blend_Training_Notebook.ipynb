{
  "cells": [
    {
      "cell_type": "markdown",
      "id": "f218f696",
      "metadata": {
        "id": "f218f696",
        "papermill": {
          "duration": 0.009465,
          "end_time": "2025-05-03T10:36:27.151816",
          "exception": false,
          "start_time": "2025-05-03T10:36:27.142351",
          "status": "completed"
        },
        "tags": []
      },
      "source": [
        "# Amini Cocoa Contamination Challenge\n",
        "\n",
        "* We trained yolo11s models, which are fast to train (approx. 2h 30min per fold).\n",
        "* Based on the resource restrictions of this challenge, quoted below:\n",
        "\n",
        "  > \"Your solutions for this challenge must be able to function in a resource-limited setting, i.e., it should run on a low-resource smartphone. As such, we are imposing the following restrictions on resources: T4 GPU, maximum 9h training, maximum 3h inference. Model frameworks must be appropriate for use on edge devices (e.g., ONNX, TensorFlow Lite).\"\n",
        "\n",
        "* Since there were no restrictions placed on ensembling, and the yolo11s models are lightweight and fast to train, we trained an ensemble of three models on folds 6, 7, and 8.\n",
        "* The total inference time for the ensemble remained well under 1 hour — comfortably within the 3-hour inference budget. Specifically 40 minutes\n",
        "* All models can be exported to ONNX or TensorFlow Lite and are suitable for deployment on low-resource smartphones.\n",
        "* Based on the above, our solution adheres fully to the challenge rules.\n",
        "* That said, even the individual (single-fold) models perform strongly and are fast enough for edge deployment on their own.\n",
        "\n",
        "\n",
        "#### Environment to reproduce our experiments: Kaggle\n",
        "#### Total runtime for the whole training process: 8hr 33 min"
      ]
    },
    {
      "cell_type": "markdown",
      "id": "9l3YbRbYWJmW",
      "metadata": {
        "id": "9l3YbRbYWJmW"
      },
      "source": [
        "## **SETUP**"
      ]
    },
    {
      "cell_type": "code",
      "execution_count": null,
      "id": "ee661fa3",
      "metadata": {
        "execution": {
          "iopub.execute_input": "2025-05-03T10:36:27.166765Z",
          "iopub.status.busy": "2025-05-03T10:36:27.166381Z",
          "iopub.status.idle": "2025-05-03T10:36:42.960324Z",
          "shell.execute_reply": "2025-05-03T10:36:42.959413Z"
        },
        "id": "ee661fa3",
        "outputId": "d62f6711-93ef-40f2-95bf-93b59ce9d178",
        "papermill": {
          "duration": 15.802964,
          "end_time": "2025-05-03T10:36:42.961992",
          "exception": false,
          "start_time": "2025-05-03T10:36:27.159028",
          "status": "completed"
        },
        "tags": []
      },
      "outputs": [
        {
          "name": "stdout",
          "output_type": "stream",
          "text": [
            "Collecting ultralytics==8.3.116\r\n",
            "  Downloading ultralytics-8.3.116-py3-none-any.whl.metadata (37 kB)\r\n",
            "Requirement already satisfied: numpy<=2.1.1,>=1.23.0 in /usr/local/lib/python3.10/dist-packages (from ultralytics==8.3.116) (1.26.4)\r\n",
            "Requirement already satisfied: matplotlib>=3.3.0 in /usr/local/lib/python3.10/dist-packages (from ultralytics==8.3.116) (3.7.5)\r\n",
            "Requirement already satisfied: opencv-python>=4.6.0 in /usr/local/lib/python3.10/dist-packages (from ultralytics==8.3.116) (4.10.0.84)\r\n",
            "Requirement already satisfied: pillow>=7.1.2 in /usr/local/lib/python3.10/dist-packages (from ultralytics==8.3.116) (11.0.0)\r\n",
            "Requirement already satisfied: pyyaml>=5.3.1 in /usr/local/lib/python3.10/dist-packages (from ultralytics==8.3.116) (6.0.2)\r\n",
            "Requirement already satisfied: requests>=2.23.0 in /usr/local/lib/python3.10/dist-packages (from ultralytics==8.3.116) (2.32.3)\r\n",
            "Requirement already satisfied: scipy>=1.4.1 in /usr/local/lib/python3.10/dist-packages (from ultralytics==8.3.116) (1.13.1)\r\n",
            "Requirement already satisfied: torch>=1.8.0 in /usr/local/lib/python3.10/dist-packages (from ultralytics==8.3.116) (2.5.1+cu121)\r\n",
            "Requirement already satisfied: torchvision>=0.9.0 in /usr/local/lib/python3.10/dist-packages (from ultralytics==8.3.116) (0.20.1+cu121)\r\n",
            "Requirement already satisfied: tqdm>=4.64.0 in /usr/local/lib/python3.10/dist-packages (from ultralytics==8.3.116) (4.67.1)\r\n",
            "Requirement already satisfied: psutil in /usr/local/lib/python3.10/dist-packages (from ultralytics==8.3.116) (5.9.5)\r\n",
            "Requirement already satisfied: py-cpuinfo in /usr/local/lib/python3.10/dist-packages (from ultralytics==8.3.116) (9.0.0)\r\n",
            "Requirement already satisfied: pandas>=1.1.4 in /usr/local/lib/python3.10/dist-packages (from ultralytics==8.3.116) (2.2.3)\r\n",
            "Requirement already satisfied: seaborn>=0.11.0 in /usr/local/lib/python3.10/dist-packages (from ultralytics==8.3.116) (0.12.2)\r\n",
            "Collecting ultralytics-thop>=2.0.0 (from ultralytics==8.3.116)\r\n",
            "  Downloading ultralytics_thop-2.0.14-py3-none-any.whl.metadata (9.4 kB)\r\n",
            "Requirement already satisfied: contourpy>=1.0.1 in /usr/local/lib/python3.10/dist-packages (from matplotlib>=3.3.0->ultralytics==8.3.116) (1.3.1)\r\n",
            "Requirement already satisfied: cycler>=0.10 in /usr/local/lib/python3.10/dist-packages (from matplotlib>=3.3.0->ultralytics==8.3.116) (0.12.1)\r\n",
            "Requirement already satisfied: fonttools>=4.22.0 in /usr/local/lib/python3.10/dist-packages (from matplotlib>=3.3.0->ultralytics==8.3.116) (4.55.3)\r\n",
            "Requirement already satisfied: kiwisolver>=1.0.1 in /usr/local/lib/python3.10/dist-packages (from matplotlib>=3.3.0->ultralytics==8.3.116) (1.4.7)\r\n",
            "Requirement already satisfied: packaging>=20.0 in /usr/local/lib/python3.10/dist-packages (from matplotlib>=3.3.0->ultralytics==8.3.116) (24.2)\r\n",
            "Requirement already satisfied: pyparsing>=2.3.1 in /usr/local/lib/python3.10/dist-packages (from matplotlib>=3.3.0->ultralytics==8.3.116) (3.2.0)\r\n",
            "Requirement already satisfied: python-dateutil>=2.7 in /usr/local/lib/python3.10/dist-packages (from matplotlib>=3.3.0->ultralytics==8.3.116) (2.9.0.post0)\r\n",
            "Requirement already satisfied: mkl_fft in /usr/local/lib/python3.10/dist-packages (from numpy<=2.1.1,>=1.23.0->ultralytics==8.3.116) (1.3.8)\r\n",
            "Requirement already satisfied: mkl_random in /usr/local/lib/python3.10/dist-packages (from numpy<=2.1.1,>=1.23.0->ultralytics==8.3.116) (1.2.4)\r\n",
            "Requirement already satisfied: mkl_umath in /usr/local/lib/python3.10/dist-packages (from numpy<=2.1.1,>=1.23.0->ultralytics==8.3.116) (0.1.1)\r\n",
            "Requirement already satisfied: mkl in /usr/local/lib/python3.10/dist-packages (from numpy<=2.1.1,>=1.23.0->ultralytics==8.3.116) (2025.0.1)\r\n",
            "Requirement already satisfied: tbb4py in /usr/local/lib/python3.10/dist-packages (from numpy<=2.1.1,>=1.23.0->ultralytics==8.3.116) (2022.0.0)\r\n",
            "Requirement already satisfied: mkl-service in /usr/local/lib/python3.10/dist-packages (from numpy<=2.1.1,>=1.23.0->ultralytics==8.3.116) (2.4.1)\r\n",
            "Requirement already satisfied: pytz>=2020.1 in /usr/local/lib/python3.10/dist-packages (from pandas>=1.1.4->ultralytics==8.3.116) (2025.1)\r\n",
            "Requirement already satisfied: tzdata>=2022.7 in /usr/local/lib/python3.10/dist-packages (from pandas>=1.1.4->ultralytics==8.3.116) (2025.1)\r\n",
            "Requirement already satisfied: charset-normalizer<4,>=2 in /usr/local/lib/python3.10/dist-packages (from requests>=2.23.0->ultralytics==8.3.116) (3.4.1)\r\n",
            "Requirement already satisfied: idna<4,>=2.5 in /usr/local/lib/python3.10/dist-packages (from requests>=2.23.0->ultralytics==8.3.116) (3.10)\r\n",
            "Requirement already satisfied: urllib3<3,>=1.21.1 in /usr/local/lib/python3.10/dist-packages (from requests>=2.23.0->ultralytics==8.3.116) (2.3.0)\r\n",
            "Requirement already satisfied: certifi>=2017.4.17 in /usr/local/lib/python3.10/dist-packages (from requests>=2.23.0->ultralytics==8.3.116) (2025.1.31)\r\n",
            "Requirement already satisfied: filelock in /usr/local/lib/python3.10/dist-packages (from torch>=1.8.0->ultralytics==8.3.116) (3.17.0)\r\n",
            "Requirement already satisfied: typing-extensions>=4.8.0 in /usr/local/lib/python3.10/dist-packages (from torch>=1.8.0->ultralytics==8.3.116) (4.12.2)\r\n",
            "Requirement already satisfied: networkx in /usr/local/lib/python3.10/dist-packages (from torch>=1.8.0->ultralytics==8.3.116) (3.4.2)\r\n",
            "Requirement already satisfied: jinja2 in /usr/local/lib/python3.10/dist-packages (from torch>=1.8.0->ultralytics==8.3.116) (3.1.4)\r\n",
            "Requirement already satisfied: fsspec in /usr/local/lib/python3.10/dist-packages (from torch>=1.8.0->ultralytics==8.3.116) (2024.12.0)\r\n",
            "Requirement already satisfied: sympy==1.13.1 in /usr/local/lib/python3.10/dist-packages (from torch>=1.8.0->ultralytics==8.3.116) (1.13.1)\r\n",
            "Requirement already satisfied: mpmath<1.4,>=1.1.0 in /usr/local/lib/python3.10/dist-packages (from sympy==1.13.1->torch>=1.8.0->ultralytics==8.3.116) (1.3.0)\r\n",
            "Requirement already satisfied: six>=1.5 in /usr/local/lib/python3.10/dist-packages (from python-dateutil>=2.7->matplotlib>=3.3.0->ultralytics==8.3.116) (1.17.0)\r\n",
            "Requirement already satisfied: MarkupSafe>=2.0 in /usr/local/lib/python3.10/dist-packages (from jinja2->torch>=1.8.0->ultralytics==8.3.116) (3.0.2)\r\n",
            "Requirement already satisfied: intel-openmp>=2024 in /usr/local/lib/python3.10/dist-packages (from mkl->numpy<=2.1.1,>=1.23.0->ultralytics==8.3.116) (2024.2.0)\r\n",
            "Requirement already satisfied: tbb==2022.* in /usr/local/lib/python3.10/dist-packages (from mkl->numpy<=2.1.1,>=1.23.0->ultralytics==8.3.116) (2022.0.0)\r\n",
            "Requirement already satisfied: tcmlib==1.* in /usr/local/lib/python3.10/dist-packages (from tbb==2022.*->mkl->numpy<=2.1.1,>=1.23.0->ultralytics==8.3.116) (1.2.0)\r\n",
            "Requirement already satisfied: intel-cmplr-lib-rt in /usr/local/lib/python3.10/dist-packages (from mkl_umath->numpy<=2.1.1,>=1.23.0->ultralytics==8.3.116) (2024.2.0)\r\n",
            "Requirement already satisfied: intel-cmplr-lib-ur==2024.2.0 in /usr/local/lib/python3.10/dist-packages (from intel-openmp>=2024->mkl->numpy<=2.1.1,>=1.23.0->ultralytics==8.3.116) (2024.2.0)\r\n",
            "Downloading ultralytics-8.3.116-py3-none-any.whl (984 kB)\r\n",
            "\u001b[2K   \u001b[90m━━━━━━━━━━━━━━━━━━━━━━━━━━━━━━━━━━━━━━━━\u001b[0m \u001b[32m984.0/984.0 kB\u001b[0m \u001b[31m16.7 MB/s\u001b[0m eta \u001b[36m0:00:00\u001b[0m\r\n",
            "\u001b[?25hDownloading ultralytics_thop-2.0.14-py3-none-any.whl (26 kB)\r\n",
            "Installing collected packages: ultralytics-thop, ultralytics\r\n",
            "Successfully installed ultralytics-8.3.116 ultralytics-thop-2.0.14\r\n",
            "Collecting albumentations==2.0.5\r\n",
            "  Downloading albumentations-2.0.5-py3-none-any.whl.metadata (41 kB)\r\n",
            "\u001b[2K     \u001b[90m━━━━━━━━━━━━━━━━━━━━━━━━━━━━━━━━━━━━━━━━\u001b[0m \u001b[32m41.7/41.7 kB\u001b[0m \u001b[31m1.5 MB/s\u001b[0m eta \u001b[36m0:00:00\u001b[0m\r\n",
            "\u001b[?25hRequirement already satisfied: numpy>=1.24.4 in /usr/local/lib/python3.10/dist-packages (from albumentations==2.0.5) (1.26.4)\r\n",
            "Requirement already satisfied: scipy>=1.10.0 in /usr/local/lib/python3.10/dist-packages (from albumentations==2.0.5) (1.13.1)\r\n",
            "Requirement already satisfied: PyYAML in /usr/local/lib/python3.10/dist-packages (from albumentations==2.0.5) (6.0.2)\r\n",
            "Requirement already satisfied: pydantic>=2.9.2 in /usr/local/lib/python3.10/dist-packages (from albumentations==2.0.5) (2.11.0a2)\r\n",
            "Collecting albucore==0.0.23 (from albumentations==2.0.5)\r\n",
            "  Downloading albucore-0.0.23-py3-none-any.whl.metadata (5.3 kB)\r\n",
            "Requirement already satisfied: opencv-python-headless>=4.9.0.80 in /usr/local/lib/python3.10/dist-packages (from albumentations==2.0.5) (4.10.0.84)\r\n",
            "Requirement already satisfied: stringzilla>=3.10.4 in /usr/local/lib/python3.10/dist-packages (from albucore==0.0.23->albumentations==2.0.5) (3.11.1)\r\n",
            "Collecting simsimd>=5.9.2 (from albucore==0.0.23->albumentations==2.0.5)\r\n",
            "  Downloading simsimd-6.2.1-cp310-cp310-manylinux_2_28_x86_64.whl.metadata (66 kB)\r\n",
            "\u001b[2K     \u001b[90m━━━━━━━━━━━━━━━━━━━━━━━━━━━━━━━━━━━━━━━━\u001b[0m \u001b[32m66.0/66.0 kB\u001b[0m \u001b[31m2.8 MB/s\u001b[0m eta \u001b[36m0:00:00\u001b[0m\r\n",
            "\u001b[?25hRequirement already satisfied: mkl_fft in /usr/local/lib/python3.10/dist-packages (from numpy>=1.24.4->albumentations==2.0.5) (1.3.8)\r\n",
            "Requirement already satisfied: mkl_random in /usr/local/lib/python3.10/dist-packages (from numpy>=1.24.4->albumentations==2.0.5) (1.2.4)\r\n",
            "Requirement already satisfied: mkl_umath in /usr/local/lib/python3.10/dist-packages (from numpy>=1.24.4->albumentations==2.0.5) (0.1.1)\r\n",
            "Requirement already satisfied: mkl in /usr/local/lib/python3.10/dist-packages (from numpy>=1.24.4->albumentations==2.0.5) (2025.0.1)\r\n",
            "Requirement already satisfied: tbb4py in /usr/local/lib/python3.10/dist-packages (from numpy>=1.24.4->albumentations==2.0.5) (2022.0.0)\r\n",
            "Requirement already satisfied: mkl-service in /usr/local/lib/python3.10/dist-packages (from numpy>=1.24.4->albumentations==2.0.5) (2.4.1)\r\n",
            "Requirement already satisfied: annotated-types>=0.6.0 in /usr/local/lib/python3.10/dist-packages (from pydantic>=2.9.2->albumentations==2.0.5) (0.7.0)\r\n",
            "Requirement already satisfied: pydantic-core==2.29.0 in /usr/local/lib/python3.10/dist-packages (from pydantic>=2.9.2->albumentations==2.0.5) (2.29.0)\r\n",
            "Requirement already satisfied: typing-extensions>=4.12.2 in /usr/local/lib/python3.10/dist-packages (from pydantic>=2.9.2->albumentations==2.0.5) (4.12.2)\r\n",
            "Requirement already satisfied: intel-openmp>=2024 in /usr/local/lib/python3.10/dist-packages (from mkl->numpy>=1.24.4->albumentations==2.0.5) (2024.2.0)\r\n",
            "Requirement already satisfied: tbb==2022.* in /usr/local/lib/python3.10/dist-packages (from mkl->numpy>=1.24.4->albumentations==2.0.5) (2022.0.0)\r\n",
            "Requirement already satisfied: tcmlib==1.* in /usr/local/lib/python3.10/dist-packages (from tbb==2022.*->mkl->numpy>=1.24.4->albumentations==2.0.5) (1.2.0)\r\n",
            "Requirement already satisfied: intel-cmplr-lib-rt in /usr/local/lib/python3.10/dist-packages (from mkl_umath->numpy>=1.24.4->albumentations==2.0.5) (2024.2.0)\r\n",
            "Requirement already satisfied: intel-cmplr-lib-ur==2024.2.0 in /usr/local/lib/python3.10/dist-packages (from intel-openmp>=2024->mkl->numpy>=1.24.4->albumentations==2.0.5) (2024.2.0)\r\n",
            "Downloading albumentations-2.0.5-py3-none-any.whl (290 kB)\r\n",
            "\u001b[2K   \u001b[90m━━━━━━━━━━━━━━━━━━━━━━━━━━━━━━━━━━━━━━━━\u001b[0m \u001b[32m290.6/290.6 kB\u001b[0m \u001b[31m9.2 MB/s\u001b[0m eta \u001b[36m0:00:00\u001b[0m\r\n",
            "\u001b[?25hDownloading albucore-0.0.23-py3-none-any.whl (14 kB)\r\n",
            "Downloading simsimd-6.2.1-cp310-cp310-manylinux_2_28_x86_64.whl (632 kB)\r\n",
            "\u001b[2K   \u001b[90m━━━━━━━━━━━━━━━━━━━━━━━━━━━━━━━━━━━━━━━━\u001b[0m \u001b[32m632.7/632.7 kB\u001b[0m \u001b[31m20.3 MB/s\u001b[0m eta \u001b[36m0:00:00\u001b[0m\r\n",
            "\u001b[?25hInstalling collected packages: simsimd, albucore, albumentations\r\n",
            "  Attempting uninstall: albucore\r\n",
            "    Found existing installation: albucore 0.0.19\r\n",
            "    Uninstalling albucore-0.0.19:\r\n",
            "      Successfully uninstalled albucore-0.0.19\r\n",
            "  Attempting uninstall: albumentations\r\n",
            "    Found existing installation: albumentations 1.4.20\r\n",
            "    Uninstalling albumentations-1.4.20:\r\n",
            "      Successfully uninstalled albumentations-1.4.20\r\n",
            "Successfully installed albucore-0.0.23 albumentations-2.0.5 simsimd-6.2.1\r\n",
            "Collecting ensemble-boxes\r\n",
            "  Downloading ensemble_boxes-1.0.9-py3-none-any.whl.metadata (728 bytes)\r\n",
            "Requirement already satisfied: numpy in /usr/local/lib/python3.10/dist-packages (from ensemble-boxes) (1.26.4)\r\n",
            "Requirement already satisfied: pandas in /usr/local/lib/python3.10/dist-packages (from ensemble-boxes) (2.2.3)\r\n",
            "Requirement already satisfied: numba in /usr/local/lib/python3.10/dist-packages (from ensemble-boxes) (0.60.0)\r\n",
            "Requirement already satisfied: llvmlite<0.44,>=0.43.0dev0 in /usr/local/lib/python3.10/dist-packages (from numba->ensemble-boxes) (0.43.0)\r\n",
            "Requirement already satisfied: mkl_fft in /usr/local/lib/python3.10/dist-packages (from numpy->ensemble-boxes) (1.3.8)\r\n",
            "Requirement already satisfied: mkl_random in /usr/local/lib/python3.10/dist-packages (from numpy->ensemble-boxes) (1.2.4)\r\n",
            "Requirement already satisfied: mkl_umath in /usr/local/lib/python3.10/dist-packages (from numpy->ensemble-boxes) (0.1.1)\r\n",
            "Requirement already satisfied: mkl in /usr/local/lib/python3.10/dist-packages (from numpy->ensemble-boxes) (2025.0.1)\r\n",
            "Requirement already satisfied: tbb4py in /usr/local/lib/python3.10/dist-packages (from numpy->ensemble-boxes) (2022.0.0)\r\n",
            "Requirement already satisfied: mkl-service in /usr/local/lib/python3.10/dist-packages (from numpy->ensemble-boxes) (2.4.1)\r\n",
            "Requirement already satisfied: python-dateutil>=2.8.2 in /usr/local/lib/python3.10/dist-packages (from pandas->ensemble-boxes) (2.9.0.post0)\r\n",
            "Requirement already satisfied: pytz>=2020.1 in /usr/local/lib/python3.10/dist-packages (from pandas->ensemble-boxes) (2025.1)\r\n",
            "Requirement already satisfied: tzdata>=2022.7 in /usr/local/lib/python3.10/dist-packages (from pandas->ensemble-boxes) (2025.1)\r\n",
            "Requirement already satisfied: six>=1.5 in /usr/local/lib/python3.10/dist-packages (from python-dateutil>=2.8.2->pandas->ensemble-boxes) (1.17.0)\r\n",
            "Requirement already satisfied: intel-openmp>=2024 in /usr/local/lib/python3.10/dist-packages (from mkl->numpy->ensemble-boxes) (2024.2.0)\r\n",
            "Requirement already satisfied: tbb==2022.* in /usr/local/lib/python3.10/dist-packages (from mkl->numpy->ensemble-boxes) (2022.0.0)\r\n",
            "Requirement already satisfied: tcmlib==1.* in /usr/local/lib/python3.10/dist-packages (from tbb==2022.*->mkl->numpy->ensemble-boxes) (1.2.0)\r\n",
            "Requirement already satisfied: intel-cmplr-lib-rt in /usr/local/lib/python3.10/dist-packages (from mkl_umath->numpy->ensemble-boxes) (2024.2.0)\r\n",
            "Requirement already satisfied: intel-cmplr-lib-ur==2024.2.0 in /usr/local/lib/python3.10/dist-packages (from intel-openmp>=2024->mkl->numpy->ensemble-boxes) (2024.2.0)\r\n",
            "Downloading ensemble_boxes-1.0.9-py3-none-any.whl (23 kB)\r\n",
            "Installing collected packages: ensemble-boxes\r\n",
            "Successfully installed ensemble-boxes-1.0.9\r\n"
          ]
        }
      ],
      "source": [
        "!pip install ultralytics==8.3.116\n",
        "!pip install albumentations==2.0.5\n",
        "!pip install ensemble-boxes"
      ]
    },
    {
      "cell_type": "code",
      "execution_count": null,
      "id": "cab0369e",
      "metadata": {
        "execution": {
          "iopub.execute_input": "2025-05-03T10:36:42.980146Z",
          "iopub.status.busy": "2025-05-03T10:36:42.979914Z",
          "iopub.status.idle": "2025-05-03T10:36:50.779692Z",
          "shell.execute_reply": "2025-05-03T10:36:50.778713Z"
        },
        "id": "cab0369e",
        "outputId": "149233a0-f307-48fa-c85c-c64cfc9551b9",
        "papermill": {
          "duration": 7.810125,
          "end_time": "2025-05-03T10:36:50.781164",
          "exception": false,
          "start_time": "2025-05-03T10:36:42.971039",
          "status": "completed"
        },
        "tags": []
      },
      "outputs": [
        {
          "name": "stdout",
          "output_type": "stream",
          "text": [
            "Creating new Ultralytics Settings v0.0.6 file ✅ \n",
            "View Ultralytics Settings with 'yolo settings' or at '/root/.config/Ultralytics/settings.json'\n",
            "Update Settings with 'yolo settings key=value', i.e. 'yolo settings runs_dir=path/to/dir'. For help see https://docs.ultralytics.com/quickstart/#ultralytics-settings.\n",
            "8.3.116\n"
          ]
        }
      ],
      "source": [
        "import ultralytics\n",
        "print(ultralytics.__version__)"
      ]
    },
    {
      "cell_type": "markdown",
      "id": "2df89ada",
      "metadata": {
        "id": "2df89ada",
        "papermill": {
          "duration": 0.008725,
          "end_time": "2025-05-03T10:36:50.799089",
          "exception": false,
          "start_time": "2025-05-03T10:36:50.790364",
          "status": "completed"
        },
        "tags": []
      },
      "source": [
        "## **Libraries**"
      ]
    },
    {
      "cell_type": "code",
      "execution_count": null,
      "id": "19242af9",
      "metadata": {
        "execution": {
          "iopub.execute_input": "2025-05-03T10:36:50.817776Z",
          "iopub.status.busy": "2025-05-03T10:36:50.817355Z",
          "iopub.status.idle": "2025-05-03T10:36:50.821040Z",
          "shell.execute_reply": "2025-05-03T10:36:50.820356Z"
        },
        "id": "19242af9",
        "papermill": {
          "duration": 0.014674,
          "end_time": "2025-05-03T10:36:50.822340",
          "exception": false,
          "start_time": "2025-05-03T10:36:50.807666",
          "status": "completed"
        },
        "tags": []
      },
      "outputs": [],
      "source": [
        "from collections import defaultdict\n",
        "from datetime import datetime"
      ]
    },
    {
      "cell_type": "code",
      "execution_count": null,
      "id": "6316e3ce",
      "metadata": {
        "execution": {
          "iopub.execute_input": "2025-05-03T10:36:50.841301Z",
          "iopub.status.busy": "2025-05-03T10:36:50.840988Z",
          "iopub.status.idle": "2025-05-03T10:36:55.725456Z",
          "shell.execute_reply": "2025-05-03T10:36:55.724500Z"
        },
        "id": "6316e3ce",
        "outputId": "e9fd0dc6-7399-4b48-e63b-2bec187b0dc3",
        "papermill": {
          "duration": 4.8957,
          "end_time": "2025-05-03T10:36:55.727185",
          "exception": false,
          "start_time": "2025-05-03T10:36:50.831485",
          "status": "completed"
        },
        "tags": []
      },
      "outputs": [
        {
          "name": "stderr",
          "output_type": "stream",
          "text": [
            "/usr/local/lib/python3.10/dist-packages/albumentations/__init__.py:28: UserWarning: A new version of Albumentations is available: '2.0.6' (you have '2.0.5'). Upgrade using: pip install -U albumentations. To disable automatic update checks, set the environment variable NO_ALBUMENTATIONS_UPDATE to 1.\n",
            "  check_for_updates()\n"
          ]
        }
      ],
      "source": [
        "import shutil\n",
        "import numpy as np\n",
        "import pandas as pd\n",
        "import sys, os, shutil, gc, re, json, glob, math, time, random, warnings\n",
        "from tqdm import tqdm\n",
        "from sklearn.model_selection import StratifiedGroupKFold\n",
        "import sklearn.metrics as skm\n",
        "import torch\n",
        "import cv2\n",
        "import yaml\n",
        "import albumentations as A\n",
        "\n",
        "from ultralytics.data.build import YOLODataset\n",
        "import ultralytics.data.build as build\n",
        "from ultralytics import YOLO\n",
        "from ensemble_boxes import *"
      ]
    },
    {
      "cell_type": "code",
      "execution_count": null,
      "id": "25ea4cea",
      "metadata": {
        "execution": {
          "iopub.execute_input": "2025-05-03T10:36:55.747281Z",
          "iopub.status.busy": "2025-05-03T10:36:55.746825Z",
          "iopub.status.idle": "2025-05-03T10:36:55.750294Z",
          "shell.execute_reply": "2025-05-03T10:36:55.749657Z"
        },
        "id": "25ea4cea",
        "papermill": {
          "duration": 0.014707,
          "end_time": "2025-05-03T10:36:55.751704",
          "exception": false,
          "start_time": "2025-05-03T10:36:55.736997",
          "status": "completed"
        },
        "tags": []
      },
      "outputs": [],
      "source": [
        "import warnings\n",
        "warnings.filterwarnings(\"ignore\")"
      ]
    },
    {
      "cell_type": "markdown",
      "id": "af363d60",
      "metadata": {
        "id": "af363d60",
        "papermill": {
          "duration": 0.008844,
          "end_time": "2025-05-03T10:36:55.769786",
          "exception": false,
          "start_time": "2025-05-03T10:36:55.760942",
          "status": "completed"
        },
        "tags": []
      },
      "source": [
        "## **Config**"
      ]
    },
    {
      "cell_type": "code",
      "execution_count": null,
      "id": "18f41b68",
      "metadata": {
        "execution": {
          "iopub.execute_input": "2025-05-03T10:36:55.790824Z",
          "iopub.status.busy": "2025-05-03T10:36:55.790554Z",
          "iopub.status.idle": "2025-05-03T10:36:55.801144Z",
          "shell.execute_reply": "2025-05-03T10:36:55.800333Z"
        },
        "id": "18f41b68",
        "outputId": "5cf1a4ed-22f8-4007-aba0-71c9c9b4c3ba",
        "papermill": {
          "duration": 0.022298,
          "end_time": "2025-05-03T10:36:55.802505",
          "exception": false,
          "start_time": "2025-05-03T10:36:55.780207",
          "status": "completed"
        },
        "tags": []
      },
      "outputs": [
        {
          "data": {
            "text/plain": [
              "['dataset', 'SampleSubmission.csv', 'Train.csv', 'Test.csv']"
            ]
          },
          "execution_count": 6,
          "metadata": {},
          "output_type": "execute_result"
        }
      ],
      "source": [
        "os.listdir(\"/kaggle/input/\")"
      ]
    },
    {
      "cell_type": "code",
      "execution_count": null,
      "id": "7b4e5536",
      "metadata": {
        "execution": {
          "iopub.execute_input": "2025-05-03T10:36:55.821903Z",
          "iopub.status.busy": "2025-05-03T10:36:55.821665Z",
          "iopub.status.idle": "2025-05-03T10:36:55.824890Z",
          "shell.execute_reply": "2025-05-03T10:36:55.824310Z"
        },
        "id": "7b4e5536",
        "papermill": {
          "duration": 0.014248,
          "end_time": "2025-05-03T10:36:55.826099",
          "exception": false,
          "start_time": "2025-05-03T10:36:55.811851",
          "status": "completed"
        },
        "tags": []
      },
      "outputs": [],
      "source": [
        "class CFG:\n",
        "\n",
        "    train_csv_path = \"/kaggle/input/Train.csv\"\n",
        "    test_csv_path = \"/kaggle/input/Test.csv\"\n",
        "\n",
        "    image_path = \"/kaggle/input/\"\n",
        "\n",
        "    N_SPLITS = 10\n",
        "    RANDOM_STATE = 41\n",
        "    FOLDS= [0]\n",
        "    YOLO_SEED = 127\n"
      ]
    },
    {
      "cell_type": "code",
      "execution_count": null,
      "id": "2628b4ae",
      "metadata": {
        "execution": {
          "iopub.execute_input": "2025-05-03T10:36:55.844658Z",
          "iopub.status.busy": "2025-05-03T10:36:55.844384Z",
          "iopub.status.idle": "2025-05-03T10:36:55.848334Z",
          "shell.execute_reply": "2025-05-03T10:36:55.847434Z"
        },
        "id": "2628b4ae",
        "papermill": {
          "duration": 0.014756,
          "end_time": "2025-05-03T10:36:55.849675",
          "exception": false,
          "start_time": "2025-05-03T10:36:55.834919",
          "status": "completed"
        },
        "tags": []
      },
      "outputs": [],
      "source": [
        "def fix_seed(seed):\n",
        "    random.seed(seed)\n",
        "    os.environ['PYTHONHASHSEED'] = str(seed)\n",
        "    np.random.seed(seed)\n",
        "    torch.manual_seed(seed)\n",
        "    torch.cuda.manual_seed(seed)\n",
        "    torch.backends.cudnn.benchmark = False"
      ]
    },
    {
      "cell_type": "code",
      "execution_count": null,
      "id": "92d5edb7",
      "metadata": {
        "execution": {
          "iopub.execute_input": "2025-05-03T10:36:55.867576Z",
          "iopub.status.busy": "2025-05-03T10:36:55.867335Z",
          "iopub.status.idle": "2025-05-03T10:36:55.950137Z",
          "shell.execute_reply": "2025-05-03T10:36:55.949435Z"
        },
        "id": "92d5edb7",
        "papermill": {
          "duration": 0.093417,
          "end_time": "2025-05-03T10:36:55.951685",
          "exception": false,
          "start_time": "2025-05-03T10:36:55.858268",
          "status": "completed"
        },
        "tags": []
      },
      "outputs": [],
      "source": [
        "fix_seed(CFG.RANDOM_STATE)\n",
        "device = torch.device(\"cuda\" if torch.cuda.is_available() else \"cpu\")"
      ]
    },
    {
      "cell_type": "markdown",
      "id": "0aca61f3",
      "metadata": {
        "id": "0aca61f3",
        "papermill": {
          "duration": 0.008622,
          "end_time": "2025-05-03T10:36:55.969284",
          "exception": false,
          "start_time": "2025-05-03T10:36:55.960662",
          "status": "completed"
        },
        "tags": []
      },
      "source": [
        "## **UTILS**"
      ]
    },
    {
      "cell_type": "code",
      "execution_count": null,
      "id": "09443a33",
      "metadata": {
        "execution": {
          "iopub.execute_input": "2025-05-03T10:36:55.987961Z",
          "iopub.status.busy": "2025-05-03T10:36:55.987706Z",
          "iopub.status.idle": "2025-05-03T10:36:55.992339Z",
          "shell.execute_reply": "2025-05-03T10:36:55.991439Z"
        },
        "id": "09443a33",
        "papermill": {
          "duration": 0.015277,
          "end_time": "2025-05-03T10:36:55.993611",
          "exception": false,
          "start_time": "2025-05-03T10:36:55.978334",
          "status": "completed"
        },
        "tags": []
      },
      "outputs": [],
      "source": [
        "def split_data(df):\n",
        "\n",
        "    gkf  = StratifiedGroupKFold(n_splits=CFG.N_SPLITS,\n",
        "                                shuffle=True, random_state=CFG.RANDOM_STATE)\n",
        "\n",
        "    df['fold'] = -1\n",
        "\n",
        "    for fold_id, (train_index, test_index) in enumerate(gkf.split(df, y=df['class'], groups=df.Image_ID)):\n",
        "\n",
        "        df.loc[test_index,'fold'] = fold_id\n",
        "\n",
        "    return df"
      ]
    },
    {
      "cell_type": "code",
      "execution_count": null,
      "id": "0f746c9d",
      "metadata": {
        "execution": {
          "iopub.execute_input": "2025-05-03T10:36:56.013420Z",
          "iopub.status.busy": "2025-05-03T10:36:56.013111Z",
          "iopub.status.idle": "2025-05-03T10:36:56.020330Z",
          "shell.execute_reply": "2025-05-03T10:36:56.019432Z"
        },
        "id": "0f746c9d",
        "papermill": {
          "duration": 0.018937,
          "end_time": "2025-05-03T10:36:56.021659",
          "exception": false,
          "start_time": "2025-05-03T10:36:56.002722",
          "status": "completed"
        },
        "tags": []
      },
      "outputs": [],
      "source": [
        "import cv2\n",
        "import matplotlib.pyplot as plt\n",
        "import matplotlib.patches as patches\n",
        "\n",
        "def plot_image_with_bboxes(image_id, df, label_map=None):\n",
        "    \"\"\"\n",
        "    Displays the image with its bounding boxes.\n",
        "\n",
        "    Parameters:\n",
        "    - image_id (str): The filename of the image (e.g., 'ID_nBgcAR.jpg')\n",
        "    - df (pd.DataFrame): DataFrame with bbox info, must include:\n",
        "        ['Image_ID', 'xmin', 'ymin', 'xmax', 'ymax', 'class_id', 'ImagePath']\n",
        "    - label_map (dict, optional): Maps class_id to class name (e.g., {0: 'Blight', 1: 'Healthy'})\n",
        "    \"\"\"\n",
        "    # Filter DataFrame\n",
        "    image_data = df[df['Image_ID'] == image_id]\n",
        "\n",
        "    if image_data.empty:\n",
        "        print(f\"No annotations found for image: {image_id}\")\n",
        "        return\n",
        "\n",
        "    # Load the image\n",
        "    image_path = CFG.image_path + image_data['ImagePath'].values[0]\n",
        "    image = cv2.imread(image_path)\n",
        "    image = cv2.cvtColor(image, cv2.COLOR_BGR2RGB)\n",
        "\n",
        "    # Plot the image\n",
        "    fig, ax = plt.subplots(1, 1, figsize=(15, 5))\n",
        "    ax.imshow(image)\n",
        "    ax.set_title(image_id)\n",
        "\n",
        "    # Draw bounding boxes\n",
        "    for _, row in image_data.iterrows():\n",
        "        xmin, ymin, xmax, ymax = row[['xmin', 'ymin', 'xmax', 'ymax']]\n",
        "        class_id = int(row['class_id'])\n",
        "        class_name = label_map[class_id] if label_map else str(class_id)\n",
        "\n",
        "        rect = patches.Rectangle(\n",
        "            (xmin, ymin), xmax - xmin, ymax - ymin,\n",
        "            linewidth=2, edgecolor='red', facecolor='none'\n",
        "        )\n",
        "        ax.add_patch(rect)\n",
        "        ax.text(xmin, ymin - 5, class_name, color='red', fontsize=12, backgroundcolor='white')\n",
        "\n",
        "    plt.axis('off')\n",
        "    plt.show()"
      ]
    },
    {
      "cell_type": "code",
      "execution_count": null,
      "id": "fd04fcc6",
      "metadata": {
        "execution": {
          "iopub.execute_input": "2025-05-03T10:36:56.040598Z",
          "iopub.status.busy": "2025-05-03T10:36:56.040326Z",
          "iopub.status.idle": "2025-05-03T10:36:56.044398Z",
          "shell.execute_reply": "2025-05-03T10:36:56.043607Z"
        },
        "id": "fd04fcc6",
        "papermill": {
          "duration": 0.015129,
          "end_time": "2025-05-03T10:36:56.045847",
          "exception": false,
          "start_time": "2025-05-03T10:36:56.030718",
          "status": "completed"
        },
        "tags": []
      },
      "outputs": [],
      "source": [
        "def normalize_bounding_box(bbox, image_width = None, image_height = None):\n",
        "    \"\"\"\n",
        "    Normalize bounding box coordinates for YOLO format.\n",
        "    bbox: [xmin, ymin, xmax, ymax]\n",
        "    Returns: [x_center, y_center, width, height] all normalized between 0 and 1\n",
        "    \"\"\"\n",
        "    xmin, ymin, xmax, ymax = bbox\n",
        "    box_width = xmax - xmin\n",
        "    box_height = ymax - ymin\n",
        "    x_center = xmin + box_width / 2\n",
        "    y_center = ymin + box_height / 2\n",
        "\n",
        "    return np.array([\n",
        "        x_center / image_width,\n",
        "        y_center / image_height,\n",
        "        box_width / image_width,\n",
        "        box_height / image_height\n",
        "    ])"
      ]
    },
    {
      "cell_type": "code",
      "execution_count": null,
      "id": "c75aca9d",
      "metadata": {
        "execution": {
          "iopub.execute_input": "2025-05-03T10:36:56.064614Z",
          "iopub.status.busy": "2025-05-03T10:36:56.064335Z",
          "iopub.status.idle": "2025-05-03T10:36:56.072921Z",
          "shell.execute_reply": "2025-05-03T10:36:56.072092Z"
        },
        "id": "c75aca9d",
        "papermill": {
          "duration": 0.019626,
          "end_time": "2025-05-03T10:36:56.074336",
          "exception": false,
          "start_time": "2025-05-03T10:36:56.054710",
          "status": "completed"
        },
        "tags": []
      },
      "outputs": [],
      "source": [
        "def prepare_yolo_dataset(metadata, split_name, dataset_root):\n",
        "    output_dir = os.path.join(dataset_root, split_name)\n",
        "    image_dir = os.path.join(output_dir, 'images')\n",
        "    label_dir = os.path.join(output_dir, 'labels')\n",
        "\n",
        "    shutil.rmtree(output_dir, ignore_errors=True)\n",
        "    os.makedirs(image_dir)\n",
        "    os.makedirs(label_dir)\n",
        "\n",
        "    split_df = metadata[metadata['split'] == split_name].copy()\n",
        "    split_df.to_csv(os.path.join(output_dir, 'submission_format.csv'), index=False)\n",
        "\n",
        "    print(f\"Preparing '{split_name}' split → Images: {split_df.Image_ID.nunique()} | Annotations: {len(split_df)}\")\n",
        "\n",
        "    # Preprocess: group annotations and paths\n",
        "    grouped = split_df.dropna(subset=['xmin', 'ymin', 'xmax', 'ymax', 'class_id']) \\\n",
        "                      .groupby('Image_ID')\n",
        "\n",
        "    image_paths = split_df.groupby('Image_ID')['path'].first().to_dict()\n",
        "\n",
        "    for image_id, annotations in tqdm(grouped, total=len(grouped)):\n",
        "        image_path = image_paths[image_id]\n",
        "        image_filename = os.path.basename(image_path)\n",
        "        dest_image_path = os.path.join(image_dir, image_filename)\n",
        "\n",
        "        shutil.copy2(image_path, dest_image_path)\n",
        "\n",
        "        # Read image once\n",
        "        image = cv2.imread(dest_image_path)\n",
        "        if image is None:\n",
        "            print(f\"⚠️ Failed to load image: {image_path}\")\n",
        "            continue\n",
        "        height, width = image.shape[:2]\n",
        "\n",
        "        label_lines = []\n",
        "        for row in annotations.itertuples():\n",
        "            if row.class_id == -1:\n",
        "                continue\n",
        "\n",
        "            xmin, ymin, xmax, ymax = row.xmin, row.ymin, row.xmax, row.ymax\n",
        "            if xmax - xmin < 1 or ymax - ymin < 1:\n",
        "                print(f\"Invalid bbox skipped in image: {image_id}\")\n",
        "                continue\n",
        "\n",
        "            yolo_bbox = normalize_bounding_box([xmin, ymin, xmax, ymax], width, height)\n",
        "            label_lines.append(f\"{int(row.class_id)}\\t\" + '\\t'.join(map(str, yolo_bbox)))\n",
        "\n",
        "        if label_lines:\n",
        "            label_filename = os.path.splitext(image_filename)[0] + '.txt'\n",
        "            with open(os.path.join(label_dir, label_filename), 'w') as f:\n",
        "                f.write('\\n'.join(label_lines))\n"
      ]
    },
    {
      "cell_type": "code",
      "execution_count": null,
      "id": "2ae345f8",
      "metadata": {
        "execution": {
          "iopub.execute_input": "2025-05-03T10:36:56.092974Z",
          "iopub.status.busy": "2025-05-03T10:36:56.092738Z",
          "iopub.status.idle": "2025-05-03T10:36:56.099183Z",
          "shell.execute_reply": "2025-05-03T10:36:56.098380Z"
        },
        "id": "2ae345f8",
        "papermill": {
          "duration": 0.017442,
          "end_time": "2025-05-03T10:36:56.100586",
          "exception": false,
          "start_time": "2025-05-03T10:36:56.083144",
          "status": "completed"
        },
        "tags": []
      },
      "outputs": [],
      "source": [
        "from sklearn.model_selection import train_test_split\n",
        "\n",
        "def generate_split_and_prepare_yolo_format(fold_index, metadata_df, dataset_root):\n",
        "    \"\"\"\n",
        "    Generate split and prepare YOLO dataset folders.\n",
        "\n",
        "    Parameters:\n",
        "    - fold_index (int): Fold number to use for validation split\n",
        "    - metadata_df (DataFrame): Data containing fold info and annotations\n",
        "    - dataset_root (str): Directory where YOLO folders will be created\n",
        "    \"\"\"\n",
        "\n",
        "    # Start with everything as train\n",
        "    metadata_df['split'] = 'train'\n",
        "\n",
        "    # Extract the fold to be used for validation\n",
        "    valid_df = metadata_df[metadata_df['fold'] == fold_index]\n",
        "\n",
        "    # Group by Image_ID for stratified splitting\n",
        "    image_level = (\n",
        "        valid_df.groupby('Image_ID')\n",
        "        .agg({'class': lambda x: x.mode()[0]})  # Representative class\n",
        "        .reset_index()\n",
        "    )\n",
        "\n",
        "    # Stratified split of validation fold\n",
        "    img_valid1, img_valid2 = train_test_split(\n",
        "        image_level,\n",
        "        test_size=0.5,\n",
        "        stratify=image_level['class'],\n",
        "        random_state=CFG.RANDOM_STATE\n",
        "    )\n",
        "\n",
        "    # IDs for new splits\n",
        "    valid1_ids = set(img_valid1['Image_ID'])\n",
        "    valid2_ids = set(img_valid2['Image_ID'])\n",
        "\n",
        "    # Assign new validation split\n",
        "    metadata_df.loc[metadata_df['Image_ID'].isin(valid2_ids), 'split'] = 'valid'\n",
        "\n",
        "    # Verify no overlap\n",
        "    train_ids = set(metadata_df[metadata_df['split'] == 'train']['Image_ID'])\n",
        "    valid_ids = set(metadata_df[metadata_df['split'] == 'valid']['Image_ID'])\n",
        "\n",
        "    intersection = train_ids.intersection(valid_ids)\n",
        "    print(\"Intersection of Image_IDs between train and valid:\", intersection)\n",
        "    assert len(intersection) == 0, \"Image_IDs overlap between train and valid!\"\n",
        "\n",
        "    print(metadata_df['split'].value_counts())\n",
        "\n",
        "    # Print class distribution in the new valid set\n",
        "    valid_class_dist = metadata_df[metadata_df['split'] == 'valid']['class'].value_counts()\n",
        "    print(\"\\nClass distribution in the new valid set:\\n\", valid_class_dist)\n",
        "\n",
        "    # Prepare YOLO datasets\n",
        "    for split in ['train', 'valid']:\n",
        "        prepare_yolo_dataset(metadata_df, split, dataset_root)\n"
      ]
    },
    {
      "cell_type": "code",
      "execution_count": null,
      "id": "c2aec511",
      "metadata": {
        "execution": {
          "iopub.execute_input": "2025-05-03T10:36:56.118562Z",
          "iopub.status.busy": "2025-05-03T10:36:56.118321Z",
          "iopub.status.idle": "2025-05-03T10:36:56.126252Z",
          "shell.execute_reply": "2025-05-03T10:36:56.125572Z"
        },
        "id": "c2aec511",
        "papermill": {
          "duration": 0.018407,
          "end_time": "2025-05-03T10:36:56.127598",
          "exception": false,
          "start_time": "2025-05-03T10:36:56.109191",
          "status": "completed"
        },
        "tags": []
      },
      "outputs": [],
      "source": [
        "class YOLOWeightedDataset(YOLODataset):\n",
        "    def __init__(self, *args, mode=\"train\", **kwargs):\n",
        "        \"\"\"\n",
        "        Initialize the WeightedDataset.\n",
        "\n",
        "        Args:\n",
        "            class_weights (list or numpy array): A list or array of weights corresponding to each class.\n",
        "        \"\"\"\n",
        "\n",
        "        super(YOLOWeightedDataset, self).__init__(*args, **kwargs)\n",
        "\n",
        "        self.train_mode = \"train\" in self.prefix\n",
        "\n",
        "        # You can also specify weights manually instead\n",
        "        self.count_instances()\n",
        "        class_weights = np.sum(self.counts) / self.counts\n",
        "\n",
        "        # Aggregation function\n",
        "        self.agg_func = np.mean\n",
        "\n",
        "        self.class_weights = np.array(class_weights)\n",
        "        self.weights = self.calculate_weights()\n",
        "        self.probabilities = self.calculate_probabilities()\n",
        "\n",
        "    def count_instances(self):\n",
        "        \"\"\"\n",
        "        Count the number of instances per class\n",
        "\n",
        "        Returns:\n",
        "            dict: A dict containing the counts for each class.\n",
        "        \"\"\"\n",
        "        self.counts = [0 for i in range(len(self.data[\"names\"]))]\n",
        "        for label in self.labels:\n",
        "            cls = label['cls'].reshape(-1).astype(int)\n",
        "            for id in cls:\n",
        "                self.counts[id] += 1\n",
        "\n",
        "        self.counts = np.array(self.counts)\n",
        "        self.counts = np.where(self.counts == 0, 1, self.counts)\n",
        "\n",
        "    def calculate_weights(self):\n",
        "        \"\"\"\n",
        "        Calculate the aggregated weight for each label based on class weights.\n",
        "\n",
        "        Returns:\n",
        "            list: A list of aggregated weights corresponding to each label.\n",
        "        \"\"\"\n",
        "        weights = []\n",
        "        for label in self.labels:\n",
        "            cls = label['cls'].reshape(-1).astype(int)\n",
        "\n",
        "            # Give a default weight to background class\n",
        "            if cls.size == 0:\n",
        "              weights.append(1)\n",
        "              continue\n",
        "\n",
        "            # Take mean of weights\n",
        "            # You can change this weight aggregation function to aggregate weights differently\n",
        "            weight = self.agg_func(self.class_weights[cls])\n",
        "            weights.append(weight)\n",
        "        return weights\n",
        "\n",
        "    def calculate_probabilities(self):\n",
        "        \"\"\"\n",
        "        Calculate and store the sampling probabilities based on the weights.\n",
        "\n",
        "        Returns:\n",
        "            list: A list of sampling probabilities corresponding to each label.\n",
        "        \"\"\"\n",
        "        total_weight = sum(self.weights)\n",
        "        probabilities = [w / total_weight for w in self.weights]\n",
        "        return probabilities\n",
        "\n",
        "    def __getitem__(self, index):\n",
        "        \"\"\"\n",
        "        Return transformed label information based on the sampled index.\n",
        "        \"\"\"\n",
        "        # Don't use for validation\n",
        "        if not self.train_mode:\n",
        "            return self.transforms(self.get_image_and_label(index))\n",
        "        else:\n",
        "            index = np.random.choice(len(self.labels), p=self.probabilities)\n",
        "            return self.transforms(self.get_image_and_label(index))"
      ]
    },
    {
      "cell_type": "markdown",
      "id": "0b11fdc2",
      "metadata": {
        "id": "0b11fdc2",
        "papermill": {
          "duration": 0.008909,
          "end_time": "2025-05-03T10:36:56.267894",
          "exception": false,
          "start_time": "2025-05-03T10:36:56.258985",
          "status": "completed"
        },
        "tags": []
      },
      "source": [
        "## **Dataset**"
      ]
    },
    {
      "cell_type": "code",
      "execution_count": null,
      "id": "7c5d4a99",
      "metadata": {
        "execution": {
          "iopub.execute_input": "2025-05-03T10:36:56.287173Z",
          "iopub.status.busy": "2025-05-03T10:36:56.286878Z",
          "iopub.status.idle": "2025-05-03T10:36:56.336550Z",
          "shell.execute_reply": "2025-05-03T10:36:56.335628Z"
        },
        "id": "7c5d4a99",
        "outputId": "a3fc4176-3ce4-4ae8-a68c-9408d8056cd3",
        "papermill": {
          "duration": 0.061012,
          "end_time": "2025-05-03T10:36:56.337889",
          "exception": false,
          "start_time": "2025-05-03T10:36:56.276877",
          "status": "completed"
        },
        "tags": []
      },
      "outputs": [
        {
          "data": {
            "text/plain": [
              "((9792, 9), (1626, 9))"
            ]
          },
          "execution_count": 20,
          "metadata": {},
          "output_type": "execute_result"
        }
      ],
      "source": [
        "train = pd.read_csv(CFG.train_csv_path)\n",
        "test = pd.read_csv(CFG.test_csv_path)\n",
        "\n",
        "train.shape, test.shape"
      ]
    },
    {
      "cell_type": "code",
      "execution_count": null,
      "id": "b79935b6",
      "metadata": {
        "execution": {
          "iopub.execute_input": "2025-05-03T10:36:56.358763Z",
          "iopub.status.busy": "2025-05-03T10:36:56.358473Z",
          "iopub.status.idle": "2025-05-03T10:36:56.389200Z",
          "shell.execute_reply": "2025-05-03T10:36:56.388455Z"
        },
        "id": "b79935b6",
        "papermill": {
          "duration": 0.042997,
          "end_time": "2025-05-03T10:36:56.390741",
          "exception": false,
          "start_time": "2025-05-03T10:36:56.347744",
          "status": "completed"
        },
        "tags": []
      },
      "outputs": [],
      "source": [
        "# strip any spacing from the class item and make sure it is a string\n",
        "train['class'] = train['class'].str.strip()\n",
        "class_map = {cls: i for i, cls in enumerate(sorted(train['class'].unique().tolist()))}\n",
        "label_map = {v:k for k,v in class_map.items()}\n",
        "cols =  ['xmin','ymin','xmax','ymax']\n",
        "train[cols] = train[cols].astype(int)\n",
        "\n",
        "train['class_id'] = train['class'].map(class_map)\n",
        "train[\"path\"] = train[\"ImagePath\"].apply(lambda x: f\"{CFG.image_path}{x}\")\n",
        "test[\"path\"] = test[\"ImagePath\"].apply(lambda x: f\"{CFG.image_path}{x}\")"
      ]
    },
    {
      "cell_type": "code",
      "execution_count": null,
      "id": "805115e0",
      "metadata": {
        "execution": {
          "iopub.execute_input": "2025-05-03T10:36:56.410162Z",
          "iopub.status.busy": "2025-05-03T10:36:56.409866Z",
          "iopub.status.idle": "2025-05-03T10:36:56.430212Z",
          "shell.execute_reply": "2025-05-03T10:36:56.429408Z"
        },
        "id": "805115e0",
        "outputId": "d59dd705-a364-4855-adbc-31bed0bc7f9d",
        "papermill": {
          "duration": 0.031478,
          "end_time": "2025-05-03T10:36:56.431542",
          "exception": false,
          "start_time": "2025-05-03T10:36:56.400064",
          "status": "completed"
        },
        "tags": []
      },
      "outputs": [
        {
          "data": {
            "text/html": [
              "<div>\n",
              "<style scoped>\n",
              "    .dataframe tbody tr th:only-of-type {\n",
              "        vertical-align: middle;\n",
              "    }\n",
              "\n",
              "    .dataframe tbody tr th {\n",
              "        vertical-align: top;\n",
              "    }\n",
              "\n",
              "    .dataframe thead th {\n",
              "        text-align: right;\n",
              "    }\n",
              "</style>\n",
              "<table border=\"1\" class=\"dataframe\">\n",
              "  <thead>\n",
              "    <tr style=\"text-align: right;\">\n",
              "      <th></th>\n",
              "      <th>Image_ID</th>\n",
              "      <th>class</th>\n",
              "      <th>confidence</th>\n",
              "      <th>ymin</th>\n",
              "      <th>xmin</th>\n",
              "      <th>ymax</th>\n",
              "      <th>xmax</th>\n",
              "      <th>class_id</th>\n",
              "      <th>ImagePath</th>\n",
              "      <th>path</th>\n",
              "    </tr>\n",
              "  </thead>\n",
              "  <tbody>\n",
              "    <tr>\n",
              "      <th>0</th>\n",
              "      <td>ID_nBgcAR.jpg</td>\n",
              "      <td>healthy</td>\n",
              "      <td>1.0</td>\n",
              "      <td>75</td>\n",
              "      <td>15</td>\n",
              "      <td>162</td>\n",
              "      <td>195</td>\n",
              "      <td>2</td>\n",
              "      <td>dataset/images/train/ID_nBgcAR.jpg</td>\n",
              "      <td>/kaggle/input/dataset/images/train/ID_nBgcAR.jpg</td>\n",
              "    </tr>\n",
              "    <tr>\n",
              "      <th>1</th>\n",
              "      <td>ID_nBgcAR.jpg</td>\n",
              "      <td>healthy</td>\n",
              "      <td>1.0</td>\n",
              "      <td>58</td>\n",
              "      <td>1</td>\n",
              "      <td>133</td>\n",
              "      <td>171</td>\n",
              "      <td>2</td>\n",
              "      <td>dataset/images/train/ID_nBgcAR.jpg</td>\n",
              "      <td>/kaggle/input/dataset/images/train/ID_nBgcAR.jpg</td>\n",
              "    </tr>\n",
              "    <tr>\n",
              "      <th>2</th>\n",
              "      <td>ID_nBgcAR.jpg</td>\n",
              "      <td>healthy</td>\n",
              "      <td>1.0</td>\n",
              "      <td>42</td>\n",
              "      <td>29</td>\n",
              "      <td>377</td>\n",
              "      <td>349</td>\n",
              "      <td>2</td>\n",
              "      <td>dataset/images/train/ID_nBgcAR.jpg</td>\n",
              "      <td>/kaggle/input/dataset/images/train/ID_nBgcAR.jpg</td>\n",
              "    </tr>\n",
              "  </tbody>\n",
              "</table>\n",
              "</div>"
            ],
            "text/plain": [
              "        Image_ID    class  confidence  ymin  xmin  ymax  xmax  class_id  \\\n",
              "0  ID_nBgcAR.jpg  healthy         1.0    75    15   162   195         2   \n",
              "1  ID_nBgcAR.jpg  healthy         1.0    58     1   133   171         2   \n",
              "2  ID_nBgcAR.jpg  healthy         1.0    42    29   377   349         2   \n",
              "\n",
              "                            ImagePath  \\\n",
              "0  dataset/images/train/ID_nBgcAR.jpg   \n",
              "1  dataset/images/train/ID_nBgcAR.jpg   \n",
              "2  dataset/images/train/ID_nBgcAR.jpg   \n",
              "\n",
              "                                               path  \n",
              "0  /kaggle/input/dataset/images/train/ID_nBgcAR.jpg  \n",
              "1  /kaggle/input/dataset/images/train/ID_nBgcAR.jpg  \n",
              "2  /kaggle/input/dataset/images/train/ID_nBgcAR.jpg  "
            ]
          },
          "execution_count": 22,
          "metadata": {},
          "output_type": "execute_result"
        }
      ],
      "source": [
        "train.head(3)"
      ]
    },
    {
      "cell_type": "code",
      "execution_count": null,
      "id": "ec1bc801",
      "metadata": {
        "execution": {
          "iopub.execute_input": "2025-05-03T10:36:56.450665Z",
          "iopub.status.busy": "2025-05-03T10:36:56.450384Z",
          "iopub.status.idle": "2025-05-03T10:36:56.453656Z",
          "shell.execute_reply": "2025-05-03T10:36:56.452909Z"
        },
        "id": "ec1bc801",
        "papermill": {
          "duration": 0.014139,
          "end_time": "2025-05-03T10:36:56.454862",
          "exception": false,
          "start_time": "2025-05-03T10:36:56.440723",
          "status": "completed"
        },
        "tags": []
      },
      "outputs": [],
      "source": [
        "# plot_image_with_bboxes('ID_xDTIEp.jpeg', train, label_map)"
      ]
    },
    {
      "cell_type": "markdown",
      "id": "30ff4b81",
      "metadata": {
        "id": "30ff4b81",
        "papermill": {
          "duration": 0.008744,
          "end_time": "2025-05-03T10:36:56.472883",
          "exception": false,
          "start_time": "2025-05-03T10:36:56.464139",
          "status": "completed"
        },
        "tags": []
      },
      "source": [
        "## **Data Splitting**"
      ]
    },
    {
      "cell_type": "code",
      "execution_count": null,
      "id": "26a62e57",
      "metadata": {
        "execution": {
          "iopub.execute_input": "2025-05-03T10:36:56.491268Z",
          "iopub.status.busy": "2025-05-03T10:36:56.490997Z",
          "iopub.status.idle": "2025-05-03T10:37:00.970495Z",
          "shell.execute_reply": "2025-05-03T10:37:00.969530Z"
        },
        "id": "26a62e57",
        "outputId": "c29484f5-cef7-4f2e-9076-5b4ee57bd58e",
        "papermill": {
          "duration": 4.490223,
          "end_time": "2025-05-03T10:37:00.971824",
          "exception": false,
          "start_time": "2025-05-03T10:36:56.481601",
          "status": "completed"
        },
        "tags": []
      },
      "outputs": [
        {
          "data": {
            "text/html": [
              "<div>\n",
              "<style scoped>\n",
              "    .dataframe tbody tr th:only-of-type {\n",
              "        vertical-align: middle;\n",
              "    }\n",
              "\n",
              "    .dataframe tbody tr th {\n",
              "        vertical-align: top;\n",
              "    }\n",
              "\n",
              "    .dataframe thead th {\n",
              "        text-align: right;\n",
              "    }\n",
              "</style>\n",
              "<table border=\"1\" class=\"dataframe\">\n",
              "  <thead>\n",
              "    <tr style=\"text-align: right;\">\n",
              "      <th></th>\n",
              "      <th>Image_ID</th>\n",
              "      <th>class</th>\n",
              "      <th>confidence</th>\n",
              "      <th>ymin</th>\n",
              "      <th>xmin</th>\n",
              "      <th>ymax</th>\n",
              "      <th>xmax</th>\n",
              "      <th>class_id</th>\n",
              "      <th>ImagePath</th>\n",
              "      <th>path</th>\n",
              "      <th>fold</th>\n",
              "    </tr>\n",
              "  </thead>\n",
              "  <tbody>\n",
              "    <tr>\n",
              "      <th>0</th>\n",
              "      <td>ID_nBgcAR.jpg</td>\n",
              "      <td>healthy</td>\n",
              "      <td>1.0</td>\n",
              "      <td>75</td>\n",
              "      <td>15</td>\n",
              "      <td>162</td>\n",
              "      <td>195</td>\n",
              "      <td>2</td>\n",
              "      <td>dataset/images/train/ID_nBgcAR.jpg</td>\n",
              "      <td>/kaggle/input/dataset/images/train/ID_nBgcAR.jpg</td>\n",
              "      <td>8</td>\n",
              "    </tr>\n",
              "    <tr>\n",
              "      <th>1</th>\n",
              "      <td>ID_nBgcAR.jpg</td>\n",
              "      <td>healthy</td>\n",
              "      <td>1.0</td>\n",
              "      <td>58</td>\n",
              "      <td>1</td>\n",
              "      <td>133</td>\n",
              "      <td>171</td>\n",
              "      <td>2</td>\n",
              "      <td>dataset/images/train/ID_nBgcAR.jpg</td>\n",
              "      <td>/kaggle/input/dataset/images/train/ID_nBgcAR.jpg</td>\n",
              "      <td>8</td>\n",
              "    </tr>\n",
              "    <tr>\n",
              "      <th>2</th>\n",
              "      <td>ID_nBgcAR.jpg</td>\n",
              "      <td>healthy</td>\n",
              "      <td>1.0</td>\n",
              "      <td>42</td>\n",
              "      <td>29</td>\n",
              "      <td>377</td>\n",
              "      <td>349</td>\n",
              "      <td>2</td>\n",
              "      <td>dataset/images/train/ID_nBgcAR.jpg</td>\n",
              "      <td>/kaggle/input/dataset/images/train/ID_nBgcAR.jpg</td>\n",
              "      <td>8</td>\n",
              "    </tr>\n",
              "    <tr>\n",
              "      <th>3</th>\n",
              "      <td>ID_Kw2v8A.jpg</td>\n",
              "      <td>healthy</td>\n",
              "      <td>1.0</td>\n",
              "      <td>112</td>\n",
              "      <td>124</td>\n",
              "      <td>404</td>\n",
              "      <td>341</td>\n",
              "      <td>2</td>\n",
              "      <td>dataset/images/train/ID_Kw2v8A.jpg</td>\n",
              "      <td>/kaggle/input/dataset/images/train/ID_Kw2v8A.jpg</td>\n",
              "      <td>7</td>\n",
              "    </tr>\n",
              "    <tr>\n",
              "      <th>4</th>\n",
              "      <td>ID_Kw2v8A.jpg</td>\n",
              "      <td>healthy</td>\n",
              "      <td>1.0</td>\n",
              "      <td>148</td>\n",
              "      <td>259</td>\n",
              "      <td>413</td>\n",
              "      <td>412</td>\n",
              "      <td>2</td>\n",
              "      <td>dataset/images/train/ID_Kw2v8A.jpg</td>\n",
              "      <td>/kaggle/input/dataset/images/train/ID_Kw2v8A.jpg</td>\n",
              "      <td>7</td>\n",
              "    </tr>\n",
              "  </tbody>\n",
              "</table>\n",
              "</div>"
            ],
            "text/plain": [
              "        Image_ID    class  confidence  ymin  xmin  ymax  xmax  class_id  \\\n",
              "0  ID_nBgcAR.jpg  healthy         1.0    75    15   162   195         2   \n",
              "1  ID_nBgcAR.jpg  healthy         1.0    58     1   133   171         2   \n",
              "2  ID_nBgcAR.jpg  healthy         1.0    42    29   377   349         2   \n",
              "3  ID_Kw2v8A.jpg  healthy         1.0   112   124   404   341         2   \n",
              "4  ID_Kw2v8A.jpg  healthy         1.0   148   259   413   412         2   \n",
              "\n",
              "                            ImagePath  \\\n",
              "0  dataset/images/train/ID_nBgcAR.jpg   \n",
              "1  dataset/images/train/ID_nBgcAR.jpg   \n",
              "2  dataset/images/train/ID_nBgcAR.jpg   \n",
              "3  dataset/images/train/ID_Kw2v8A.jpg   \n",
              "4  dataset/images/train/ID_Kw2v8A.jpg   \n",
              "\n",
              "                                               path  fold  \n",
              "0  /kaggle/input/dataset/images/train/ID_nBgcAR.jpg     8  \n",
              "1  /kaggle/input/dataset/images/train/ID_nBgcAR.jpg     8  \n",
              "2  /kaggle/input/dataset/images/train/ID_nBgcAR.jpg     8  \n",
              "3  /kaggle/input/dataset/images/train/ID_Kw2v8A.jpg     7  \n",
              "4  /kaggle/input/dataset/images/train/ID_Kw2v8A.jpg     7  "
            ]
          },
          "execution_count": 24,
          "metadata": {},
          "output_type": "execute_result"
        }
      ],
      "source": [
        "train = split_data(train)\n",
        "train.head()"
      ]
    },
    {
      "cell_type": "code",
      "execution_count": null,
      "id": "df850e84",
      "metadata": {
        "execution": {
          "iopub.execute_input": "2025-05-03T10:37:00.994599Z",
          "iopub.status.busy": "2025-05-03T10:37:00.994184Z",
          "iopub.status.idle": "2025-05-03T10:37:01.021571Z",
          "shell.execute_reply": "2025-05-03T10:37:01.020286Z"
        },
        "id": "df850e84",
        "outputId": "e9bfb73e-c9c1-4f02-8ae2-fc33e7f49e46",
        "papermill": {
          "duration": 0.040973,
          "end_time": "2025-05-03T10:37:01.023114",
          "exception": false,
          "start_time": "2025-05-03T10:37:00.982141",
          "status": "completed"
        },
        "tags": []
      },
      "outputs": [
        {
          "name": "stdout",
          "output_type": "stream",
          "text": [
            "0 {'healthy': 429, 'cssvd': 318, 'anthracnose': 224}\n",
            "1 {'healthy': 405, 'cssvd': 343, 'anthracnose': 230}\n",
            "2 {'healthy': 483, 'cssvd': 321, 'anthracnose': 204}\n",
            "3 {'healthy': 433, 'cssvd': 295, 'anthracnose': 225}\n",
            "4 {'healthy': 450, 'cssvd': 334, 'anthracnose': 234}\n",
            "5 {'healthy': 411, 'cssvd': 303, 'anthracnose': 260}\n",
            "6 {'healthy': 428, 'cssvd': 332, 'anthracnose': 226}\n",
            "7 {'healthy': 423, 'cssvd': 330, 'anthracnose': 218}\n",
            "8 {'healthy': 397, 'cssvd': 327, 'anthracnose': 232}\n",
            "9 {'healthy': 421, 'cssvd': 338, 'anthracnose': 218}\n"
          ]
        }
      ],
      "source": [
        "for fold in range(CFG.N_SPLITS):\n",
        "  d = train[train.fold==fold]['class'].value_counts().to_dict()\n",
        "  print(fold, d)"
      ]
    },
    {
      "cell_type": "markdown",
      "id": "3f09f709",
      "metadata": {
        "id": "3f09f709",
        "papermill": {
          "duration": 0.010007,
          "end_time": "2025-05-03T10:37:01.043978",
          "exception": false,
          "start_time": "2025-05-03T10:37:01.033971",
          "status": "completed"
        },
        "tags": []
      },
      "source": [
        "## **Create YOLO format dataset**"
      ]
    },
    {
      "cell_type": "markdown",
      "id": "19e1c924",
      "metadata": {
        "id": "19e1c924",
        "papermill": {
          "duration": 0.009954,
          "end_time": "2025-05-03T10:37:01.064033",
          "exception": false,
          "start_time": "2025-05-03T10:37:01.054079",
          "status": "completed"
        },
        "tags": []
      },
      "source": [
        "## **Train Model**"
      ]
    },
    {
      "cell_type": "code",
      "execution_count": null,
      "id": "8c2323e6",
      "metadata": {
        "execution": {
          "iopub.execute_input": "2025-05-03T10:37:01.138618Z",
          "iopub.status.busy": "2025-05-03T10:37:01.138296Z",
          "iopub.status.idle": "2025-05-03T19:07:07.099630Z",
          "shell.execute_reply": "2025-05-03T19:07:07.098383Z"
        },
        "id": "8c2323e6",
        "outputId": "24945a68-d509-4c7f-e517-ea771ea359b7",
        "papermill": {
          "duration": 30605.976266,
          "end_time": "2025-05-03T19:07:07.104293",
          "exception": false,
          "start_time": "2025-05-03T10:37:01.128027",
          "status": "completed"
        },
        "tags": []
      },
      "outputs": [
        {
          "name": "stdout",
          "output_type": "stream",
          "text": [
            "========================= Runnign fold 6 =======================================\n",
            "Intersection of Image_IDs between train and valid: set()\n",
            "split\n",
            "train    9294\n",
            "valid     498\n",
            "Name: count, dtype: int64\n",
            "\n",
            "Class distribution in the new valid set:\n",
            " class\n",
            "healthy        227\n",
            "cssvd          152\n",
            "anthracnose    119\n",
            "Name: count, dtype: int64\n",
            "Preparing 'train' split → Images: 5253 | Annotations: 9294\n"
          ]
        },
        {
          "name": "stderr",
          "output_type": "stream",
          "text": [
            "100%|██████████| 5253/5253 [07:18<00:00, 11.99it/s]\n"
          ]
        },
        {
          "name": "stdout",
          "output_type": "stream",
          "text": [
            "Preparing 'valid' split → Images: 276 | Annotations: 498\n"
          ]
        },
        {
          "name": "stderr",
          "output_type": "stream",
          "text": [
            "100%|██████████| 276/276 [00:21<00:00, 12.89it/s]"
          ]
        },
        {
          "name": "stdout",
          "output_type": "stream",
          "text": [
            "Downloading https://github.com/ultralytics/assets/releases/download/v8.3.0/yolo11s.pt to 'yolo11s.pt'...\n"
          ]
        },
        {
          "name": "stderr",
          "output_type": "stream",
          "text": [
            "\n",
            "100%|██████████| 18.4M/18.4M [00:00<00:00, 145MB/s]\n"
          ]
        },
        {
          "name": "stdout",
          "output_type": "stream",
          "text": [
            "New https://pypi.org/project/ultralytics/8.3.124 available 😃 Update with 'pip install -U ultralytics'\n",
            "Ultralytics 8.3.116 🚀 Python-3.10.12 torch-2.5.1+cu121 CUDA:0 (Tesla T4, 15095MiB)\n",
            "\u001b[34m\u001b[1mengine/trainer: \u001b[0mtask=detect, mode=train, model=yolo11s.pt, data=/kaggle/working/dataset-fold_6/config.yaml, epochs=50, time=None, patience=100, batch=10, imgsz=800, save=True, save_period=-1, cache=False, device=0, workers=8, project=None, name=train_fold_6_model_yolo11s_imgs_800, exist_ok=False, pretrained=True, optimizer=AdamW, verbose=True, seed=127, deterministic=True, single_cls=False, rect=False, cos_lr=False, close_mosaic=20, resume=False, amp=True, fraction=1.0, profile=False, freeze=None, multi_scale=False, overlap_mask=True, mask_ratio=4, dropout=0.0, val=True, split=val, save_json=False, conf=None, iou=0.7, max_det=300, half=False, dnn=False, plots=True, source=None, vid_stride=1, stream_buffer=False, visualize=False, augment=False, agnostic_nms=False, classes=None, retina_masks=False, embed=None, show=False, save_frames=False, save_txt=False, save_conf=False, save_crop=False, show_labels=True, show_conf=True, show_boxes=True, line_width=None, format=torchscript, keras=False, optimize=False, int8=False, dynamic=False, simplify=True, opset=None, workspace=None, nms=False, lr0=0.0003, lrf=0.01, momentum=0.9, weight_decay=0.01, warmup_epochs=3.0, warmup_momentum=0.8, warmup_bias_lr=0.1, box=7.5, cls=0.5, dfl=1.5, pose=12.0, kobj=1.0, nbs=64, hsv_h=0.015, hsv_s=0.7, hsv_v=0.4, degrees=0.0, translate=0.1, scale=0.5, shear=0.0, perspective=0.0, flipud=0.0, fliplr=0.5, bgr=0.0, mosaic=1.0, mixup=0.0, copy_paste=0.0, copy_paste_mode=flip, auto_augment=randaugment, erasing=0.4, cfg=None, tracker=botsort.yaml, save_dir=runs/detect/train_fold_6_model_yolo11s_imgs_800\n",
            "Downloading https://ultralytics.com/assets/Arial.ttf to '/root/.config/Ultralytics/Arial.ttf'...\n"
          ]
        },
        {
          "name": "stderr",
          "output_type": "stream",
          "text": [
            "100%|██████████| 755k/755k [00:00<00:00, 17.7MB/s]\n"
          ]
        },
        {
          "name": "stdout",
          "output_type": "stream",
          "text": [
            "Overriding model.yaml nc=80 with nc=3\n",
            "\n",
            "                   from  n    params  module                                       arguments                     \n",
            "  0                  -1  1       928  ultralytics.nn.modules.conv.Conv             [3, 32, 3, 2]                 \n",
            "  1                  -1  1     18560  ultralytics.nn.modules.conv.Conv             [32, 64, 3, 2]                \n",
            "  2                  -1  1     26080  ultralytics.nn.modules.block.C3k2            [64, 128, 1, False, 0.25]     \n",
            "  3                  -1  1    147712  ultralytics.nn.modules.conv.Conv             [128, 128, 3, 2]              \n",
            "  4                  -1  1    103360  ultralytics.nn.modules.block.C3k2            [128, 256, 1, False, 0.25]    \n",
            "  5                  -1  1    590336  ultralytics.nn.modules.conv.Conv             [256, 256, 3, 2]              \n",
            "  6                  -1  1    346112  ultralytics.nn.modules.block.C3k2            [256, 256, 1, True]           \n",
            "  7                  -1  1   1180672  ultralytics.nn.modules.conv.Conv             [256, 512, 3, 2]              \n",
            "  8                  -1  1   1380352  ultralytics.nn.modules.block.C3k2            [512, 512, 1, True]           \n",
            "  9                  -1  1    656896  ultralytics.nn.modules.block.SPPF            [512, 512, 5]                 \n",
            " 10                  -1  1    990976  ultralytics.nn.modules.block.C2PSA           [512, 512, 1]                 \n",
            " 11                  -1  1         0  torch.nn.modules.upsampling.Upsample         [None, 2, 'nearest']          \n",
            " 12             [-1, 6]  1         0  ultralytics.nn.modules.conv.Concat           [1]                           \n",
            " 13                  -1  1    443776  ultralytics.nn.modules.block.C3k2            [768, 256, 1, False]          \n",
            " 14                  -1  1         0  torch.nn.modules.upsampling.Upsample         [None, 2, 'nearest']          \n",
            " 15             [-1, 4]  1         0  ultralytics.nn.modules.conv.Concat           [1]                           \n",
            " 16                  -1  1    127680  ultralytics.nn.modules.block.C3k2            [512, 128, 1, False]          \n",
            " 17                  -1  1    147712  ultralytics.nn.modules.conv.Conv             [128, 128, 3, 2]              \n",
            " 18            [-1, 13]  1         0  ultralytics.nn.modules.conv.Concat           [1]                           \n",
            " 19                  -1  1    345472  ultralytics.nn.modules.block.C3k2            [384, 256, 1, False]          \n",
            " 20                  -1  1    590336  ultralytics.nn.modules.conv.Conv             [256, 256, 3, 2]              \n",
            " 21            [-1, 10]  1         0  ultralytics.nn.modules.conv.Concat           [1]                           \n",
            " 22                  -1  1   1511424  ultralytics.nn.modules.block.C3k2            [768, 512, 1, True]           \n",
            " 23        [16, 19, 22]  1    820569  ultralytics.nn.modules.head.Detect           [3, [128, 256, 512]]          \n",
            "YOLO11s summary: 181 layers, 9,428,953 parameters, 9,428,937 gradients, 21.6 GFLOPs\n",
            "\n",
            "Transferred 493/499 items from pretrained weights\n",
            "Freezing layer 'model.23.dfl.conv.weight'\n",
            "\u001b[34m\u001b[1mAMP: \u001b[0mrunning Automatic Mixed Precision (AMP) checks...\n",
            "Downloading https://github.com/ultralytics/assets/releases/download/v8.3.0/yolo11n.pt to 'yolo11n.pt'...\n"
          ]
        },
        {
          "name": "stderr",
          "output_type": "stream",
          "text": [
            "100%|██████████| 5.35M/5.35M [00:00<00:00, 75.6MB/s]\n"
          ]
        },
        {
          "name": "stdout",
          "output_type": "stream",
          "text": [
            "\u001b[34m\u001b[1mAMP: \u001b[0mchecks passed ✅\n",
            "\u001b[34m\u001b[1mtrain: \u001b[0mFast image access ✅ (ping: 0.0±0.0 ms, read: 1881.1±1005.4 MB/s, size: 1431.7 KB)\n"
          ]
        },
        {
          "name": "stderr",
          "output_type": "stream",
          "text": [
            "\u001b[34m\u001b[1mtrain: \u001b[0mScanning /kaggle/working/dataset-fold_6/train/labels... 5253 images, 0 backgrounds, 0 corrupt: 100%|██████████| 5253/5253 [00:44<00:00, 117.76it/s]"
          ]
        },
        {
          "name": "stdout",
          "output_type": "stream",
          "text": [
            "\u001b[34m\u001b[1mtrain: \u001b[0m/kaggle/working/dataset-fold_6/train/images/ID_AJD939.jpg: corrupt JPEG restored and saved\n",
            "\u001b[34m\u001b[1mtrain: \u001b[0m/kaggle/working/dataset-fold_6/train/images/ID_AMshRT.jpeg: corrupt JPEG restored and saved\n",
            "\u001b[34m\u001b[1mtrain: \u001b[0m/kaggle/working/dataset-fold_6/train/images/ID_AOGygM.jpeg: corrupt JPEG restored and saved\n",
            "\u001b[34m\u001b[1mtrain: \u001b[0m/kaggle/working/dataset-fold_6/train/images/ID_AYKor4.jpg: corrupt JPEG restored and saved\n",
            "\u001b[34m\u001b[1mtrain: \u001b[0m/kaggle/working/dataset-fold_6/train/images/ID_AbHMqL.jpg: corrupt JPEG restored and saved\n",
            "\u001b[34m\u001b[1mtrain: \u001b[0m/kaggle/working/dataset-fold_6/train/images/ID_AhmyiY.jpeg: corrupt JPEG restored and saved\n",
            "\u001b[34m\u001b[1mtrain: \u001b[0m/kaggle/working/dataset-fold_6/train/images/ID_AhwlUp.jpeg: corrupt JPEG restored and saved\n",
            "\u001b[34m\u001b[1mtrain: \u001b[0m/kaggle/working/dataset-fold_6/train/images/ID_AueB13.jpg: corrupt JPEG restored and saved\n",
            "\u001b[34m\u001b[1mtrain: \u001b[0m/kaggle/working/dataset-fold_6/train/images/ID_AzJAHH.jpg: corrupt JPEG restored and saved\n",
            "\u001b[34m\u001b[1mtrain: \u001b[0m/kaggle/working/dataset-fold_6/train/images/ID_BBZMEE.jpg: corrupt JPEG restored and saved\n",
            "\u001b[34m\u001b[1mtrain: \u001b[0m/kaggle/working/dataset-fold_6/train/images/ID_BFveJq.jpeg: corrupt JPEG restored and saved\n",
            "\u001b[34m\u001b[1mtrain: \u001b[0m/kaggle/working/dataset-fold_6/train/images/ID_BNWZ3w.jpg: corrupt JPEG restored and saved\n",
            "\u001b[34m\u001b[1mtrain: \u001b[0m/kaggle/working/dataset-fold_6/train/images/ID_BQih4N.jpg: corrupt JPEG restored and saved\n",
            "\u001b[34m\u001b[1mtrain: \u001b[0m/kaggle/working/dataset-fold_6/train/images/ID_BXIM9U.jpeg: corrupt JPEG restored and saved\n",
            "\u001b[34m\u001b[1mtrain: \u001b[0m/kaggle/working/dataset-fold_6/train/images/ID_BerVLr.jpg: corrupt JPEG restored and saved\n",
            "\u001b[34m\u001b[1mtrain: \u001b[0m/kaggle/working/dataset-fold_6/train/images/ID_BsWVWD.jpeg: corrupt JPEG restored and saved\n",
            "\u001b[34m\u001b[1mtrain: \u001b[0m/kaggle/working/dataset-fold_6/train/images/ID_BxCnJ3.jpg: corrupt JPEG restored and saved\n",
            "\u001b[34m\u001b[1mtrain: \u001b[0m/kaggle/working/dataset-fold_6/train/images/ID_By57N4.jpeg: corrupt JPEG restored and saved\n",
            "\u001b[34m\u001b[1mtrain: \u001b[0m/kaggle/working/dataset-fold_6/train/images/ID_CFmEKi.jpg: corrupt JPEG restored and saved\n",
            "\u001b[34m\u001b[1mtrain: \u001b[0m/kaggle/working/dataset-fold_6/train/images/ID_Ct9Mtq.jpg: corrupt JPEG restored and saved\n",
            "\u001b[34m\u001b[1mtrain: \u001b[0m/kaggle/working/dataset-fold_6/train/images/ID_CtPzDh.jpg: corrupt JPEG restored and saved\n",
            "\u001b[34m\u001b[1mtrain: \u001b[0m/kaggle/working/dataset-fold_6/train/images/ID_CxIwDu.jpg: corrupt JPEG restored and saved\n",
            "\u001b[34m\u001b[1mtrain: \u001b[0m/kaggle/working/dataset-fold_6/train/images/ID_Cxxlvg.jpeg: corrupt JPEG restored and saved\n",
            "\u001b[34m\u001b[1mtrain: \u001b[0m/kaggle/working/dataset-fold_6/train/images/ID_D8r1TO.jpg: corrupt JPEG restored and saved\n",
            "\u001b[34m\u001b[1mtrain: \u001b[0m/kaggle/working/dataset-fold_6/train/images/ID_DEVBif.jpg: corrupt JPEG restored and saved\n",
            "\u001b[34m\u001b[1mtrain: \u001b[0m/kaggle/working/dataset-fold_6/train/images/ID_DNHsfS.jpg: corrupt JPEG restored and saved\n",
            "\u001b[34m\u001b[1mtrain: \u001b[0m/kaggle/working/dataset-fold_6/train/images/ID_DOTVrd.jpg: corrupt JPEG restored and saved\n",
            "\u001b[34m\u001b[1mtrain: \u001b[0m/kaggle/working/dataset-fold_6/train/images/ID_Dcoa03.jpg: corrupt JPEG restored and saved\n",
            "\u001b[34m\u001b[1mtrain: \u001b[0m/kaggle/working/dataset-fold_6/train/images/ID_DhtQeo.jpg: corrupt JPEG restored and saved\n",
            "\u001b[34m\u001b[1mtrain: \u001b[0m/kaggle/working/dataset-fold_6/train/images/ID_Dvliuk.jpg: corrupt JPEG restored and saved\n",
            "\u001b[34m\u001b[1mtrain: \u001b[0m/kaggle/working/dataset-fold_6/train/images/ID_EGdAT4.jpg: corrupt JPEG restored and saved\n",
            "\u001b[34m\u001b[1mtrain: \u001b[0m/kaggle/working/dataset-fold_6/train/images/ID_EJWqGf.jpeg: corrupt JPEG restored and saved\n",
            "\u001b[34m\u001b[1mtrain: \u001b[0m/kaggle/working/dataset-fold_6/train/images/ID_ESQAmP.jpeg: corrupt JPEG restored and saved\n",
            "\u001b[34m\u001b[1mtrain: \u001b[0m/kaggle/working/dataset-fold_6/train/images/ID_ET34jY.jpeg: corrupt JPEG restored and saved\n",
            "\u001b[34m\u001b[1mtrain: \u001b[0m/kaggle/working/dataset-fold_6/train/images/ID_EUJ6CX.jpeg: corrupt JPEG restored and saved\n",
            "\u001b[34m\u001b[1mtrain: \u001b[0m/kaggle/working/dataset-fold_6/train/images/ID_EmMnKL.jpg: corrupt JPEG restored and saved\n",
            "\u001b[34m\u001b[1mtrain: \u001b[0m/kaggle/working/dataset-fold_6/train/images/ID_EqJVm9.jpg: corrupt JPEG restored and saved\n",
            "\u001b[34m\u001b[1mtrain: \u001b[0m/kaggle/working/dataset-fold_6/train/images/ID_F0uO9z.jpeg: corrupt JPEG restored and saved\n",
            "\u001b[34m\u001b[1mtrain: \u001b[0m/kaggle/working/dataset-fold_6/train/images/ID_FBviFm.jpg: corrupt JPEG restored and saved\n",
            "\u001b[34m\u001b[1mtrain: \u001b[0m/kaggle/working/dataset-fold_6/train/images/ID_FH5WPo.jpg: corrupt JPEG restored and saved\n",
            "\u001b[34m\u001b[1mtrain: \u001b[0m/kaggle/working/dataset-fold_6/train/images/ID_FHK3pa.jpeg: corrupt JPEG restored and saved\n",
            "\u001b[34m\u001b[1mtrain: \u001b[0m/kaggle/working/dataset-fold_6/train/images/ID_FMaedR.jpg: corrupt JPEG restored and saved\n",
            "\u001b[34m\u001b[1mtrain: \u001b[0m/kaggle/working/dataset-fold_6/train/images/ID_FNLeWz.jpg: corrupt JPEG restored and saved\n",
            "\u001b[34m\u001b[1mtrain: \u001b[0m/kaggle/working/dataset-fold_6/train/images/ID_FVssBB.jpg: corrupt JPEG restored and saved\n",
            "\u001b[34m\u001b[1mtrain: \u001b[0m/kaggle/working/dataset-fold_6/train/images/ID_FliLbi.jpeg: corrupt JPEG restored and saved\n",
            "\u001b[34m\u001b[1mtrain: \u001b[0m/kaggle/working/dataset-fold_6/train/images/ID_Fm1oY7.jpg: corrupt JPEG restored and saved\n",
            "\u001b[34m\u001b[1mtrain: \u001b[0m/kaggle/working/dataset-fold_6/train/images/ID_FtYRqz.jpeg: corrupt JPEG restored and saved\n",
            "\u001b[34m\u001b[1mtrain: \u001b[0m/kaggle/working/dataset-fold_6/train/images/ID_G3zqaj.jpg: corrupt JPEG restored and saved\n",
            "\u001b[34m\u001b[1mtrain: \u001b[0m/kaggle/working/dataset-fold_6/train/images/ID_G9zF3H.jpg: corrupt JPEG restored and saved\n",
            "\u001b[34m\u001b[1mtrain: \u001b[0m/kaggle/working/dataset-fold_6/train/images/ID_GFYqTL.jpeg: corrupt JPEG restored and saved\n",
            "\u001b[34m\u001b[1mtrain: \u001b[0m/kaggle/working/dataset-fold_6/train/images/ID_GONPQx.jpg: corrupt JPEG restored and saved\n",
            "\u001b[34m\u001b[1mtrain: \u001b[0m/kaggle/working/dataset-fold_6/train/images/ID_GQ4JN6.jpg: corrupt JPEG restored and saved\n",
            "\u001b[34m\u001b[1mtrain: \u001b[0m/kaggle/working/dataset-fold_6/train/images/ID_GWhiLp.jpeg: corrupt JPEG restored and saved\n",
            "\u001b[34m\u001b[1mtrain: \u001b[0m/kaggle/working/dataset-fold_6/train/images/ID_GkZMVQ.jpeg: corrupt JPEG restored and saved\n",
            "\u001b[34m\u001b[1mtrain: \u001b[0m/kaggle/working/dataset-fold_6/train/images/ID_Gm71wX.jpg: corrupt JPEG restored and saved\n",
            "\u001b[34m\u001b[1mtrain: \u001b[0m/kaggle/working/dataset-fold_6/train/images/ID_GmNfRI.jpg: corrupt JPEG restored and saved\n",
            "\u001b[34m\u001b[1mtrain: \u001b[0m/kaggle/working/dataset-fold_6/train/images/ID_H7QQ2I.jpg: corrupt JPEG restored and saved\n",
            "\u001b[34m\u001b[1mtrain: \u001b[0m/kaggle/working/dataset-fold_6/train/images/ID_H9qAYr.jpg: corrupt JPEG restored and saved\n",
            "\u001b[34m\u001b[1mtrain: \u001b[0m/kaggle/working/dataset-fold_6/train/images/ID_HIPul1.jpg: corrupt JPEG restored and saved\n",
            "\u001b[34m\u001b[1mtrain: \u001b[0m/kaggle/working/dataset-fold_6/train/images/ID_HQpL3y.jpg: corrupt JPEG restored and saved\n",
            "\u001b[34m\u001b[1mtrain: \u001b[0m/kaggle/working/dataset-fold_6/train/images/ID_HS970U.jpeg: corrupt JPEG restored and saved\n",
            "\u001b[34m\u001b[1mtrain: \u001b[0m/kaggle/working/dataset-fold_6/train/images/ID_HidqdL.jpg: corrupt JPEG restored and saved\n",
            "\u001b[34m\u001b[1mtrain: \u001b[0m/kaggle/working/dataset-fold_6/train/images/ID_Hmxdwo.jpg: corrupt JPEG restored and saved\n",
            "\u001b[34m\u001b[1mtrain: \u001b[0m/kaggle/working/dataset-fold_6/train/images/ID_HuMwmi.jpg: corrupt JPEG restored and saved\n",
            "\u001b[34m\u001b[1mtrain: \u001b[0m/kaggle/working/dataset-fold_6/train/images/ID_IRVs9J.jpg: corrupt JPEG restored and saved\n",
            "\u001b[34m\u001b[1mtrain: \u001b[0m/kaggle/working/dataset-fold_6/train/images/ID_IqkCAv.jpeg: corrupt JPEG restored and saved\n",
            "\u001b[34m\u001b[1mtrain: \u001b[0m/kaggle/working/dataset-fold_6/train/images/ID_Itd6eF.jpg: corrupt JPEG restored and saved\n",
            "\u001b[34m\u001b[1mtrain: \u001b[0m/kaggle/working/dataset-fold_6/train/images/ID_IuBkcQ.jpeg: corrupt JPEG restored and saved\n",
            "\u001b[34m\u001b[1mtrain: \u001b[0m/kaggle/working/dataset-fold_6/train/images/ID_J0cjqu.jpeg: corrupt JPEG restored and saved\n",
            "\u001b[34m\u001b[1mtrain: \u001b[0m/kaggle/working/dataset-fold_6/train/images/ID_J26p8u.jpg: corrupt JPEG restored and saved\n",
            "\u001b[34m\u001b[1mtrain: \u001b[0m/kaggle/working/dataset-fold_6/train/images/ID_JHsmyN.jpeg: corrupt JPEG restored and saved\n",
            "\u001b[34m\u001b[1mtrain: \u001b[0m/kaggle/working/dataset-fold_6/train/images/ID_JMesqN.jpg: corrupt JPEG restored and saved\n",
            "\u001b[34m\u001b[1mtrain: \u001b[0m/kaggle/working/dataset-fold_6/train/images/ID_JRTUsh.jpeg: corrupt JPEG restored and saved\n",
            "\u001b[34m\u001b[1mtrain: \u001b[0m/kaggle/working/dataset-fold_6/train/images/ID_JRjOWi.jpeg: corrupt JPEG restored and saved\n",
            "\u001b[34m\u001b[1mtrain: \u001b[0m/kaggle/working/dataset-fold_6/train/images/ID_K5rVxL.jpeg: corrupt JPEG restored and saved\n",
            "\u001b[34m\u001b[1mtrain: \u001b[0m/kaggle/working/dataset-fold_6/train/images/ID_K7sW7v.jpg: corrupt JPEG restored and saved\n",
            "\u001b[34m\u001b[1mtrain: \u001b[0m/kaggle/working/dataset-fold_6/train/images/ID_KDq13B.jpeg: corrupt JPEG restored and saved\n",
            "\u001b[34m\u001b[1mtrain: \u001b[0m/kaggle/working/dataset-fold_6/train/images/ID_KJ3Eoi.jpg: corrupt JPEG restored and saved\n",
            "\u001b[34m\u001b[1mtrain: \u001b[0m/kaggle/working/dataset-fold_6/train/images/ID_KRiWgS.jpg: corrupt JPEG restored and saved\n",
            "\u001b[34m\u001b[1mtrain: \u001b[0m/kaggle/working/dataset-fold_6/train/images/ID_KTP6kp.jpg: corrupt JPEG restored and saved\n",
            "\u001b[34m\u001b[1mtrain: \u001b[0m/kaggle/working/dataset-fold_6/train/images/ID_KbRv7T.jpg: corrupt JPEG restored and saved\n",
            "\u001b[34m\u001b[1mtrain: \u001b[0m/kaggle/working/dataset-fold_6/train/images/ID_KbaWjL.jpeg: corrupt JPEG restored and saved\n",
            "\u001b[34m\u001b[1mtrain: \u001b[0m/kaggle/working/dataset-fold_6/train/images/ID_Kc4tOK.jpeg: corrupt JPEG restored and saved\n",
            "\u001b[34m\u001b[1mtrain: \u001b[0m/kaggle/working/dataset-fold_6/train/images/ID_KkyQ36.jpeg: corrupt JPEG restored and saved\n",
            "\u001b[34m\u001b[1mtrain: \u001b[0m/kaggle/working/dataset-fold_6/train/images/ID_KxHwli.jpg: corrupt JPEG restored and saved\n",
            "\u001b[34m\u001b[1mtrain: \u001b[0m/kaggle/working/dataset-fold_6/train/images/ID_LA1RfJ.jpg: corrupt JPEG restored and saved\n",
            "\u001b[34m\u001b[1mtrain: \u001b[0m/kaggle/working/dataset-fold_6/train/images/ID_LkJ8Zz.jpg: corrupt JPEG restored and saved\n",
            "\u001b[34m\u001b[1mtrain: \u001b[0m/kaggle/working/dataset-fold_6/train/images/ID_LloE1t.jpeg: corrupt JPEG restored and saved\n",
            "\u001b[34m\u001b[1mtrain: \u001b[0m/kaggle/working/dataset-fold_6/train/images/ID_LwJYsy.jpg: corrupt JPEG restored and saved\n",
            "\u001b[34m\u001b[1mtrain: \u001b[0m/kaggle/working/dataset-fold_6/train/images/ID_M3NBS2.jpeg: corrupt JPEG restored and saved\n",
            "\u001b[34m\u001b[1mtrain: \u001b[0m/kaggle/working/dataset-fold_6/train/images/ID_M7eiBX.jpg: corrupt JPEG restored and saved\n",
            "\u001b[34m\u001b[1mtrain: \u001b[0m/kaggle/working/dataset-fold_6/train/images/ID_MBg7Wu.jpg: corrupt JPEG restored and saved\n",
            "\u001b[34m\u001b[1mtrain: \u001b[0m/kaggle/working/dataset-fold_6/train/images/ID_MCZcC1.jpg: corrupt JPEG restored and saved\n",
            "\u001b[34m\u001b[1mtrain: \u001b[0m/kaggle/working/dataset-fold_6/train/images/ID_MF34U1.jpeg: corrupt JPEG restored and saved\n",
            "\u001b[34m\u001b[1mtrain: \u001b[0m/kaggle/working/dataset-fold_6/train/images/ID_MPIvc5.jpg: corrupt JPEG restored and saved\n",
            "\u001b[34m\u001b[1mtrain: \u001b[0m/kaggle/working/dataset-fold_6/train/images/ID_MQt7CR.jpg: corrupt JPEG restored and saved\n",
            "\u001b[34m\u001b[1mtrain: \u001b[0m/kaggle/working/dataset-fold_6/train/images/ID_MmvaQa.jpeg: corrupt JPEG restored and saved\n",
            "\u001b[34m\u001b[1mtrain: \u001b[0m/kaggle/working/dataset-fold_6/train/images/ID_MteM6m.jpg: corrupt JPEG restored and saved\n",
            "\u001b[34m\u001b[1mtrain: \u001b[0m/kaggle/working/dataset-fold_6/train/images/ID_MztPy0.jpeg: corrupt JPEG restored and saved\n",
            "\u001b[34m\u001b[1mtrain: \u001b[0m/kaggle/working/dataset-fold_6/train/images/ID_NGiOVN.jpg: corrupt JPEG restored and saved\n",
            "\u001b[34m\u001b[1mtrain: \u001b[0m/kaggle/working/dataset-fold_6/train/images/ID_NSHiVv.jpeg: corrupt JPEG restored and saved\n",
            "\u001b[34m\u001b[1mtrain: \u001b[0m/kaggle/working/dataset-fold_6/train/images/ID_NSzLqF.jpg: corrupt JPEG restored and saved\n",
            "\u001b[34m\u001b[1mtrain: \u001b[0m/kaggle/working/dataset-fold_6/train/images/ID_NfmKR2.jpg: corrupt JPEG restored and saved\n",
            "\u001b[34m\u001b[1mtrain: \u001b[0m/kaggle/working/dataset-fold_6/train/images/ID_NlJLXQ.jpg: corrupt JPEG restored and saved\n",
            "\u001b[34m\u001b[1mtrain: \u001b[0m/kaggle/working/dataset-fold_6/train/images/ID_NmYqu6.jpg: corrupt JPEG restored and saved\n",
            "\u001b[34m\u001b[1mtrain: \u001b[0m/kaggle/working/dataset-fold_6/train/images/ID_Np7dI9.jpeg: corrupt JPEG restored and saved\n",
            "\u001b[34m\u001b[1mtrain: \u001b[0m/kaggle/working/dataset-fold_6/train/images/ID_NpoqaB.jpg: corrupt JPEG restored and saved\n",
            "\u001b[34m\u001b[1mtrain: \u001b[0m/kaggle/working/dataset-fold_6/train/images/ID_NrUpnW.jpeg: corrupt JPEG restored and saved\n",
            "\u001b[34m\u001b[1mtrain: \u001b[0m/kaggle/working/dataset-fold_6/train/images/ID_O8Ii5s.jpg: corrupt JPEG restored and saved\n",
            "\u001b[34m\u001b[1mtrain: \u001b[0m/kaggle/working/dataset-fold_6/train/images/ID_OFTTvl.jpeg: corrupt JPEG restored and saved\n",
            "\u001b[34m\u001b[1mtrain: \u001b[0m/kaggle/working/dataset-fold_6/train/images/ID_OFhcZk.jpg: corrupt JPEG restored and saved\n",
            "\u001b[34m\u001b[1mtrain: \u001b[0m/kaggle/working/dataset-fold_6/train/images/ID_OP42MI.jpeg: corrupt JPEG restored and saved\n",
            "\u001b[34m\u001b[1mtrain: \u001b[0m/kaggle/working/dataset-fold_6/train/images/ID_OSL1rX.jpg: corrupt JPEG restored and saved\n",
            "\u001b[34m\u001b[1mtrain: \u001b[0m/kaggle/working/dataset-fold_6/train/images/ID_OXuUNh.jpg: corrupt JPEG restored and saved\n",
            "\u001b[34m\u001b[1mtrain: \u001b[0m/kaggle/working/dataset-fold_6/train/images/ID_OZ1lc7.jpeg: corrupt JPEG restored and saved\n",
            "\u001b[34m\u001b[1mtrain: \u001b[0m/kaggle/working/dataset-fold_6/train/images/ID_Ot9lnj.jpg: corrupt JPEG restored and saved\n",
            "\u001b[34m\u001b[1mtrain: \u001b[0m/kaggle/working/dataset-fold_6/train/images/ID_P5xQZW.jpeg: corrupt JPEG restored and saved\n",
            "\u001b[34m\u001b[1mtrain: \u001b[0m/kaggle/working/dataset-fold_6/train/images/ID_PqV4gW.jpg: corrupt JPEG restored and saved\n",
            "\u001b[34m\u001b[1mtrain: \u001b[0m/kaggle/working/dataset-fold_6/train/images/ID_Q0OwpE.jpg: corrupt JPEG restored and saved\n",
            "\u001b[34m\u001b[1mtrain: \u001b[0m/kaggle/working/dataset-fold_6/train/images/ID_Q0PXyQ.jpg: corrupt JPEG restored and saved\n",
            "\u001b[34m\u001b[1mtrain: \u001b[0m/kaggle/working/dataset-fold_6/train/images/ID_QVEUhP.jpg: corrupt JPEG restored and saved\n",
            "\u001b[34m\u001b[1mtrain: \u001b[0m/kaggle/working/dataset-fold_6/train/images/ID_QYyaBC.jpg: corrupt JPEG restored and saved\n",
            "\u001b[34m\u001b[1mtrain: \u001b[0m/kaggle/working/dataset-fold_6/train/images/ID_QZyOk7.jpg: corrupt JPEG restored and saved\n",
            "\u001b[34m\u001b[1mtrain: \u001b[0m/kaggle/working/dataset-fold_6/train/images/ID_Qinkut.jpg: corrupt JPEG restored and saved\n",
            "\u001b[34m\u001b[1mtrain: \u001b[0m/kaggle/working/dataset-fold_6/train/images/ID_QopCWu.jpeg: corrupt JPEG restored and saved\n",
            "\u001b[34m\u001b[1mtrain: \u001b[0m/kaggle/working/dataset-fold_6/train/images/ID_Qrlnom.jpg: corrupt JPEG restored and saved\n",
            "\u001b[34m\u001b[1mtrain: \u001b[0m/kaggle/working/dataset-fold_6/train/images/ID_Qu5Gdd.jpg: corrupt JPEG restored and saved\n",
            "\u001b[34m\u001b[1mtrain: \u001b[0m/kaggle/working/dataset-fold_6/train/images/ID_R0gFs3.jpeg: corrupt JPEG restored and saved\n",
            "\u001b[34m\u001b[1mtrain: \u001b[0m/kaggle/working/dataset-fold_6/train/images/ID_R6QBuf.jpg: corrupt JPEG restored and saved\n",
            "\u001b[34m\u001b[1mtrain: \u001b[0m/kaggle/working/dataset-fold_6/train/images/ID_RA4964.jpg: corrupt JPEG restored and saved\n",
            "\u001b[34m\u001b[1mtrain: \u001b[0m/kaggle/working/dataset-fold_6/train/images/ID_RDpYbj.jpeg: corrupt JPEG restored and saved\n",
            "\u001b[34m\u001b[1mtrain: \u001b[0m/kaggle/working/dataset-fold_6/train/images/ID_RWPGUG.jpg: corrupt JPEG restored and saved\n",
            "\u001b[34m\u001b[1mtrain: \u001b[0m/kaggle/working/dataset-fold_6/train/images/ID_S7q92y.jpg: corrupt JPEG restored and saved\n",
            "\u001b[34m\u001b[1mtrain: \u001b[0m/kaggle/working/dataset-fold_6/train/images/ID_SJKaao.jpeg: corrupt JPEG restored and saved\n",
            "\u001b[34m\u001b[1mtrain: \u001b[0m/kaggle/working/dataset-fold_6/train/images/ID_SSGiW2.jpeg: corrupt JPEG restored and saved\n",
            "\u001b[34m\u001b[1mtrain: \u001b[0m/kaggle/working/dataset-fold_6/train/images/ID_SVzl5X.jpeg: corrupt JPEG restored and saved\n",
            "\u001b[34m\u001b[1mtrain: \u001b[0m/kaggle/working/dataset-fold_6/train/images/ID_SWwaf9.jpg: corrupt JPEG restored and saved\n",
            "\u001b[34m\u001b[1mtrain: \u001b[0m/kaggle/working/dataset-fold_6/train/images/ID_SnC6Z6.jpg: corrupt JPEG restored and saved\n",
            "\u001b[34m\u001b[1mtrain: \u001b[0m/kaggle/working/dataset-fold_6/train/images/ID_SuY5t1.jpeg: corrupt JPEG restored and saved\n",
            "\u001b[34m\u001b[1mtrain: \u001b[0m/kaggle/working/dataset-fold_6/train/images/ID_T65cSF.jpeg: corrupt JPEG restored and saved\n",
            "\u001b[34m\u001b[1mtrain: \u001b[0m/kaggle/working/dataset-fold_6/train/images/ID_T7RQCl.jpeg: corrupt JPEG restored and saved\n",
            "\u001b[34m\u001b[1mtrain: \u001b[0m/kaggle/working/dataset-fold_6/train/images/ID_T9Sifn.jpeg: corrupt JPEG restored and saved\n",
            "\u001b[34m\u001b[1mtrain: \u001b[0m/kaggle/working/dataset-fold_6/train/images/ID_T9n3Yk.jpeg: corrupt JPEG restored and saved\n",
            "\u001b[34m\u001b[1mtrain: \u001b[0m/kaggle/working/dataset-fold_6/train/images/ID_TB2QQA.jpg: corrupt JPEG restored and saved\n",
            "\u001b[34m\u001b[1mtrain: \u001b[0m/kaggle/working/dataset-fold_6/train/images/ID_TaRNtN.jpg: corrupt JPEG restored and saved\n",
            "\u001b[34m\u001b[1mtrain: \u001b[0m/kaggle/working/dataset-fold_6/train/images/ID_TgWLRl.jpeg: corrupt JPEG restored and saved\n",
            "\u001b[34m\u001b[1mtrain: \u001b[0m/kaggle/working/dataset-fold_6/train/images/ID_TmV8Jj.jpg: corrupt JPEG restored and saved\n",
            "\u001b[34m\u001b[1mtrain: \u001b[0m/kaggle/working/dataset-fold_6/train/images/ID_TrS7AO.jpeg: corrupt JPEG restored and saved\n",
            "\u001b[34m\u001b[1mtrain: \u001b[0m/kaggle/working/dataset-fold_6/train/images/ID_U2iecI.jpg: corrupt JPEG restored and saved\n",
            "\u001b[34m\u001b[1mtrain: \u001b[0m/kaggle/working/dataset-fold_6/train/images/ID_U5jOiU.jpg: corrupt JPEG restored and saved\n",
            "\u001b[34m\u001b[1mtrain: \u001b[0m/kaggle/working/dataset-fold_6/train/images/ID_ULx8cJ.jpg: corrupt JPEG restored and saved\n",
            "\u001b[34m\u001b[1mtrain: \u001b[0m/kaggle/working/dataset-fold_6/train/images/ID_USBlAz.jpg: corrupt JPEG restored and saved\n",
            "\u001b[34m\u001b[1mtrain: \u001b[0m/kaggle/working/dataset-fold_6/train/images/ID_UY44L0.jpg: corrupt JPEG restored and saved\n",
            "\u001b[34m\u001b[1mtrain: \u001b[0m/kaggle/working/dataset-fold_6/train/images/ID_UYftKa.jpg: corrupt JPEG restored and saved\n",
            "\u001b[34m\u001b[1mtrain: \u001b[0m/kaggle/working/dataset-fold_6/train/images/ID_UhR2o3.jpg: corrupt JPEG restored and saved\n",
            "\u001b[34m\u001b[1mtrain: \u001b[0m/kaggle/working/dataset-fold_6/train/images/ID_Ui8E1j.jpg: corrupt JPEG restored and saved\n",
            "\u001b[34m\u001b[1mtrain: \u001b[0m/kaggle/working/dataset-fold_6/train/images/ID_UjkxXW.jpg: corrupt JPEG restored and saved\n",
            "\u001b[34m\u001b[1mtrain: \u001b[0m/kaggle/working/dataset-fold_6/train/images/ID_Umc0P2.jpeg: corrupt JPEG restored and saved\n",
            "\u001b[34m\u001b[1mtrain: \u001b[0m/kaggle/working/dataset-fold_6/train/images/ID_Uoy7f2.jpg: corrupt JPEG restored and saved\n",
            "\u001b[34m\u001b[1mtrain: \u001b[0m/kaggle/working/dataset-fold_6/train/images/ID_UrKjY8.jpeg: corrupt JPEG restored and saved\n",
            "\u001b[34m\u001b[1mtrain: \u001b[0m/kaggle/working/dataset-fold_6/train/images/ID_V42JvR.jpg: corrupt JPEG restored and saved\n",
            "\u001b[34m\u001b[1mtrain: \u001b[0m/kaggle/working/dataset-fold_6/train/images/ID_VGRSR0.jpg: corrupt JPEG restored and saved\n",
            "\u001b[34m\u001b[1mtrain: \u001b[0m/kaggle/working/dataset-fold_6/train/images/ID_VTnQu1.jpg: corrupt JPEG restored and saved\n",
            "\u001b[34m\u001b[1mtrain: \u001b[0m/kaggle/working/dataset-fold_6/train/images/ID_VX3dMQ.jpg: corrupt JPEG restored and saved\n",
            "\u001b[34m\u001b[1mtrain: \u001b[0m/kaggle/working/dataset-fold_6/train/images/ID_VYmWg8.jpg: corrupt JPEG restored and saved\n",
            "\u001b[34m\u001b[1mtrain: \u001b[0m/kaggle/working/dataset-fold_6/train/images/ID_VwIYf0.jpg: corrupt JPEG restored and saved\n",
            "\u001b[34m\u001b[1mtrain: \u001b[0m/kaggle/working/dataset-fold_6/train/images/ID_W2eGlr.jpg: corrupt JPEG restored and saved\n",
            "\u001b[34m\u001b[1mtrain: \u001b[0m/kaggle/working/dataset-fold_6/train/images/ID_W31F1e.jpeg: corrupt JPEG restored and saved\n",
            "\u001b[34m\u001b[1mtrain: \u001b[0m/kaggle/working/dataset-fold_6/train/images/ID_W3tZGh.jpg: corrupt JPEG restored and saved\n",
            "\u001b[34m\u001b[1mtrain: \u001b[0m/kaggle/working/dataset-fold_6/train/images/ID_WB25bW.jpeg: corrupt JPEG restored and saved\n",
            "\u001b[34m\u001b[1mtrain: \u001b[0m/kaggle/working/dataset-fold_6/train/images/ID_WIuXLH.jpg: corrupt JPEG restored and saved\n",
            "\u001b[34m\u001b[1mtrain: \u001b[0m/kaggle/working/dataset-fold_6/train/images/ID_WKcQeb.jpg: corrupt JPEG restored and saved\n",
            "\u001b[34m\u001b[1mtrain: \u001b[0m/kaggle/working/dataset-fold_6/train/images/ID_WULBQy.jpeg: corrupt JPEG restored and saved\n",
            "\u001b[34m\u001b[1mtrain: \u001b[0m/kaggle/working/dataset-fold_6/train/images/ID_Wa1IXp.jpg: corrupt JPEG restored and saved\n",
            "\u001b[34m\u001b[1mtrain: \u001b[0m/kaggle/working/dataset-fold_6/train/images/ID_WgGnAX.jpg: corrupt JPEG restored and saved\n",
            "\u001b[34m\u001b[1mtrain: \u001b[0m/kaggle/working/dataset-fold_6/train/images/ID_WmaGX7.jpg: corrupt JPEG restored and saved\n",
            "\u001b[34m\u001b[1mtrain: \u001b[0m/kaggle/working/dataset-fold_6/train/images/ID_WzxXRK.jpeg: corrupt JPEG restored and saved\n",
            "\u001b[34m\u001b[1mtrain: \u001b[0m/kaggle/working/dataset-fold_6/train/images/ID_X0udgZ.jpeg: corrupt JPEG restored and saved\n",
            "\u001b[34m\u001b[1mtrain: \u001b[0m/kaggle/working/dataset-fold_6/train/images/ID_X9IstM.jpg: corrupt JPEG restored and saved\n",
            "\u001b[34m\u001b[1mtrain: \u001b[0m/kaggle/working/dataset-fold_6/train/images/ID_X9VSUI.jpg: corrupt JPEG restored and saved\n",
            "\u001b[34m\u001b[1mtrain: \u001b[0m/kaggle/working/dataset-fold_6/train/images/ID_XF1b8f.jpeg: corrupt JPEG restored and saved\n",
            "\u001b[34m\u001b[1mtrain: \u001b[0m/kaggle/working/dataset-fold_6/train/images/ID_XVJE0g.jpg: corrupt JPEG restored and saved\n",
            "\u001b[34m\u001b[1mtrain: \u001b[0m/kaggle/working/dataset-fold_6/train/images/ID_XifZNH.jpg: corrupt JPEG restored and saved\n",
            "\u001b[34m\u001b[1mtrain: \u001b[0m/kaggle/working/dataset-fold_6/train/images/ID_XptLVA.jpg: corrupt JPEG restored and saved\n",
            "\u001b[34m\u001b[1mtrain: \u001b[0m/kaggle/working/dataset-fold_6/train/images/ID_XuMRrm.jpeg: corrupt JPEG restored and saved\n",
            "\u001b[34m\u001b[1mtrain: \u001b[0m/kaggle/working/dataset-fold_6/train/images/ID_Y5sfOy.jpg: corrupt JPEG restored and saved\n",
            "\u001b[34m\u001b[1mtrain: \u001b[0m/kaggle/working/dataset-fold_6/train/images/ID_YG32gk.jpg: corrupt JPEG restored and saved\n",
            "\u001b[34m\u001b[1mtrain: \u001b[0m/kaggle/working/dataset-fold_6/train/images/ID_YHBAKF.jpg: corrupt JPEG restored and saved\n",
            "\u001b[34m\u001b[1mtrain: \u001b[0m/kaggle/working/dataset-fold_6/train/images/ID_YVZEp0.jpg: corrupt JPEG restored and saved\n",
            "\u001b[34m\u001b[1mtrain: \u001b[0m/kaggle/working/dataset-fold_6/train/images/ID_YVrqE6.jpg: corrupt JPEG restored and saved\n",
            "\u001b[34m\u001b[1mtrain: \u001b[0m/kaggle/working/dataset-fold_6/train/images/ID_YXkAP3.jpg: corrupt JPEG restored and saved\n",
            "\u001b[34m\u001b[1mtrain: \u001b[0m/kaggle/working/dataset-fold_6/train/images/ID_YevJzo.jpeg: corrupt JPEG restored and saved\n",
            "\u001b[34m\u001b[1mtrain: \u001b[0m/kaggle/working/dataset-fold_6/train/images/ID_YmrSKa.jpg: corrupt JPEG restored and saved\n",
            "\u001b[34m\u001b[1mtrain: \u001b[0m/kaggle/working/dataset-fold_6/train/images/ID_Yo2e8I.jpg: corrupt JPEG restored and saved\n",
            "\u001b[34m\u001b[1mtrain: \u001b[0m/kaggle/working/dataset-fold_6/train/images/ID_ZJ6Kwe.jpg: corrupt JPEG restored and saved\n",
            "\u001b[34m\u001b[1mtrain: \u001b[0m/kaggle/working/dataset-fold_6/train/images/ID_ZOM8YH.jpg: corrupt JPEG restored and saved\n",
            "\u001b[34m\u001b[1mtrain: \u001b[0m/kaggle/working/dataset-fold_6/train/images/ID_ZpcJbg.jpg: corrupt JPEG restored and saved\n",
            "\u001b[34m\u001b[1mtrain: \u001b[0m/kaggle/working/dataset-fold_6/train/images/ID_Zwe8i7.jpeg: corrupt JPEG restored and saved\n",
            "\u001b[34m\u001b[1mtrain: \u001b[0m/kaggle/working/dataset-fold_6/train/images/ID_aEWltK.jpg: corrupt JPEG restored and saved\n",
            "\u001b[34m\u001b[1mtrain: \u001b[0m/kaggle/working/dataset-fold_6/train/images/ID_aHFDK5.jpg: corrupt JPEG restored and saved\n",
            "\u001b[34m\u001b[1mtrain: \u001b[0m/kaggle/working/dataset-fold_6/train/images/ID_aKIqHp.jpeg: corrupt JPEG restored and saved\n",
            "\u001b[34m\u001b[1mtrain: \u001b[0m/kaggle/working/dataset-fold_6/train/images/ID_aMP9qP.jpg: corrupt JPEG restored and saved\n",
            "\u001b[34m\u001b[1mtrain: \u001b[0m/kaggle/working/dataset-fold_6/train/images/ID_aSDtdm.jpeg: corrupt JPEG restored and saved\n",
            "\u001b[34m\u001b[1mtrain: \u001b[0m/kaggle/working/dataset-fold_6/train/images/ID_aYoINI.jpg: corrupt JPEG restored and saved\n",
            "\u001b[34m\u001b[1mtrain: \u001b[0m/kaggle/working/dataset-fold_6/train/images/ID_agSNVy.jpg: corrupt JPEG restored and saved\n",
            "\u001b[34m\u001b[1mtrain: \u001b[0m/kaggle/working/dataset-fold_6/train/images/ID_atEszE.jpg: corrupt JPEG restored and saved\n",
            "\u001b[34m\u001b[1mtrain: \u001b[0m/kaggle/working/dataset-fold_6/train/images/ID_axCg8f.jpg: corrupt JPEG restored and saved\n",
            "\u001b[34m\u001b[1mtrain: \u001b[0m/kaggle/working/dataset-fold_6/train/images/ID_azgMN3.jpg: corrupt JPEG restored and saved\n",
            "\u001b[34m\u001b[1mtrain: \u001b[0m/kaggle/working/dataset-fold_6/train/images/ID_bCoAZg.jpg: corrupt JPEG restored and saved\n",
            "\u001b[34m\u001b[1mtrain: \u001b[0m/kaggle/working/dataset-fold_6/train/images/ID_bPjaHt.jpg: corrupt JPEG restored and saved\n",
            "\u001b[34m\u001b[1mtrain: \u001b[0m/kaggle/working/dataset-fold_6/train/images/ID_bnU2qZ.jpg: corrupt JPEG restored and saved\n",
            "\u001b[34m\u001b[1mtrain: \u001b[0m/kaggle/working/dataset-fold_6/train/images/ID_bouUUL.jpeg: corrupt JPEG restored and saved\n",
            "\u001b[34m\u001b[1mtrain: \u001b[0m/kaggle/working/dataset-fold_6/train/images/ID_bv9Nvh.jpg: corrupt JPEG restored and saved\n",
            "\u001b[34m\u001b[1mtrain: \u001b[0m/kaggle/working/dataset-fold_6/train/images/ID_cCrbt6.jpg: corrupt JPEG restored and saved\n",
            "\u001b[34m\u001b[1mtrain: \u001b[0m/kaggle/working/dataset-fold_6/train/images/ID_cGrCAD.jpg: corrupt JPEG restored and saved\n",
            "\u001b[34m\u001b[1mtrain: \u001b[0m/kaggle/working/dataset-fold_6/train/images/ID_cNZUqh.jpg: corrupt JPEG restored and saved\n",
            "\u001b[34m\u001b[1mtrain: \u001b[0m/kaggle/working/dataset-fold_6/train/images/ID_cRrzcV.jpg: corrupt JPEG restored and saved\n",
            "\u001b[34m\u001b[1mtrain: \u001b[0m/kaggle/working/dataset-fold_6/train/images/ID_cbNtpG.jpg: corrupt JPEG restored and saved\n",
            "\u001b[34m\u001b[1mtrain: \u001b[0m/kaggle/working/dataset-fold_6/train/images/ID_clLM5l.jpeg: corrupt JPEG restored and saved\n",
            "\u001b[34m\u001b[1mtrain: \u001b[0m/kaggle/working/dataset-fold_6/train/images/ID_csx6y8.jpeg: corrupt JPEG restored and saved\n",
            "\u001b[34m\u001b[1mtrain: \u001b[0m/kaggle/working/dataset-fold_6/train/images/ID_dCfvUH.jpg: corrupt JPEG restored and saved\n",
            "\u001b[34m\u001b[1mtrain: \u001b[0m/kaggle/working/dataset-fold_6/train/images/ID_dH0o4x.jpeg: corrupt JPEG restored and saved\n",
            "\u001b[34m\u001b[1mtrain: \u001b[0m/kaggle/working/dataset-fold_6/train/images/ID_dUrLhB.jpeg: corrupt JPEG restored and saved\n",
            "\u001b[34m\u001b[1mtrain: \u001b[0m/kaggle/working/dataset-fold_6/train/images/ID_dW2xhB.jpg: corrupt JPEG restored and saved\n",
            "\u001b[34m\u001b[1mtrain: \u001b[0m/kaggle/working/dataset-fold_6/train/images/ID_dWBtGY.jpg: corrupt JPEG restored and saved\n",
            "\u001b[34m\u001b[1mtrain: \u001b[0m/kaggle/working/dataset-fold_6/train/images/ID_dfvVln.jpeg: corrupt JPEG restored and saved\n",
            "\u001b[34m\u001b[1mtrain: \u001b[0m/kaggle/working/dataset-fold_6/train/images/ID_dhyPDO.jpeg: corrupt JPEG restored and saved\n",
            "\u001b[34m\u001b[1mtrain: \u001b[0m/kaggle/working/dataset-fold_6/train/images/ID_dvs1xy.jpg: corrupt JPEG restored and saved\n",
            "\u001b[34m\u001b[1mtrain: \u001b[0m/kaggle/working/dataset-fold_6/train/images/ID_eGsJiZ.jpeg: corrupt JPEG restored and saved\n",
            "\u001b[34m\u001b[1mtrain: \u001b[0m/kaggle/working/dataset-fold_6/train/images/ID_eUmInK.jpg: corrupt JPEG restored and saved\n",
            "\u001b[34m\u001b[1mtrain: \u001b[0m/kaggle/working/dataset-fold_6/train/images/ID_ealn0i.jpg: corrupt JPEG restored and saved\n",
            "\u001b[34m\u001b[1mtrain: \u001b[0m/kaggle/working/dataset-fold_6/train/images/ID_edNUod.jpg: corrupt JPEG restored and saved\n",
            "\u001b[34m\u001b[1mtrain: \u001b[0m/kaggle/working/dataset-fold_6/train/images/ID_eyApHR.jpg: corrupt JPEG restored and saved\n",
            "\u001b[34m\u001b[1mtrain: \u001b[0m/kaggle/working/dataset-fold_6/train/images/ID_f22xL0.jpeg: corrupt JPEG restored and saved\n",
            "\u001b[34m\u001b[1mtrain: \u001b[0m/kaggle/working/dataset-fold_6/train/images/ID_f9nN0T.jpg: corrupt JPEG restored and saved\n",
            "\u001b[34m\u001b[1mtrain: \u001b[0m/kaggle/working/dataset-fold_6/train/images/ID_fLhKY2.jpeg: corrupt JPEG restored and saved\n",
            "\u001b[34m\u001b[1mtrain: \u001b[0m/kaggle/working/dataset-fold_6/train/images/ID_fVeoSx.jpg: corrupt JPEG restored and saved\n",
            "\u001b[34m\u001b[1mtrain: \u001b[0m/kaggle/working/dataset-fold_6/train/images/ID_fXioHc.jpeg: corrupt JPEG restored and saved\n",
            "\u001b[34m\u001b[1mtrain: \u001b[0m/kaggle/working/dataset-fold_6/train/images/ID_fmYejW.jpg: corrupt JPEG restored and saved\n",
            "\u001b[34m\u001b[1mtrain: \u001b[0m/kaggle/working/dataset-fold_6/train/images/ID_fsOn06.jpg: corrupt JPEG restored and saved\n",
            "\u001b[34m\u001b[1mtrain: \u001b[0m/kaggle/working/dataset-fold_6/train/images/ID_fuwnO7.jpg: corrupt JPEG restored and saved\n",
            "\u001b[34m\u001b[1mtrain: \u001b[0m/kaggle/working/dataset-fold_6/train/images/ID_gC5IgG.jpg: corrupt JPEG restored and saved\n",
            "\u001b[34m\u001b[1mtrain: \u001b[0m/kaggle/working/dataset-fold_6/train/images/ID_gKZt2c.jpg: corrupt JPEG restored and saved\n",
            "\u001b[34m\u001b[1mtrain: \u001b[0m/kaggle/working/dataset-fold_6/train/images/ID_gOeLwX.jpg: corrupt JPEG restored and saved\n",
            "\u001b[34m\u001b[1mtrain: \u001b[0m/kaggle/working/dataset-fold_6/train/images/ID_gVPrzr.jpeg: corrupt JPEG restored and saved\n",
            "\u001b[34m\u001b[1mtrain: \u001b[0m/kaggle/working/dataset-fold_6/train/images/ID_gueBKx.jpeg: corrupt JPEG restored and saved\n",
            "\u001b[34m\u001b[1mtrain: \u001b[0m/kaggle/working/dataset-fold_6/train/images/ID_h0qMvf.jpg: corrupt JPEG restored and saved\n",
            "\u001b[34m\u001b[1mtrain: \u001b[0m/kaggle/working/dataset-fold_6/train/images/ID_h4tUyq.jpg: corrupt JPEG restored and saved\n",
            "\u001b[34m\u001b[1mtrain: \u001b[0m/kaggle/working/dataset-fold_6/train/images/ID_h8iMcZ.jpeg: corrupt JPEG restored and saved\n",
            "\u001b[34m\u001b[1mtrain: \u001b[0m/kaggle/working/dataset-fold_6/train/images/ID_hADR5u.jpeg: corrupt JPEG restored and saved\n",
            "\u001b[34m\u001b[1mtrain: \u001b[0m/kaggle/working/dataset-fold_6/train/images/ID_hOWY3t.jpg: corrupt JPEG restored and saved\n",
            "\u001b[34m\u001b[1mtrain: \u001b[0m/kaggle/working/dataset-fold_6/train/images/ID_hUfLpX.jpg: corrupt JPEG restored and saved\n",
            "\u001b[34m\u001b[1mtrain: \u001b[0m/kaggle/working/dataset-fold_6/train/images/ID_hoBmXG.jpeg: corrupt JPEG restored and saved\n",
            "\u001b[34m\u001b[1mtrain: \u001b[0m/kaggle/working/dataset-fold_6/train/images/ID_i3aAKz.jpeg: corrupt JPEG restored and saved\n",
            "\u001b[34m\u001b[1mtrain: \u001b[0m/kaggle/working/dataset-fold_6/train/images/ID_i6jMk3.jpg: corrupt JPEG restored and saved\n",
            "\u001b[34m\u001b[1mtrain: \u001b[0m/kaggle/working/dataset-fold_6/train/images/ID_iDXwsn.jpg: corrupt JPEG restored and saved\n",
            "\u001b[34m\u001b[1mtrain: \u001b[0m/kaggle/working/dataset-fold_6/train/images/ID_iG2aj8.jpeg: corrupt JPEG restored and saved\n",
            "\u001b[34m\u001b[1mtrain: \u001b[0m/kaggle/working/dataset-fold_6/train/images/ID_iI4qR6.jpeg: corrupt JPEG restored and saved\n",
            "\u001b[34m\u001b[1mtrain: \u001b[0m/kaggle/working/dataset-fold_6/train/images/ID_iK8ci4.jpg: corrupt JPEG restored and saved\n",
            "\u001b[34m\u001b[1mtrain: \u001b[0m/kaggle/working/dataset-fold_6/train/images/ID_iQqECO.jpeg: corrupt JPEG restored and saved\n",
            "\u001b[34m\u001b[1mtrain: \u001b[0m/kaggle/working/dataset-fold_6/train/images/ID_iTMCUv.jpg: corrupt JPEG restored and saved\n",
            "\u001b[34m\u001b[1mtrain: \u001b[0m/kaggle/working/dataset-fold_6/train/images/ID_ikyHG9.jpg: corrupt JPEG restored and saved\n",
            "\u001b[34m\u001b[1mtrain: \u001b[0m/kaggle/working/dataset-fold_6/train/images/ID_ir1VRs.jpeg: corrupt JPEG restored and saved\n",
            "\u001b[34m\u001b[1mtrain: \u001b[0m/kaggle/working/dataset-fold_6/train/images/ID_j8Nxxw.jpg: corrupt JPEG restored and saved\n",
            "\u001b[34m\u001b[1mtrain: \u001b[0m/kaggle/working/dataset-fold_6/train/images/ID_jEyYQe.jpg: corrupt JPEG restored and saved\n",
            "\u001b[34m\u001b[1mtrain: \u001b[0m/kaggle/working/dataset-fold_6/train/images/ID_jO2qKy.jpg: corrupt JPEG restored and saved\n",
            "\u001b[34m\u001b[1mtrain: \u001b[0m/kaggle/working/dataset-fold_6/train/images/ID_jTIuus.jpg: corrupt JPEG restored and saved\n",
            "\u001b[34m\u001b[1mtrain: \u001b[0m/kaggle/working/dataset-fold_6/train/images/ID_jZ6PSF.jpeg: corrupt JPEG restored and saved\n",
            "\u001b[34m\u001b[1mtrain: \u001b[0m/kaggle/working/dataset-fold_6/train/images/ID_jbDUGG.jpg: corrupt JPEG restored and saved\n",
            "\u001b[34m\u001b[1mtrain: \u001b[0m/kaggle/working/dataset-fold_6/train/images/ID_jj4SlG.jpeg: corrupt JPEG restored and saved\n",
            "\u001b[34m\u001b[1mtrain: \u001b[0m/kaggle/working/dataset-fold_6/train/images/ID_jkpHUf.jpg: corrupt JPEG restored and saved\n",
            "\u001b[34m\u001b[1mtrain: \u001b[0m/kaggle/working/dataset-fold_6/train/images/ID_jqgCmS.jpg: corrupt JPEG restored and saved\n",
            "\u001b[34m\u001b[1mtrain: \u001b[0m/kaggle/working/dataset-fold_6/train/images/ID_jwgpnM.jpeg: corrupt JPEG restored and saved\n",
            "\u001b[34m\u001b[1mtrain: \u001b[0m/kaggle/working/dataset-fold_6/train/images/ID_jx5Ekq.jpg: corrupt JPEG restored and saved\n",
            "\u001b[34m\u001b[1mtrain: \u001b[0m/kaggle/working/dataset-fold_6/train/images/ID_jxbrcX.jpeg: corrupt JPEG restored and saved\n",
            "\u001b[34m\u001b[1mtrain: \u001b[0m/kaggle/working/dataset-fold_6/train/images/ID_k6EcBg.jpg: corrupt JPEG restored and saved\n",
            "\u001b[34m\u001b[1mtrain: \u001b[0m/kaggle/working/dataset-fold_6/train/images/ID_k6xl0H.jpeg: corrupt JPEG restored and saved\n",
            "\u001b[34m\u001b[1mtrain: \u001b[0m/kaggle/working/dataset-fold_6/train/images/ID_k7E9yz.jpeg: corrupt JPEG restored and saved\n",
            "\u001b[34m\u001b[1mtrain: \u001b[0m/kaggle/working/dataset-fold_6/train/images/ID_kASNKy.jpg: corrupt JPEG restored and saved\n",
            "\u001b[34m\u001b[1mtrain: \u001b[0m/kaggle/working/dataset-fold_6/train/images/ID_kQDcaQ.jpg: corrupt JPEG restored and saved\n",
            "\u001b[34m\u001b[1mtrain: \u001b[0m/kaggle/working/dataset-fold_6/train/images/ID_kQnitp.jpg: corrupt JPEG restored and saved\n",
            "\u001b[34m\u001b[1mtrain: \u001b[0m/kaggle/working/dataset-fold_6/train/images/ID_kk7SDW.jpg: corrupt JPEG restored and saved\n",
            "\u001b[34m\u001b[1mtrain: \u001b[0m/kaggle/working/dataset-fold_6/train/images/ID_krz5Kc.jpeg: corrupt JPEG restored and saved\n",
            "\u001b[34m\u001b[1mtrain: \u001b[0m/kaggle/working/dataset-fold_6/train/images/ID_kyQg6b.jpg: corrupt JPEG restored and saved\n",
            "\u001b[34m\u001b[1mtrain: \u001b[0m/kaggle/working/dataset-fold_6/train/images/ID_leOirQ.jpeg: corrupt JPEG restored and saved\n",
            "\u001b[34m\u001b[1mtrain: \u001b[0m/kaggle/working/dataset-fold_6/train/images/ID_lg3nG2.jpg: corrupt JPEG restored and saved\n",
            "\u001b[34m\u001b[1mtrain: \u001b[0m/kaggle/working/dataset-fold_6/train/images/ID_lqgUrK.jpg: corrupt JPEG restored and saved\n",
            "\u001b[34m\u001b[1mtrain: \u001b[0m/kaggle/working/dataset-fold_6/train/images/ID_mAbOtc.jpg: corrupt JPEG restored and saved\n",
            "\u001b[34m\u001b[1mtrain: \u001b[0m/kaggle/working/dataset-fold_6/train/images/ID_mBvPIf.jpg: corrupt JPEG restored and saved\n",
            "\u001b[34m\u001b[1mtrain: \u001b[0m/kaggle/working/dataset-fold_6/train/images/ID_mDXn0w.jpg: corrupt JPEG restored and saved\n",
            "\u001b[34m\u001b[1mtrain: \u001b[0m/kaggle/working/dataset-fold_6/train/images/ID_mIRMvI.jpg: corrupt JPEG restored and saved\n",
            "\u001b[34m\u001b[1mtrain: \u001b[0m/kaggle/working/dataset-fold_6/train/images/ID_mhIu8M.jpg: corrupt JPEG restored and saved\n",
            "\u001b[34m\u001b[1mtrain: \u001b[0m/kaggle/working/dataset-fold_6/train/images/ID_n2ei3B.jpg: corrupt JPEG restored and saved\n",
            "\u001b[34m\u001b[1mtrain: \u001b[0m/kaggle/working/dataset-fold_6/train/images/ID_n8PmEh.jpg: corrupt JPEG restored and saved\n",
            "\u001b[34m\u001b[1mtrain: \u001b[0m/kaggle/working/dataset-fold_6/train/images/ID_nHlwiJ.jpg: corrupt JPEG restored and saved\n",
            "\u001b[34m\u001b[1mtrain: \u001b[0m/kaggle/working/dataset-fold_6/train/images/ID_nIw6DH.jpg: corrupt JPEG restored and saved\n",
            "\u001b[34m\u001b[1mtrain: \u001b[0m/kaggle/working/dataset-fold_6/train/images/ID_nIzLHr.jpeg: corrupt JPEG restored and saved\n",
            "\u001b[34m\u001b[1mtrain: \u001b[0m/kaggle/working/dataset-fold_6/train/images/ID_nZim7G.jpg: corrupt JPEG restored and saved\n",
            "\u001b[34m\u001b[1mtrain: \u001b[0m/kaggle/working/dataset-fold_6/train/images/ID_njuz8k.jpeg: corrupt JPEG restored and saved\n",
            "\u001b[34m\u001b[1mtrain: \u001b[0m/kaggle/working/dataset-fold_6/train/images/ID_ntnNvs.jpg: corrupt JPEG restored and saved\n",
            "\u001b[34m\u001b[1mtrain: \u001b[0m/kaggle/working/dataset-fold_6/train/images/ID_nx4hoN.jpg: corrupt JPEG restored and saved\n",
            "\u001b[34m\u001b[1mtrain: \u001b[0m/kaggle/working/dataset-fold_6/train/images/ID_o01U4Q.jpg: corrupt JPEG restored and saved\n",
            "\u001b[34m\u001b[1mtrain: \u001b[0m/kaggle/working/dataset-fold_6/train/images/ID_o4UT3S.jpeg: corrupt JPEG restored and saved\n",
            "\u001b[34m\u001b[1mtrain: \u001b[0m/kaggle/working/dataset-fold_6/train/images/ID_oFBCwO.jpg: corrupt JPEG restored and saved\n",
            "\u001b[34m\u001b[1mtrain: \u001b[0m/kaggle/working/dataset-fold_6/train/images/ID_oOXqz9.jpg: corrupt JPEG restored and saved\n",
            "\u001b[34m\u001b[1mtrain: \u001b[0m/kaggle/working/dataset-fold_6/train/images/ID_ocfe8h.jpg: corrupt JPEG restored and saved\n",
            "\u001b[34m\u001b[1mtrain: \u001b[0m/kaggle/working/dataset-fold_6/train/images/ID_olXkHS.jpg: corrupt JPEG restored and saved\n",
            "\u001b[34m\u001b[1mtrain: \u001b[0m/kaggle/working/dataset-fold_6/train/images/ID_ovUeNf.jpg: corrupt JPEG restored and saved\n",
            "\u001b[34m\u001b[1mtrain: \u001b[0m/kaggle/working/dataset-fold_6/train/images/ID_pDP6VA.jpg: corrupt JPEG restored and saved\n",
            "\u001b[34m\u001b[1mtrain: \u001b[0m/kaggle/working/dataset-fold_6/train/images/ID_pSHicD.jpeg: corrupt JPEG restored and saved\n",
            "\u001b[34m\u001b[1mtrain: \u001b[0m/kaggle/working/dataset-fold_6/train/images/ID_pTosIS.jpg: corrupt JPEG restored and saved\n",
            "\u001b[34m\u001b[1mtrain: \u001b[0m/kaggle/working/dataset-fold_6/train/images/ID_pYvX3q.jpg: corrupt JPEG restored and saved\n",
            "\u001b[34m\u001b[1mtrain: \u001b[0m/kaggle/working/dataset-fold_6/train/images/ID_pb4bRg.jpeg: corrupt JPEG restored and saved\n",
            "\u001b[34m\u001b[1mtrain: \u001b[0m/kaggle/working/dataset-fold_6/train/images/ID_pm15xu.jpg: corrupt JPEG restored and saved\n",
            "\u001b[34m\u001b[1mtrain: \u001b[0m/kaggle/working/dataset-fold_6/train/images/ID_prbmy9.jpg: corrupt JPEG restored and saved\n",
            "\u001b[34m\u001b[1mtrain: \u001b[0m/kaggle/working/dataset-fold_6/train/images/ID_pxJLAz.jpeg: corrupt JPEG restored and saved\n",
            "\u001b[34m\u001b[1mtrain: \u001b[0m/kaggle/working/dataset-fold_6/train/images/ID_pxjZs8.jpeg: corrupt JPEG restored and saved\n",
            "\u001b[34m\u001b[1mtrain: \u001b[0m/kaggle/working/dataset-fold_6/train/images/ID_q0MS9f.jpeg: corrupt JPEG restored and saved\n",
            "\u001b[34m\u001b[1mtrain: \u001b[0m/kaggle/working/dataset-fold_6/train/images/ID_q8BevT.jpg: corrupt JPEG restored and saved\n",
            "\u001b[34m\u001b[1mtrain: \u001b[0m/kaggle/working/dataset-fold_6/train/images/ID_qH6m1X.jpg: corrupt JPEG restored and saved\n",
            "\u001b[34m\u001b[1mtrain: \u001b[0m/kaggle/working/dataset-fold_6/train/images/ID_qNUMbX.jpg: corrupt JPEG restored and saved\n",
            "\u001b[34m\u001b[1mtrain: \u001b[0m/kaggle/working/dataset-fold_6/train/images/ID_qWwuLB.jpg: corrupt JPEG restored and saved\n",
            "\u001b[34m\u001b[1mtrain: \u001b[0m/kaggle/working/dataset-fold_6/train/images/ID_qrGPyJ.jpg: corrupt JPEG restored and saved\n",
            "\u001b[34m\u001b[1mtrain: \u001b[0m/kaggle/working/dataset-fold_6/train/images/ID_r0axyw.jpeg: corrupt JPEG restored and saved\n",
            "\u001b[34m\u001b[1mtrain: \u001b[0m/kaggle/working/dataset-fold_6/train/images/ID_r0pE4O.jpg: corrupt JPEG restored and saved\n",
            "\u001b[34m\u001b[1mtrain: \u001b[0m/kaggle/working/dataset-fold_6/train/images/ID_rCMbN1.jpg: corrupt JPEG restored and saved\n",
            "\u001b[34m\u001b[1mtrain: \u001b[0m/kaggle/working/dataset-fold_6/train/images/ID_rMWHEF.jpg: corrupt JPEG restored and saved\n",
            "\u001b[34m\u001b[1mtrain: \u001b[0m/kaggle/working/dataset-fold_6/train/images/ID_rMXZc5.jpeg: corrupt JPEG restored and saved\n",
            "\u001b[34m\u001b[1mtrain: \u001b[0m/kaggle/working/dataset-fold_6/train/images/ID_rYlNow.jpg: corrupt JPEG restored and saved\n",
            "\u001b[34m\u001b[1mtrain: \u001b[0m/kaggle/working/dataset-fold_6/train/images/ID_rdwvgq.jpg: corrupt JPEG restored and saved\n",
            "\u001b[34m\u001b[1mtrain: \u001b[0m/kaggle/working/dataset-fold_6/train/images/ID_rs2rv6.jpeg: corrupt JPEG restored and saved\n",
            "\u001b[34m\u001b[1mtrain: \u001b[0m/kaggle/working/dataset-fold_6/train/images/ID_ruSpV7.jpg: corrupt JPEG restored and saved\n",
            "\u001b[34m\u001b[1mtrain: \u001b[0m/kaggle/working/dataset-fold_6/train/images/ID_sGmRwf.jpg: corrupt JPEG restored and saved\n",
            "\u001b[34m\u001b[1mtrain: \u001b[0m/kaggle/working/dataset-fold_6/train/images/ID_sZNOcT.jpg: corrupt JPEG restored and saved\n",
            "\u001b[34m\u001b[1mtrain: \u001b[0m/kaggle/working/dataset-fold_6/train/images/ID_sgk3L1.jpg: corrupt JPEG restored and saved\n",
            "\u001b[34m\u001b[1mtrain: \u001b[0m/kaggle/working/dataset-fold_6/train/images/ID_soB3nB.jpg: corrupt JPEG restored and saved\n",
            "\u001b[34m\u001b[1mtrain: \u001b[0m/kaggle/working/dataset-fold_6/train/images/ID_svC6nh.jpeg: corrupt JPEG restored and saved\n",
            "\u001b[34m\u001b[1mtrain: \u001b[0m/kaggle/working/dataset-fold_6/train/images/ID_tLQKlj.jpg: corrupt JPEG restored and saved\n",
            "\u001b[34m\u001b[1mtrain: \u001b[0m/kaggle/working/dataset-fold_6/train/images/ID_tOOxT6.jpeg: corrupt JPEG restored and saved\n",
            "\u001b[34m\u001b[1mtrain: \u001b[0m/kaggle/working/dataset-fold_6/train/images/ID_tSdU7L.jpg: corrupt JPEG restored and saved\n",
            "\u001b[34m\u001b[1mtrain: \u001b[0m/kaggle/working/dataset-fold_6/train/images/ID_tbbAga.jpeg: corrupt JPEG restored and saved\n",
            "\u001b[34m\u001b[1mtrain: \u001b[0m/kaggle/working/dataset-fold_6/train/images/ID_teXsR2.jpeg: corrupt JPEG restored and saved\n",
            "\u001b[34m\u001b[1mtrain: \u001b[0m/kaggle/working/dataset-fold_6/train/images/ID_tqDtkc.jpeg: corrupt JPEG restored and saved\n",
            "\u001b[34m\u001b[1mtrain: \u001b[0m/kaggle/working/dataset-fold_6/train/images/ID_tqIQWi.jpeg: corrupt JPEG restored and saved\n",
            "\u001b[34m\u001b[1mtrain: \u001b[0m/kaggle/working/dataset-fold_6/train/images/ID_ttOYvp.jpg: corrupt JPEG restored and saved\n",
            "\u001b[34m\u001b[1mtrain: \u001b[0m/kaggle/working/dataset-fold_6/train/images/ID_u0KnR0.jpg: corrupt JPEG restored and saved\n",
            "\u001b[34m\u001b[1mtrain: \u001b[0m/kaggle/working/dataset-fold_6/train/images/ID_u9JmKd.jpg: corrupt JPEG restored and saved\n",
            "\u001b[34m\u001b[1mtrain: \u001b[0m/kaggle/working/dataset-fold_6/train/images/ID_uCZCap.jpg: corrupt JPEG restored and saved\n",
            "\u001b[34m\u001b[1mtrain: \u001b[0m/kaggle/working/dataset-fold_6/train/images/ID_uKHtOl.jpeg: corrupt JPEG restored and saved\n",
            "\u001b[34m\u001b[1mtrain: \u001b[0m/kaggle/working/dataset-fold_6/train/images/ID_uLcPmF.jpg: corrupt JPEG restored and saved\n",
            "\u001b[34m\u001b[1mtrain: \u001b[0m/kaggle/working/dataset-fold_6/train/images/ID_uTB3hB.jpg: corrupt JPEG restored and saved\n",
            "\u001b[34m\u001b[1mtrain: \u001b[0m/kaggle/working/dataset-fold_6/train/images/ID_ueWf24.jpeg: corrupt JPEG restored and saved\n",
            "\u001b[34m\u001b[1mtrain: \u001b[0m/kaggle/working/dataset-fold_6/train/images/ID_uiDeaI.jpg: corrupt JPEG restored and saved\n",
            "\u001b[34m\u001b[1mtrain: \u001b[0m/kaggle/working/dataset-fold_6/train/images/ID_unaCV7.jpeg: corrupt JPEG restored and saved\n",
            "\u001b[34m\u001b[1mtrain: \u001b[0m/kaggle/working/dataset-fold_6/train/images/ID_urNuzC.jpeg: corrupt JPEG restored and saved\n",
            "\u001b[34m\u001b[1mtrain: \u001b[0m/kaggle/working/dataset-fold_6/train/images/ID_usg4S9.jpeg: corrupt JPEG restored and saved\n",
            "\u001b[34m\u001b[1mtrain: \u001b[0m/kaggle/working/dataset-fold_6/train/images/ID_uyPxtk.jpg: corrupt JPEG restored and saved\n",
            "\u001b[34m\u001b[1mtrain: \u001b[0m/kaggle/working/dataset-fold_6/train/images/ID_vHSudl.jpg: corrupt JPEG restored and saved\n",
            "\u001b[34m\u001b[1mtrain: \u001b[0m/kaggle/working/dataset-fold_6/train/images/ID_vKQXPV.jpeg: corrupt JPEG restored and saved\n",
            "\u001b[34m\u001b[1mtrain: \u001b[0m/kaggle/working/dataset-fold_6/train/images/ID_vO5hXL.jpg: corrupt JPEG restored and saved\n",
            "\u001b[34m\u001b[1mtrain: \u001b[0m/kaggle/working/dataset-fold_6/train/images/ID_vYNFqM.jpg: corrupt JPEG restored and saved\n",
            "\u001b[34m\u001b[1mtrain: \u001b[0m/kaggle/working/dataset-fold_6/train/images/ID_vc8s7j.jpg: corrupt JPEG restored and saved\n",
            "\u001b[34m\u001b[1mtrain: \u001b[0m/kaggle/working/dataset-fold_6/train/images/ID_voTg2J.jpg: corrupt JPEG restored and saved\n",
            "\u001b[34m\u001b[1mtrain: \u001b[0m/kaggle/working/dataset-fold_6/train/images/ID_vwSjRo.jpg: corrupt JPEG restored and saved\n",
            "\u001b[34m\u001b[1mtrain: \u001b[0m/kaggle/working/dataset-fold_6/train/images/ID_vypkcl.jpg: corrupt JPEG restored and saved\n",
            "\u001b[34m\u001b[1mtrain: \u001b[0m/kaggle/working/dataset-fold_6/train/images/ID_vyxJFi.jpg: corrupt JPEG restored and saved\n",
            "\u001b[34m\u001b[1mtrain: \u001b[0m/kaggle/working/dataset-fold_6/train/images/ID_wCQDfX.jpg: corrupt JPEG restored and saved\n",
            "\u001b[34m\u001b[1mtrain: \u001b[0m/kaggle/working/dataset-fold_6/train/images/ID_wF7EbR.jpeg: corrupt JPEG restored and saved\n",
            "\u001b[34m\u001b[1mtrain: \u001b[0m/kaggle/working/dataset-fold_6/train/images/ID_wUQeJr.jpeg: corrupt JPEG restored and saved\n",
            "\u001b[34m\u001b[1mtrain: \u001b[0m/kaggle/working/dataset-fold_6/train/images/ID_wapUmF.jpg: corrupt JPEG restored and saved\n",
            "\u001b[34m\u001b[1mtrain: \u001b[0m/kaggle/working/dataset-fold_6/train/images/ID_wvMeOv.jpg: corrupt JPEG restored and saved\n",
            "\u001b[34m\u001b[1mtrain: \u001b[0m/kaggle/working/dataset-fold_6/train/images/ID_x6WZsy.jpeg: corrupt JPEG restored and saved\n",
            "\u001b[34m\u001b[1mtrain: \u001b[0m/kaggle/working/dataset-fold_6/train/images/ID_xADtex.jpeg: corrupt JPEG restored and saved\n",
            "\u001b[34m\u001b[1mtrain: \u001b[0m/kaggle/working/dataset-fold_6/train/images/ID_xFalb9.jpg: corrupt JPEG restored and saved\n",
            "\u001b[34m\u001b[1mtrain: \u001b[0m/kaggle/working/dataset-fold_6/train/images/ID_xQUj9z.jpg: corrupt JPEG restored and saved\n",
            "\u001b[34m\u001b[1mtrain: \u001b[0m/kaggle/working/dataset-fold_6/train/images/ID_xaQ1Pp.jpeg: corrupt JPEG restored and saved\n",
            "\u001b[34m\u001b[1mtrain: \u001b[0m/kaggle/working/dataset-fold_6/train/images/ID_xhwazg.jpeg: corrupt JPEG restored and saved\n",
            "\u001b[34m\u001b[1mtrain: \u001b[0m/kaggle/working/dataset-fold_6/train/images/ID_y0FHMz.jpg: corrupt JPEG restored and saved\n",
            "\u001b[34m\u001b[1mtrain: \u001b[0m/kaggle/working/dataset-fold_6/train/images/ID_y31JbP.jpeg: corrupt JPEG restored and saved\n",
            "\u001b[34m\u001b[1mtrain: \u001b[0m/kaggle/working/dataset-fold_6/train/images/ID_y3QgnO.jpg: corrupt JPEG restored and saved\n",
            "\u001b[34m\u001b[1mtrain: \u001b[0m/kaggle/working/dataset-fold_6/train/images/ID_yJY6yx.jpeg: corrupt JPEG restored and saved\n",
            "\u001b[34m\u001b[1mtrain: \u001b[0m/kaggle/working/dataset-fold_6/train/images/ID_yTKAOl.jpeg: corrupt JPEG restored and saved\n",
            "\u001b[34m\u001b[1mtrain: \u001b[0m/kaggle/working/dataset-fold_6/train/images/ID_yXnHjb.jpg: corrupt JPEG restored and saved\n",
            "\u001b[34m\u001b[1mtrain: \u001b[0m/kaggle/working/dataset-fold_6/train/images/ID_yZxf2F.jpeg: corrupt JPEG restored and saved\n",
            "\u001b[34m\u001b[1mtrain: \u001b[0m/kaggle/working/dataset-fold_6/train/images/ID_ya4jVu.jpeg: corrupt JPEG restored and saved\n",
            "\u001b[34m\u001b[1mtrain: \u001b[0m/kaggle/working/dataset-fold_6/train/images/ID_yd0aFD.jpg: corrupt JPEG restored and saved\n",
            "\u001b[34m\u001b[1mtrain: \u001b[0m/kaggle/working/dataset-fold_6/train/images/ID_yfr2HJ.jpeg: corrupt JPEG restored and saved\n",
            "\u001b[34m\u001b[1mtrain: \u001b[0m/kaggle/working/dataset-fold_6/train/images/ID_yiEku4.jpg: corrupt JPEG restored and saved\n",
            "\u001b[34m\u001b[1mtrain: \u001b[0m/kaggle/working/dataset-fold_6/train/images/ID_yjwlQG.jpeg: corrupt JPEG restored and saved\n",
            "\u001b[34m\u001b[1mtrain: \u001b[0m/kaggle/working/dataset-fold_6/train/images/ID_ykasdx.jpg: corrupt JPEG restored and saved\n",
            "\u001b[34m\u001b[1mtrain: \u001b[0m/kaggle/working/dataset-fold_6/train/images/ID_ylXlTv.jpg: corrupt JPEG restored and saved\n",
            "\u001b[34m\u001b[1mtrain: \u001b[0m/kaggle/working/dataset-fold_6/train/images/ID_yol9H8.jpeg: corrupt JPEG restored and saved\n",
            "\u001b[34m\u001b[1mtrain: \u001b[0m/kaggle/working/dataset-fold_6/train/images/ID_yqUspW.jpg: corrupt JPEG restored and saved\n",
            "\u001b[34m\u001b[1mtrain: \u001b[0m/kaggle/working/dataset-fold_6/train/images/ID_z6gC1L.jpg: corrupt JPEG restored and saved\n",
            "\u001b[34m\u001b[1mtrain: \u001b[0m/kaggle/working/dataset-fold_6/train/images/ID_zOEJFj.jpg: corrupt JPEG restored and saved\n",
            "\u001b[34m\u001b[1mtrain: \u001b[0m/kaggle/working/dataset-fold_6/train/images/ID_zQiLcy.jpg: corrupt JPEG restored and saved\n",
            "\u001b[34m\u001b[1mtrain: \u001b[0m/kaggle/working/dataset-fold_6/train/images/ID_zVL36E.jpg: corrupt JPEG restored and saved\n",
            "\u001b[34m\u001b[1mtrain: \u001b[0m/kaggle/working/dataset-fold_6/train/images/ID_zZM2jq.jpg: corrupt JPEG restored and saved\n",
            "\u001b[34m\u001b[1mtrain: \u001b[0m/kaggle/working/dataset-fold_6/train/images/ID_zltnVS.jpeg: corrupt JPEG restored and saved\n",
            "\u001b[34m\u001b[1mtrain: \u001b[0mNew cache created: /kaggle/working/dataset-fold_6/train/labels.cache\n"
          ]
        },
        {
          "name": "stderr",
          "output_type": "stream",
          "text": [
            "\n"
          ]
        },
        {
          "name": "stdout",
          "output_type": "stream",
          "text": [
            "\u001b[34m\u001b[1malbumentations: \u001b[0mBlur(p=0.01, blur_limit=(3, 7)), MedianBlur(p=0.01, blur_limit=(3, 7)), ToGray(p=0.01, num_output_channels=3, method='weighted_average'), CLAHE(p=0.01, clip_limit=(1.0, 4.0), tile_grid_size=(8, 8))\n",
            "\u001b[34m\u001b[1mval: \u001b[0mFast image access ✅ (ping: 0.0±0.0 ms, read: 1074.2±997.7 MB/s, size: 1488.7 KB)\n"
          ]
        },
        {
          "name": "stderr",
          "output_type": "stream",
          "text": [
            "\u001b[34m\u001b[1mval: \u001b[0mScanning /kaggle/working/dataset-fold_6/valid/labels... 276 images, 0 backgrounds, 0 corrupt: 100%|██████████| 276/276 [00:04<00:00, 63.27it/s] "
          ]
        },
        {
          "name": "stdout",
          "output_type": "stream",
          "text": [
            "\u001b[34m\u001b[1mval: \u001b[0m/kaggle/working/dataset-fold_6/valid/images/ID_CZ9NxR.jpg: corrupt JPEG restored and saved\n",
            "\u001b[34m\u001b[1mval: \u001b[0m/kaggle/working/dataset-fold_6/valid/images/ID_J4jaP8.jpg: corrupt JPEG restored and saved\n",
            "\u001b[34m\u001b[1mval: \u001b[0m/kaggle/working/dataset-fold_6/valid/images/ID_J7hL2Y.jpg: corrupt JPEG restored and saved\n",
            "\u001b[34m\u001b[1mval: \u001b[0m/kaggle/working/dataset-fold_6/valid/images/ID_Ko4fL3.jpg: corrupt JPEG restored and saved\n",
            "\u001b[34m\u001b[1mval: \u001b[0m/kaggle/working/dataset-fold_6/valid/images/ID_NbftLH.jpeg: corrupt JPEG restored and saved\n",
            "\u001b[34m\u001b[1mval: \u001b[0m/kaggle/working/dataset-fold_6/valid/images/ID_RoWnbg.jpg: corrupt JPEG restored and saved\n",
            "\u001b[34m\u001b[1mval: \u001b[0m/kaggle/working/dataset-fold_6/valid/images/ID_SSPUE6.jpg: corrupt JPEG restored and saved\n",
            "\u001b[34m\u001b[1mval: \u001b[0m/kaggle/working/dataset-fold_6/valid/images/ID_Spq7s1.jpeg: corrupt JPEG restored and saved\n",
            "\u001b[34m\u001b[1mval: \u001b[0m/kaggle/working/dataset-fold_6/valid/images/ID_Xr3yGD.jpeg: corrupt JPEG restored and saved\n",
            "\u001b[34m\u001b[1mval: \u001b[0m/kaggle/working/dataset-fold_6/valid/images/ID_YraieG.jpg: corrupt JPEG restored and saved\n",
            "\u001b[34m\u001b[1mval: \u001b[0m/kaggle/working/dataset-fold_6/valid/images/ID_bErrYD.jpeg: corrupt JPEG restored and saved\n",
            "\u001b[34m\u001b[1mval: \u001b[0m/kaggle/working/dataset-fold_6/valid/images/ID_bq4JF6.jpg: corrupt JPEG restored and saved\n",
            "\u001b[34m\u001b[1mval: \u001b[0m/kaggle/working/dataset-fold_6/valid/images/ID_cecsNW.jpg: corrupt JPEG restored and saved\n",
            "\u001b[34m\u001b[1mval: \u001b[0m/kaggle/working/dataset-fold_6/valid/images/ID_lTXAIY.jpg: corrupt JPEG restored and saved\n",
            "\u001b[34m\u001b[1mval: \u001b[0m/kaggle/working/dataset-fold_6/valid/images/ID_r8QuGZ.jpg: corrupt JPEG restored and saved\n",
            "\u001b[34m\u001b[1mval: \u001b[0m/kaggle/working/dataset-fold_6/valid/images/ID_ymMXcD.jpeg: corrupt JPEG restored and saved\n",
            "\u001b[34m\u001b[1mval: \u001b[0mNew cache created: /kaggle/working/dataset-fold_6/valid/labels.cache\n"
          ]
        },
        {
          "name": "stderr",
          "output_type": "stream",
          "text": [
            "\n"
          ]
        },
        {
          "name": "stdout",
          "output_type": "stream",
          "text": [
            "Plotting labels to runs/detect/train_fold_6_model_yolo11s_imgs_800/labels.jpg... \n",
            "\u001b[34m\u001b[1moptimizer:\u001b[0m AdamW(lr=0.0003, momentum=0.9) with parameter groups 81 weight(decay=0.0), 88 weight(decay=0.009375000000000001), 87 bias(decay=0.0)\n",
            "Image sizes 800 train, 800 val\n",
            "Using 4 dataloader workers\n",
            "Logging results to \u001b[1mruns/detect/train_fold_6_model_yolo11s_imgs_800\u001b[0m\n",
            "Starting training for 50 epochs...\n",
            "\n",
            "      Epoch    GPU_mem   box_loss   cls_loss   dfl_loss  Instances       Size\n"
          ]
        },
        {
          "name": "stderr",
          "output_type": "stream",
          "text": [
            "       1/50      3.98G      1.311      1.708      1.741         10        800: 100%|██████████| 526/526 [03:09<00:00,  2.78it/s]\n",
            "                 Class     Images  Instances      Box(P          R      mAP50  mAP50-95): 100%|██████████| 14/14 [00:06<00:00,  2.25it/s]"
          ]
        },
        {
          "name": "stdout",
          "output_type": "stream",
          "text": [
            "                   all        276        498       0.64      0.442       0.48       0.29\n"
          ]
        },
        {
          "name": "stderr",
          "output_type": "stream",
          "text": [
            "\n"
          ]
        },
        {
          "name": "stdout",
          "output_type": "stream",
          "text": [
            "\n",
            "      Epoch    GPU_mem   box_loss   cls_loss   dfl_loss  Instances       Size\n"
          ]
        },
        {
          "name": "stderr",
          "output_type": "stream",
          "text": [
            "       2/50      4.73G      1.268      1.426      1.683         12        800: 100%|██████████| 526/526 [03:06<00:00,  2.82it/s]\n",
            "                 Class     Images  Instances      Box(P          R      mAP50  mAP50-95): 100%|██████████| 14/14 [00:04<00:00,  2.82it/s]"
          ]
        },
        {
          "name": "stdout",
          "output_type": "stream",
          "text": [
            "                   all        276        498      0.552      0.577      0.555      0.341\n"
          ]
        },
        {
          "name": "stderr",
          "output_type": "stream",
          "text": [
            "\n"
          ]
        },
        {
          "name": "stdout",
          "output_type": "stream",
          "text": [
            "\n",
            "      Epoch    GPU_mem   box_loss   cls_loss   dfl_loss  Instances       Size\n"
          ]
        },
        {
          "name": "stderr",
          "output_type": "stream",
          "text": [
            "       3/50      4.73G      1.237      1.373      1.666          8        800: 100%|██████████| 526/526 [03:03<00:00,  2.87it/s]\n",
            "                 Class     Images  Instances      Box(P          R      mAP50  mAP50-95): 100%|██████████| 14/14 [00:04<00:00,  2.89it/s]\n"
          ]
        },
        {
          "name": "stdout",
          "output_type": "stream",
          "text": [
            "                   all        276        498      0.687      0.578      0.631      0.398\n",
            "\n",
            "      Epoch    GPU_mem   box_loss   cls_loss   dfl_loss  Instances       Size\n"
          ]
        },
        {
          "name": "stderr",
          "output_type": "stream",
          "text": [
            "       4/50      4.73G      1.227      1.336      1.654         10        800: 100%|██████████| 526/526 [03:07<00:00,  2.80it/s]\n",
            "                 Class     Images  Instances      Box(P          R      mAP50  mAP50-95): 100%|██████████| 14/14 [00:04<00:00,  3.05it/s]\n"
          ]
        },
        {
          "name": "stdout",
          "output_type": "stream",
          "text": [
            "                   all        276        498       0.71      0.618       0.65      0.411\n",
            "\n",
            "      Epoch    GPU_mem   box_loss   cls_loss   dfl_loss  Instances       Size\n"
          ]
        },
        {
          "name": "stderr",
          "output_type": "stream",
          "text": [
            "       5/50      4.73G      1.215      1.312      1.644         12        800: 100%|██████████| 526/526 [03:02<00:00,  2.88it/s]\n",
            "                 Class     Images  Instances      Box(P          R      mAP50  mAP50-95): 100%|██████████| 14/14 [00:05<00:00,  2.76it/s]\n"
          ]
        },
        {
          "name": "stdout",
          "output_type": "stream",
          "text": [
            "                   all        276        498      0.689      0.618      0.656      0.429\n",
            "\n",
            "      Epoch    GPU_mem   box_loss   cls_loss   dfl_loss  Instances       Size\n"
          ]
        },
        {
          "name": "stderr",
          "output_type": "stream",
          "text": [
            "       6/50      4.73G      1.197      1.265      1.634          4        800: 100%|██████████| 526/526 [03:08<00:00,  2.79it/s]\n",
            "                 Class     Images  Instances      Box(P          R      mAP50  mAP50-95): 100%|██████████| 14/14 [00:04<00:00,  2.91it/s]"
          ]
        },
        {
          "name": "stdout",
          "output_type": "stream",
          "text": [
            "                   all        276        498      0.731      0.662      0.701      0.442\n"
          ]
        },
        {
          "name": "stderr",
          "output_type": "stream",
          "text": [
            "\n"
          ]
        },
        {
          "name": "stdout",
          "output_type": "stream",
          "text": [
            "\n",
            "      Epoch    GPU_mem   box_loss   cls_loss   dfl_loss  Instances       Size\n"
          ]
        },
        {
          "name": "stderr",
          "output_type": "stream",
          "text": [
            "       7/50      4.73G      1.182      1.228      1.617         11        800: 100%|██████████| 526/526 [03:06<00:00,  2.82it/s]\n",
            "                 Class     Images  Instances      Box(P          R      mAP50  mAP50-95): 100%|██████████| 14/14 [00:04<00:00,  3.29it/s]"
          ]
        },
        {
          "name": "stdout",
          "output_type": "stream",
          "text": [
            "                   all        276        498      0.729      0.663      0.689      0.452\n"
          ]
        },
        {
          "name": "stderr",
          "output_type": "stream",
          "text": [
            "\n"
          ]
        },
        {
          "name": "stdout",
          "output_type": "stream",
          "text": [
            "\n",
            "      Epoch    GPU_mem   box_loss   cls_loss   dfl_loss  Instances       Size\n"
          ]
        },
        {
          "name": "stderr",
          "output_type": "stream",
          "text": [
            "       8/50      4.73G      1.171      1.207      1.602         16        800: 100%|██████████| 526/526 [03:07<00:00,  2.81it/s]\n",
            "                 Class     Images  Instances      Box(P          R      mAP50  mAP50-95): 100%|██████████| 14/14 [00:04<00:00,  3.17it/s]"
          ]
        },
        {
          "name": "stdout",
          "output_type": "stream",
          "text": [
            "                   all        276        498      0.753      0.649      0.692      0.457\n"
          ]
        },
        {
          "name": "stderr",
          "output_type": "stream",
          "text": [
            "\n"
          ]
        },
        {
          "name": "stdout",
          "output_type": "stream",
          "text": [
            "\n",
            "      Epoch    GPU_mem   box_loss   cls_loss   dfl_loss  Instances       Size\n"
          ]
        },
        {
          "name": "stderr",
          "output_type": "stream",
          "text": [
            "       9/50      4.73G      1.157      1.189       1.59         16        800: 100%|██████████| 526/526 [03:09<00:00,  2.78it/s]\n",
            "                 Class     Images  Instances      Box(P          R      mAP50  mAP50-95): 100%|██████████| 14/14 [00:04<00:00,  2.90it/s]"
          ]
        },
        {
          "name": "stdout",
          "output_type": "stream",
          "text": [
            "                   all        276        498      0.686      0.661      0.691       0.45\n"
          ]
        },
        {
          "name": "stderr",
          "output_type": "stream",
          "text": [
            "\n"
          ]
        },
        {
          "name": "stdout",
          "output_type": "stream",
          "text": [
            "\n",
            "      Epoch    GPU_mem   box_loss   cls_loss   dfl_loss  Instances       Size\n"
          ]
        },
        {
          "name": "stderr",
          "output_type": "stream",
          "text": [
            "      10/50      4.73G      1.148       1.16      1.584         16        800: 100%|██████████| 526/526 [03:04<00:00,  2.85it/s]\n",
            "                 Class     Images  Instances      Box(P          R      mAP50  mAP50-95): 100%|██████████| 14/14 [00:04<00:00,  3.05it/s]"
          ]
        },
        {
          "name": "stdout",
          "output_type": "stream",
          "text": [
            "                   all        276        498      0.725      0.647       0.69      0.459\n"
          ]
        },
        {
          "name": "stderr",
          "output_type": "stream",
          "text": [
            "\n"
          ]
        },
        {
          "name": "stdout",
          "output_type": "stream",
          "text": [
            "\n",
            "      Epoch    GPU_mem   box_loss   cls_loss   dfl_loss  Instances       Size\n"
          ]
        },
        {
          "name": "stderr",
          "output_type": "stream",
          "text": [
            "      11/50      4.73G      1.127      1.127      1.559         11        800: 100%|██████████| 526/526 [03:08<00:00,  2.80it/s]\n",
            "                 Class     Images  Instances      Box(P          R      mAP50  mAP50-95): 100%|██████████| 14/14 [00:04<00:00,  2.92it/s]\n"
          ]
        },
        {
          "name": "stdout",
          "output_type": "stream",
          "text": [
            "                   all        276        498      0.743      0.651      0.687      0.467\n",
            "\n",
            "      Epoch    GPU_mem   box_loss   cls_loss   dfl_loss  Instances       Size\n"
          ]
        },
        {
          "name": "stderr",
          "output_type": "stream",
          "text": [
            "      12/50      4.73G      1.126       1.13      1.568         10        800: 100%|██████████| 526/526 [03:06<00:00,  2.81it/s]\n",
            "                 Class     Images  Instances      Box(P          R      mAP50  mAP50-95): 100%|██████████| 14/14 [00:05<00:00,  2.54it/s]\n"
          ]
        },
        {
          "name": "stdout",
          "output_type": "stream",
          "text": [
            "                   all        276        498      0.726      0.671      0.711      0.477\n",
            "\n",
            "      Epoch    GPU_mem   box_loss   cls_loss   dfl_loss  Instances       Size\n"
          ]
        },
        {
          "name": "stderr",
          "output_type": "stream",
          "text": [
            "      13/50      4.73G      1.129      1.109      1.565         18        800: 100%|██████████| 526/526 [03:05<00:00,  2.84it/s]\n",
            "                 Class     Images  Instances      Box(P          R      mAP50  mAP50-95): 100%|██████████| 14/14 [00:05<00:00,  2.80it/s]"
          ]
        },
        {
          "name": "stdout",
          "output_type": "stream",
          "text": [
            "                   all        276        498      0.727      0.658      0.705      0.475\n"
          ]
        },
        {
          "name": "stderr",
          "output_type": "stream",
          "text": [
            "\n"
          ]
        },
        {
          "name": "stdout",
          "output_type": "stream",
          "text": [
            "\n",
            "      Epoch    GPU_mem   box_loss   cls_loss   dfl_loss  Instances       Size\n"
          ]
        },
        {
          "name": "stderr",
          "output_type": "stream",
          "text": [
            "      14/50      4.73G       1.12      1.104      1.566         15        800: 100%|██████████| 526/526 [03:05<00:00,  2.84it/s]\n",
            "                 Class     Images  Instances      Box(P          R      mAP50  mAP50-95): 100%|██████████| 14/14 [00:04<00:00,  2.91it/s]"
          ]
        },
        {
          "name": "stdout",
          "output_type": "stream",
          "text": [
            "                   all        276        498      0.792      0.643      0.705      0.478\n"
          ]
        },
        {
          "name": "stderr",
          "output_type": "stream",
          "text": [
            "\n"
          ]
        },
        {
          "name": "stdout",
          "output_type": "stream",
          "text": [
            "\n",
            "      Epoch    GPU_mem   box_loss   cls_loss   dfl_loss  Instances       Size\n"
          ]
        },
        {
          "name": "stderr",
          "output_type": "stream",
          "text": [
            "      15/50      4.73G      1.112      1.071      1.554         15        800: 100%|██████████| 526/526 [03:09<00:00,  2.78it/s]\n",
            "                 Class     Images  Instances      Box(P          R      mAP50  mAP50-95): 100%|██████████| 14/14 [00:04<00:00,  2.99it/s]"
          ]
        },
        {
          "name": "stdout",
          "output_type": "stream",
          "text": [
            "                   all        276        498      0.778      0.654      0.728      0.497\n"
          ]
        },
        {
          "name": "stderr",
          "output_type": "stream",
          "text": [
            "\n"
          ]
        },
        {
          "name": "stdout",
          "output_type": "stream",
          "text": [
            "\n",
            "      Epoch    GPU_mem   box_loss   cls_loss   dfl_loss  Instances       Size\n"
          ]
        },
        {
          "name": "stderr",
          "output_type": "stream",
          "text": [
            "      16/50      4.74G      1.102      1.067      1.545         12        800: 100%|██████████| 526/526 [03:06<00:00,  2.82it/s]\n",
            "                 Class     Images  Instances      Box(P          R      mAP50  mAP50-95): 100%|██████████| 14/14 [00:04<00:00,  3.05it/s]\n"
          ]
        },
        {
          "name": "stdout",
          "output_type": "stream",
          "text": [
            "                   all        276        498      0.761      0.658      0.726      0.487\n",
            "\n",
            "      Epoch    GPU_mem   box_loss   cls_loss   dfl_loss  Instances       Size\n"
          ]
        },
        {
          "name": "stderr",
          "output_type": "stream",
          "text": [
            "      17/50      4.74G      1.095      1.047      1.539         15        800: 100%|██████████| 526/526 [03:04<00:00,  2.85it/s]\n",
            "                 Class     Images  Instances      Box(P          R      mAP50  mAP50-95): 100%|██████████| 14/14 [00:05<00:00,  2.72it/s]"
          ]
        },
        {
          "name": "stdout",
          "output_type": "stream",
          "text": [
            "                   all        276        498      0.805      0.619      0.712      0.489\n"
          ]
        },
        {
          "name": "stderr",
          "output_type": "stream",
          "text": [
            "\n"
          ]
        },
        {
          "name": "stdout",
          "output_type": "stream",
          "text": [
            "\n",
            "      Epoch    GPU_mem   box_loss   cls_loss   dfl_loss  Instances       Size\n"
          ]
        },
        {
          "name": "stderr",
          "output_type": "stream",
          "text": [
            "      18/50      4.74G      1.078      1.031       1.53         12        800: 100%|██████████| 526/526 [03:07<00:00,  2.80it/s]\n",
            "                 Class     Images  Instances      Box(P          R      mAP50  mAP50-95): 100%|██████████| 14/14 [00:04<00:00,  2.91it/s]\n"
          ]
        },
        {
          "name": "stdout",
          "output_type": "stream",
          "text": [
            "                   all        276        498      0.744      0.647      0.732      0.506\n",
            "\n",
            "      Epoch    GPU_mem   box_loss   cls_loss   dfl_loss  Instances       Size\n"
          ]
        },
        {
          "name": "stderr",
          "output_type": "stream",
          "text": [
            "      19/50      4.74G      1.086      1.021      1.525         13        800: 100%|██████████| 526/526 [03:08<00:00,  2.79it/s]\n",
            "                 Class     Images  Instances      Box(P          R      mAP50  mAP50-95): 100%|██████████| 14/14 [00:04<00:00,  2.89it/s]"
          ]
        },
        {
          "name": "stdout",
          "output_type": "stream",
          "text": [
            "                   all        276        498      0.799      0.632      0.717       0.49\n"
          ]
        },
        {
          "name": "stderr",
          "output_type": "stream",
          "text": [
            "\n"
          ]
        },
        {
          "name": "stdout",
          "output_type": "stream",
          "text": [
            "\n",
            "      Epoch    GPU_mem   box_loss   cls_loss   dfl_loss  Instances       Size\n"
          ]
        },
        {
          "name": "stderr",
          "output_type": "stream",
          "text": [
            "      20/50      4.74G      1.072      1.013      1.521         10        800: 100%|██████████| 526/526 [03:09<00:00,  2.77it/s]\n",
            "                 Class     Images  Instances      Box(P          R      mAP50  mAP50-95): 100%|██████████| 14/14 [00:04<00:00,  3.10it/s]"
          ]
        },
        {
          "name": "stdout",
          "output_type": "stream",
          "text": [
            "                   all        276        498      0.806      0.672      0.749      0.513\n"
          ]
        },
        {
          "name": "stderr",
          "output_type": "stream",
          "text": [
            "\n"
          ]
        },
        {
          "name": "stdout",
          "output_type": "stream",
          "text": [
            "\n",
            "      Epoch    GPU_mem   box_loss   cls_loss   dfl_loss  Instances       Size\n"
          ]
        },
        {
          "name": "stderr",
          "output_type": "stream",
          "text": [
            "      21/50      4.74G      1.071      1.007      1.514         13        800: 100%|██████████| 526/526 [03:08<00:00,  2.79it/s]\n",
            "                 Class     Images  Instances      Box(P          R      mAP50  mAP50-95): 100%|██████████| 14/14 [00:05<00:00,  2.70it/s]"
          ]
        },
        {
          "name": "stdout",
          "output_type": "stream",
          "text": [
            "                   all        276        498      0.827      0.627      0.735      0.506\n"
          ]
        },
        {
          "name": "stderr",
          "output_type": "stream",
          "text": [
            "\n"
          ]
        },
        {
          "name": "stdout",
          "output_type": "stream",
          "text": [
            "\n",
            "      Epoch    GPU_mem   box_loss   cls_loss   dfl_loss  Instances       Size\n"
          ]
        },
        {
          "name": "stderr",
          "output_type": "stream",
          "text": [
            "      22/50      4.74G      1.056     0.9836        1.5         12        800: 100%|██████████| 526/526 [03:07<00:00,  2.80it/s]\n",
            "                 Class     Images  Instances      Box(P          R      mAP50  mAP50-95): 100%|██████████| 14/14 [00:04<00:00,  2.99it/s]"
          ]
        },
        {
          "name": "stdout",
          "output_type": "stream",
          "text": [
            "                   all        276        498      0.751      0.666      0.733      0.509\n"
          ]
        },
        {
          "name": "stderr",
          "output_type": "stream",
          "text": [
            "\n"
          ]
        },
        {
          "name": "stdout",
          "output_type": "stream",
          "text": [
            "\n",
            "      Epoch    GPU_mem   box_loss   cls_loss   dfl_loss  Instances       Size\n"
          ]
        },
        {
          "name": "stderr",
          "output_type": "stream",
          "text": [
            "      23/50      4.74G      1.045     0.9683      1.506          8        800: 100%|██████████| 526/526 [03:08<00:00,  2.80it/s]\n",
            "                 Class     Images  Instances      Box(P          R      mAP50  mAP50-95): 100%|██████████| 14/14 [00:04<00:00,  3.06it/s]"
          ]
        },
        {
          "name": "stdout",
          "output_type": "stream",
          "text": [
            "                   all        276        498      0.781       0.68      0.748      0.507\n"
          ]
        },
        {
          "name": "stderr",
          "output_type": "stream",
          "text": [
            "\n"
          ]
        },
        {
          "name": "stdout",
          "output_type": "stream",
          "text": [
            "\n",
            "      Epoch    GPU_mem   box_loss   cls_loss   dfl_loss  Instances       Size\n"
          ]
        },
        {
          "name": "stderr",
          "output_type": "stream",
          "text": [
            "      24/50      4.74G      1.057     0.9775        1.5         15        800: 100%|██████████| 526/526 [03:04<00:00,  2.85it/s]\n",
            "                 Class     Images  Instances      Box(P          R      mAP50  mAP50-95): 100%|██████████| 14/14 [00:05<00:00,  2.62it/s]\n"
          ]
        },
        {
          "name": "stdout",
          "output_type": "stream",
          "text": [
            "                   all        276        498      0.708      0.695      0.748      0.512\n",
            "\n",
            "      Epoch    GPU_mem   box_loss   cls_loss   dfl_loss  Instances       Size\n"
          ]
        },
        {
          "name": "stderr",
          "output_type": "stream",
          "text": [
            "      25/50      4.74G      1.042     0.9504      1.492         12        800: 100%|██████████| 526/526 [03:06<00:00,  2.82it/s]\n",
            "                 Class     Images  Instances      Box(P          R      mAP50  mAP50-95): 100%|██████████| 14/14 [00:04<00:00,  3.01it/s]\n"
          ]
        },
        {
          "name": "stdout",
          "output_type": "stream",
          "text": [
            "                   all        276        498      0.773      0.707      0.748      0.512\n",
            "\n",
            "      Epoch    GPU_mem   box_loss   cls_loss   dfl_loss  Instances       Size\n"
          ]
        },
        {
          "name": "stderr",
          "output_type": "stream",
          "text": [
            "      26/50      4.74G      1.026     0.9404      1.484         15        800: 100%|██████████| 526/526 [03:08<00:00,  2.79it/s]\n",
            "                 Class     Images  Instances      Box(P          R      mAP50  mAP50-95): 100%|██████████| 14/14 [00:04<00:00,  3.07it/s]\n"
          ]
        },
        {
          "name": "stdout",
          "output_type": "stream",
          "text": [
            "                   all        276        498       0.73      0.703       0.75      0.517\n",
            "\n",
            "      Epoch    GPU_mem   box_loss   cls_loss   dfl_loss  Instances       Size\n"
          ]
        },
        {
          "name": "stderr",
          "output_type": "stream",
          "text": [
            "      27/50      4.74G      1.026     0.9303      1.479          7        800: 100%|██████████| 526/526 [03:06<00:00,  2.83it/s]\n",
            "                 Class     Images  Instances      Box(P          R      mAP50  mAP50-95): 100%|██████████| 14/14 [00:05<00:00,  2.68it/s]"
          ]
        },
        {
          "name": "stdout",
          "output_type": "stream",
          "text": [
            "                   all        276        498      0.761      0.699      0.756      0.523\n"
          ]
        },
        {
          "name": "stderr",
          "output_type": "stream",
          "text": [
            "\n"
          ]
        },
        {
          "name": "stdout",
          "output_type": "stream",
          "text": [
            "\n",
            "      Epoch    GPU_mem   box_loss   cls_loss   dfl_loss  Instances       Size\n"
          ]
        },
        {
          "name": "stderr",
          "output_type": "stream",
          "text": [
            "      28/50      4.74G      1.015     0.9233      1.467         12        800: 100%|██████████| 526/526 [03:12<00:00,  2.74it/s]\n",
            "                 Class     Images  Instances      Box(P          R      mAP50  mAP50-95): 100%|██████████| 14/14 [00:05<00:00,  2.71it/s]"
          ]
        },
        {
          "name": "stdout",
          "output_type": "stream",
          "text": [
            "                   all        276        498      0.797       0.68      0.743      0.517\n"
          ]
        },
        {
          "name": "stderr",
          "output_type": "stream",
          "text": [
            "\n"
          ]
        },
        {
          "name": "stdout",
          "output_type": "stream",
          "text": [
            "\n",
            "      Epoch    GPU_mem   box_loss   cls_loss   dfl_loss  Instances       Size\n"
          ]
        },
        {
          "name": "stderr",
          "output_type": "stream",
          "text": [
            "      29/50      4.74G      1.016     0.9165      1.476         22        800: 100%|██████████| 526/526 [03:08<00:00,  2.80it/s]\n",
            "                 Class     Images  Instances      Box(P          R      mAP50  mAP50-95): 100%|██████████| 14/14 [00:06<00:00,  2.02it/s]\n"
          ]
        },
        {
          "name": "stdout",
          "output_type": "stream",
          "text": [
            "                   all        276        498      0.766      0.677       0.74       0.51\n",
            "\n",
            "      Epoch    GPU_mem   box_loss   cls_loss   dfl_loss  Instances       Size\n"
          ]
        },
        {
          "name": "stderr",
          "output_type": "stream",
          "text": [
            "      30/50      4.74G      1.011     0.9028      1.469         13        800: 100%|██████████| 526/526 [03:07<00:00,  2.80it/s]\n",
            "                 Class     Images  Instances      Box(P          R      mAP50  mAP50-95): 100%|██████████| 14/14 [00:05<00:00,  2.70it/s]"
          ]
        },
        {
          "name": "stdout",
          "output_type": "stream",
          "text": [
            "                   all        276        498      0.801      0.659       0.76      0.523\n"
          ]
        },
        {
          "name": "stderr",
          "output_type": "stream",
          "text": [
            "\n"
          ]
        },
        {
          "name": "stdout",
          "output_type": "stream",
          "text": [
            "Closing dataloader mosaic\n",
            "\u001b[34m\u001b[1malbumentations: \u001b[0mBlur(p=0.01, blur_limit=(3, 7)), MedianBlur(p=0.01, blur_limit=(3, 7)), ToGray(p=0.01, num_output_channels=3, method='weighted_average'), CLAHE(p=0.01, clip_limit=(1.0, 4.0), tile_grid_size=(8, 8))\n",
            "\n",
            "      Epoch    GPU_mem   box_loss   cls_loss   dfl_loss  Instances       Size\n"
          ]
        },
        {
          "name": "stderr",
          "output_type": "stream",
          "text": [
            "      31/50      4.74G      1.034     0.8769        1.6          4        800: 100%|██████████| 526/526 [03:08<00:00,  2.80it/s]\n",
            "                 Class     Images  Instances      Box(P          R      mAP50  mAP50-95): 100%|██████████| 14/14 [00:05<00:00,  2.65it/s]"
          ]
        },
        {
          "name": "stdout",
          "output_type": "stream",
          "text": [
            "                   all        276        498      0.751      0.708      0.768      0.529\n"
          ]
        },
        {
          "name": "stderr",
          "output_type": "stream",
          "text": [
            "\n"
          ]
        },
        {
          "name": "stdout",
          "output_type": "stream",
          "text": [
            "\n",
            "      Epoch    GPU_mem   box_loss   cls_loss   dfl_loss  Instances       Size\n"
          ]
        },
        {
          "name": "stderr",
          "output_type": "stream",
          "text": [
            "      32/50      4.74G      1.018     0.8369       1.59          5        800: 100%|██████████| 526/526 [03:01<00:00,  2.89it/s]\n",
            "                 Class     Images  Instances      Box(P          R      mAP50  mAP50-95): 100%|██████████| 14/14 [00:04<00:00,  2.86it/s]"
          ]
        },
        {
          "name": "stdout",
          "output_type": "stream",
          "text": [
            "                   all        276        498      0.729      0.715      0.759      0.531\n"
          ]
        },
        {
          "name": "stderr",
          "output_type": "stream",
          "text": [
            "\n"
          ]
        },
        {
          "name": "stdout",
          "output_type": "stream",
          "text": [
            "\n",
            "      Epoch    GPU_mem   box_loss   cls_loss   dfl_loss  Instances       Size\n"
          ]
        },
        {
          "name": "stderr",
          "output_type": "stream",
          "text": [
            "      33/50      4.74G      1.004      0.812      1.571          5        800: 100%|██████████| 526/526 [03:01<00:00,  2.91it/s]\n",
            "                 Class     Images  Instances      Box(P          R      mAP50  mAP50-95): 100%|██████████| 14/14 [00:04<00:00,  3.04it/s]"
          ]
        },
        {
          "name": "stdout",
          "output_type": "stream",
          "text": [
            "                   all        276        498       0.78      0.687      0.758      0.527\n"
          ]
        },
        {
          "name": "stderr",
          "output_type": "stream",
          "text": [
            "\n"
          ]
        },
        {
          "name": "stdout",
          "output_type": "stream",
          "text": [
            "\n",
            "      Epoch    GPU_mem   box_loss   cls_loss   dfl_loss  Instances       Size\n"
          ]
        },
        {
          "name": "stderr",
          "output_type": "stream",
          "text": [
            "      34/50      4.74G     0.9976     0.8011      1.562          6        800: 100%|██████████| 526/526 [03:01<00:00,  2.89it/s]\n",
            "                 Class     Images  Instances      Box(P          R      mAP50  mAP50-95): 100%|██████████| 14/14 [00:04<00:00,  3.06it/s]"
          ]
        },
        {
          "name": "stdout",
          "output_type": "stream",
          "text": [
            "                   all        276        498      0.765      0.671      0.743       0.52\n"
          ]
        },
        {
          "name": "stderr",
          "output_type": "stream",
          "text": [
            "\n"
          ]
        },
        {
          "name": "stdout",
          "output_type": "stream",
          "text": [
            "\n",
            "      Epoch    GPU_mem   box_loss   cls_loss   dfl_loss  Instances       Size\n"
          ]
        },
        {
          "name": "stderr",
          "output_type": "stream",
          "text": [
            "      35/50      4.74G     0.9765     0.7836      1.544          3        800: 100%|██████████| 526/526 [02:57<00:00,  2.97it/s]\n",
            "                 Class     Images  Instances      Box(P          R      mAP50  mAP50-95): 100%|██████████| 14/14 [00:05<00:00,  2.50it/s]"
          ]
        },
        {
          "name": "stdout",
          "output_type": "stream",
          "text": [
            "                   all        276        498      0.783      0.668      0.748      0.518\n"
          ]
        },
        {
          "name": "stderr",
          "output_type": "stream",
          "text": [
            "\n"
          ]
        },
        {
          "name": "stdout",
          "output_type": "stream",
          "text": [
            "\n",
            "      Epoch    GPU_mem   box_loss   cls_loss   dfl_loss  Instances       Size\n"
          ]
        },
        {
          "name": "stderr",
          "output_type": "stream",
          "text": [
            "      36/50      4.74G      0.964     0.7703      1.531          4        800: 100%|██████████| 526/526 [03:00<00:00,  2.91it/s]\n",
            "                 Class     Images  Instances      Box(P          R      mAP50  mAP50-95): 100%|██████████| 14/14 [00:04<00:00,  2.94it/s]"
          ]
        },
        {
          "name": "stdout",
          "output_type": "stream",
          "text": [
            "                   all        276        498      0.744      0.727      0.762      0.536\n"
          ]
        },
        {
          "name": "stderr",
          "output_type": "stream",
          "text": [
            "\n"
          ]
        },
        {
          "name": "stdout",
          "output_type": "stream",
          "text": [
            "\n",
            "      Epoch    GPU_mem   box_loss   cls_loss   dfl_loss  Instances       Size\n"
          ]
        },
        {
          "name": "stderr",
          "output_type": "stream",
          "text": [
            "      37/50      4.74G     0.9618     0.7569      1.529          6        800: 100%|██████████| 526/526 [03:00<00:00,  2.91it/s]\n",
            "                 Class     Images  Instances      Box(P          R      mAP50  mAP50-95): 100%|██████████| 14/14 [00:04<00:00,  3.19it/s]\n"
          ]
        },
        {
          "name": "stdout",
          "output_type": "stream",
          "text": [
            "                   all        276        498      0.803      0.671       0.77      0.532\n",
            "\n",
            "      Epoch    GPU_mem   box_loss   cls_loss   dfl_loss  Instances       Size\n"
          ]
        },
        {
          "name": "stderr",
          "output_type": "stream",
          "text": [
            "      38/50      4.74G     0.9527     0.7391      1.521          6        800: 100%|██████████| 526/526 [02:59<00:00,  2.93it/s]\n",
            "                 Class     Images  Instances      Box(P          R      mAP50  mAP50-95): 100%|██████████| 14/14 [00:04<00:00,  2.92it/s]\n"
          ]
        },
        {
          "name": "stdout",
          "output_type": "stream",
          "text": [
            "                   all        276        498      0.777      0.694      0.759       0.53\n",
            "\n",
            "      Epoch    GPU_mem   box_loss   cls_loss   dfl_loss  Instances       Size\n"
          ]
        },
        {
          "name": "stderr",
          "output_type": "stream",
          "text": [
            "      39/50      4.74G     0.9432       0.72      1.513          5        800: 100%|██████████| 526/526 [03:00<00:00,  2.92it/s]\n",
            "                 Class     Images  Instances      Box(P          R      mAP50  mAP50-95): 100%|██████████| 14/14 [00:04<00:00,  3.04it/s]"
          ]
        },
        {
          "name": "stdout",
          "output_type": "stream",
          "text": [
            "                   all        276        498      0.768      0.687      0.765      0.526\n"
          ]
        },
        {
          "name": "stderr",
          "output_type": "stream",
          "text": [
            "\n"
          ]
        },
        {
          "name": "stdout",
          "output_type": "stream",
          "text": [
            "\n",
            "      Epoch    GPU_mem   box_loss   cls_loss   dfl_loss  Instances       Size\n"
          ]
        },
        {
          "name": "stderr",
          "output_type": "stream",
          "text": [
            "      40/50      4.74G     0.9266     0.7031      1.498          6        800: 100%|██████████| 526/526 [03:01<00:00,  2.90it/s]\n",
            "                 Class     Images  Instances      Box(P          R      mAP50  mAP50-95): 100%|██████████| 14/14 [00:04<00:00,  2.99it/s]"
          ]
        },
        {
          "name": "stdout",
          "output_type": "stream",
          "text": [
            "                   all        276        498      0.788       0.66      0.756      0.529\n"
          ]
        },
        {
          "name": "stderr",
          "output_type": "stream",
          "text": [
            "\n"
          ]
        },
        {
          "name": "stdout",
          "output_type": "stream",
          "text": [
            "\n",
            "      Epoch    GPU_mem   box_loss   cls_loss   dfl_loss  Instances       Size\n"
          ]
        },
        {
          "name": "stderr",
          "output_type": "stream",
          "text": [
            "      41/50      4.74G     0.9144     0.7044      1.482          4        800: 100%|██████████| 526/526 [02:58<00:00,  2.95it/s]\n",
            "                 Class     Images  Instances      Box(P          R      mAP50  mAP50-95): 100%|██████████| 14/14 [00:05<00:00,  2.79it/s]"
          ]
        },
        {
          "name": "stdout",
          "output_type": "stream",
          "text": [
            "                   all        276        498      0.809      0.685       0.76      0.527\n"
          ]
        },
        {
          "name": "stderr",
          "output_type": "stream",
          "text": [
            "\n"
          ]
        },
        {
          "name": "stdout",
          "output_type": "stream",
          "text": [
            "\n",
            "      Epoch    GPU_mem   box_loss   cls_loss   dfl_loss  Instances       Size\n"
          ]
        },
        {
          "name": "stderr",
          "output_type": "stream",
          "text": [
            "      42/50      4.74G     0.9041     0.6825      1.472          9        800: 100%|██████████| 526/526 [02:58<00:00,  2.95it/s]\n",
            "                 Class     Images  Instances      Box(P          R      mAP50  mAP50-95): 100%|██████████| 14/14 [00:05<00:00,  2.60it/s]\n"
          ]
        },
        {
          "name": "stdout",
          "output_type": "stream",
          "text": [
            "                   all        276        498      0.789      0.675      0.762      0.534\n",
            "\n",
            "      Epoch    GPU_mem   box_loss   cls_loss   dfl_loss  Instances       Size\n"
          ]
        },
        {
          "name": "stderr",
          "output_type": "stream",
          "text": [
            "      43/50      4.74G      0.892     0.6626      1.462         10        800: 100%|██████████| 526/526 [03:01<00:00,  2.90it/s]\n",
            "                 Class     Images  Instances      Box(P          R      mAP50  mAP50-95): 100%|██████████| 14/14 [00:04<00:00,  3.18it/s]\n"
          ]
        },
        {
          "name": "stdout",
          "output_type": "stream",
          "text": [
            "                   all        276        498      0.763      0.684      0.759       0.53\n",
            "\n",
            "      Epoch    GPU_mem   box_loss   cls_loss   dfl_loss  Instances       Size\n"
          ]
        },
        {
          "name": "stderr",
          "output_type": "stream",
          "text": [
            "      44/50      4.74G     0.8827     0.6618      1.457          9        800: 100%|██████████| 526/526 [03:00<00:00,  2.91it/s]\n",
            "                 Class     Images  Instances      Box(P          R      mAP50  mAP50-95): 100%|██████████| 14/14 [00:04<00:00,  3.23it/s]"
          ]
        },
        {
          "name": "stdout",
          "output_type": "stream",
          "text": [
            "                   all        276        498      0.819      0.652       0.76      0.536\n"
          ]
        },
        {
          "name": "stderr",
          "output_type": "stream",
          "text": [
            "\n"
          ]
        },
        {
          "name": "stdout",
          "output_type": "stream",
          "text": [
            "\n",
            "      Epoch    GPU_mem   box_loss   cls_loss   dfl_loss  Instances       Size\n"
          ]
        },
        {
          "name": "stderr",
          "output_type": "stream",
          "text": [
            "      45/50      4.74G     0.8813     0.6535      1.456         10        800: 100%|██████████| 526/526 [03:00<00:00,  2.91it/s]\n",
            "                 Class     Images  Instances      Box(P          R      mAP50  mAP50-95): 100%|██████████| 14/14 [00:04<00:00,  3.05it/s]"
          ]
        },
        {
          "name": "stdout",
          "output_type": "stream",
          "text": [
            "                   all        276        498      0.787       0.67      0.761      0.533\n"
          ]
        },
        {
          "name": "stderr",
          "output_type": "stream",
          "text": [
            "\n"
          ]
        },
        {
          "name": "stdout",
          "output_type": "stream",
          "text": [
            "\n",
            "      Epoch    GPU_mem   box_loss   cls_loss   dfl_loss  Instances       Size\n"
          ]
        },
        {
          "name": "stderr",
          "output_type": "stream",
          "text": [
            "      46/50      4.74G     0.8649     0.6328      1.437          2        800: 100%|██████████| 526/526 [02:58<00:00,  2.95it/s]\n",
            "                 Class     Images  Instances      Box(P          R      mAP50  mAP50-95): 100%|██████████| 14/14 [00:04<00:00,  3.07it/s]"
          ]
        },
        {
          "name": "stdout",
          "output_type": "stream",
          "text": [
            "                   all        276        498      0.761      0.708       0.76      0.533\n"
          ]
        },
        {
          "name": "stderr",
          "output_type": "stream",
          "text": [
            "\n"
          ]
        },
        {
          "name": "stdout",
          "output_type": "stream",
          "text": [
            "\n",
            "      Epoch    GPU_mem   box_loss   cls_loss   dfl_loss  Instances       Size\n"
          ]
        },
        {
          "name": "stderr",
          "output_type": "stream",
          "text": [
            "      47/50      4.74G      0.861     0.6314      1.431          6        800: 100%|██████████| 526/526 [03:01<00:00,  2.89it/s]\n",
            "                 Class     Images  Instances      Box(P          R      mAP50  mAP50-95): 100%|██████████| 14/14 [00:04<00:00,  3.01it/s]\n"
          ]
        },
        {
          "name": "stdout",
          "output_type": "stream",
          "text": [
            "                   all        276        498      0.783      0.685      0.758      0.533\n",
            "\n",
            "      Epoch    GPU_mem   box_loss   cls_loss   dfl_loss  Instances       Size\n"
          ]
        },
        {
          "name": "stderr",
          "output_type": "stream",
          "text": [
            "      48/50      4.74G       0.84     0.6141      1.423          6        800: 100%|██████████| 526/526 [03:00<00:00,  2.91it/s]\n",
            "                 Class     Images  Instances      Box(P          R      mAP50  mAP50-95): 100%|██████████| 14/14 [00:04<00:00,  3.11it/s]\n"
          ]
        },
        {
          "name": "stdout",
          "output_type": "stream",
          "text": [
            "                   all        276        498      0.789       0.69      0.759      0.531\n",
            "\n",
            "      Epoch    GPU_mem   box_loss   cls_loss   dfl_loss  Instances       Size\n"
          ]
        },
        {
          "name": "stderr",
          "output_type": "stream",
          "text": [
            "      49/50      4.74G     0.8436     0.6086       1.42          5        800: 100%|██████████| 526/526 [02:58<00:00,  2.94it/s]\n",
            "                 Class     Images  Instances      Box(P          R      mAP50  mAP50-95): 100%|██████████| 14/14 [00:05<00:00,  2.76it/s]\n"
          ]
        },
        {
          "name": "stdout",
          "output_type": "stream",
          "text": [
            "                   all        276        498      0.772      0.688      0.754       0.53\n",
            "\n",
            "      Epoch    GPU_mem   box_loss   cls_loss   dfl_loss  Instances       Size\n"
          ]
        },
        {
          "name": "stderr",
          "output_type": "stream",
          "text": [
            "      50/50      4.74G     0.8314     0.6064      1.412          5        800: 100%|██████████| 526/526 [03:01<00:00,  2.90it/s]\n",
            "                 Class     Images  Instances      Box(P          R      mAP50  mAP50-95): 100%|██████████| 14/14 [00:04<00:00,  3.01it/s]"
          ]
        },
        {
          "name": "stdout",
          "output_type": "stream",
          "text": [
            "                   all        276        498      0.771      0.696      0.757       0.53\n"
          ]
        },
        {
          "name": "stderr",
          "output_type": "stream",
          "text": [
            "\n"
          ]
        },
        {
          "name": "stdout",
          "output_type": "stream",
          "text": [
            "\n",
            "50 epochs completed in 2.646 hours.\n",
            "Optimizer stripped from runs/detect/train_fold_6_model_yolo11s_imgs_800/weights/last.pt, 19.2MB\n",
            "Optimizer stripped from runs/detect/train_fold_6_model_yolo11s_imgs_800/weights/best.pt, 19.2MB\n",
            "\n",
            "Validating runs/detect/train_fold_6_model_yolo11s_imgs_800/weights/best.pt...\n",
            "Ultralytics 8.3.116 🚀 Python-3.10.12 torch-2.5.1+cu121 CUDA:0 (Tesla T4, 15095MiB)\n",
            "YOLO11s summary (fused): 100 layers, 9,413,961 parameters, 0 gradients, 21.3 GFLOPs\n"
          ]
        },
        {
          "name": "stderr",
          "output_type": "stream",
          "text": [
            "                 Class     Images  Instances      Box(P          R      mAP50  mAP50-95): 100%|██████████| 14/14 [00:06<00:00,  2.21it/s]\n"
          ]
        },
        {
          "name": "stdout",
          "output_type": "stream",
          "text": [
            "                   all        276        498      0.819      0.652       0.76      0.535\n",
            "           anthracnose         75        119      0.839      0.647      0.759      0.541\n",
            "                 cssvd        115        152      0.795      0.638      0.727      0.524\n",
            "               healthy         87        227      0.823       0.67      0.795       0.54\n",
            "Speed: 0.3ms preprocess, 6.2ms inference, 0.0ms loss, 3.8ms postprocess per image\n",
            "Results saved to \u001b[1mruns/detect/train_fold_6_model_yolo11s_imgs_800\u001b[0m\n",
            "========================= Runnign fold 7 =======================================\n",
            "Intersection of Image_IDs between train and valid: set()\n",
            "split\n",
            "train    9299\n",
            "valid     493\n",
            "Name: count, dtype: int64\n",
            "\n",
            "Class distribution in the new valid set:\n",
            " class\n",
            "healthy        208\n",
            "cssvd          169\n",
            "anthracnose    116\n",
            "Name: count, dtype: int64\n",
            "Preparing 'train' split → Images: 5253 | Annotations: 9299\n"
          ]
        },
        {
          "name": "stderr",
          "output_type": "stream",
          "text": [
            "100%|██████████| 5253/5253 [07:24<00:00, 11.83it/s]\n"
          ]
        },
        {
          "name": "stdout",
          "output_type": "stream",
          "text": [
            "Preparing 'valid' split → Images: 276 | Annotations: 493\n"
          ]
        },
        {
          "name": "stderr",
          "output_type": "stream",
          "text": [
            "100%|██████████| 276/276 [00:22<00:00, 12.40it/s]\n"
          ]
        },
        {
          "name": "stdout",
          "output_type": "stream",
          "text": [
            "New https://pypi.org/project/ultralytics/8.3.124 available 😃 Update with 'pip install -U ultralytics'\n",
            "Ultralytics 8.3.116 🚀 Python-3.10.12 torch-2.5.1+cu121 CUDA:0 (Tesla T4, 15095MiB)\n",
            "\u001b[34m\u001b[1mengine/trainer: \u001b[0mtask=detect, mode=train, model=yolo11s.pt, data=/kaggle/working/dataset-fold_7/config.yaml, epochs=50, time=None, patience=100, batch=10, imgsz=800, save=True, save_period=-1, cache=False, device=0, workers=8, project=None, name=train_fold_7_model_yolo11s_imgs_800, exist_ok=False, pretrained=True, optimizer=AdamW, verbose=True, seed=127, deterministic=True, single_cls=False, rect=False, cos_lr=False, close_mosaic=20, resume=False, amp=True, fraction=1.0, profile=False, freeze=None, multi_scale=False, overlap_mask=True, mask_ratio=4, dropout=0.0, val=True, split=val, save_json=False, conf=None, iou=0.7, max_det=300, half=False, dnn=False, plots=True, source=None, vid_stride=1, stream_buffer=False, visualize=False, augment=False, agnostic_nms=False, classes=None, retina_masks=False, embed=None, show=False, save_frames=False, save_txt=False, save_conf=False, save_crop=False, show_labels=True, show_conf=True, show_boxes=True, line_width=None, format=torchscript, keras=False, optimize=False, int8=False, dynamic=False, simplify=True, opset=None, workspace=None, nms=False, lr0=0.0003, lrf=0.01, momentum=0.9, weight_decay=0.01, warmup_epochs=3.0, warmup_momentum=0.8, warmup_bias_lr=0.1, box=7.5, cls=0.5, dfl=1.5, pose=12.0, kobj=1.0, nbs=64, hsv_h=0.015, hsv_s=0.7, hsv_v=0.4, degrees=0.0, translate=0.1, scale=0.5, shear=0.0, perspective=0.0, flipud=0.0, fliplr=0.5, bgr=0.0, mosaic=1.0, mixup=0.0, copy_paste=0.0, copy_paste_mode=flip, auto_augment=randaugment, erasing=0.4, cfg=None, tracker=botsort.yaml, save_dir=runs/detect/train_fold_7_model_yolo11s_imgs_800\n",
            "Overriding model.yaml nc=80 with nc=3\n",
            "\n",
            "                   from  n    params  module                                       arguments                     \n",
            "  0                  -1  1       928  ultralytics.nn.modules.conv.Conv             [3, 32, 3, 2]                 \n",
            "  1                  -1  1     18560  ultralytics.nn.modules.conv.Conv             [32, 64, 3, 2]                \n",
            "  2                  -1  1     26080  ultralytics.nn.modules.block.C3k2            [64, 128, 1, False, 0.25]     \n",
            "  3                  -1  1    147712  ultralytics.nn.modules.conv.Conv             [128, 128, 3, 2]              \n",
            "  4                  -1  1    103360  ultralytics.nn.modules.block.C3k2            [128, 256, 1, False, 0.25]    \n",
            "  5                  -1  1    590336  ultralytics.nn.modules.conv.Conv             [256, 256, 3, 2]              \n",
            "  6                  -1  1    346112  ultralytics.nn.modules.block.C3k2            [256, 256, 1, True]           \n",
            "  7                  -1  1   1180672  ultralytics.nn.modules.conv.Conv             [256, 512, 3, 2]              \n",
            "  8                  -1  1   1380352  ultralytics.nn.modules.block.C3k2            [512, 512, 1, True]           \n",
            "  9                  -1  1    656896  ultralytics.nn.modules.block.SPPF            [512, 512, 5]                 \n",
            " 10                  -1  1    990976  ultralytics.nn.modules.block.C2PSA           [512, 512, 1]                 \n",
            " 11                  -1  1         0  torch.nn.modules.upsampling.Upsample         [None, 2, 'nearest']          \n",
            " 12             [-1, 6]  1         0  ultralytics.nn.modules.conv.Concat           [1]                           \n",
            " 13                  -1  1    443776  ultralytics.nn.modules.block.C3k2            [768, 256, 1, False]          \n",
            " 14                  -1  1         0  torch.nn.modules.upsampling.Upsample         [None, 2, 'nearest']          \n",
            " 15             [-1, 4]  1         0  ultralytics.nn.modules.conv.Concat           [1]                           \n",
            " 16                  -1  1    127680  ultralytics.nn.modules.block.C3k2            [512, 128, 1, False]          \n",
            " 17                  -1  1    147712  ultralytics.nn.modules.conv.Conv             [128, 128, 3, 2]              \n",
            " 18            [-1, 13]  1         0  ultralytics.nn.modules.conv.Concat           [1]                           \n",
            " 19                  -1  1    345472  ultralytics.nn.modules.block.C3k2            [384, 256, 1, False]          \n",
            " 20                  -1  1    590336  ultralytics.nn.modules.conv.Conv             [256, 256, 3, 2]              \n",
            " 21            [-1, 10]  1         0  ultralytics.nn.modules.conv.Concat           [1]                           \n",
            " 22                  -1  1   1511424  ultralytics.nn.modules.block.C3k2            [768, 512, 1, True]           \n",
            " 23        [16, 19, 22]  1    820569  ultralytics.nn.modules.head.Detect           [3, [128, 256, 512]]          \n",
            "YOLO11s summary: 181 layers, 9,428,953 parameters, 9,428,937 gradients, 21.6 GFLOPs\n",
            "\n",
            "Transferred 493/499 items from pretrained weights\n",
            "Freezing layer 'model.23.dfl.conv.weight'\n",
            "\u001b[34m\u001b[1mAMP: \u001b[0mrunning Automatic Mixed Precision (AMP) checks...\n",
            "\u001b[34m\u001b[1mAMP: \u001b[0mchecks passed ✅\n",
            "\u001b[34m\u001b[1mtrain: \u001b[0mFast image access ✅ (ping: 0.0±0.0 ms, read: 1197.6±798.0 MB/s, size: 675.2 KB)\n"
          ]
        },
        {
          "name": "stderr",
          "output_type": "stream",
          "text": [
            "\u001b[34m\u001b[1mtrain: \u001b[0mScanning /kaggle/working/dataset-fold_7/train/labels... 5253 images, 0 backgrounds, 0 corrupt: 100%|██████████| 5253/5253 [00:45<00:00, 114.27it/s]"
          ]
        },
        {
          "name": "stdout",
          "output_type": "stream",
          "text": [
            "\u001b[34m\u001b[1mtrain: \u001b[0m/kaggle/working/dataset-fold_7/train/images/ID_AJD939.jpg: corrupt JPEG restored and saved\n",
            "\u001b[34m\u001b[1mtrain: \u001b[0m/kaggle/working/dataset-fold_7/train/images/ID_AMshRT.jpeg: corrupt JPEG restored and saved\n",
            "\u001b[34m\u001b[1mtrain: \u001b[0m/kaggle/working/dataset-fold_7/train/images/ID_AOGygM.jpeg: corrupt JPEG restored and saved\n",
            "\u001b[34m\u001b[1mtrain: \u001b[0m/kaggle/working/dataset-fold_7/train/images/ID_AYKor4.jpg: corrupt JPEG restored and saved\n",
            "\u001b[34m\u001b[1mtrain: \u001b[0m/kaggle/working/dataset-fold_7/train/images/ID_AbHMqL.jpg: corrupt JPEG restored and saved\n",
            "\u001b[34m\u001b[1mtrain: \u001b[0m/kaggle/working/dataset-fold_7/train/images/ID_AhmyiY.jpeg: corrupt JPEG restored and saved\n",
            "\u001b[34m\u001b[1mtrain: \u001b[0m/kaggle/working/dataset-fold_7/train/images/ID_AhwlUp.jpeg: corrupt JPEG restored and saved\n",
            "\u001b[34m\u001b[1mtrain: \u001b[0m/kaggle/working/dataset-fold_7/train/images/ID_AueB13.jpg: corrupt JPEG restored and saved\n",
            "\u001b[34m\u001b[1mtrain: \u001b[0m/kaggle/working/dataset-fold_7/train/images/ID_AzJAHH.jpg: corrupt JPEG restored and saved\n",
            "\u001b[34m\u001b[1mtrain: \u001b[0m/kaggle/working/dataset-fold_7/train/images/ID_BBZMEE.jpg: corrupt JPEG restored and saved\n",
            "\u001b[34m\u001b[1mtrain: \u001b[0m/kaggle/working/dataset-fold_7/train/images/ID_BFveJq.jpeg: corrupt JPEG restored and saved\n",
            "\u001b[34m\u001b[1mtrain: \u001b[0m/kaggle/working/dataset-fold_7/train/images/ID_BNWZ3w.jpg: corrupt JPEG restored and saved\n",
            "\u001b[34m\u001b[1mtrain: \u001b[0m/kaggle/working/dataset-fold_7/train/images/ID_BQih4N.jpg: corrupt JPEG restored and saved\n",
            "\u001b[34m\u001b[1mtrain: \u001b[0m/kaggle/working/dataset-fold_7/train/images/ID_BXIM9U.jpeg: corrupt JPEG restored and saved\n",
            "\u001b[34m\u001b[1mtrain: \u001b[0m/kaggle/working/dataset-fold_7/train/images/ID_BerVLr.jpg: corrupt JPEG restored and saved\n",
            "\u001b[34m\u001b[1mtrain: \u001b[0m/kaggle/working/dataset-fold_7/train/images/ID_BsWVWD.jpeg: corrupt JPEG restored and saved\n",
            "\u001b[34m\u001b[1mtrain: \u001b[0m/kaggle/working/dataset-fold_7/train/images/ID_BxCnJ3.jpg: corrupt JPEG restored and saved\n",
            "\u001b[34m\u001b[1mtrain: \u001b[0m/kaggle/working/dataset-fold_7/train/images/ID_By57N4.jpeg: corrupt JPEG restored and saved\n",
            "\u001b[34m\u001b[1mtrain: \u001b[0m/kaggle/working/dataset-fold_7/train/images/ID_CFmEKi.jpg: corrupt JPEG restored and saved\n",
            "\u001b[34m\u001b[1mtrain: \u001b[0m/kaggle/working/dataset-fold_7/train/images/ID_CZ9NxR.jpg: corrupt JPEG restored and saved\n",
            "\u001b[34m\u001b[1mtrain: \u001b[0m/kaggle/working/dataset-fold_7/train/images/ID_Ct9Mtq.jpg: corrupt JPEG restored and saved\n",
            "\u001b[34m\u001b[1mtrain: \u001b[0m/kaggle/working/dataset-fold_7/train/images/ID_CtPzDh.jpg: corrupt JPEG restored and saved\n",
            "\u001b[34m\u001b[1mtrain: \u001b[0m/kaggle/working/dataset-fold_7/train/images/ID_CxIwDu.jpg: corrupt JPEG restored and saved\n",
            "\u001b[34m\u001b[1mtrain: \u001b[0m/kaggle/working/dataset-fold_7/train/images/ID_Cxxlvg.jpeg: corrupt JPEG restored and saved\n",
            "\u001b[34m\u001b[1mtrain: \u001b[0m/kaggle/working/dataset-fold_7/train/images/ID_DEVBif.jpg: corrupt JPEG restored and saved\n",
            "\u001b[34m\u001b[1mtrain: \u001b[0m/kaggle/working/dataset-fold_7/train/images/ID_DNHsfS.jpg: corrupt JPEG restored and saved\n",
            "\u001b[34m\u001b[1mtrain: \u001b[0m/kaggle/working/dataset-fold_7/train/images/ID_DOTVrd.jpg: corrupt JPEG restored and saved\n",
            "\u001b[34m\u001b[1mtrain: \u001b[0m/kaggle/working/dataset-fold_7/train/images/ID_Dcoa03.jpg: corrupt JPEG restored and saved\n",
            "\u001b[34m\u001b[1mtrain: \u001b[0m/kaggle/working/dataset-fold_7/train/images/ID_DhtQeo.jpg: corrupt JPEG restored and saved\n",
            "\u001b[34m\u001b[1mtrain: \u001b[0m/kaggle/working/dataset-fold_7/train/images/ID_Dvliuk.jpg: corrupt JPEG restored and saved\n",
            "\u001b[34m\u001b[1mtrain: \u001b[0m/kaggle/working/dataset-fold_7/train/images/ID_EGdAT4.jpg: corrupt JPEG restored and saved\n",
            "\u001b[34m\u001b[1mtrain: \u001b[0m/kaggle/working/dataset-fold_7/train/images/ID_ESQAmP.jpeg: corrupt JPEG restored and saved\n",
            "\u001b[34m\u001b[1mtrain: \u001b[0m/kaggle/working/dataset-fold_7/train/images/ID_ET34jY.jpeg: corrupt JPEG restored and saved\n",
            "\u001b[34m\u001b[1mtrain: \u001b[0m/kaggle/working/dataset-fold_7/train/images/ID_EUJ6CX.jpeg: corrupt JPEG restored and saved\n",
            "\u001b[34m\u001b[1mtrain: \u001b[0m/kaggle/working/dataset-fold_7/train/images/ID_EmMnKL.jpg: corrupt JPEG restored and saved\n",
            "\u001b[34m\u001b[1mtrain: \u001b[0m/kaggle/working/dataset-fold_7/train/images/ID_EqJVm9.jpg: corrupt JPEG restored and saved\n",
            "\u001b[34m\u001b[1mtrain: \u001b[0m/kaggle/working/dataset-fold_7/train/images/ID_F0uO9z.jpeg: corrupt JPEG restored and saved\n",
            "\u001b[34m\u001b[1mtrain: \u001b[0m/kaggle/working/dataset-fold_7/train/images/ID_FBviFm.jpg: corrupt JPEG restored and saved\n",
            "\u001b[34m\u001b[1mtrain: \u001b[0m/kaggle/working/dataset-fold_7/train/images/ID_FH5WPo.jpg: corrupt JPEG restored and saved\n",
            "\u001b[34m\u001b[1mtrain: \u001b[0m/kaggle/working/dataset-fold_7/train/images/ID_FHK3pa.jpeg: corrupt JPEG restored and saved\n",
            "\u001b[34m\u001b[1mtrain: \u001b[0m/kaggle/working/dataset-fold_7/train/images/ID_FMaedR.jpg: corrupt JPEG restored and saved\n",
            "\u001b[34m\u001b[1mtrain: \u001b[0m/kaggle/working/dataset-fold_7/train/images/ID_FNLeWz.jpg: corrupt JPEG restored and saved\n",
            "\u001b[34m\u001b[1mtrain: \u001b[0m/kaggle/working/dataset-fold_7/train/images/ID_FVssBB.jpg: corrupt JPEG restored and saved\n",
            "\u001b[34m\u001b[1mtrain: \u001b[0m/kaggle/working/dataset-fold_7/train/images/ID_FliLbi.jpeg: corrupt JPEG restored and saved\n",
            "\u001b[34m\u001b[1mtrain: \u001b[0m/kaggle/working/dataset-fold_7/train/images/ID_FtYRqz.jpeg: corrupt JPEG restored and saved\n",
            "\u001b[34m\u001b[1mtrain: \u001b[0m/kaggle/working/dataset-fold_7/train/images/ID_G3zqaj.jpg: corrupt JPEG restored and saved\n",
            "\u001b[34m\u001b[1mtrain: \u001b[0m/kaggle/working/dataset-fold_7/train/images/ID_G9zF3H.jpg: corrupt JPEG restored and saved\n",
            "\u001b[34m\u001b[1mtrain: \u001b[0m/kaggle/working/dataset-fold_7/train/images/ID_GFYqTL.jpeg: corrupt JPEG restored and saved\n",
            "\u001b[34m\u001b[1mtrain: \u001b[0m/kaggle/working/dataset-fold_7/train/images/ID_GONPQx.jpg: corrupt JPEG restored and saved\n",
            "\u001b[34m\u001b[1mtrain: \u001b[0m/kaggle/working/dataset-fold_7/train/images/ID_GWhiLp.jpeg: corrupt JPEG restored and saved\n",
            "\u001b[34m\u001b[1mtrain: \u001b[0m/kaggle/working/dataset-fold_7/train/images/ID_GkZMVQ.jpeg: corrupt JPEG restored and saved\n",
            "\u001b[34m\u001b[1mtrain: \u001b[0m/kaggle/working/dataset-fold_7/train/images/ID_Gm71wX.jpg: corrupt JPEG restored and saved\n",
            "\u001b[34m\u001b[1mtrain: \u001b[0m/kaggle/working/dataset-fold_7/train/images/ID_GmNfRI.jpg: corrupt JPEG restored and saved\n",
            "\u001b[34m\u001b[1mtrain: \u001b[0m/kaggle/working/dataset-fold_7/train/images/ID_H7QQ2I.jpg: corrupt JPEG restored and saved\n",
            "\u001b[34m\u001b[1mtrain: \u001b[0m/kaggle/working/dataset-fold_7/train/images/ID_H9qAYr.jpg: corrupt JPEG restored and saved\n",
            "\u001b[34m\u001b[1mtrain: \u001b[0m/kaggle/working/dataset-fold_7/train/images/ID_HIPul1.jpg: corrupt JPEG restored and saved\n",
            "\u001b[34m\u001b[1mtrain: \u001b[0m/kaggle/working/dataset-fold_7/train/images/ID_HQpL3y.jpg: corrupt JPEG restored and saved\n",
            "\u001b[34m\u001b[1mtrain: \u001b[0m/kaggle/working/dataset-fold_7/train/images/ID_HS970U.jpeg: corrupt JPEG restored and saved\n",
            "\u001b[34m\u001b[1mtrain: \u001b[0m/kaggle/working/dataset-fold_7/train/images/ID_HidqdL.jpg: corrupt JPEG restored and saved\n",
            "\u001b[34m\u001b[1mtrain: \u001b[0m/kaggle/working/dataset-fold_7/train/images/ID_Hmxdwo.jpg: corrupt JPEG restored and saved\n",
            "\u001b[34m\u001b[1mtrain: \u001b[0m/kaggle/working/dataset-fold_7/train/images/ID_HuMwmi.jpg: corrupt JPEG restored and saved\n",
            "\u001b[34m\u001b[1mtrain: \u001b[0m/kaggle/working/dataset-fold_7/train/images/ID_IRVs9J.jpg: corrupt JPEG restored and saved\n",
            "\u001b[34m\u001b[1mtrain: \u001b[0m/kaggle/working/dataset-fold_7/train/images/ID_IqkCAv.jpeg: corrupt JPEG restored and saved\n",
            "\u001b[34m\u001b[1mtrain: \u001b[0m/kaggle/working/dataset-fold_7/train/images/ID_Itd6eF.jpg: corrupt JPEG restored and saved\n",
            "\u001b[34m\u001b[1mtrain: \u001b[0m/kaggle/working/dataset-fold_7/train/images/ID_IuBkcQ.jpeg: corrupt JPEG restored and saved\n",
            "\u001b[34m\u001b[1mtrain: \u001b[0m/kaggle/working/dataset-fold_7/train/images/ID_J0cjqu.jpeg: corrupt JPEG restored and saved\n",
            "\u001b[34m\u001b[1mtrain: \u001b[0m/kaggle/working/dataset-fold_7/train/images/ID_J26p8u.jpg: corrupt JPEG restored and saved\n",
            "\u001b[34m\u001b[1mtrain: \u001b[0m/kaggle/working/dataset-fold_7/train/images/ID_J4jaP8.jpg: corrupt JPEG restored and saved\n",
            "\u001b[34m\u001b[1mtrain: \u001b[0m/kaggle/working/dataset-fold_7/train/images/ID_J7hL2Y.jpg: corrupt JPEG restored and saved\n",
            "\u001b[34m\u001b[1mtrain: \u001b[0m/kaggle/working/dataset-fold_7/train/images/ID_JHsmyN.jpeg: corrupt JPEG restored and saved\n",
            "\u001b[34m\u001b[1mtrain: \u001b[0m/kaggle/working/dataset-fold_7/train/images/ID_JMesqN.jpg: corrupt JPEG restored and saved\n",
            "\u001b[34m\u001b[1mtrain: \u001b[0m/kaggle/working/dataset-fold_7/train/images/ID_JRTUsh.jpeg: corrupt JPEG restored and saved\n",
            "\u001b[34m\u001b[1mtrain: \u001b[0m/kaggle/working/dataset-fold_7/train/images/ID_JRjOWi.jpeg: corrupt JPEG restored and saved\n",
            "\u001b[34m\u001b[1mtrain: \u001b[0m/kaggle/working/dataset-fold_7/train/images/ID_K5rVxL.jpeg: corrupt JPEG restored and saved\n",
            "\u001b[34m\u001b[1mtrain: \u001b[0m/kaggle/working/dataset-fold_7/train/images/ID_KDq13B.jpeg: corrupt JPEG restored and saved\n",
            "\u001b[34m\u001b[1mtrain: \u001b[0m/kaggle/working/dataset-fold_7/train/images/ID_KJ3Eoi.jpg: corrupt JPEG restored and saved\n",
            "\u001b[34m\u001b[1mtrain: \u001b[0m/kaggle/working/dataset-fold_7/train/images/ID_KRiWgS.jpg: corrupt JPEG restored and saved\n",
            "\u001b[34m\u001b[1mtrain: \u001b[0m/kaggle/working/dataset-fold_7/train/images/ID_KTP6kp.jpg: corrupt JPEG restored and saved\n",
            "\u001b[34m\u001b[1mtrain: \u001b[0m/kaggle/working/dataset-fold_7/train/images/ID_KbRv7T.jpg: corrupt JPEG restored and saved\n",
            "\u001b[34m\u001b[1mtrain: \u001b[0m/kaggle/working/dataset-fold_7/train/images/ID_KbaWjL.jpeg: corrupt JPEG restored and saved\n",
            "\u001b[34m\u001b[1mtrain: \u001b[0m/kaggle/working/dataset-fold_7/train/images/ID_Kc4tOK.jpeg: corrupt JPEG restored and saved\n",
            "\u001b[34m\u001b[1mtrain: \u001b[0m/kaggle/working/dataset-fold_7/train/images/ID_KkyQ36.jpeg: corrupt JPEG restored and saved\n",
            "\u001b[34m\u001b[1mtrain: \u001b[0m/kaggle/working/dataset-fold_7/train/images/ID_Ko4fL3.jpg: corrupt JPEG restored and saved\n",
            "\u001b[34m\u001b[1mtrain: \u001b[0m/kaggle/working/dataset-fold_7/train/images/ID_KxHwli.jpg: corrupt JPEG restored and saved\n",
            "\u001b[34m\u001b[1mtrain: \u001b[0m/kaggle/working/dataset-fold_7/train/images/ID_LA1RfJ.jpg: corrupt JPEG restored and saved\n",
            "\u001b[34m\u001b[1mtrain: \u001b[0m/kaggle/working/dataset-fold_7/train/images/ID_LkJ8Zz.jpg: corrupt JPEG restored and saved\n",
            "\u001b[34m\u001b[1mtrain: \u001b[0m/kaggle/working/dataset-fold_7/train/images/ID_LloE1t.jpeg: corrupt JPEG restored and saved\n",
            "\u001b[34m\u001b[1mtrain: \u001b[0m/kaggle/working/dataset-fold_7/train/images/ID_M3NBS2.jpeg: corrupt JPEG restored and saved\n",
            "\u001b[34m\u001b[1mtrain: \u001b[0m/kaggle/working/dataset-fold_7/train/images/ID_M7eiBX.jpg: corrupt JPEG restored and saved\n",
            "\u001b[34m\u001b[1mtrain: \u001b[0m/kaggle/working/dataset-fold_7/train/images/ID_MBg7Wu.jpg: corrupt JPEG restored and saved\n",
            "\u001b[34m\u001b[1mtrain: \u001b[0m/kaggle/working/dataset-fold_7/train/images/ID_MF34U1.jpeg: corrupt JPEG restored and saved\n",
            "\u001b[34m\u001b[1mtrain: \u001b[0m/kaggle/working/dataset-fold_7/train/images/ID_MPIvc5.jpg: corrupt JPEG restored and saved\n",
            "\u001b[34m\u001b[1mtrain: \u001b[0m/kaggle/working/dataset-fold_7/train/images/ID_MQt7CR.jpg: corrupt JPEG restored and saved\n",
            "\u001b[34m\u001b[1mtrain: \u001b[0m/kaggle/working/dataset-fold_7/train/images/ID_MmvaQa.jpeg: corrupt JPEG restored and saved\n",
            "\u001b[34m\u001b[1mtrain: \u001b[0m/kaggle/working/dataset-fold_7/train/images/ID_MteM6m.jpg: corrupt JPEG restored and saved\n",
            "\u001b[34m\u001b[1mtrain: \u001b[0m/kaggle/working/dataset-fold_7/train/images/ID_MztPy0.jpeg: corrupt JPEG restored and saved\n",
            "\u001b[34m\u001b[1mtrain: \u001b[0m/kaggle/working/dataset-fold_7/train/images/ID_NGiOVN.jpg: corrupt JPEG restored and saved\n",
            "\u001b[34m\u001b[1mtrain: \u001b[0m/kaggle/working/dataset-fold_7/train/images/ID_NSHiVv.jpeg: corrupt JPEG restored and saved\n",
            "\u001b[34m\u001b[1mtrain: \u001b[0m/kaggle/working/dataset-fold_7/train/images/ID_NbftLH.jpeg: corrupt JPEG restored and saved\n",
            "\u001b[34m\u001b[1mtrain: \u001b[0m/kaggle/working/dataset-fold_7/train/images/ID_NfmKR2.jpg: corrupt JPEG restored and saved\n",
            "\u001b[34m\u001b[1mtrain: \u001b[0m/kaggle/working/dataset-fold_7/train/images/ID_NlJLXQ.jpg: corrupt JPEG restored and saved\n",
            "\u001b[34m\u001b[1mtrain: \u001b[0m/kaggle/working/dataset-fold_7/train/images/ID_NmYqu6.jpg: corrupt JPEG restored and saved\n",
            "\u001b[34m\u001b[1mtrain: \u001b[0m/kaggle/working/dataset-fold_7/train/images/ID_Np7dI9.jpeg: corrupt JPEG restored and saved\n",
            "\u001b[34m\u001b[1mtrain: \u001b[0m/kaggle/working/dataset-fold_7/train/images/ID_NpoqaB.jpg: corrupt JPEG restored and saved\n",
            "\u001b[34m\u001b[1mtrain: \u001b[0m/kaggle/working/dataset-fold_7/train/images/ID_NrUpnW.jpeg: corrupt JPEG restored and saved\n",
            "\u001b[34m\u001b[1mtrain: \u001b[0m/kaggle/working/dataset-fold_7/train/images/ID_O8Ii5s.jpg: corrupt JPEG restored and saved\n",
            "\u001b[34m\u001b[1mtrain: \u001b[0m/kaggle/working/dataset-fold_7/train/images/ID_OFTTvl.jpeg: corrupt JPEG restored and saved\n",
            "\u001b[34m\u001b[1mtrain: \u001b[0m/kaggle/working/dataset-fold_7/train/images/ID_OFhcZk.jpg: corrupt JPEG restored and saved\n",
            "\u001b[34m\u001b[1mtrain: \u001b[0m/kaggle/working/dataset-fold_7/train/images/ID_OP42MI.jpeg: corrupt JPEG restored and saved\n",
            "\u001b[34m\u001b[1mtrain: \u001b[0m/kaggle/working/dataset-fold_7/train/images/ID_OSL1rX.jpg: corrupt JPEG restored and saved\n",
            "\u001b[34m\u001b[1mtrain: \u001b[0m/kaggle/working/dataset-fold_7/train/images/ID_OXuUNh.jpg: corrupt JPEG restored and saved\n",
            "\u001b[34m\u001b[1mtrain: \u001b[0m/kaggle/working/dataset-fold_7/train/images/ID_OZ1lc7.jpeg: corrupt JPEG restored and saved\n",
            "\u001b[34m\u001b[1mtrain: \u001b[0m/kaggle/working/dataset-fold_7/train/images/ID_Ot9lnj.jpg: corrupt JPEG restored and saved\n",
            "\u001b[34m\u001b[1mtrain: \u001b[0m/kaggle/working/dataset-fold_7/train/images/ID_P5xQZW.jpeg: corrupt JPEG restored and saved\n",
            "\u001b[34m\u001b[1mtrain: \u001b[0m/kaggle/working/dataset-fold_7/train/images/ID_PqV4gW.jpg: corrupt JPEG restored and saved\n",
            "\u001b[34m\u001b[1mtrain: \u001b[0m/kaggle/working/dataset-fold_7/train/images/ID_Q0OwpE.jpg: corrupt JPEG restored and saved\n",
            "\u001b[34m\u001b[1mtrain: \u001b[0m/kaggle/working/dataset-fold_7/train/images/ID_Q0PXyQ.jpg: corrupt JPEG restored and saved\n",
            "\u001b[34m\u001b[1mtrain: \u001b[0m/kaggle/working/dataset-fold_7/train/images/ID_QVEUhP.jpg: corrupt JPEG restored and saved\n",
            "\u001b[34m\u001b[1mtrain: \u001b[0m/kaggle/working/dataset-fold_7/train/images/ID_QYyaBC.jpg: corrupt JPEG restored and saved\n",
            "\u001b[34m\u001b[1mtrain: \u001b[0m/kaggle/working/dataset-fold_7/train/images/ID_QZyOk7.jpg: corrupt JPEG restored and saved\n",
            "\u001b[34m\u001b[1mtrain: \u001b[0m/kaggle/working/dataset-fold_7/train/images/ID_Qinkut.jpg: corrupt JPEG restored and saved\n",
            "\u001b[34m\u001b[1mtrain: \u001b[0m/kaggle/working/dataset-fold_7/train/images/ID_QopCWu.jpeg: corrupt JPEG restored and saved\n",
            "\u001b[34m\u001b[1mtrain: \u001b[0m/kaggle/working/dataset-fold_7/train/images/ID_Qrlnom.jpg: corrupt JPEG restored and saved\n",
            "\u001b[34m\u001b[1mtrain: \u001b[0m/kaggle/working/dataset-fold_7/train/images/ID_Qu5Gdd.jpg: corrupt JPEG restored and saved\n",
            "\u001b[34m\u001b[1mtrain: \u001b[0m/kaggle/working/dataset-fold_7/train/images/ID_R0gFs3.jpeg: corrupt JPEG restored and saved\n",
            "\u001b[34m\u001b[1mtrain: \u001b[0m/kaggle/working/dataset-fold_7/train/images/ID_R6QBuf.jpg: corrupt JPEG restored and saved\n",
            "\u001b[34m\u001b[1mtrain: \u001b[0m/kaggle/working/dataset-fold_7/train/images/ID_RA4964.jpg: corrupt JPEG restored and saved\n",
            "\u001b[34m\u001b[1mtrain: \u001b[0m/kaggle/working/dataset-fold_7/train/images/ID_RDpYbj.jpeg: corrupt JPEG restored and saved\n",
            "\u001b[34m\u001b[1mtrain: \u001b[0m/kaggle/working/dataset-fold_7/train/images/ID_RWPGUG.jpg: corrupt JPEG restored and saved\n",
            "\u001b[34m\u001b[1mtrain: \u001b[0m/kaggle/working/dataset-fold_7/train/images/ID_RoWnbg.jpg: corrupt JPEG restored and saved\n",
            "\u001b[34m\u001b[1mtrain: \u001b[0m/kaggle/working/dataset-fold_7/train/images/ID_S7q92y.jpg: corrupt JPEG restored and saved\n",
            "\u001b[34m\u001b[1mtrain: \u001b[0m/kaggle/working/dataset-fold_7/train/images/ID_SJKaao.jpeg: corrupt JPEG restored and saved\n",
            "\u001b[34m\u001b[1mtrain: \u001b[0m/kaggle/working/dataset-fold_7/train/images/ID_SSGiW2.jpeg: corrupt JPEG restored and saved\n",
            "\u001b[34m\u001b[1mtrain: \u001b[0m/kaggle/working/dataset-fold_7/train/images/ID_SSPUE6.jpg: corrupt JPEG restored and saved\n",
            "\u001b[34m\u001b[1mtrain: \u001b[0m/kaggle/working/dataset-fold_7/train/images/ID_SVzl5X.jpeg: corrupt JPEG restored and saved\n",
            "\u001b[34m\u001b[1mtrain: \u001b[0m/kaggle/working/dataset-fold_7/train/images/ID_SWwaf9.jpg: corrupt JPEG restored and saved\n",
            "\u001b[34m\u001b[1mtrain: \u001b[0m/kaggle/working/dataset-fold_7/train/images/ID_SnC6Z6.jpg: corrupt JPEG restored and saved\n",
            "\u001b[34m\u001b[1mtrain: \u001b[0m/kaggle/working/dataset-fold_7/train/images/ID_Spq7s1.jpeg: corrupt JPEG restored and saved\n",
            "\u001b[34m\u001b[1mtrain: \u001b[0m/kaggle/working/dataset-fold_7/train/images/ID_SuY5t1.jpeg: corrupt JPEG restored and saved\n",
            "\u001b[34m\u001b[1mtrain: \u001b[0m/kaggle/working/dataset-fold_7/train/images/ID_T65cSF.jpeg: corrupt JPEG restored and saved\n",
            "\u001b[34m\u001b[1mtrain: \u001b[0m/kaggle/working/dataset-fold_7/train/images/ID_T7RQCl.jpeg: corrupt JPEG restored and saved\n",
            "\u001b[34m\u001b[1mtrain: \u001b[0m/kaggle/working/dataset-fold_7/train/images/ID_T9Sifn.jpeg: corrupt JPEG restored and saved\n",
            "\u001b[34m\u001b[1mtrain: \u001b[0m/kaggle/working/dataset-fold_7/train/images/ID_T9n3Yk.jpeg: corrupt JPEG restored and saved\n",
            "\u001b[34m\u001b[1mtrain: \u001b[0m/kaggle/working/dataset-fold_7/train/images/ID_TB2QQA.jpg: corrupt JPEG restored and saved\n",
            "\u001b[34m\u001b[1mtrain: \u001b[0m/kaggle/working/dataset-fold_7/train/images/ID_TaRNtN.jpg: corrupt JPEG restored and saved\n",
            "\u001b[34m\u001b[1mtrain: \u001b[0m/kaggle/working/dataset-fold_7/train/images/ID_TgWLRl.jpeg: corrupt JPEG restored and saved\n",
            "\u001b[34m\u001b[1mtrain: \u001b[0m/kaggle/working/dataset-fold_7/train/images/ID_TmV8Jj.jpg: corrupt JPEG restored and saved\n",
            "\u001b[34m\u001b[1mtrain: \u001b[0m/kaggle/working/dataset-fold_7/train/images/ID_TrS7AO.jpeg: corrupt JPEG restored and saved\n",
            "\u001b[34m\u001b[1mtrain: \u001b[0m/kaggle/working/dataset-fold_7/train/images/ID_U2iecI.jpg: corrupt JPEG restored and saved\n",
            "\u001b[34m\u001b[1mtrain: \u001b[0m/kaggle/working/dataset-fold_7/train/images/ID_U5jOiU.jpg: corrupt JPEG restored and saved\n",
            "\u001b[34m\u001b[1mtrain: \u001b[0m/kaggle/working/dataset-fold_7/train/images/ID_ULx8cJ.jpg: corrupt JPEG restored and saved\n",
            "\u001b[34m\u001b[1mtrain: \u001b[0m/kaggle/working/dataset-fold_7/train/images/ID_USBlAz.jpg: corrupt JPEG restored and saved\n",
            "\u001b[34m\u001b[1mtrain: \u001b[0m/kaggle/working/dataset-fold_7/train/images/ID_UY44L0.jpg: corrupt JPEG restored and saved\n",
            "\u001b[34m\u001b[1mtrain: \u001b[0m/kaggle/working/dataset-fold_7/train/images/ID_UhR2o3.jpg: corrupt JPEG restored and saved\n",
            "\u001b[34m\u001b[1mtrain: \u001b[0m/kaggle/working/dataset-fold_7/train/images/ID_Ui8E1j.jpg: corrupt JPEG restored and saved\n",
            "\u001b[34m\u001b[1mtrain: \u001b[0m/kaggle/working/dataset-fold_7/train/images/ID_UjkxXW.jpg: corrupt JPEG restored and saved\n",
            "\u001b[34m\u001b[1mtrain: \u001b[0m/kaggle/working/dataset-fold_7/train/images/ID_Umc0P2.jpeg: corrupt JPEG restored and saved\n",
            "\u001b[34m\u001b[1mtrain: \u001b[0m/kaggle/working/dataset-fold_7/train/images/ID_Uoy7f2.jpg: corrupt JPEG restored and saved\n",
            "\u001b[34m\u001b[1mtrain: \u001b[0m/kaggle/working/dataset-fold_7/train/images/ID_UrKjY8.jpeg: corrupt JPEG restored and saved\n",
            "\u001b[34m\u001b[1mtrain: \u001b[0m/kaggle/working/dataset-fold_7/train/images/ID_V42JvR.jpg: corrupt JPEG restored and saved\n",
            "\u001b[34m\u001b[1mtrain: \u001b[0m/kaggle/working/dataset-fold_7/train/images/ID_VGRSR0.jpg: corrupt JPEG restored and saved\n",
            "\u001b[34m\u001b[1mtrain: \u001b[0m/kaggle/working/dataset-fold_7/train/images/ID_VTnQu1.jpg: corrupt JPEG restored and saved\n",
            "\u001b[34m\u001b[1mtrain: \u001b[0m/kaggle/working/dataset-fold_7/train/images/ID_VX3dMQ.jpg: corrupt JPEG restored and saved\n",
            "\u001b[34m\u001b[1mtrain: \u001b[0m/kaggle/working/dataset-fold_7/train/images/ID_VYmWg8.jpg: corrupt JPEG restored and saved\n",
            "\u001b[34m\u001b[1mtrain: \u001b[0m/kaggle/working/dataset-fold_7/train/images/ID_VwIYf0.jpg: corrupt JPEG restored and saved\n",
            "\u001b[34m\u001b[1mtrain: \u001b[0m/kaggle/working/dataset-fold_7/train/images/ID_W2eGlr.jpg: corrupt JPEG restored and saved\n",
            "\u001b[34m\u001b[1mtrain: \u001b[0m/kaggle/working/dataset-fold_7/train/images/ID_W31F1e.jpeg: corrupt JPEG restored and saved\n",
            "\u001b[34m\u001b[1mtrain: \u001b[0m/kaggle/working/dataset-fold_7/train/images/ID_W3tZGh.jpg: corrupt JPEG restored and saved\n",
            "\u001b[34m\u001b[1mtrain: \u001b[0m/kaggle/working/dataset-fold_7/train/images/ID_WB25bW.jpeg: corrupt JPEG restored and saved\n",
            "\u001b[34m\u001b[1mtrain: \u001b[0m/kaggle/working/dataset-fold_7/train/images/ID_WIuXLH.jpg: corrupt JPEG restored and saved\n",
            "\u001b[34m\u001b[1mtrain: \u001b[0m/kaggle/working/dataset-fold_7/train/images/ID_WULBQy.jpeg: corrupt JPEG restored and saved\n",
            "\u001b[34m\u001b[1mtrain: \u001b[0m/kaggle/working/dataset-fold_7/train/images/ID_Wa1IXp.jpg: corrupt JPEG restored and saved\n",
            "\u001b[34m\u001b[1mtrain: \u001b[0m/kaggle/working/dataset-fold_7/train/images/ID_WgGnAX.jpg: corrupt JPEG restored and saved\n",
            "\u001b[34m\u001b[1mtrain: \u001b[0m/kaggle/working/dataset-fold_7/train/images/ID_WmaGX7.jpg: corrupt JPEG restored and saved\n",
            "\u001b[34m\u001b[1mtrain: \u001b[0m/kaggle/working/dataset-fold_7/train/images/ID_WzxXRK.jpeg: corrupt JPEG restored and saved\n",
            "\u001b[34m\u001b[1mtrain: \u001b[0m/kaggle/working/dataset-fold_7/train/images/ID_X0udgZ.jpeg: corrupt JPEG restored and saved\n",
            "\u001b[34m\u001b[1mtrain: \u001b[0m/kaggle/working/dataset-fold_7/train/images/ID_X9IstM.jpg: corrupt JPEG restored and saved\n",
            "\u001b[34m\u001b[1mtrain: \u001b[0m/kaggle/working/dataset-fold_7/train/images/ID_X9VSUI.jpg: corrupt JPEG restored and saved\n",
            "\u001b[34m\u001b[1mtrain: \u001b[0m/kaggle/working/dataset-fold_7/train/images/ID_XF1b8f.jpeg: corrupt JPEG restored and saved\n",
            "\u001b[34m\u001b[1mtrain: \u001b[0m/kaggle/working/dataset-fold_7/train/images/ID_XptLVA.jpg: corrupt JPEG restored and saved\n",
            "\u001b[34m\u001b[1mtrain: \u001b[0m/kaggle/working/dataset-fold_7/train/images/ID_Xr3yGD.jpeg: corrupt JPEG restored and saved\n",
            "\u001b[34m\u001b[1mtrain: \u001b[0m/kaggle/working/dataset-fold_7/train/images/ID_XuMRrm.jpeg: corrupt JPEG restored and saved\n",
            "\u001b[34m\u001b[1mtrain: \u001b[0m/kaggle/working/dataset-fold_7/train/images/ID_Y5sfOy.jpg: corrupt JPEG restored and saved\n",
            "\u001b[34m\u001b[1mtrain: \u001b[0m/kaggle/working/dataset-fold_7/train/images/ID_YHBAKF.jpg: corrupt JPEG restored and saved\n",
            "\u001b[34m\u001b[1mtrain: \u001b[0m/kaggle/working/dataset-fold_7/train/images/ID_YVZEp0.jpg: corrupt JPEG restored and saved\n",
            "\u001b[34m\u001b[1mtrain: \u001b[0m/kaggle/working/dataset-fold_7/train/images/ID_YVrqE6.jpg: corrupt JPEG restored and saved\n",
            "\u001b[34m\u001b[1mtrain: \u001b[0m/kaggle/working/dataset-fold_7/train/images/ID_YXkAP3.jpg: corrupt JPEG restored and saved\n",
            "\u001b[34m\u001b[1mtrain: \u001b[0m/kaggle/working/dataset-fold_7/train/images/ID_YevJzo.jpeg: corrupt JPEG restored and saved\n",
            "\u001b[34m\u001b[1mtrain: \u001b[0m/kaggle/working/dataset-fold_7/train/images/ID_YmrSKa.jpg: corrupt JPEG restored and saved\n",
            "\u001b[34m\u001b[1mtrain: \u001b[0m/kaggle/working/dataset-fold_7/train/images/ID_Yo2e8I.jpg: corrupt JPEG restored and saved\n",
            "\u001b[34m\u001b[1mtrain: \u001b[0m/kaggle/working/dataset-fold_7/train/images/ID_YraieG.jpg: corrupt JPEG restored and saved\n",
            "\u001b[34m\u001b[1mtrain: \u001b[0m/kaggle/working/dataset-fold_7/train/images/ID_ZJ6Kwe.jpg: corrupt JPEG restored and saved\n",
            "\u001b[34m\u001b[1mtrain: \u001b[0m/kaggle/working/dataset-fold_7/train/images/ID_ZOM8YH.jpg: corrupt JPEG restored and saved\n",
            "\u001b[34m\u001b[1mtrain: \u001b[0m/kaggle/working/dataset-fold_7/train/images/ID_Zwe8i7.jpeg: corrupt JPEG restored and saved\n",
            "\u001b[34m\u001b[1mtrain: \u001b[0m/kaggle/working/dataset-fold_7/train/images/ID_aEWltK.jpg: corrupt JPEG restored and saved\n",
            "\u001b[34m\u001b[1mtrain: \u001b[0m/kaggle/working/dataset-fold_7/train/images/ID_aHFDK5.jpg: corrupt JPEG restored and saved\n",
            "\u001b[34m\u001b[1mtrain: \u001b[0m/kaggle/working/dataset-fold_7/train/images/ID_aKIqHp.jpeg: corrupt JPEG restored and saved\n",
            "\u001b[34m\u001b[1mtrain: \u001b[0m/kaggle/working/dataset-fold_7/train/images/ID_aMP9qP.jpg: corrupt JPEG restored and saved\n",
            "\u001b[34m\u001b[1mtrain: \u001b[0m/kaggle/working/dataset-fold_7/train/images/ID_aSDtdm.jpeg: corrupt JPEG restored and saved\n",
            "\u001b[34m\u001b[1mtrain: \u001b[0m/kaggle/working/dataset-fold_7/train/images/ID_aYoINI.jpg: corrupt JPEG restored and saved\n",
            "\u001b[34m\u001b[1mtrain: \u001b[0m/kaggle/working/dataset-fold_7/train/images/ID_agSNVy.jpg: corrupt JPEG restored and saved\n",
            "\u001b[34m\u001b[1mtrain: \u001b[0m/kaggle/working/dataset-fold_7/train/images/ID_atEszE.jpg: corrupt JPEG restored and saved\n",
            "\u001b[34m\u001b[1mtrain: \u001b[0m/kaggle/working/dataset-fold_7/train/images/ID_axCg8f.jpg: corrupt JPEG restored and saved\n",
            "\u001b[34m\u001b[1mtrain: \u001b[0m/kaggle/working/dataset-fold_7/train/images/ID_azgMN3.jpg: corrupt JPEG restored and saved\n",
            "\u001b[34m\u001b[1mtrain: \u001b[0m/kaggle/working/dataset-fold_7/train/images/ID_bCoAZg.jpg: corrupt JPEG restored and saved\n",
            "\u001b[34m\u001b[1mtrain: \u001b[0m/kaggle/working/dataset-fold_7/train/images/ID_bErrYD.jpeg: corrupt JPEG restored and saved\n",
            "\u001b[34m\u001b[1mtrain: \u001b[0m/kaggle/working/dataset-fold_7/train/images/ID_bPjaHt.jpg: corrupt JPEG restored and saved\n",
            "\u001b[34m\u001b[1mtrain: \u001b[0m/kaggle/working/dataset-fold_7/train/images/ID_bnU2qZ.jpg: corrupt JPEG restored and saved\n",
            "\u001b[34m\u001b[1mtrain: \u001b[0m/kaggle/working/dataset-fold_7/train/images/ID_bouUUL.jpeg: corrupt JPEG restored and saved\n",
            "\u001b[34m\u001b[1mtrain: \u001b[0m/kaggle/working/dataset-fold_7/train/images/ID_bq4JF6.jpg: corrupt JPEG restored and saved\n",
            "\u001b[34m\u001b[1mtrain: \u001b[0m/kaggle/working/dataset-fold_7/train/images/ID_bv9Nvh.jpg: corrupt JPEG restored and saved\n",
            "\u001b[34m\u001b[1mtrain: \u001b[0m/kaggle/working/dataset-fold_7/train/images/ID_cCrbt6.jpg: corrupt JPEG restored and saved\n",
            "\u001b[34m\u001b[1mtrain: \u001b[0m/kaggle/working/dataset-fold_7/train/images/ID_cGrCAD.jpg: corrupt JPEG restored and saved\n",
            "\u001b[34m\u001b[1mtrain: \u001b[0m/kaggle/working/dataset-fold_7/train/images/ID_cNZUqh.jpg: corrupt JPEG restored and saved\n",
            "\u001b[34m\u001b[1mtrain: \u001b[0m/kaggle/working/dataset-fold_7/train/images/ID_cRrzcV.jpg: corrupt JPEG restored and saved\n",
            "\u001b[34m\u001b[1mtrain: \u001b[0m/kaggle/working/dataset-fold_7/train/images/ID_cbNtpG.jpg: corrupt JPEG restored and saved\n",
            "\u001b[34m\u001b[1mtrain: \u001b[0m/kaggle/working/dataset-fold_7/train/images/ID_cecsNW.jpg: corrupt JPEG restored and saved\n",
            "\u001b[34m\u001b[1mtrain: \u001b[0m/kaggle/working/dataset-fold_7/train/images/ID_csx6y8.jpeg: corrupt JPEG restored and saved\n",
            "\u001b[34m\u001b[1mtrain: \u001b[0m/kaggle/working/dataset-fold_7/train/images/ID_dCfvUH.jpg: corrupt JPEG restored and saved\n",
            "\u001b[34m\u001b[1mtrain: \u001b[0m/kaggle/working/dataset-fold_7/train/images/ID_dH0o4x.jpeg: corrupt JPEG restored and saved\n",
            "\u001b[34m\u001b[1mtrain: \u001b[0m/kaggle/working/dataset-fold_7/train/images/ID_dUrLhB.jpeg: corrupt JPEG restored and saved\n",
            "\u001b[34m\u001b[1mtrain: \u001b[0m/kaggle/working/dataset-fold_7/train/images/ID_dW2xhB.jpg: corrupt JPEG restored and saved\n",
            "\u001b[34m\u001b[1mtrain: \u001b[0m/kaggle/working/dataset-fold_7/train/images/ID_dfvVln.jpeg: corrupt JPEG restored and saved\n",
            "\u001b[34m\u001b[1mtrain: \u001b[0m/kaggle/working/dataset-fold_7/train/images/ID_dhyPDO.jpeg: corrupt JPEG restored and saved\n",
            "\u001b[34m\u001b[1mtrain: \u001b[0m/kaggle/working/dataset-fold_7/train/images/ID_dvs1xy.jpg: corrupt JPEG restored and saved\n",
            "\u001b[34m\u001b[1mtrain: \u001b[0m/kaggle/working/dataset-fold_7/train/images/ID_eGsJiZ.jpeg: corrupt JPEG restored and saved\n",
            "\u001b[34m\u001b[1mtrain: \u001b[0m/kaggle/working/dataset-fold_7/train/images/ID_eUmInK.jpg: corrupt JPEG restored and saved\n",
            "\u001b[34m\u001b[1mtrain: \u001b[0m/kaggle/working/dataset-fold_7/train/images/ID_edNUod.jpg: corrupt JPEG restored and saved\n",
            "\u001b[34m\u001b[1mtrain: \u001b[0m/kaggle/working/dataset-fold_7/train/images/ID_eyApHR.jpg: corrupt JPEG restored and saved\n",
            "\u001b[34m\u001b[1mtrain: \u001b[0m/kaggle/working/dataset-fold_7/train/images/ID_f22xL0.jpeg: corrupt JPEG restored and saved\n",
            "\u001b[34m\u001b[1mtrain: \u001b[0m/kaggle/working/dataset-fold_7/train/images/ID_f9nN0T.jpg: corrupt JPEG restored and saved\n",
            "\u001b[34m\u001b[1mtrain: \u001b[0m/kaggle/working/dataset-fold_7/train/images/ID_fLhKY2.jpeg: corrupt JPEG restored and saved\n",
            "\u001b[34m\u001b[1mtrain: \u001b[0m/kaggle/working/dataset-fold_7/train/images/ID_fVeoSx.jpg: corrupt JPEG restored and saved\n",
            "\u001b[34m\u001b[1mtrain: \u001b[0m/kaggle/working/dataset-fold_7/train/images/ID_fXioHc.jpeg: corrupt JPEG restored and saved\n",
            "\u001b[34m\u001b[1mtrain: \u001b[0m/kaggle/working/dataset-fold_7/train/images/ID_fmYejW.jpg: corrupt JPEG restored and saved\n",
            "\u001b[34m\u001b[1mtrain: \u001b[0m/kaggle/working/dataset-fold_7/train/images/ID_fsOn06.jpg: corrupt JPEG restored and saved\n",
            "\u001b[34m\u001b[1mtrain: \u001b[0m/kaggle/working/dataset-fold_7/train/images/ID_fuwnO7.jpg: corrupt JPEG restored and saved\n",
            "\u001b[34m\u001b[1mtrain: \u001b[0m/kaggle/working/dataset-fold_7/train/images/ID_gC5IgG.jpg: corrupt JPEG restored and saved\n",
            "\u001b[34m\u001b[1mtrain: \u001b[0m/kaggle/working/dataset-fold_7/train/images/ID_gKZt2c.jpg: corrupt JPEG restored and saved\n",
            "\u001b[34m\u001b[1mtrain: \u001b[0m/kaggle/working/dataset-fold_7/train/images/ID_gOeLwX.jpg: corrupt JPEG restored and saved\n",
            "\u001b[34m\u001b[1mtrain: \u001b[0m/kaggle/working/dataset-fold_7/train/images/ID_gVPrzr.jpeg: corrupt JPEG restored and saved\n",
            "\u001b[34m\u001b[1mtrain: \u001b[0m/kaggle/working/dataset-fold_7/train/images/ID_gueBKx.jpeg: corrupt JPEG restored and saved\n",
            "\u001b[34m\u001b[1mtrain: \u001b[0m/kaggle/working/dataset-fold_7/train/images/ID_h0qMvf.jpg: corrupt JPEG restored and saved\n",
            "\u001b[34m\u001b[1mtrain: \u001b[0m/kaggle/working/dataset-fold_7/train/images/ID_h4tUyq.jpg: corrupt JPEG restored and saved\n",
            "\u001b[34m\u001b[1mtrain: \u001b[0m/kaggle/working/dataset-fold_7/train/images/ID_h8iMcZ.jpeg: corrupt JPEG restored and saved\n",
            "\u001b[34m\u001b[1mtrain: \u001b[0m/kaggle/working/dataset-fold_7/train/images/ID_hADR5u.jpeg: corrupt JPEG restored and saved\n",
            "\u001b[34m\u001b[1mtrain: \u001b[0m/kaggle/working/dataset-fold_7/train/images/ID_hOWY3t.jpg: corrupt JPEG restored and saved\n",
            "\u001b[34m\u001b[1mtrain: \u001b[0m/kaggle/working/dataset-fold_7/train/images/ID_hUfLpX.jpg: corrupt JPEG restored and saved\n",
            "\u001b[34m\u001b[1mtrain: \u001b[0m/kaggle/working/dataset-fold_7/train/images/ID_hoBmXG.jpeg: corrupt JPEG restored and saved\n",
            "\u001b[34m\u001b[1mtrain: \u001b[0m/kaggle/working/dataset-fold_7/train/images/ID_i3aAKz.jpeg: corrupt JPEG restored and saved\n",
            "\u001b[34m\u001b[1mtrain: \u001b[0m/kaggle/working/dataset-fold_7/train/images/ID_i6jMk3.jpg: corrupt JPEG restored and saved\n",
            "\u001b[34m\u001b[1mtrain: \u001b[0m/kaggle/working/dataset-fold_7/train/images/ID_iDXwsn.jpg: corrupt JPEG restored and saved\n",
            "\u001b[34m\u001b[1mtrain: \u001b[0m/kaggle/working/dataset-fold_7/train/images/ID_iG2aj8.jpeg: corrupt JPEG restored and saved\n",
            "\u001b[34m\u001b[1mtrain: \u001b[0m/kaggle/working/dataset-fold_7/train/images/ID_iI4qR6.jpeg: corrupt JPEG restored and saved\n",
            "\u001b[34m\u001b[1mtrain: \u001b[0m/kaggle/working/dataset-fold_7/train/images/ID_iK8ci4.jpg: corrupt JPEG restored and saved\n",
            "\u001b[34m\u001b[1mtrain: \u001b[0m/kaggle/working/dataset-fold_7/train/images/ID_iQqECO.jpeg: corrupt JPEG restored and saved\n",
            "\u001b[34m\u001b[1mtrain: \u001b[0m/kaggle/working/dataset-fold_7/train/images/ID_iTMCUv.jpg: corrupt JPEG restored and saved\n",
            "\u001b[34m\u001b[1mtrain: \u001b[0m/kaggle/working/dataset-fold_7/train/images/ID_ikyHG9.jpg: corrupt JPEG restored and saved\n",
            "\u001b[34m\u001b[1mtrain: \u001b[0m/kaggle/working/dataset-fold_7/train/images/ID_ir1VRs.jpeg: corrupt JPEG restored and saved\n",
            "\u001b[34m\u001b[1mtrain: \u001b[0m/kaggle/working/dataset-fold_7/train/images/ID_j8Nxxw.jpg: corrupt JPEG restored and saved\n",
            "\u001b[34m\u001b[1mtrain: \u001b[0m/kaggle/working/dataset-fold_7/train/images/ID_jEyYQe.jpg: corrupt JPEG restored and saved\n",
            "\u001b[34m\u001b[1mtrain: \u001b[0m/kaggle/working/dataset-fold_7/train/images/ID_jO2qKy.jpg: corrupt JPEG restored and saved\n",
            "\u001b[34m\u001b[1mtrain: \u001b[0m/kaggle/working/dataset-fold_7/train/images/ID_jTIuus.jpg: corrupt JPEG restored and saved\n",
            "\u001b[34m\u001b[1mtrain: \u001b[0m/kaggle/working/dataset-fold_7/train/images/ID_jZ6PSF.jpeg: corrupt JPEG restored and saved\n",
            "\u001b[34m\u001b[1mtrain: \u001b[0m/kaggle/working/dataset-fold_7/train/images/ID_jbDUGG.jpg: corrupt JPEG restored and saved\n",
            "\u001b[34m\u001b[1mtrain: \u001b[0m/kaggle/working/dataset-fold_7/train/images/ID_jj4SlG.jpeg: corrupt JPEG restored and saved\n",
            "\u001b[34m\u001b[1mtrain: \u001b[0m/kaggle/working/dataset-fold_7/train/images/ID_jkpHUf.jpg: corrupt JPEG restored and saved\n",
            "\u001b[34m\u001b[1mtrain: \u001b[0m/kaggle/working/dataset-fold_7/train/images/ID_jqgCmS.jpg: corrupt JPEG restored and saved\n",
            "\u001b[34m\u001b[1mtrain: \u001b[0m/kaggle/working/dataset-fold_7/train/images/ID_jwgpnM.jpeg: corrupt JPEG restored and saved\n",
            "\u001b[34m\u001b[1mtrain: \u001b[0m/kaggle/working/dataset-fold_7/train/images/ID_jx5Ekq.jpg: corrupt JPEG restored and saved\n",
            "\u001b[34m\u001b[1mtrain: \u001b[0m/kaggle/working/dataset-fold_7/train/images/ID_jxbrcX.jpeg: corrupt JPEG restored and saved\n",
            "\u001b[34m\u001b[1mtrain: \u001b[0m/kaggle/working/dataset-fold_7/train/images/ID_k6xl0H.jpeg: corrupt JPEG restored and saved\n",
            "\u001b[34m\u001b[1mtrain: \u001b[0m/kaggle/working/dataset-fold_7/train/images/ID_k7E9yz.jpeg: corrupt JPEG restored and saved\n",
            "\u001b[34m\u001b[1mtrain: \u001b[0m/kaggle/working/dataset-fold_7/train/images/ID_kASNKy.jpg: corrupt JPEG restored and saved\n",
            "\u001b[34m\u001b[1mtrain: \u001b[0m/kaggle/working/dataset-fold_7/train/images/ID_kQDcaQ.jpg: corrupt JPEG restored and saved\n",
            "\u001b[34m\u001b[1mtrain: \u001b[0m/kaggle/working/dataset-fold_7/train/images/ID_kQnitp.jpg: corrupt JPEG restored and saved\n",
            "\u001b[34m\u001b[1mtrain: \u001b[0m/kaggle/working/dataset-fold_7/train/images/ID_kk7SDW.jpg: corrupt JPEG restored and saved\n",
            "\u001b[34m\u001b[1mtrain: \u001b[0m/kaggle/working/dataset-fold_7/train/images/ID_kyQg6b.jpg: corrupt JPEG restored and saved\n",
            "\u001b[34m\u001b[1mtrain: \u001b[0m/kaggle/working/dataset-fold_7/train/images/ID_lTXAIY.jpg: corrupt JPEG restored and saved\n",
            "\u001b[34m\u001b[1mtrain: \u001b[0m/kaggle/working/dataset-fold_7/train/images/ID_leOirQ.jpeg: corrupt JPEG restored and saved\n",
            "\u001b[34m\u001b[1mtrain: \u001b[0m/kaggle/working/dataset-fold_7/train/images/ID_lg3nG2.jpg: corrupt JPEG restored and saved\n",
            "\u001b[34m\u001b[1mtrain: \u001b[0m/kaggle/working/dataset-fold_7/train/images/ID_lqgUrK.jpg: corrupt JPEG restored and saved\n",
            "\u001b[34m\u001b[1mtrain: \u001b[0m/kaggle/working/dataset-fold_7/train/images/ID_mBvPIf.jpg: corrupt JPEG restored and saved\n",
            "\u001b[34m\u001b[1mtrain: \u001b[0m/kaggle/working/dataset-fold_7/train/images/ID_mDXn0w.jpg: corrupt JPEG restored and saved\n",
            "\u001b[34m\u001b[1mtrain: \u001b[0m/kaggle/working/dataset-fold_7/train/images/ID_mIRMvI.jpg: corrupt JPEG restored and saved\n",
            "\u001b[34m\u001b[1mtrain: \u001b[0m/kaggle/working/dataset-fold_7/train/images/ID_mhIu8M.jpg: corrupt JPEG restored and saved\n",
            "\u001b[34m\u001b[1mtrain: \u001b[0m/kaggle/working/dataset-fold_7/train/images/ID_n2ei3B.jpg: corrupt JPEG restored and saved\n",
            "\u001b[34m\u001b[1mtrain: \u001b[0m/kaggle/working/dataset-fold_7/train/images/ID_n8PmEh.jpg: corrupt JPEG restored and saved\n",
            "\u001b[34m\u001b[1mtrain: \u001b[0m/kaggle/working/dataset-fold_7/train/images/ID_nHlwiJ.jpg: corrupt JPEG restored and saved\n",
            "\u001b[34m\u001b[1mtrain: \u001b[0m/kaggle/working/dataset-fold_7/train/images/ID_nIw6DH.jpg: corrupt JPEG restored and saved\n",
            "\u001b[34m\u001b[1mtrain: \u001b[0m/kaggle/working/dataset-fold_7/train/images/ID_nIzLHr.jpeg: corrupt JPEG restored and saved\n",
            "\u001b[34m\u001b[1mtrain: \u001b[0m/kaggle/working/dataset-fold_7/train/images/ID_nZim7G.jpg: corrupt JPEG restored and saved\n",
            "\u001b[34m\u001b[1mtrain: \u001b[0m/kaggle/working/dataset-fold_7/train/images/ID_ntnNvs.jpg: corrupt JPEG restored and saved\n",
            "\u001b[34m\u001b[1mtrain: \u001b[0m/kaggle/working/dataset-fold_7/train/images/ID_nx4hoN.jpg: corrupt JPEG restored and saved\n",
            "\u001b[34m\u001b[1mtrain: \u001b[0m/kaggle/working/dataset-fold_7/train/images/ID_o01U4Q.jpg: corrupt JPEG restored and saved\n",
            "\u001b[34m\u001b[1mtrain: \u001b[0m/kaggle/working/dataset-fold_7/train/images/ID_o4UT3S.jpeg: corrupt JPEG restored and saved\n",
            "\u001b[34m\u001b[1mtrain: \u001b[0m/kaggle/working/dataset-fold_7/train/images/ID_oFBCwO.jpg: corrupt JPEG restored and saved\n",
            "\u001b[34m\u001b[1mtrain: \u001b[0m/kaggle/working/dataset-fold_7/train/images/ID_oOXqz9.jpg: corrupt JPEG restored and saved\n",
            "\u001b[34m\u001b[1mtrain: \u001b[0m/kaggle/working/dataset-fold_7/train/images/ID_ocfe8h.jpg: corrupt JPEG restored and saved\n",
            "\u001b[34m\u001b[1mtrain: \u001b[0m/kaggle/working/dataset-fold_7/train/images/ID_olXkHS.jpg: corrupt JPEG restored and saved\n",
            "\u001b[34m\u001b[1mtrain: \u001b[0m/kaggle/working/dataset-fold_7/train/images/ID_ovUeNf.jpg: corrupt JPEG restored and saved\n",
            "\u001b[34m\u001b[1mtrain: \u001b[0m/kaggle/working/dataset-fold_7/train/images/ID_pDP6VA.jpg: corrupt JPEG restored and saved\n",
            "\u001b[34m\u001b[1mtrain: \u001b[0m/kaggle/working/dataset-fold_7/train/images/ID_pSHicD.jpeg: corrupt JPEG restored and saved\n",
            "\u001b[34m\u001b[1mtrain: \u001b[0m/kaggle/working/dataset-fold_7/train/images/ID_pTosIS.jpg: corrupt JPEG restored and saved\n",
            "\u001b[34m\u001b[1mtrain: \u001b[0m/kaggle/working/dataset-fold_7/train/images/ID_pYvX3q.jpg: corrupt JPEG restored and saved\n",
            "\u001b[34m\u001b[1mtrain: \u001b[0m/kaggle/working/dataset-fold_7/train/images/ID_pb4bRg.jpeg: corrupt JPEG restored and saved\n",
            "\u001b[34m\u001b[1mtrain: \u001b[0m/kaggle/working/dataset-fold_7/train/images/ID_pm15xu.jpg: corrupt JPEG restored and saved\n",
            "\u001b[34m\u001b[1mtrain: \u001b[0m/kaggle/working/dataset-fold_7/train/images/ID_pxJLAz.jpeg: corrupt JPEG restored and saved\n",
            "\u001b[34m\u001b[1mtrain: \u001b[0m/kaggle/working/dataset-fold_7/train/images/ID_pxjZs8.jpeg: corrupt JPEG restored and saved\n",
            "\u001b[34m\u001b[1mtrain: \u001b[0m/kaggle/working/dataset-fold_7/train/images/ID_q0MS9f.jpeg: corrupt JPEG restored and saved\n",
            "\u001b[34m\u001b[1mtrain: \u001b[0m/kaggle/working/dataset-fold_7/train/images/ID_q8BevT.jpg: corrupt JPEG restored and saved\n",
            "\u001b[34m\u001b[1mtrain: \u001b[0m/kaggle/working/dataset-fold_7/train/images/ID_qH6m1X.jpg: corrupt JPEG restored and saved\n",
            "\u001b[34m\u001b[1mtrain: \u001b[0m/kaggle/working/dataset-fold_7/train/images/ID_qNUMbX.jpg: corrupt JPEG restored and saved\n",
            "\u001b[34m\u001b[1mtrain: \u001b[0m/kaggle/working/dataset-fold_7/train/images/ID_qWwuLB.jpg: corrupt JPEG restored and saved\n",
            "\u001b[34m\u001b[1mtrain: \u001b[0m/kaggle/working/dataset-fold_7/train/images/ID_qrGPyJ.jpg: corrupt JPEG restored and saved\n",
            "\u001b[34m\u001b[1mtrain: \u001b[0m/kaggle/working/dataset-fold_7/train/images/ID_r0axyw.jpeg: corrupt JPEG restored and saved\n",
            "\u001b[34m\u001b[1mtrain: \u001b[0m/kaggle/working/dataset-fold_7/train/images/ID_r0pE4O.jpg: corrupt JPEG restored and saved\n",
            "\u001b[34m\u001b[1mtrain: \u001b[0m/kaggle/working/dataset-fold_7/train/images/ID_r8QuGZ.jpg: corrupt JPEG restored and saved\n",
            "\u001b[34m\u001b[1mtrain: \u001b[0m/kaggle/working/dataset-fold_7/train/images/ID_rMWHEF.jpg: corrupt JPEG restored and saved\n",
            "\u001b[34m\u001b[1mtrain: \u001b[0m/kaggle/working/dataset-fold_7/train/images/ID_rMXZc5.jpeg: corrupt JPEG restored and saved\n",
            "\u001b[34m\u001b[1mtrain: \u001b[0m/kaggle/working/dataset-fold_7/train/images/ID_rYlNow.jpg: corrupt JPEG restored and saved\n",
            "\u001b[34m\u001b[1mtrain: \u001b[0m/kaggle/working/dataset-fold_7/train/images/ID_rdwvgq.jpg: corrupt JPEG restored and saved\n",
            "\u001b[34m\u001b[1mtrain: \u001b[0m/kaggle/working/dataset-fold_7/train/images/ID_rs2rv6.jpeg: corrupt JPEG restored and saved\n",
            "\u001b[34m\u001b[1mtrain: \u001b[0m/kaggle/working/dataset-fold_7/train/images/ID_ruSpV7.jpg: corrupt JPEG restored and saved\n",
            "\u001b[34m\u001b[1mtrain: \u001b[0m/kaggle/working/dataset-fold_7/train/images/ID_sGmRwf.jpg: corrupt JPEG restored and saved\n",
            "\u001b[34m\u001b[1mtrain: \u001b[0m/kaggle/working/dataset-fold_7/train/images/ID_sZNOcT.jpg: corrupt JPEG restored and saved\n",
            "\u001b[34m\u001b[1mtrain: \u001b[0m/kaggle/working/dataset-fold_7/train/images/ID_sgk3L1.jpg: corrupt JPEG restored and saved\n",
            "\u001b[34m\u001b[1mtrain: \u001b[0m/kaggle/working/dataset-fold_7/train/images/ID_soB3nB.jpg: corrupt JPEG restored and saved\n",
            "\u001b[34m\u001b[1mtrain: \u001b[0m/kaggle/working/dataset-fold_7/train/images/ID_svC6nh.jpeg: corrupt JPEG restored and saved\n",
            "\u001b[34m\u001b[1mtrain: \u001b[0m/kaggle/working/dataset-fold_7/train/images/ID_tLQKlj.jpg: corrupt JPEG restored and saved\n",
            "\u001b[34m\u001b[1mtrain: \u001b[0m/kaggle/working/dataset-fold_7/train/images/ID_tOOxT6.jpeg: corrupt JPEG restored and saved\n",
            "\u001b[34m\u001b[1mtrain: \u001b[0m/kaggle/working/dataset-fold_7/train/images/ID_tSdU7L.jpg: corrupt JPEG restored and saved\n",
            "\u001b[34m\u001b[1mtrain: \u001b[0m/kaggle/working/dataset-fold_7/train/images/ID_tbbAga.jpeg: corrupt JPEG restored and saved\n",
            "\u001b[34m\u001b[1mtrain: \u001b[0m/kaggle/working/dataset-fold_7/train/images/ID_teXsR2.jpeg: corrupt JPEG restored and saved\n",
            "\u001b[34m\u001b[1mtrain: \u001b[0m/kaggle/working/dataset-fold_7/train/images/ID_tqDtkc.jpeg: corrupt JPEG restored and saved\n",
            "\u001b[34m\u001b[1mtrain: \u001b[0m/kaggle/working/dataset-fold_7/train/images/ID_tqIQWi.jpeg: corrupt JPEG restored and saved\n",
            "\u001b[34m\u001b[1mtrain: \u001b[0m/kaggle/working/dataset-fold_7/train/images/ID_ttOYvp.jpg: corrupt JPEG restored and saved\n",
            "\u001b[34m\u001b[1mtrain: \u001b[0m/kaggle/working/dataset-fold_7/train/images/ID_u0KnR0.jpg: corrupt JPEG restored and saved\n",
            "\u001b[34m\u001b[1mtrain: \u001b[0m/kaggle/working/dataset-fold_7/train/images/ID_u9JmKd.jpg: corrupt JPEG restored and saved\n",
            "\u001b[34m\u001b[1mtrain: \u001b[0m/kaggle/working/dataset-fold_7/train/images/ID_uCZCap.jpg: corrupt JPEG restored and saved\n",
            "\u001b[34m\u001b[1mtrain: \u001b[0m/kaggle/working/dataset-fold_7/train/images/ID_uKHtOl.jpeg: corrupt JPEG restored and saved\n",
            "\u001b[34m\u001b[1mtrain: \u001b[0m/kaggle/working/dataset-fold_7/train/images/ID_uLcPmF.jpg: corrupt JPEG restored and saved\n",
            "\u001b[34m\u001b[1mtrain: \u001b[0m/kaggle/working/dataset-fold_7/train/images/ID_uTB3hB.jpg: corrupt JPEG restored and saved\n",
            "\u001b[34m\u001b[1mtrain: \u001b[0m/kaggle/working/dataset-fold_7/train/images/ID_ueWf24.jpeg: corrupt JPEG restored and saved\n",
            "\u001b[34m\u001b[1mtrain: \u001b[0m/kaggle/working/dataset-fold_7/train/images/ID_uiDeaI.jpg: corrupt JPEG restored and saved\n",
            "\u001b[34m\u001b[1mtrain: \u001b[0m/kaggle/working/dataset-fold_7/train/images/ID_unaCV7.jpeg: corrupt JPEG restored and saved\n",
            "\u001b[34m\u001b[1mtrain: \u001b[0m/kaggle/working/dataset-fold_7/train/images/ID_urNuzC.jpeg: corrupt JPEG restored and saved\n",
            "\u001b[34m\u001b[1mtrain: \u001b[0m/kaggle/working/dataset-fold_7/train/images/ID_usg4S9.jpeg: corrupt JPEG restored and saved\n",
            "\u001b[34m\u001b[1mtrain: \u001b[0m/kaggle/working/dataset-fold_7/train/images/ID_uyPxtk.jpg: corrupt JPEG restored and saved\n",
            "\u001b[34m\u001b[1mtrain: \u001b[0m/kaggle/working/dataset-fold_7/train/images/ID_vHSudl.jpg: corrupt JPEG restored and saved\n",
            "\u001b[34m\u001b[1mtrain: \u001b[0m/kaggle/working/dataset-fold_7/train/images/ID_vKQXPV.jpeg: corrupt JPEG restored and saved\n",
            "\u001b[34m\u001b[1mtrain: \u001b[0m/kaggle/working/dataset-fold_7/train/images/ID_vO5hXL.jpg: corrupt JPEG restored and saved\n",
            "\u001b[34m\u001b[1mtrain: \u001b[0m/kaggle/working/dataset-fold_7/train/images/ID_vYNFqM.jpg: corrupt JPEG restored and saved\n",
            "\u001b[34m\u001b[1mtrain: \u001b[0m/kaggle/working/dataset-fold_7/train/images/ID_vc8s7j.jpg: corrupt JPEG restored and saved\n",
            "\u001b[34m\u001b[1mtrain: \u001b[0m/kaggle/working/dataset-fold_7/train/images/ID_voTg2J.jpg: corrupt JPEG restored and saved\n",
            "\u001b[34m\u001b[1mtrain: \u001b[0m/kaggle/working/dataset-fold_7/train/images/ID_vwSjRo.jpg: corrupt JPEG restored and saved\n",
            "\u001b[34m\u001b[1mtrain: \u001b[0m/kaggle/working/dataset-fold_7/train/images/ID_vypkcl.jpg: corrupt JPEG restored and saved\n",
            "\u001b[34m\u001b[1mtrain: \u001b[0m/kaggle/working/dataset-fold_7/train/images/ID_vyxJFi.jpg: corrupt JPEG restored and saved\n",
            "\u001b[34m\u001b[1mtrain: \u001b[0m/kaggle/working/dataset-fold_7/train/images/ID_wCQDfX.jpg: corrupt JPEG restored and saved\n",
            "\u001b[34m\u001b[1mtrain: \u001b[0m/kaggle/working/dataset-fold_7/train/images/ID_wF7EbR.jpeg: corrupt JPEG restored and saved\n",
            "\u001b[34m\u001b[1mtrain: \u001b[0m/kaggle/working/dataset-fold_7/train/images/ID_wUQeJr.jpeg: corrupt JPEG restored and saved\n",
            "\u001b[34m\u001b[1mtrain: \u001b[0m/kaggle/working/dataset-fold_7/train/images/ID_wapUmF.jpg: corrupt JPEG restored and saved\n",
            "\u001b[34m\u001b[1mtrain: \u001b[0m/kaggle/working/dataset-fold_7/train/images/ID_wvMeOv.jpg: corrupt JPEG restored and saved\n",
            "\u001b[34m\u001b[1mtrain: \u001b[0m/kaggle/working/dataset-fold_7/train/images/ID_x6WZsy.jpeg: corrupt JPEG restored and saved\n",
            "\u001b[34m\u001b[1mtrain: \u001b[0m/kaggle/working/dataset-fold_7/train/images/ID_xADtex.jpeg: corrupt JPEG restored and saved\n",
            "\u001b[34m\u001b[1mtrain: \u001b[0m/kaggle/working/dataset-fold_7/train/images/ID_xFalb9.jpg: corrupt JPEG restored and saved\n",
            "\u001b[34m\u001b[1mtrain: \u001b[0m/kaggle/working/dataset-fold_7/train/images/ID_xaQ1Pp.jpeg: corrupt JPEG restored and saved\n",
            "\u001b[34m\u001b[1mtrain: \u001b[0m/kaggle/working/dataset-fold_7/train/images/ID_xhwazg.jpeg: corrupt JPEG restored and saved\n",
            "\u001b[34m\u001b[1mtrain: \u001b[0m/kaggle/working/dataset-fold_7/train/images/ID_y0FHMz.jpg: corrupt JPEG restored and saved\n",
            "\u001b[34m\u001b[1mtrain: \u001b[0m/kaggle/working/dataset-fold_7/train/images/ID_y31JbP.jpeg: corrupt JPEG restored and saved\n",
            "\u001b[34m\u001b[1mtrain: \u001b[0m/kaggle/working/dataset-fold_7/train/images/ID_y3QgnO.jpg: corrupt JPEG restored and saved\n",
            "\u001b[34m\u001b[1mtrain: \u001b[0m/kaggle/working/dataset-fold_7/train/images/ID_yJY6yx.jpeg: corrupt JPEG restored and saved\n",
            "\u001b[34m\u001b[1mtrain: \u001b[0m/kaggle/working/dataset-fold_7/train/images/ID_yTKAOl.jpeg: corrupt JPEG restored and saved\n",
            "\u001b[34m\u001b[1mtrain: \u001b[0m/kaggle/working/dataset-fold_7/train/images/ID_yXnHjb.jpg: corrupt JPEG restored and saved\n",
            "\u001b[34m\u001b[1mtrain: \u001b[0m/kaggle/working/dataset-fold_7/train/images/ID_yZxf2F.jpeg: corrupt JPEG restored and saved\n",
            "\u001b[34m\u001b[1mtrain: \u001b[0m/kaggle/working/dataset-fold_7/train/images/ID_ya4jVu.jpeg: corrupt JPEG restored and saved\n",
            "\u001b[34m\u001b[1mtrain: \u001b[0m/kaggle/working/dataset-fold_7/train/images/ID_yd0aFD.jpg: corrupt JPEG restored and saved\n",
            "\u001b[34m\u001b[1mtrain: \u001b[0m/kaggle/working/dataset-fold_7/train/images/ID_yfr2HJ.jpeg: corrupt JPEG restored and saved\n",
            "\u001b[34m\u001b[1mtrain: \u001b[0m/kaggle/working/dataset-fold_7/train/images/ID_yiEku4.jpg: corrupt JPEG restored and saved\n",
            "\u001b[34m\u001b[1mtrain: \u001b[0m/kaggle/working/dataset-fold_7/train/images/ID_yjwlQG.jpeg: corrupt JPEG restored and saved\n",
            "\u001b[34m\u001b[1mtrain: \u001b[0m/kaggle/working/dataset-fold_7/train/images/ID_ykasdx.jpg: corrupt JPEG restored and saved\n",
            "\u001b[34m\u001b[1mtrain: \u001b[0m/kaggle/working/dataset-fold_7/train/images/ID_ylXlTv.jpg: corrupt JPEG restored and saved\n",
            "\u001b[34m\u001b[1mtrain: \u001b[0m/kaggle/working/dataset-fold_7/train/images/ID_ymMXcD.jpeg: corrupt JPEG restored and saved\n",
            "\u001b[34m\u001b[1mtrain: \u001b[0m/kaggle/working/dataset-fold_7/train/images/ID_yol9H8.jpeg: corrupt JPEG restored and saved\n",
            "\u001b[34m\u001b[1mtrain: \u001b[0m/kaggle/working/dataset-fold_7/train/images/ID_yqUspW.jpg: corrupt JPEG restored and saved\n",
            "\u001b[34m\u001b[1mtrain: \u001b[0m/kaggle/working/dataset-fold_7/train/images/ID_z6gC1L.jpg: corrupt JPEG restored and saved\n",
            "\u001b[34m\u001b[1mtrain: \u001b[0m/kaggle/working/dataset-fold_7/train/images/ID_zOEJFj.jpg: corrupt JPEG restored and saved\n",
            "\u001b[34m\u001b[1mtrain: \u001b[0m/kaggle/working/dataset-fold_7/train/images/ID_zQiLcy.jpg: corrupt JPEG restored and saved\n",
            "\u001b[34m\u001b[1mtrain: \u001b[0m/kaggle/working/dataset-fold_7/train/images/ID_zVL36E.jpg: corrupt JPEG restored and saved\n",
            "\u001b[34m\u001b[1mtrain: \u001b[0m/kaggle/working/dataset-fold_7/train/images/ID_zZM2jq.jpg: corrupt JPEG restored and saved\n",
            "\u001b[34m\u001b[1mtrain: \u001b[0m/kaggle/working/dataset-fold_7/train/images/ID_zltnVS.jpeg: corrupt JPEG restored and saved\n"
          ]
        },
        {
          "name": "stderr",
          "output_type": "stream",
          "text": [
            "\n"
          ]
        },
        {
          "name": "stdout",
          "output_type": "stream",
          "text": [
            "\u001b[34m\u001b[1mtrain: \u001b[0mNew cache created: /kaggle/working/dataset-fold_7/train/labels.cache\n",
            "\u001b[34m\u001b[1malbumentations: \u001b[0mBlur(p=0.01, blur_limit=(3, 7)), MedianBlur(p=0.01, blur_limit=(3, 7)), ToGray(p=0.01, num_output_channels=3, method='weighted_average'), CLAHE(p=0.01, clip_limit=(1.0, 4.0), tile_grid_size=(8, 8))\n",
            "\u001b[34m\u001b[1mval: \u001b[0mFast image access ✅ (ping: 0.0±0.0 ms, read: 768.8±925.2 MB/s, size: 1410.0 KB)\n"
          ]
        },
        {
          "name": "stderr",
          "output_type": "stream",
          "text": [
            "\u001b[34m\u001b[1mval: \u001b[0mScanning /kaggle/working/dataset-fold_7/valid/labels... 276 images, 0 backgrounds, 0 corrupt: 100%|██████████| 276/276 [00:05<00:00, 47.97it/s]"
          ]
        },
        {
          "name": "stdout",
          "output_type": "stream",
          "text": [
            "\u001b[34m\u001b[1mval: \u001b[0m/kaggle/working/dataset-fold_7/valid/images/ID_D8r1TO.jpg: corrupt JPEG restored and saved\n",
            "\u001b[34m\u001b[1mval: \u001b[0m/kaggle/working/dataset-fold_7/valid/images/ID_EJWqGf.jpeg: corrupt JPEG restored and saved\n",
            "\u001b[34m\u001b[1mval: \u001b[0m/kaggle/working/dataset-fold_7/valid/images/ID_Fm1oY7.jpg: corrupt JPEG restored and saved\n",
            "\u001b[34m\u001b[1mval: \u001b[0m/kaggle/working/dataset-fold_7/valid/images/ID_GQ4JN6.jpg: corrupt JPEG restored and saved\n",
            "\u001b[34m\u001b[1mval: \u001b[0m/kaggle/working/dataset-fold_7/valid/images/ID_K7sW7v.jpg: corrupt JPEG restored and saved\n",
            "\u001b[34m\u001b[1mval: \u001b[0m/kaggle/working/dataset-fold_7/valid/images/ID_LwJYsy.jpg: corrupt JPEG restored and saved\n",
            "\u001b[34m\u001b[1mval: \u001b[0m/kaggle/working/dataset-fold_7/valid/images/ID_MCZcC1.jpg: corrupt JPEG restored and saved\n",
            "\u001b[34m\u001b[1mval: \u001b[0m/kaggle/working/dataset-fold_7/valid/images/ID_NSzLqF.jpg: corrupt JPEG restored and saved\n",
            "\u001b[34m\u001b[1mval: \u001b[0m/kaggle/working/dataset-fold_7/valid/images/ID_UYftKa.jpg: corrupt JPEG restored and saved\n",
            "\u001b[34m\u001b[1mval: \u001b[0m/kaggle/working/dataset-fold_7/valid/images/ID_WKcQeb.jpg: corrupt JPEG restored and saved\n",
            "\u001b[34m\u001b[1mval: \u001b[0m/kaggle/working/dataset-fold_7/valid/images/ID_XVJE0g.jpg: corrupt JPEG restored and saved\n",
            "\u001b[34m\u001b[1mval: \u001b[0m/kaggle/working/dataset-fold_7/valid/images/ID_XifZNH.jpg: corrupt JPEG restored and saved\n",
            "\u001b[34m\u001b[1mval: \u001b[0m/kaggle/working/dataset-fold_7/valid/images/ID_YG32gk.jpg: corrupt JPEG restored and saved\n",
            "\u001b[34m\u001b[1mval: \u001b[0m/kaggle/working/dataset-fold_7/valid/images/ID_ZpcJbg.jpg: corrupt JPEG restored and saved\n",
            "\u001b[34m\u001b[1mval: \u001b[0m/kaggle/working/dataset-fold_7/valid/images/ID_clLM5l.jpeg: corrupt JPEG restored and saved\n",
            "\u001b[34m\u001b[1mval: \u001b[0m/kaggle/working/dataset-fold_7/valid/images/ID_dWBtGY.jpg: corrupt JPEG restored and saved\n",
            "\u001b[34m\u001b[1mval: \u001b[0m/kaggle/working/dataset-fold_7/valid/images/ID_ealn0i.jpg: corrupt JPEG restored and saved\n",
            "\u001b[34m\u001b[1mval: \u001b[0m/kaggle/working/dataset-fold_7/valid/images/ID_k6EcBg.jpg: corrupt JPEG restored and saved\n",
            "\u001b[34m\u001b[1mval: \u001b[0m/kaggle/working/dataset-fold_7/valid/images/ID_krz5Kc.jpeg: corrupt JPEG restored and saved\n",
            "\u001b[34m\u001b[1mval: \u001b[0m/kaggle/working/dataset-fold_7/valid/images/ID_mAbOtc.jpg: corrupt JPEG restored and saved\n",
            "\u001b[34m\u001b[1mval: \u001b[0m/kaggle/working/dataset-fold_7/valid/images/ID_njuz8k.jpeg: corrupt JPEG restored and saved\n",
            "\u001b[34m\u001b[1mval: \u001b[0m/kaggle/working/dataset-fold_7/valid/images/ID_prbmy9.jpg: corrupt JPEG restored and saved\n",
            "\u001b[34m\u001b[1mval: \u001b[0m/kaggle/working/dataset-fold_7/valid/images/ID_rCMbN1.jpg: corrupt JPEG restored and saved\n",
            "\u001b[34m\u001b[1mval: \u001b[0m/kaggle/working/dataset-fold_7/valid/images/ID_xQUj9z.jpg: corrupt JPEG restored and saved\n",
            "\u001b[34m\u001b[1mval: \u001b[0mNew cache created: /kaggle/working/dataset-fold_7/valid/labels.cache\n"
          ]
        },
        {
          "name": "stderr",
          "output_type": "stream",
          "text": [
            "\n"
          ]
        },
        {
          "name": "stdout",
          "output_type": "stream",
          "text": [
            "Plotting labels to runs/detect/train_fold_7_model_yolo11s_imgs_800/labels.jpg... \n",
            "\u001b[34m\u001b[1moptimizer:\u001b[0m AdamW(lr=0.0003, momentum=0.9) with parameter groups 81 weight(decay=0.0), 88 weight(decay=0.009375000000000001), 87 bias(decay=0.0)\n",
            "Image sizes 800 train, 800 val\n",
            "Using 4 dataloader workers\n",
            "Logging results to \u001b[1mruns/detect/train_fold_7_model_yolo11s_imgs_800\u001b[0m\n",
            "Starting training for 50 epochs...\n",
            "\n",
            "      Epoch    GPU_mem   box_loss   cls_loss   dfl_loss  Instances       Size\n"
          ]
        },
        {
          "name": "stderr",
          "output_type": "stream",
          "text": [
            "       1/50      4.18G      1.324      1.703       1.75         10        800: 100%|██████████| 526/526 [03:15<00:00,  2.69it/s]\n",
            "                 Class     Images  Instances      Box(P          R      mAP50  mAP50-95): 100%|██████████| 14/14 [00:06<00:00,  2.24it/s]"
          ]
        },
        {
          "name": "stdout",
          "output_type": "stream",
          "text": [
            "                   all        276        493      0.664      0.522      0.559      0.341\n"
          ]
        },
        {
          "name": "stderr",
          "output_type": "stream",
          "text": [
            "\n"
          ]
        },
        {
          "name": "stdout",
          "output_type": "stream",
          "text": [
            "\n",
            "      Epoch    GPU_mem   box_loss   cls_loss   dfl_loss  Instances       Size\n"
          ]
        },
        {
          "name": "stderr",
          "output_type": "stream",
          "text": [
            "       2/50      4.94G      1.256      1.419      1.679         22        800: 100%|██████████| 526/526 [03:08<00:00,  2.78it/s]\n",
            "                 Class     Images  Instances      Box(P          R      mAP50  mAP50-95): 100%|██████████| 14/14 [00:05<00:00,  2.55it/s]"
          ]
        },
        {
          "name": "stdout",
          "output_type": "stream",
          "text": [
            "                   all        276        493      0.683       0.55      0.617      0.372\n"
          ]
        },
        {
          "name": "stderr",
          "output_type": "stream",
          "text": [
            "\n"
          ]
        },
        {
          "name": "stdout",
          "output_type": "stream",
          "text": [
            "\n",
            "      Epoch    GPU_mem   box_loss   cls_loss   dfl_loss  Instances       Size\n"
          ]
        },
        {
          "name": "stderr",
          "output_type": "stream",
          "text": [
            "       3/50      4.94G      1.246      1.364      1.681          7        800: 100%|██████████| 526/526 [03:07<00:00,  2.80it/s]\n",
            "                 Class     Images  Instances      Box(P          R      mAP50  mAP50-95): 100%|██████████| 14/14 [00:05<00:00,  2.45it/s]"
          ]
        },
        {
          "name": "stdout",
          "output_type": "stream",
          "text": [
            "                   all        276        493      0.664      0.631      0.668      0.388\n"
          ]
        },
        {
          "name": "stderr",
          "output_type": "stream",
          "text": [
            "\n"
          ]
        },
        {
          "name": "stdout",
          "output_type": "stream",
          "text": [
            "\n",
            "      Epoch    GPU_mem   box_loss   cls_loss   dfl_loss  Instances       Size\n"
          ]
        },
        {
          "name": "stderr",
          "output_type": "stream",
          "text": [
            "       4/50      4.94G      1.236      1.349      1.657          6        800: 100%|██████████| 526/526 [03:08<00:00,  2.80it/s]\n",
            "                 Class     Images  Instances      Box(P          R      mAP50  mAP50-95): 100%|██████████| 14/14 [00:05<00:00,  2.75it/s]\n"
          ]
        },
        {
          "name": "stdout",
          "output_type": "stream",
          "text": [
            "                   all        276        493      0.722      0.576      0.638      0.388\n",
            "\n",
            "      Epoch    GPU_mem   box_loss   cls_loss   dfl_loss  Instances       Size\n"
          ]
        },
        {
          "name": "stderr",
          "output_type": "stream",
          "text": [
            "       5/50      4.94G      1.195      1.287      1.627         12        800: 100%|██████████| 526/526 [03:11<00:00,  2.74it/s]\n",
            "                 Class     Images  Instances      Box(P          R      mAP50  mAP50-95): 100%|██████████| 14/14 [00:05<00:00,  2.69it/s]"
          ]
        },
        {
          "name": "stdout",
          "output_type": "stream",
          "text": [
            "                   all        276        493      0.747      0.587      0.686      0.421\n"
          ]
        },
        {
          "name": "stderr",
          "output_type": "stream",
          "text": [
            "\n"
          ]
        },
        {
          "name": "stdout",
          "output_type": "stream",
          "text": [
            "\n",
            "      Epoch    GPU_mem   box_loss   cls_loss   dfl_loss  Instances       Size\n"
          ]
        },
        {
          "name": "stderr",
          "output_type": "stream",
          "text": [
            "       6/50      4.94G      1.189      1.277      1.627          7        800: 100%|██████████| 526/526 [03:10<00:00,  2.76it/s]\n",
            "                 Class     Images  Instances      Box(P          R      mAP50  mAP50-95): 100%|██████████| 14/14 [00:04<00:00,  2.84it/s]"
          ]
        },
        {
          "name": "stdout",
          "output_type": "stream",
          "text": [
            "                   all        276        493      0.741      0.619      0.705       0.45\n"
          ]
        },
        {
          "name": "stderr",
          "output_type": "stream",
          "text": [
            "\n"
          ]
        },
        {
          "name": "stdout",
          "output_type": "stream",
          "text": [
            "\n",
            "      Epoch    GPU_mem   box_loss   cls_loss   dfl_loss  Instances       Size\n"
          ]
        },
        {
          "name": "stderr",
          "output_type": "stream",
          "text": [
            "       7/50      4.94G      1.181      1.243      1.614         10        800: 100%|██████████| 526/526 [03:10<00:00,  2.77it/s]\n",
            "                 Class     Images  Instances      Box(P          R      mAP50  mAP50-95): 100%|██████████| 14/14 [00:05<00:00,  2.69it/s]"
          ]
        },
        {
          "name": "stdout",
          "output_type": "stream",
          "text": [
            "                   all        276        493      0.755      0.604      0.706      0.462\n"
          ]
        },
        {
          "name": "stderr",
          "output_type": "stream",
          "text": [
            "\n"
          ]
        },
        {
          "name": "stdout",
          "output_type": "stream",
          "text": [
            "\n",
            "      Epoch    GPU_mem   box_loss   cls_loss   dfl_loss  Instances       Size\n"
          ]
        },
        {
          "name": "stderr",
          "output_type": "stream",
          "text": [
            "       8/50      4.94G      1.168      1.202      1.606         13        800: 100%|██████████| 526/526 [03:08<00:00,  2.79it/s]\n",
            "                 Class     Images  Instances      Box(P          R      mAP50  mAP50-95): 100%|██████████| 14/14 [00:06<00:00,  2.20it/s]\n"
          ]
        },
        {
          "name": "stdout",
          "output_type": "stream",
          "text": [
            "                   all        276        493      0.746      0.616      0.701      0.452\n",
            "\n",
            "      Epoch    GPU_mem   box_loss   cls_loss   dfl_loss  Instances       Size\n"
          ]
        },
        {
          "name": "stderr",
          "output_type": "stream",
          "text": [
            "       9/50      4.94G      1.155      1.176      1.589         19        800: 100%|██████████| 526/526 [03:09<00:00,  2.77it/s]\n",
            "                 Class     Images  Instances      Box(P          R      mAP50  mAP50-95): 100%|██████████| 14/14 [00:05<00:00,  2.72it/s]"
          ]
        },
        {
          "name": "stdout",
          "output_type": "stream",
          "text": [
            "                   all        276        493       0.74      0.661      0.703      0.471\n"
          ]
        },
        {
          "name": "stderr",
          "output_type": "stream",
          "text": [
            "\n"
          ]
        },
        {
          "name": "stdout",
          "output_type": "stream",
          "text": [
            "\n",
            "      Epoch    GPU_mem   box_loss   cls_loss   dfl_loss  Instances       Size\n"
          ]
        },
        {
          "name": "stderr",
          "output_type": "stream",
          "text": [
            "      10/50      4.94G      1.148      1.164      1.588         23        800: 100%|██████████| 526/526 [03:12<00:00,  2.73it/s]\n",
            "                 Class     Images  Instances      Box(P          R      mAP50  mAP50-95): 100%|██████████| 14/14 [00:05<00:00,  2.77it/s]"
          ]
        },
        {
          "name": "stdout",
          "output_type": "stream",
          "text": [
            "                   all        276        493      0.751      0.636      0.713       0.47\n"
          ]
        },
        {
          "name": "stderr",
          "output_type": "stream",
          "text": [
            "\n"
          ]
        },
        {
          "name": "stdout",
          "output_type": "stream",
          "text": [
            "\n",
            "      Epoch    GPU_mem   box_loss   cls_loss   dfl_loss  Instances       Size\n"
          ]
        },
        {
          "name": "stderr",
          "output_type": "stream",
          "text": [
            "      11/50      4.94G      1.135      1.152      1.573         10        800: 100%|██████████| 526/526 [03:11<00:00,  2.75it/s]\n",
            "                 Class     Images  Instances      Box(P          R      mAP50  mAP50-95): 100%|██████████| 14/14 [00:05<00:00,  2.45it/s]"
          ]
        },
        {
          "name": "stdout",
          "output_type": "stream",
          "text": [
            "                   all        276        493      0.736      0.628      0.704      0.463\n"
          ]
        },
        {
          "name": "stderr",
          "output_type": "stream",
          "text": [
            "\n"
          ]
        },
        {
          "name": "stdout",
          "output_type": "stream",
          "text": [
            "\n",
            "      Epoch    GPU_mem   box_loss   cls_loss   dfl_loss  Instances       Size\n"
          ]
        },
        {
          "name": "stderr",
          "output_type": "stream",
          "text": [
            "      12/50      4.94G      1.136      1.133      1.574          7        800: 100%|██████████| 526/526 [03:12<00:00,  2.73it/s]\n",
            "                 Class     Images  Instances      Box(P          R      mAP50  mAP50-95): 100%|██████████| 14/14 [00:04<00:00,  2.81it/s]"
          ]
        },
        {
          "name": "stdout",
          "output_type": "stream",
          "text": [
            "                   all        276        493      0.732      0.664      0.721      0.483\n"
          ]
        },
        {
          "name": "stderr",
          "output_type": "stream",
          "text": [
            "\n"
          ]
        },
        {
          "name": "stdout",
          "output_type": "stream",
          "text": [
            "\n",
            "      Epoch    GPU_mem   box_loss   cls_loss   dfl_loss  Instances       Size\n"
          ]
        },
        {
          "name": "stderr",
          "output_type": "stream",
          "text": [
            "      13/50      4.94G      1.117      1.099      1.555         14        800: 100%|██████████| 526/526 [03:11<00:00,  2.74it/s]\n",
            "                 Class     Images  Instances      Box(P          R      mAP50  mAP50-95): 100%|██████████| 14/14 [00:06<00:00,  2.32it/s]"
          ]
        },
        {
          "name": "stdout",
          "output_type": "stream",
          "text": [
            "                   all        276        493      0.746      0.676      0.739      0.488\n"
          ]
        },
        {
          "name": "stderr",
          "output_type": "stream",
          "text": [
            "\n"
          ]
        },
        {
          "name": "stdout",
          "output_type": "stream",
          "text": [
            "\n",
            "      Epoch    GPU_mem   box_loss   cls_loss   dfl_loss  Instances       Size\n"
          ]
        },
        {
          "name": "stderr",
          "output_type": "stream",
          "text": [
            "      14/50      4.94G      1.118       1.12      1.562         14        800: 100%|██████████| 526/526 [03:08<00:00,  2.80it/s]\n",
            "                 Class     Images  Instances      Box(P          R      mAP50  mAP50-95): 100%|██████████| 14/14 [00:05<00:00,  2.59it/s]\n"
          ]
        },
        {
          "name": "stdout",
          "output_type": "stream",
          "text": [
            "                   all        276        493      0.744      0.673      0.733      0.482\n",
            "\n",
            "      Epoch    GPU_mem   box_loss   cls_loss   dfl_loss  Instances       Size\n"
          ]
        },
        {
          "name": "stderr",
          "output_type": "stream",
          "text": [
            "      15/50      4.94G      1.112       1.08      1.556          9        800: 100%|██████████| 526/526 [03:11<00:00,  2.75it/s]\n",
            "                 Class     Images  Instances      Box(P          R      mAP50  mAP50-95): 100%|██████████| 14/14 [00:04<00:00,  2.89it/s]"
          ]
        },
        {
          "name": "stdout",
          "output_type": "stream",
          "text": [
            "                   all        276        493      0.761      0.666      0.743      0.499\n"
          ]
        },
        {
          "name": "stderr",
          "output_type": "stream",
          "text": [
            "\n"
          ]
        },
        {
          "name": "stdout",
          "output_type": "stream",
          "text": [
            "\n",
            "      Epoch    GPU_mem   box_loss   cls_loss   dfl_loss  Instances       Size\n"
          ]
        },
        {
          "name": "stderr",
          "output_type": "stream",
          "text": [
            "      16/50      4.94G      1.099      1.075      1.549         15        800: 100%|██████████| 526/526 [03:10<00:00,  2.77it/s]\n",
            "                 Class     Images  Instances      Box(P          R      mAP50  mAP50-95): 100%|██████████| 14/14 [00:05<00:00,  2.66it/s]\n"
          ]
        },
        {
          "name": "stdout",
          "output_type": "stream",
          "text": [
            "                   all        276        493       0.78      0.695       0.76      0.509\n",
            "\n",
            "      Epoch    GPU_mem   box_loss   cls_loss   dfl_loss  Instances       Size\n"
          ]
        },
        {
          "name": "stderr",
          "output_type": "stream",
          "text": [
            "      17/50      4.94G      1.089      1.051      1.537         16        800: 100%|██████████| 526/526 [03:10<00:00,  2.76it/s]\n",
            "                 Class     Images  Instances      Box(P          R      mAP50  mAP50-95): 100%|██████████| 14/14 [00:06<00:00,  2.06it/s]"
          ]
        },
        {
          "name": "stdout",
          "output_type": "stream",
          "text": [
            "                   all        276        493      0.799      0.655      0.746      0.505\n"
          ]
        },
        {
          "name": "stderr",
          "output_type": "stream",
          "text": [
            "\n"
          ]
        },
        {
          "name": "stdout",
          "output_type": "stream",
          "text": [
            "\n",
            "      Epoch    GPU_mem   box_loss   cls_loss   dfl_loss  Instances       Size\n"
          ]
        },
        {
          "name": "stderr",
          "output_type": "stream",
          "text": [
            "      18/50      4.94G      1.082      1.026      1.534          6        800: 100%|██████████| 526/526 [03:06<00:00,  2.81it/s]\n",
            "                 Class     Images  Instances      Box(P          R      mAP50  mAP50-95): 100%|██████████| 14/14 [00:05<00:00,  2.44it/s]"
          ]
        },
        {
          "name": "stdout",
          "output_type": "stream",
          "text": [
            "                   all        276        493      0.772       0.67      0.752      0.505\n"
          ]
        },
        {
          "name": "stderr",
          "output_type": "stream",
          "text": [
            "\n"
          ]
        },
        {
          "name": "stdout",
          "output_type": "stream",
          "text": [
            "\n",
            "      Epoch    GPU_mem   box_loss   cls_loss   dfl_loss  Instances       Size\n"
          ]
        },
        {
          "name": "stderr",
          "output_type": "stream",
          "text": [
            "      19/50      4.94G      1.079      1.031      1.528         11        800: 100%|██████████| 526/526 [03:11<00:00,  2.74it/s]\n",
            "                 Class     Images  Instances      Box(P          R      mAP50  mAP50-95): 100%|██████████| 14/14 [00:05<00:00,  2.68it/s]"
          ]
        },
        {
          "name": "stdout",
          "output_type": "stream",
          "text": [
            "                   all        276        493      0.762      0.685      0.752      0.503\n"
          ]
        },
        {
          "name": "stderr",
          "output_type": "stream",
          "text": [
            "\n"
          ]
        },
        {
          "name": "stdout",
          "output_type": "stream",
          "text": [
            "\n",
            "      Epoch    GPU_mem   box_loss   cls_loss   dfl_loss  Instances       Size\n"
          ]
        },
        {
          "name": "stderr",
          "output_type": "stream",
          "text": [
            "      20/50      4.94G      1.061      1.007      1.517          5        800: 100%|██████████| 526/526 [03:10<00:00,  2.76it/s]\n",
            "                 Class     Images  Instances      Box(P          R      mAP50  mAP50-95): 100%|██████████| 14/14 [00:05<00:00,  2.44it/s]\n"
          ]
        },
        {
          "name": "stdout",
          "output_type": "stream",
          "text": [
            "                   all        276        493      0.742       0.69      0.749      0.509\n",
            "\n",
            "      Epoch    GPU_mem   box_loss   cls_loss   dfl_loss  Instances       Size\n"
          ]
        },
        {
          "name": "stderr",
          "output_type": "stream",
          "text": [
            "      21/50      4.94G      1.073      1.002      1.521         12        800: 100%|██████████| 526/526 [03:08<00:00,  2.79it/s]\n",
            "                 Class     Images  Instances      Box(P          R      mAP50  mAP50-95): 100%|██████████| 14/14 [00:05<00:00,  2.41it/s]\n"
          ]
        },
        {
          "name": "stdout",
          "output_type": "stream",
          "text": [
            "                   all        276        493      0.791      0.665      0.751       0.51\n",
            "\n",
            "      Epoch    GPU_mem   box_loss   cls_loss   dfl_loss  Instances       Size\n"
          ]
        },
        {
          "name": "stderr",
          "output_type": "stream",
          "text": [
            "      22/50      4.94G      1.058     0.9938      1.506         14        800: 100%|██████████| 526/526 [03:10<00:00,  2.76it/s]\n",
            "                 Class     Images  Instances      Box(P          R      mAP50  mAP50-95): 100%|██████████| 14/14 [00:05<00:00,  2.54it/s]"
          ]
        },
        {
          "name": "stdout",
          "output_type": "stream",
          "text": [
            "                   all        276        493      0.778      0.697      0.769       0.52\n"
          ]
        },
        {
          "name": "stderr",
          "output_type": "stream",
          "text": [
            "\n"
          ]
        },
        {
          "name": "stdout",
          "output_type": "stream",
          "text": [
            "\n",
            "      Epoch    GPU_mem   box_loss   cls_loss   dfl_loss  Instances       Size\n"
          ]
        },
        {
          "name": "stderr",
          "output_type": "stream",
          "text": [
            "      23/50      4.94G      1.053     0.9877      1.504          8        800: 100%|██████████| 526/526 [03:11<00:00,  2.75it/s]\n",
            "                 Class     Images  Instances      Box(P          R      mAP50  mAP50-95): 100%|██████████| 14/14 [00:05<00:00,  2.55it/s]\n"
          ]
        },
        {
          "name": "stdout",
          "output_type": "stream",
          "text": [
            "                   all        276        493      0.755      0.704      0.775      0.522\n",
            "\n",
            "      Epoch    GPU_mem   box_loss   cls_loss   dfl_loss  Instances       Size\n"
          ]
        },
        {
          "name": "stderr",
          "output_type": "stream",
          "text": [
            "      24/50      4.94G      1.045     0.9713      1.495         17        800: 100%|██████████| 526/526 [03:10<00:00,  2.77it/s]\n",
            "                 Class     Images  Instances      Box(P          R      mAP50  mAP50-95): 100%|██████████| 14/14 [00:05<00:00,  2.44it/s]"
          ]
        },
        {
          "name": "stdout",
          "output_type": "stream",
          "text": [
            "                   all        276        493      0.792      0.695      0.774      0.517\n"
          ]
        },
        {
          "name": "stderr",
          "output_type": "stream",
          "text": [
            "\n"
          ]
        },
        {
          "name": "stdout",
          "output_type": "stream",
          "text": [
            "\n",
            "      Epoch    GPU_mem   box_loss   cls_loss   dfl_loss  Instances       Size\n"
          ]
        },
        {
          "name": "stderr",
          "output_type": "stream",
          "text": [
            "      25/50      4.94G      1.045     0.9568      1.492         11        800: 100%|██████████| 526/526 [03:08<00:00,  2.78it/s]\n",
            "                 Class     Images  Instances      Box(P          R      mAP50  mAP50-95): 100%|██████████| 14/14 [00:05<00:00,  2.74it/s]"
          ]
        },
        {
          "name": "stdout",
          "output_type": "stream",
          "text": [
            "                   all        276        493       0.79      0.685      0.768      0.516\n"
          ]
        },
        {
          "name": "stderr",
          "output_type": "stream",
          "text": [
            "\n"
          ]
        },
        {
          "name": "stdout",
          "output_type": "stream",
          "text": [
            "\n",
            "      Epoch    GPU_mem   box_loss   cls_loss   dfl_loss  Instances       Size\n"
          ]
        },
        {
          "name": "stderr",
          "output_type": "stream",
          "text": [
            "      26/50      4.94G      1.036     0.9442      1.488         12        800: 100%|██████████| 526/526 [03:12<00:00,  2.73it/s]\n",
            "                 Class     Images  Instances      Box(P          R      mAP50  mAP50-95): 100%|██████████| 14/14 [00:05<00:00,  2.72it/s]\n"
          ]
        },
        {
          "name": "stdout",
          "output_type": "stream",
          "text": [
            "                   all        276        493      0.762      0.667      0.746      0.502\n",
            "\n",
            "      Epoch    GPU_mem   box_loss   cls_loss   dfl_loss  Instances       Size\n"
          ]
        },
        {
          "name": "stderr",
          "output_type": "stream",
          "text": [
            "      27/50      4.94G      1.035     0.9225      1.483          9        800: 100%|██████████| 526/526 [03:13<00:00,  2.72it/s]\n",
            "                 Class     Images  Instances      Box(P          R      mAP50  mAP50-95): 100%|██████████| 14/14 [00:05<00:00,  2.37it/s]"
          ]
        },
        {
          "name": "stdout",
          "output_type": "stream",
          "text": [
            "                   all        276        493      0.781      0.672      0.775      0.526\n"
          ]
        },
        {
          "name": "stderr",
          "output_type": "stream",
          "text": [
            "\n"
          ]
        },
        {
          "name": "stdout",
          "output_type": "stream",
          "text": [
            "\n",
            "      Epoch    GPU_mem   box_loss   cls_loss   dfl_loss  Instances       Size\n"
          ]
        },
        {
          "name": "stderr",
          "output_type": "stream",
          "text": [
            "      28/50      4.94G       1.02     0.9337      1.474         13        800: 100%|██████████| 526/526 [03:10<00:00,  2.76it/s]\n",
            "                 Class     Images  Instances      Box(P          R      mAP50  mAP50-95): 100%|██████████| 14/14 [00:05<00:00,  2.40it/s]"
          ]
        },
        {
          "name": "stdout",
          "output_type": "stream",
          "text": [
            "                   all        276        493       0.79      0.693      0.777      0.522\n"
          ]
        },
        {
          "name": "stderr",
          "output_type": "stream",
          "text": [
            "\n"
          ]
        },
        {
          "name": "stdout",
          "output_type": "stream",
          "text": [
            "\n",
            "      Epoch    GPU_mem   box_loss   cls_loss   dfl_loss  Instances       Size\n"
          ]
        },
        {
          "name": "stderr",
          "output_type": "stream",
          "text": [
            "      29/50      4.94G      1.023     0.9344       1.48         16        800: 100%|██████████| 526/526 [03:09<00:00,  2.77it/s]\n",
            "                 Class     Images  Instances      Box(P          R      mAP50  mAP50-95): 100%|██████████| 14/14 [00:05<00:00,  2.59it/s]"
          ]
        },
        {
          "name": "stdout",
          "output_type": "stream",
          "text": [
            "                   all        276        493      0.782      0.664      0.759      0.509\n"
          ]
        },
        {
          "name": "stderr",
          "output_type": "stream",
          "text": [
            "\n"
          ]
        },
        {
          "name": "stdout",
          "output_type": "stream",
          "text": [
            "\n",
            "      Epoch    GPU_mem   box_loss   cls_loss   dfl_loss  Instances       Size\n"
          ]
        },
        {
          "name": "stderr",
          "output_type": "stream",
          "text": [
            "      30/50      4.94G      1.011     0.9047      1.467         11        800: 100%|██████████| 526/526 [03:09<00:00,  2.78it/s]\n",
            "                 Class     Images  Instances      Box(P          R      mAP50  mAP50-95): 100%|██████████| 14/14 [00:04<00:00,  2.91it/s]"
          ]
        },
        {
          "name": "stdout",
          "output_type": "stream",
          "text": [
            "                   all        276        493      0.783       0.68      0.769      0.526\n"
          ]
        },
        {
          "name": "stderr",
          "output_type": "stream",
          "text": [
            "\n"
          ]
        },
        {
          "name": "stdout",
          "output_type": "stream",
          "text": [
            "Closing dataloader mosaic\n",
            "\u001b[34m\u001b[1malbumentations: \u001b[0mBlur(p=0.01, blur_limit=(3, 7)), MedianBlur(p=0.01, blur_limit=(3, 7)), ToGray(p=0.01, num_output_channels=3, method='weighted_average'), CLAHE(p=0.01, clip_limit=(1.0, 4.0), tile_grid_size=(8, 8))\n",
            "\n",
            "      Epoch    GPU_mem   box_loss   cls_loss   dfl_loss  Instances       Size\n"
          ]
        },
        {
          "name": "stderr",
          "output_type": "stream",
          "text": [
            "      31/50      4.94G       1.03     0.8834      1.594          3        800: 100%|██████████| 526/526 [03:11<00:00,  2.75it/s]\n",
            "                 Class     Images  Instances      Box(P          R      mAP50  mAP50-95): 100%|██████████| 14/14 [00:05<00:00,  2.79it/s]"
          ]
        },
        {
          "name": "stdout",
          "output_type": "stream",
          "text": [
            "                   all        276        493      0.781      0.677      0.772      0.524\n"
          ]
        },
        {
          "name": "stderr",
          "output_type": "stream",
          "text": [
            "\n"
          ]
        },
        {
          "name": "stdout",
          "output_type": "stream",
          "text": [
            "\n",
            "      Epoch    GPU_mem   box_loss   cls_loss   dfl_loss  Instances       Size\n"
          ]
        },
        {
          "name": "stderr",
          "output_type": "stream",
          "text": [
            "      32/50      4.94G      1.019     0.8395      1.585          5        800: 100%|██████████| 526/526 [03:04<00:00,  2.84it/s]\n",
            "                 Class     Images  Instances      Box(P          R      mAP50  mAP50-95): 100%|██████████| 14/14 [00:04<00:00,  3.01it/s]\n"
          ]
        },
        {
          "name": "stdout",
          "output_type": "stream",
          "text": [
            "                   all        276        493      0.781      0.696      0.778      0.528\n",
            "\n",
            "      Epoch    GPU_mem   box_loss   cls_loss   dfl_loss  Instances       Size\n"
          ]
        },
        {
          "name": "stderr",
          "output_type": "stream",
          "text": [
            "      33/50      4.94G      1.006     0.8241      1.575          6        800: 100%|██████████| 526/526 [03:07<00:00,  2.81it/s]\n",
            "                 Class     Images  Instances      Box(P          R      mAP50  mAP50-95): 100%|██████████| 14/14 [00:05<00:00,  2.39it/s]"
          ]
        },
        {
          "name": "stdout",
          "output_type": "stream",
          "text": [
            "                   all        276        493      0.829      0.683      0.789      0.543\n"
          ]
        },
        {
          "name": "stderr",
          "output_type": "stream",
          "text": [
            "\n"
          ]
        },
        {
          "name": "stdout",
          "output_type": "stream",
          "text": [
            "\n",
            "      Epoch    GPU_mem   box_loss   cls_loss   dfl_loss  Instances       Size\n"
          ]
        },
        {
          "name": "stderr",
          "output_type": "stream",
          "text": [
            "      34/50      4.94G     0.9951     0.8002       1.56          4        800: 100%|██████████| 526/526 [03:02<00:00,  2.88it/s]\n",
            "                 Class     Images  Instances      Box(P          R      mAP50  mAP50-95): 100%|██████████| 14/14 [00:04<00:00,  2.82it/s]"
          ]
        },
        {
          "name": "stdout",
          "output_type": "stream",
          "text": [
            "                   all        276        493      0.817      0.668      0.783      0.538\n"
          ]
        },
        {
          "name": "stderr",
          "output_type": "stream",
          "text": [
            "\n"
          ]
        },
        {
          "name": "stdout",
          "output_type": "stream",
          "text": [
            "\n",
            "      Epoch    GPU_mem   box_loss   cls_loss   dfl_loss  Instances       Size\n"
          ]
        },
        {
          "name": "stderr",
          "output_type": "stream",
          "text": [
            "      35/50      4.94G     0.9815     0.7906      1.546          7        800: 100%|██████████| 526/526 [03:06<00:00,  2.82it/s]\n",
            "                 Class     Images  Instances      Box(P          R      mAP50  mAP50-95): 100%|██████████| 14/14 [00:04<00:00,  2.88it/s]\n"
          ]
        },
        {
          "name": "stdout",
          "output_type": "stream",
          "text": [
            "                   all        276        493      0.784      0.698      0.772      0.532\n",
            "\n",
            "      Epoch    GPU_mem   box_loss   cls_loss   dfl_loss  Instances       Size\n"
          ]
        },
        {
          "name": "stderr",
          "output_type": "stream",
          "text": [
            "      36/50      4.94G     0.9702     0.7761      1.533          6        800: 100%|██████████| 526/526 [03:02<00:00,  2.89it/s]\n",
            "                 Class     Images  Instances      Box(P          R      mAP50  mAP50-95): 100%|██████████| 14/14 [00:04<00:00,  2.81it/s]"
          ]
        },
        {
          "name": "stdout",
          "output_type": "stream",
          "text": [
            "                   all        276        493      0.825      0.677      0.786      0.541\n"
          ]
        },
        {
          "name": "stderr",
          "output_type": "stream",
          "text": [
            "\n"
          ]
        },
        {
          "name": "stdout",
          "output_type": "stream",
          "text": [
            "\n",
            "      Epoch    GPU_mem   box_loss   cls_loss   dfl_loss  Instances       Size\n"
          ]
        },
        {
          "name": "stderr",
          "output_type": "stream",
          "text": [
            "      37/50      4.94G     0.9614     0.7522       1.53          6        800: 100%|██████████| 526/526 [03:04<00:00,  2.85it/s]\n",
            "                 Class     Images  Instances      Box(P          R      mAP50  mAP50-95): 100%|██████████| 14/14 [00:05<00:00,  2.63it/s]"
          ]
        },
        {
          "name": "stdout",
          "output_type": "stream",
          "text": [
            "                   all        276        493      0.841      0.671      0.785       0.54\n"
          ]
        },
        {
          "name": "stderr",
          "output_type": "stream",
          "text": [
            "\n"
          ]
        },
        {
          "name": "stdout",
          "output_type": "stream",
          "text": [
            "\n",
            "      Epoch    GPU_mem   box_loss   cls_loss   dfl_loss  Instances       Size\n"
          ]
        },
        {
          "name": "stderr",
          "output_type": "stream",
          "text": [
            "      38/50      4.94G     0.9597     0.7504      1.531          9        800: 100%|██████████| 526/526 [03:05<00:00,  2.84it/s]\n",
            "                 Class     Images  Instances      Box(P          R      mAP50  mAP50-95): 100%|██████████| 14/14 [00:05<00:00,  2.65it/s]\n"
          ]
        },
        {
          "name": "stdout",
          "output_type": "stream",
          "text": [
            "                   all        276        493      0.853      0.649      0.773      0.533\n",
            "\n",
            "      Epoch    GPU_mem   box_loss   cls_loss   dfl_loss  Instances       Size\n"
          ]
        },
        {
          "name": "stderr",
          "output_type": "stream",
          "text": [
            "      39/50      4.94G     0.9362     0.7304       1.51          5        800: 100%|██████████| 526/526 [03:00<00:00,  2.91it/s]\n",
            "                 Class     Images  Instances      Box(P          R      mAP50  mAP50-95): 100%|██████████| 14/14 [00:05<00:00,  2.76it/s]"
          ]
        },
        {
          "name": "stdout",
          "output_type": "stream",
          "text": [
            "                   all        276        493      0.798      0.675      0.778      0.533\n"
          ]
        },
        {
          "name": "stderr",
          "output_type": "stream",
          "text": [
            "\n"
          ]
        },
        {
          "name": "stdout",
          "output_type": "stream",
          "text": [
            "\n",
            "      Epoch    GPU_mem   box_loss   cls_loss   dfl_loss  Instances       Size\n"
          ]
        },
        {
          "name": "stderr",
          "output_type": "stream",
          "text": [
            "      40/50      4.94G     0.9285     0.7139        1.5          9        800: 100%|██████████| 526/526 [03:05<00:00,  2.84it/s]\n",
            "                 Class     Images  Instances      Box(P          R      mAP50  mAP50-95): 100%|██████████| 14/14 [00:05<00:00,  2.67it/s]"
          ]
        },
        {
          "name": "stdout",
          "output_type": "stream",
          "text": [
            "                   all        276        493      0.794      0.691      0.778       0.54\n"
          ]
        },
        {
          "name": "stderr",
          "output_type": "stream",
          "text": [
            "\n"
          ]
        },
        {
          "name": "stdout",
          "output_type": "stream",
          "text": [
            "\n",
            "      Epoch    GPU_mem   box_loss   cls_loss   dfl_loss  Instances       Size\n"
          ]
        },
        {
          "name": "stderr",
          "output_type": "stream",
          "text": [
            "      41/50      4.94G      0.921     0.6973      1.496          3        800: 100%|██████████| 526/526 [03:03<00:00,  2.87it/s]\n",
            "                 Class     Images  Instances      Box(P          R      mAP50  mAP50-95): 100%|██████████| 14/14 [00:04<00:00,  2.84it/s]"
          ]
        },
        {
          "name": "stdout",
          "output_type": "stream",
          "text": [
            "                   all        276        493      0.809      0.667      0.775      0.535\n"
          ]
        },
        {
          "name": "stderr",
          "output_type": "stream",
          "text": [
            "\n"
          ]
        },
        {
          "name": "stdout",
          "output_type": "stream",
          "text": [
            "\n",
            "      Epoch    GPU_mem   box_loss   cls_loss   dfl_loss  Instances       Size\n"
          ]
        },
        {
          "name": "stderr",
          "output_type": "stream",
          "text": [
            "      42/50      4.94G     0.9103      0.692      1.483          5        800: 100%|██████████| 526/526 [03:03<00:00,  2.86it/s]\n",
            "                 Class     Images  Instances      Box(P          R      mAP50  mAP50-95): 100%|██████████| 14/14 [00:05<00:00,  2.45it/s]"
          ]
        },
        {
          "name": "stdout",
          "output_type": "stream",
          "text": [
            "                   all        276        493      0.821      0.668      0.777      0.538\n"
          ]
        },
        {
          "name": "stderr",
          "output_type": "stream",
          "text": [
            "\n"
          ]
        },
        {
          "name": "stdout",
          "output_type": "stream",
          "text": [
            "\n",
            "      Epoch    GPU_mem   box_loss   cls_loss   dfl_loss  Instances       Size\n"
          ]
        },
        {
          "name": "stderr",
          "output_type": "stream",
          "text": [
            "      43/50      4.94G     0.8955     0.6785      1.468         10        800: 100%|██████████| 526/526 [03:07<00:00,  2.81it/s]\n",
            "                 Class     Images  Instances      Box(P          R      mAP50  mAP50-95): 100%|██████████| 14/14 [00:05<00:00,  2.78it/s]\n"
          ]
        },
        {
          "name": "stdout",
          "output_type": "stream",
          "text": [
            "                   all        276        493      0.816       0.67      0.781      0.539\n",
            "\n",
            "      Epoch    GPU_mem   box_loss   cls_loss   dfl_loss  Instances       Size\n"
          ]
        },
        {
          "name": "stderr",
          "output_type": "stream",
          "text": [
            "      44/50      4.94G     0.8888     0.6628      1.457         11        800: 100%|██████████| 526/526 [03:03<00:00,  2.87it/s]\n",
            "                 Class     Images  Instances      Box(P          R      mAP50  mAP50-95): 100%|██████████| 14/14 [00:05<00:00,  2.39it/s]"
          ]
        },
        {
          "name": "stdout",
          "output_type": "stream",
          "text": [
            "                   all        276        493      0.799      0.673      0.778      0.536\n"
          ]
        },
        {
          "name": "stderr",
          "output_type": "stream",
          "text": [
            "\n"
          ]
        },
        {
          "name": "stdout",
          "output_type": "stream",
          "text": [
            "\n",
            "      Epoch    GPU_mem   box_loss   cls_loss   dfl_loss  Instances       Size\n"
          ]
        },
        {
          "name": "stderr",
          "output_type": "stream",
          "text": [
            "      45/50      4.94G     0.8825     0.6549      1.455          8        800: 100%|██████████| 526/526 [03:05<00:00,  2.84it/s]\n",
            "                 Class     Images  Instances      Box(P          R      mAP50  mAP50-95): 100%|██████████| 14/14 [00:05<00:00,  2.78it/s]"
          ]
        },
        {
          "name": "stdout",
          "output_type": "stream",
          "text": [
            "                   all        276        493       0.79      0.667      0.768      0.533\n"
          ]
        },
        {
          "name": "stderr",
          "output_type": "stream",
          "text": [
            "\n"
          ]
        },
        {
          "name": "stdout",
          "output_type": "stream",
          "text": [
            "\n",
            "      Epoch    GPU_mem   box_loss   cls_loss   dfl_loss  Instances       Size\n"
          ]
        },
        {
          "name": "stderr",
          "output_type": "stream",
          "text": [
            "      46/50      4.94G      0.871     0.6385       1.45          4        800: 100%|██████████| 526/526 [03:02<00:00,  2.88it/s]\n",
            "                 Class     Images  Instances      Box(P          R      mAP50  mAP50-95): 100%|██████████| 14/14 [00:05<00:00,  2.70it/s]"
          ]
        },
        {
          "name": "stdout",
          "output_type": "stream",
          "text": [
            "                   all        276        493      0.781      0.699      0.774      0.538\n"
          ]
        },
        {
          "name": "stderr",
          "output_type": "stream",
          "text": [
            "\n"
          ]
        },
        {
          "name": "stdout",
          "output_type": "stream",
          "text": [
            "\n",
            "      Epoch    GPU_mem   box_loss   cls_loss   dfl_loss  Instances       Size\n"
          ]
        },
        {
          "name": "stderr",
          "output_type": "stream",
          "text": [
            "      47/50      4.94G     0.8558     0.6331      1.436          6        800: 100%|██████████| 526/526 [03:02<00:00,  2.88it/s]\n",
            "                 Class     Images  Instances      Box(P          R      mAP50  mAP50-95): 100%|██████████| 14/14 [00:04<00:00,  2.97it/s]"
          ]
        },
        {
          "name": "stdout",
          "output_type": "stream",
          "text": [
            "                   all        276        493       0.77      0.696      0.768      0.532\n"
          ]
        },
        {
          "name": "stderr",
          "output_type": "stream",
          "text": [
            "\n"
          ]
        },
        {
          "name": "stdout",
          "output_type": "stream",
          "text": [
            "\n",
            "      Epoch    GPU_mem   box_loss   cls_loss   dfl_loss  Instances       Size\n"
          ]
        },
        {
          "name": "stderr",
          "output_type": "stream",
          "text": [
            "      48/50      4.94G     0.8573     0.6309      1.438          5        800: 100%|██████████| 526/526 [03:04<00:00,  2.86it/s]\n",
            "                 Class     Images  Instances      Box(P          R      mAP50  mAP50-95): 100%|██████████| 14/14 [00:05<00:00,  2.70it/s]"
          ]
        },
        {
          "name": "stdout",
          "output_type": "stream",
          "text": [
            "                   all        276        493      0.764      0.696      0.764      0.526\n"
          ]
        },
        {
          "name": "stderr",
          "output_type": "stream",
          "text": [
            "\n"
          ]
        },
        {
          "name": "stdout",
          "output_type": "stream",
          "text": [
            "\n",
            "      Epoch    GPU_mem   box_loss   cls_loss   dfl_loss  Instances       Size\n"
          ]
        },
        {
          "name": "stderr",
          "output_type": "stream",
          "text": [
            "      49/50      4.94G     0.8514     0.6176      1.431          3        800: 100%|██████████| 526/526 [03:01<00:00,  2.89it/s]\n",
            "                 Class     Images  Instances      Box(P          R      mAP50  mAP50-95): 100%|██████████| 14/14 [00:05<00:00,  2.51it/s]"
          ]
        },
        {
          "name": "stdout",
          "output_type": "stream",
          "text": [
            "                   all        276        493      0.749      0.695      0.763      0.524\n"
          ]
        },
        {
          "name": "stderr",
          "output_type": "stream",
          "text": [
            "\n"
          ]
        },
        {
          "name": "stdout",
          "output_type": "stream",
          "text": [
            "\n",
            "      Epoch    GPU_mem   box_loss   cls_loss   dfl_loss  Instances       Size\n"
          ]
        },
        {
          "name": "stderr",
          "output_type": "stream",
          "text": [
            "      50/50      4.94G     0.8422     0.6091      1.429          8        800: 100%|██████████| 526/526 [03:02<00:00,  2.88it/s]\n",
            "                 Class     Images  Instances      Box(P          R      mAP50  mAP50-95): 100%|██████████| 14/14 [00:06<00:00,  2.09it/s]"
          ]
        },
        {
          "name": "stdout",
          "output_type": "stream",
          "text": [
            "                   all        276        493      0.771      0.686      0.768      0.525\n"
          ]
        },
        {
          "name": "stderr",
          "output_type": "stream",
          "text": [
            "\n"
          ]
        },
        {
          "name": "stdout",
          "output_type": "stream",
          "text": [
            "\n",
            "50 epochs completed in 2.706 hours.\n",
            "Optimizer stripped from runs/detect/train_fold_7_model_yolo11s_imgs_800/weights/last.pt, 19.2MB\n",
            "Optimizer stripped from runs/detect/train_fold_7_model_yolo11s_imgs_800/weights/best.pt, 19.2MB\n",
            "\n",
            "Validating runs/detect/train_fold_7_model_yolo11s_imgs_800/weights/best.pt...\n",
            "Ultralytics 8.3.116 🚀 Python-3.10.12 torch-2.5.1+cu121 CUDA:0 (Tesla T4, 15095MiB)\n",
            "YOLO11s summary (fused): 100 layers, 9,413,961 parameters, 0 gradients, 21.3 GFLOPs\n"
          ]
        },
        {
          "name": "stderr",
          "output_type": "stream",
          "text": [
            "                 Class     Images  Instances      Box(P          R      mAP50  mAP50-95): 100%|██████████| 14/14 [00:07<00:00,  1.75it/s]\n"
          ]
        },
        {
          "name": "stdout",
          "output_type": "stream",
          "text": [
            "                   all        276        493      0.829      0.683      0.789      0.543\n",
            "           anthracnose         81        116      0.832      0.685      0.775      0.547\n",
            "                 cssvd        112        169      0.852      0.657      0.766       0.54\n",
            "               healthy         83        208      0.803      0.707      0.825      0.543\n",
            "Speed: 0.4ms preprocess, 7.0ms inference, 0.0ms loss, 5.6ms postprocess per image\n",
            "Results saved to \u001b[1mruns/detect/train_fold_7_model_yolo11s_imgs_800\u001b[0m\n",
            "========================= Runnign fold 8 =======================================\n",
            "Intersection of Image_IDs between train and valid: set()\n",
            "split\n",
            "train    9323\n",
            "valid     469\n",
            "Name: count, dtype: int64\n",
            "\n",
            "Class distribution in the new valid set:\n",
            " class\n",
            "healthy        192\n",
            "cssvd          159\n",
            "anthracnose    118\n",
            "Name: count, dtype: int64\n",
            "Preparing 'train' split → Images: 5252 | Annotations: 9323\n"
          ]
        },
        {
          "name": "stderr",
          "output_type": "stream",
          "text": [
            "100%|██████████| 5252/5252 [07:20<00:00, 11.93it/s]\n"
          ]
        },
        {
          "name": "stdout",
          "output_type": "stream",
          "text": [
            "Preparing 'valid' split → Images: 277 | Annotations: 469\n"
          ]
        },
        {
          "name": "stderr",
          "output_type": "stream",
          "text": [
            "100%|██████████| 277/277 [00:22<00:00, 12.57it/s]\n"
          ]
        },
        {
          "name": "stdout",
          "output_type": "stream",
          "text": [
            "New https://pypi.org/project/ultralytics/8.3.125 available 😃 Update with 'pip install -U ultralytics'\n",
            "Ultralytics 8.3.116 🚀 Python-3.10.12 torch-2.5.1+cu121 CUDA:0 (Tesla T4, 15095MiB)\n",
            "\u001b[34m\u001b[1mengine/trainer: \u001b[0mtask=detect, mode=train, model=yolo11s.pt, data=/kaggle/working/dataset-fold_8/config.yaml, epochs=50, time=None, patience=100, batch=10, imgsz=800, save=True, save_period=-1, cache=False, device=0, workers=8, project=None, name=train_fold_8_model_yolo11s_imgs_800, exist_ok=False, pretrained=True, optimizer=AdamW, verbose=True, seed=127, deterministic=True, single_cls=False, rect=False, cos_lr=False, close_mosaic=20, resume=False, amp=True, fraction=1.0, profile=False, freeze=None, multi_scale=False, overlap_mask=True, mask_ratio=4, dropout=0.0, val=True, split=val, save_json=False, conf=None, iou=0.7, max_det=300, half=False, dnn=False, plots=True, source=None, vid_stride=1, stream_buffer=False, visualize=False, augment=False, agnostic_nms=False, classes=None, retina_masks=False, embed=None, show=False, save_frames=False, save_txt=False, save_conf=False, save_crop=False, show_labels=True, show_conf=True, show_boxes=True, line_width=None, format=torchscript, keras=False, optimize=False, int8=False, dynamic=False, simplify=True, opset=None, workspace=None, nms=False, lr0=0.0003, lrf=0.01, momentum=0.9, weight_decay=0.01, warmup_epochs=3.0, warmup_momentum=0.8, warmup_bias_lr=0.1, box=7.5, cls=0.5, dfl=1.5, pose=12.0, kobj=1.0, nbs=64, hsv_h=0.015, hsv_s=0.7, hsv_v=0.4, degrees=0.0, translate=0.1, scale=0.5, shear=0.0, perspective=0.0, flipud=0.0, fliplr=0.5, bgr=0.0, mosaic=1.0, mixup=0.0, copy_paste=0.0, copy_paste_mode=flip, auto_augment=randaugment, erasing=0.4, cfg=None, tracker=botsort.yaml, save_dir=runs/detect/train_fold_8_model_yolo11s_imgs_800\n",
            "Overriding model.yaml nc=80 with nc=3\n",
            "\n",
            "                   from  n    params  module                                       arguments                     \n",
            "  0                  -1  1       928  ultralytics.nn.modules.conv.Conv             [3, 32, 3, 2]                 \n",
            "  1                  -1  1     18560  ultralytics.nn.modules.conv.Conv             [32, 64, 3, 2]                \n",
            "  2                  -1  1     26080  ultralytics.nn.modules.block.C3k2            [64, 128, 1, False, 0.25]     \n",
            "  3                  -1  1    147712  ultralytics.nn.modules.conv.Conv             [128, 128, 3, 2]              \n",
            "  4                  -1  1    103360  ultralytics.nn.modules.block.C3k2            [128, 256, 1, False, 0.25]    \n",
            "  5                  -1  1    590336  ultralytics.nn.modules.conv.Conv             [256, 256, 3, 2]              \n",
            "  6                  -1  1    346112  ultralytics.nn.modules.block.C3k2            [256, 256, 1, True]           \n",
            "  7                  -1  1   1180672  ultralytics.nn.modules.conv.Conv             [256, 512, 3, 2]              \n",
            "  8                  -1  1   1380352  ultralytics.nn.modules.block.C3k2            [512, 512, 1, True]           \n",
            "  9                  -1  1    656896  ultralytics.nn.modules.block.SPPF            [512, 512, 5]                 \n",
            " 10                  -1  1    990976  ultralytics.nn.modules.block.C2PSA           [512, 512, 1]                 \n",
            " 11                  -1  1         0  torch.nn.modules.upsampling.Upsample         [None, 2, 'nearest']          \n",
            " 12             [-1, 6]  1         0  ultralytics.nn.modules.conv.Concat           [1]                           \n",
            " 13                  -1  1    443776  ultralytics.nn.modules.block.C3k2            [768, 256, 1, False]          \n",
            " 14                  -1  1         0  torch.nn.modules.upsampling.Upsample         [None, 2, 'nearest']          \n",
            " 15             [-1, 4]  1         0  ultralytics.nn.modules.conv.Concat           [1]                           \n",
            " 16                  -1  1    127680  ultralytics.nn.modules.block.C3k2            [512, 128, 1, False]          \n",
            " 17                  -1  1    147712  ultralytics.nn.modules.conv.Conv             [128, 128, 3, 2]              \n",
            " 18            [-1, 13]  1         0  ultralytics.nn.modules.conv.Concat           [1]                           \n",
            " 19                  -1  1    345472  ultralytics.nn.modules.block.C3k2            [384, 256, 1, False]          \n",
            " 20                  -1  1    590336  ultralytics.nn.modules.conv.Conv             [256, 256, 3, 2]              \n",
            " 21            [-1, 10]  1         0  ultralytics.nn.modules.conv.Concat           [1]                           \n",
            " 22                  -1  1   1511424  ultralytics.nn.modules.block.C3k2            [768, 512, 1, True]           \n",
            " 23        [16, 19, 22]  1    820569  ultralytics.nn.modules.head.Detect           [3, [128, 256, 512]]          \n",
            "YOLO11s summary: 181 layers, 9,428,953 parameters, 9,428,937 gradients, 21.6 GFLOPs\n",
            "\n",
            "Transferred 493/499 items from pretrained weights\n",
            "Freezing layer 'model.23.dfl.conv.weight'\n",
            "\u001b[34m\u001b[1mAMP: \u001b[0mrunning Automatic Mixed Precision (AMP) checks...\n",
            "\u001b[34m\u001b[1mAMP: \u001b[0mchecks passed ✅\n",
            "\u001b[34m\u001b[1mtrain: \u001b[0mFast image access ✅ (ping: 0.0±0.0 ms, read: 1664.3±334.0 MB/s, size: 780.7 KB)\n"
          ]
        },
        {
          "name": "stderr",
          "output_type": "stream",
          "text": [
            "\u001b[34m\u001b[1mtrain: \u001b[0mScanning /kaggle/working/dataset-fold_8/train/labels... 5252 images, 0 backgrounds, 0 corrupt: 100%|██████████| 5252/5252 [00:49<00:00, 107.14it/s]"
          ]
        },
        {
          "name": "stdout",
          "output_type": "stream",
          "text": [
            "\u001b[34m\u001b[1mtrain: \u001b[0m/kaggle/working/dataset-fold_8/train/images/ID_AJD939.jpg: corrupt JPEG restored and saved\n",
            "\u001b[34m\u001b[1mtrain: \u001b[0m/kaggle/working/dataset-fold_8/train/images/ID_AMshRT.jpeg: corrupt JPEG restored and saved\n",
            "\u001b[34m\u001b[1mtrain: \u001b[0m/kaggle/working/dataset-fold_8/train/images/ID_AOGygM.jpeg: corrupt JPEG restored and saved\n",
            "\u001b[34m\u001b[1mtrain: \u001b[0m/kaggle/working/dataset-fold_8/train/images/ID_AYKor4.jpg: corrupt JPEG restored and saved\n",
            "\u001b[34m\u001b[1mtrain: \u001b[0m/kaggle/working/dataset-fold_8/train/images/ID_AbHMqL.jpg: corrupt JPEG restored and saved\n",
            "\u001b[34m\u001b[1mtrain: \u001b[0m/kaggle/working/dataset-fold_8/train/images/ID_AhmyiY.jpeg: corrupt JPEG restored and saved\n",
            "\u001b[34m\u001b[1mtrain: \u001b[0m/kaggle/working/dataset-fold_8/train/images/ID_AhwlUp.jpeg: corrupt JPEG restored and saved\n",
            "\u001b[34m\u001b[1mtrain: \u001b[0m/kaggle/working/dataset-fold_8/train/images/ID_AueB13.jpg: corrupt JPEG restored and saved\n",
            "\u001b[34m\u001b[1mtrain: \u001b[0m/kaggle/working/dataset-fold_8/train/images/ID_AzJAHH.jpg: corrupt JPEG restored and saved\n",
            "\u001b[34m\u001b[1mtrain: \u001b[0m/kaggle/working/dataset-fold_8/train/images/ID_BBZMEE.jpg: corrupt JPEG restored and saved\n",
            "\u001b[34m\u001b[1mtrain: \u001b[0m/kaggle/working/dataset-fold_8/train/images/ID_BFveJq.jpeg: corrupt JPEG restored and saved\n",
            "\u001b[34m\u001b[1mtrain: \u001b[0m/kaggle/working/dataset-fold_8/train/images/ID_BNWZ3w.jpg: corrupt JPEG restored and saved\n",
            "\u001b[34m\u001b[1mtrain: \u001b[0m/kaggle/working/dataset-fold_8/train/images/ID_BQih4N.jpg: corrupt JPEG restored and saved\n",
            "\u001b[34m\u001b[1mtrain: \u001b[0m/kaggle/working/dataset-fold_8/train/images/ID_BXIM9U.jpeg: corrupt JPEG restored and saved\n",
            "\u001b[34m\u001b[1mtrain: \u001b[0m/kaggle/working/dataset-fold_8/train/images/ID_BerVLr.jpg: corrupt JPEG restored and saved\n",
            "\u001b[34m\u001b[1mtrain: \u001b[0m/kaggle/working/dataset-fold_8/train/images/ID_BsWVWD.jpeg: corrupt JPEG restored and saved\n",
            "\u001b[34m\u001b[1mtrain: \u001b[0m/kaggle/working/dataset-fold_8/train/images/ID_BxCnJ3.jpg: corrupt JPEG restored and saved\n",
            "\u001b[34m\u001b[1mtrain: \u001b[0m/kaggle/working/dataset-fold_8/train/images/ID_By57N4.jpeg: corrupt JPEG restored and saved\n",
            "\u001b[34m\u001b[1mtrain: \u001b[0m/kaggle/working/dataset-fold_8/train/images/ID_CFmEKi.jpg: corrupt JPEG restored and saved\n",
            "\u001b[34m\u001b[1mtrain: \u001b[0m/kaggle/working/dataset-fold_8/train/images/ID_CZ9NxR.jpg: corrupt JPEG restored and saved\n",
            "\u001b[34m\u001b[1mtrain: \u001b[0m/kaggle/working/dataset-fold_8/train/images/ID_Ct9Mtq.jpg: corrupt JPEG restored and saved\n",
            "\u001b[34m\u001b[1mtrain: \u001b[0m/kaggle/working/dataset-fold_8/train/images/ID_CtPzDh.jpg: corrupt JPEG restored and saved\n",
            "\u001b[34m\u001b[1mtrain: \u001b[0m/kaggle/working/dataset-fold_8/train/images/ID_CxIwDu.jpg: corrupt JPEG restored and saved\n",
            "\u001b[34m\u001b[1mtrain: \u001b[0m/kaggle/working/dataset-fold_8/train/images/ID_Cxxlvg.jpeg: corrupt JPEG restored and saved\n",
            "\u001b[34m\u001b[1mtrain: \u001b[0m/kaggle/working/dataset-fold_8/train/images/ID_D8r1TO.jpg: corrupt JPEG restored and saved\n",
            "\u001b[34m\u001b[1mtrain: \u001b[0m/kaggle/working/dataset-fold_8/train/images/ID_DEVBif.jpg: corrupt JPEG restored and saved\n",
            "\u001b[34m\u001b[1mtrain: \u001b[0m/kaggle/working/dataset-fold_8/train/images/ID_DNHsfS.jpg: corrupt JPEG restored and saved\n",
            "\u001b[34m\u001b[1mtrain: \u001b[0m/kaggle/working/dataset-fold_8/train/images/ID_Dcoa03.jpg: corrupt JPEG restored and saved\n",
            "\u001b[34m\u001b[1mtrain: \u001b[0m/kaggle/working/dataset-fold_8/train/images/ID_DhtQeo.jpg: corrupt JPEG restored and saved\n",
            "\u001b[34m\u001b[1mtrain: \u001b[0m/kaggle/working/dataset-fold_8/train/images/ID_EGdAT4.jpg: corrupt JPEG restored and saved\n",
            "\u001b[34m\u001b[1mtrain: \u001b[0m/kaggle/working/dataset-fold_8/train/images/ID_EJWqGf.jpeg: corrupt JPEG restored and saved\n",
            "\u001b[34m\u001b[1mtrain: \u001b[0m/kaggle/working/dataset-fold_8/train/images/ID_ESQAmP.jpeg: corrupt JPEG restored and saved\n",
            "\u001b[34m\u001b[1mtrain: \u001b[0m/kaggle/working/dataset-fold_8/train/images/ID_ET34jY.jpeg: corrupt JPEG restored and saved\n",
            "\u001b[34m\u001b[1mtrain: \u001b[0m/kaggle/working/dataset-fold_8/train/images/ID_EUJ6CX.jpeg: corrupt JPEG restored and saved\n",
            "\u001b[34m\u001b[1mtrain: \u001b[0m/kaggle/working/dataset-fold_8/train/images/ID_EmMnKL.jpg: corrupt JPEG restored and saved\n",
            "\u001b[34m\u001b[1mtrain: \u001b[0m/kaggle/working/dataset-fold_8/train/images/ID_EqJVm9.jpg: corrupt JPEG restored and saved\n",
            "\u001b[34m\u001b[1mtrain: \u001b[0m/kaggle/working/dataset-fold_8/train/images/ID_F0uO9z.jpeg: corrupt JPEG restored and saved\n",
            "\u001b[34m\u001b[1mtrain: \u001b[0m/kaggle/working/dataset-fold_8/train/images/ID_FBviFm.jpg: corrupt JPEG restored and saved\n",
            "\u001b[34m\u001b[1mtrain: \u001b[0m/kaggle/working/dataset-fold_8/train/images/ID_FH5WPo.jpg: corrupt JPEG restored and saved\n",
            "\u001b[34m\u001b[1mtrain: \u001b[0m/kaggle/working/dataset-fold_8/train/images/ID_FMaedR.jpg: corrupt JPEG restored and saved\n",
            "\u001b[34m\u001b[1mtrain: \u001b[0m/kaggle/working/dataset-fold_8/train/images/ID_FNLeWz.jpg: corrupt JPEG restored and saved\n",
            "\u001b[34m\u001b[1mtrain: \u001b[0m/kaggle/working/dataset-fold_8/train/images/ID_FVssBB.jpg: corrupt JPEG restored and saved\n",
            "\u001b[34m\u001b[1mtrain: \u001b[0m/kaggle/working/dataset-fold_8/train/images/ID_FliLbi.jpeg: corrupt JPEG restored and saved\n",
            "\u001b[34m\u001b[1mtrain: \u001b[0m/kaggle/working/dataset-fold_8/train/images/ID_Fm1oY7.jpg: corrupt JPEG restored and saved\n",
            "\u001b[34m\u001b[1mtrain: \u001b[0m/kaggle/working/dataset-fold_8/train/images/ID_FtYRqz.jpeg: corrupt JPEG restored and saved\n",
            "\u001b[34m\u001b[1mtrain: \u001b[0m/kaggle/working/dataset-fold_8/train/images/ID_G3zqaj.jpg: corrupt JPEG restored and saved\n",
            "\u001b[34m\u001b[1mtrain: \u001b[0m/kaggle/working/dataset-fold_8/train/images/ID_G9zF3H.jpg: corrupt JPEG restored and saved\n",
            "\u001b[34m\u001b[1mtrain: \u001b[0m/kaggle/working/dataset-fold_8/train/images/ID_GONPQx.jpg: corrupt JPEG restored and saved\n",
            "\u001b[34m\u001b[1mtrain: \u001b[0m/kaggle/working/dataset-fold_8/train/images/ID_GQ4JN6.jpg: corrupt JPEG restored and saved\n",
            "\u001b[34m\u001b[1mtrain: \u001b[0m/kaggle/working/dataset-fold_8/train/images/ID_GWhiLp.jpeg: corrupt JPEG restored and saved\n",
            "\u001b[34m\u001b[1mtrain: \u001b[0m/kaggle/working/dataset-fold_8/train/images/ID_GkZMVQ.jpeg: corrupt JPEG restored and saved\n",
            "\u001b[34m\u001b[1mtrain: \u001b[0m/kaggle/working/dataset-fold_8/train/images/ID_Gm71wX.jpg: corrupt JPEG restored and saved\n",
            "\u001b[34m\u001b[1mtrain: \u001b[0m/kaggle/working/dataset-fold_8/train/images/ID_GmNfRI.jpg: corrupt JPEG restored and saved\n",
            "\u001b[34m\u001b[1mtrain: \u001b[0m/kaggle/working/dataset-fold_8/train/images/ID_H7QQ2I.jpg: corrupt JPEG restored and saved\n",
            "\u001b[34m\u001b[1mtrain: \u001b[0m/kaggle/working/dataset-fold_8/train/images/ID_H9qAYr.jpg: corrupt JPEG restored and saved\n",
            "\u001b[34m\u001b[1mtrain: \u001b[0m/kaggle/working/dataset-fold_8/train/images/ID_HIPul1.jpg: corrupt JPEG restored and saved\n",
            "\u001b[34m\u001b[1mtrain: \u001b[0m/kaggle/working/dataset-fold_8/train/images/ID_HQpL3y.jpg: corrupt JPEG restored and saved\n",
            "\u001b[34m\u001b[1mtrain: \u001b[0m/kaggle/working/dataset-fold_8/train/images/ID_HS970U.jpeg: corrupt JPEG restored and saved\n",
            "\u001b[34m\u001b[1mtrain: \u001b[0m/kaggle/working/dataset-fold_8/train/images/ID_HidqdL.jpg: corrupt JPEG restored and saved\n",
            "\u001b[34m\u001b[1mtrain: \u001b[0m/kaggle/working/dataset-fold_8/train/images/ID_Hmxdwo.jpg: corrupt JPEG restored and saved\n",
            "\u001b[34m\u001b[1mtrain: \u001b[0m/kaggle/working/dataset-fold_8/train/images/ID_HuMwmi.jpg: corrupt JPEG restored and saved\n",
            "\u001b[34m\u001b[1mtrain: \u001b[0m/kaggle/working/dataset-fold_8/train/images/ID_IRVs9J.jpg: corrupt JPEG restored and saved\n",
            "\u001b[34m\u001b[1mtrain: \u001b[0m/kaggle/working/dataset-fold_8/train/images/ID_IqkCAv.jpeg: corrupt JPEG restored and saved\n",
            "\u001b[34m\u001b[1mtrain: \u001b[0m/kaggle/working/dataset-fold_8/train/images/ID_Itd6eF.jpg: corrupt JPEG restored and saved\n",
            "\u001b[34m\u001b[1mtrain: \u001b[0m/kaggle/working/dataset-fold_8/train/images/ID_IuBkcQ.jpeg: corrupt JPEG restored and saved\n",
            "\u001b[34m\u001b[1mtrain: \u001b[0m/kaggle/working/dataset-fold_8/train/images/ID_J0cjqu.jpeg: corrupt JPEG restored and saved\n",
            "\u001b[34m\u001b[1mtrain: \u001b[0m/kaggle/working/dataset-fold_8/train/images/ID_J26p8u.jpg: corrupt JPEG restored and saved\n",
            "\u001b[34m\u001b[1mtrain: \u001b[0m/kaggle/working/dataset-fold_8/train/images/ID_J4jaP8.jpg: corrupt JPEG restored and saved\n",
            "\u001b[34m\u001b[1mtrain: \u001b[0m/kaggle/working/dataset-fold_8/train/images/ID_J7hL2Y.jpg: corrupt JPEG restored and saved\n",
            "\u001b[34m\u001b[1mtrain: \u001b[0m/kaggle/working/dataset-fold_8/train/images/ID_JHsmyN.jpeg: corrupt JPEG restored and saved\n",
            "\u001b[34m\u001b[1mtrain: \u001b[0m/kaggle/working/dataset-fold_8/train/images/ID_JMesqN.jpg: corrupt JPEG restored and saved\n",
            "\u001b[34m\u001b[1mtrain: \u001b[0m/kaggle/working/dataset-fold_8/train/images/ID_JRTUsh.jpeg: corrupt JPEG restored and saved\n",
            "\u001b[34m\u001b[1mtrain: \u001b[0m/kaggle/working/dataset-fold_8/train/images/ID_JRjOWi.jpeg: corrupt JPEG restored and saved\n",
            "\u001b[34m\u001b[1mtrain: \u001b[0m/kaggle/working/dataset-fold_8/train/images/ID_K5rVxL.jpeg: corrupt JPEG restored and saved\n",
            "\u001b[34m\u001b[1mtrain: \u001b[0m/kaggle/working/dataset-fold_8/train/images/ID_K7sW7v.jpg: corrupt JPEG restored and saved\n",
            "\u001b[34m\u001b[1mtrain: \u001b[0m/kaggle/working/dataset-fold_8/train/images/ID_KDq13B.jpeg: corrupt JPEG restored and saved\n",
            "\u001b[34m\u001b[1mtrain: \u001b[0m/kaggle/working/dataset-fold_8/train/images/ID_KJ3Eoi.jpg: corrupt JPEG restored and saved\n",
            "\u001b[34m\u001b[1mtrain: \u001b[0m/kaggle/working/dataset-fold_8/train/images/ID_KTP6kp.jpg: corrupt JPEG restored and saved\n",
            "\u001b[34m\u001b[1mtrain: \u001b[0m/kaggle/working/dataset-fold_8/train/images/ID_KbRv7T.jpg: corrupt JPEG restored and saved\n",
            "\u001b[34m\u001b[1mtrain: \u001b[0m/kaggle/working/dataset-fold_8/train/images/ID_KbaWjL.jpeg: corrupt JPEG restored and saved\n",
            "\u001b[34m\u001b[1mtrain: \u001b[0m/kaggle/working/dataset-fold_8/train/images/ID_Kc4tOK.jpeg: corrupt JPEG restored and saved\n",
            "\u001b[34m\u001b[1mtrain: \u001b[0m/kaggle/working/dataset-fold_8/train/images/ID_KkyQ36.jpeg: corrupt JPEG restored and saved\n",
            "\u001b[34m\u001b[1mtrain: \u001b[0m/kaggle/working/dataset-fold_8/train/images/ID_Ko4fL3.jpg: corrupt JPEG restored and saved\n",
            "\u001b[34m\u001b[1mtrain: \u001b[0m/kaggle/working/dataset-fold_8/train/images/ID_KxHwli.jpg: corrupt JPEG restored and saved\n",
            "\u001b[34m\u001b[1mtrain: \u001b[0m/kaggle/working/dataset-fold_8/train/images/ID_LkJ8Zz.jpg: corrupt JPEG restored and saved\n",
            "\u001b[34m\u001b[1mtrain: \u001b[0m/kaggle/working/dataset-fold_8/train/images/ID_LloE1t.jpeg: corrupt JPEG restored and saved\n",
            "\u001b[34m\u001b[1mtrain: \u001b[0m/kaggle/working/dataset-fold_8/train/images/ID_LwJYsy.jpg: corrupt JPEG restored and saved\n",
            "\u001b[34m\u001b[1mtrain: \u001b[0m/kaggle/working/dataset-fold_8/train/images/ID_M3NBS2.jpeg: corrupt JPEG restored and saved\n",
            "\u001b[34m\u001b[1mtrain: \u001b[0m/kaggle/working/dataset-fold_8/train/images/ID_M7eiBX.jpg: corrupt JPEG restored and saved\n",
            "\u001b[34m\u001b[1mtrain: \u001b[0m/kaggle/working/dataset-fold_8/train/images/ID_MBg7Wu.jpg: corrupt JPEG restored and saved\n",
            "\u001b[34m\u001b[1mtrain: \u001b[0m/kaggle/working/dataset-fold_8/train/images/ID_MCZcC1.jpg: corrupt JPEG restored and saved\n",
            "\u001b[34m\u001b[1mtrain: \u001b[0m/kaggle/working/dataset-fold_8/train/images/ID_MF34U1.jpeg: corrupt JPEG restored and saved\n",
            "\u001b[34m\u001b[1mtrain: \u001b[0m/kaggle/working/dataset-fold_8/train/images/ID_MPIvc5.jpg: corrupt JPEG restored and saved\n",
            "\u001b[34m\u001b[1mtrain: \u001b[0m/kaggle/working/dataset-fold_8/train/images/ID_MQt7CR.jpg: corrupt JPEG restored and saved\n",
            "\u001b[34m\u001b[1mtrain: \u001b[0m/kaggle/working/dataset-fold_8/train/images/ID_MmvaQa.jpeg: corrupt JPEG restored and saved\n",
            "\u001b[34m\u001b[1mtrain: \u001b[0m/kaggle/working/dataset-fold_8/train/images/ID_MteM6m.jpg: corrupt JPEG restored and saved\n",
            "\u001b[34m\u001b[1mtrain: \u001b[0m/kaggle/working/dataset-fold_8/train/images/ID_MztPy0.jpeg: corrupt JPEG restored and saved\n",
            "\u001b[34m\u001b[1mtrain: \u001b[0m/kaggle/working/dataset-fold_8/train/images/ID_NGiOVN.jpg: corrupt JPEG restored and saved\n",
            "\u001b[34m\u001b[1mtrain: \u001b[0m/kaggle/working/dataset-fold_8/train/images/ID_NSHiVv.jpeg: corrupt JPEG restored and saved\n",
            "\u001b[34m\u001b[1mtrain: \u001b[0m/kaggle/working/dataset-fold_8/train/images/ID_NSzLqF.jpg: corrupt JPEG restored and saved\n",
            "\u001b[34m\u001b[1mtrain: \u001b[0m/kaggle/working/dataset-fold_8/train/images/ID_NbftLH.jpeg: corrupt JPEG restored and saved\n",
            "\u001b[34m\u001b[1mtrain: \u001b[0m/kaggle/working/dataset-fold_8/train/images/ID_NfmKR2.jpg: corrupt JPEG restored and saved\n",
            "\u001b[34m\u001b[1mtrain: \u001b[0m/kaggle/working/dataset-fold_8/train/images/ID_NlJLXQ.jpg: corrupt JPEG restored and saved\n",
            "\u001b[34m\u001b[1mtrain: \u001b[0m/kaggle/working/dataset-fold_8/train/images/ID_NmYqu6.jpg: corrupt JPEG restored and saved\n",
            "\u001b[34m\u001b[1mtrain: \u001b[0m/kaggle/working/dataset-fold_8/train/images/ID_Np7dI9.jpeg: corrupt JPEG restored and saved\n",
            "\u001b[34m\u001b[1mtrain: \u001b[0m/kaggle/working/dataset-fold_8/train/images/ID_NpoqaB.jpg: corrupt JPEG restored and saved\n",
            "\u001b[34m\u001b[1mtrain: \u001b[0m/kaggle/working/dataset-fold_8/train/images/ID_NrUpnW.jpeg: corrupt JPEG restored and saved\n",
            "\u001b[34m\u001b[1mtrain: \u001b[0m/kaggle/working/dataset-fold_8/train/images/ID_O8Ii5s.jpg: corrupt JPEG restored and saved\n",
            "\u001b[34m\u001b[1mtrain: \u001b[0m/kaggle/working/dataset-fold_8/train/images/ID_OFhcZk.jpg: corrupt JPEG restored and saved\n",
            "\u001b[34m\u001b[1mtrain: \u001b[0m/kaggle/working/dataset-fold_8/train/images/ID_OP42MI.jpeg: corrupt JPEG restored and saved\n",
            "\u001b[34m\u001b[1mtrain: \u001b[0m/kaggle/working/dataset-fold_8/train/images/ID_OSL1rX.jpg: corrupt JPEG restored and saved\n",
            "\u001b[34m\u001b[1mtrain: \u001b[0m/kaggle/working/dataset-fold_8/train/images/ID_OXuUNh.jpg: corrupt JPEG restored and saved\n",
            "\u001b[34m\u001b[1mtrain: \u001b[0m/kaggle/working/dataset-fold_8/train/images/ID_OZ1lc7.jpeg: corrupt JPEG restored and saved\n",
            "\u001b[34m\u001b[1mtrain: \u001b[0m/kaggle/working/dataset-fold_8/train/images/ID_Ot9lnj.jpg: corrupt JPEG restored and saved\n",
            "\u001b[34m\u001b[1mtrain: \u001b[0m/kaggle/working/dataset-fold_8/train/images/ID_P5xQZW.jpeg: corrupt JPEG restored and saved\n",
            "\u001b[34m\u001b[1mtrain: \u001b[0m/kaggle/working/dataset-fold_8/train/images/ID_PqV4gW.jpg: corrupt JPEG restored and saved\n",
            "\u001b[34m\u001b[1mtrain: \u001b[0m/kaggle/working/dataset-fold_8/train/images/ID_Q0OwpE.jpg: corrupt JPEG restored and saved\n",
            "\u001b[34m\u001b[1mtrain: \u001b[0m/kaggle/working/dataset-fold_8/train/images/ID_Q0PXyQ.jpg: corrupt JPEG restored and saved\n",
            "\u001b[34m\u001b[1mtrain: \u001b[0m/kaggle/working/dataset-fold_8/train/images/ID_QYyaBC.jpg: corrupt JPEG restored and saved\n",
            "\u001b[34m\u001b[1mtrain: \u001b[0m/kaggle/working/dataset-fold_8/train/images/ID_QZyOk7.jpg: corrupt JPEG restored and saved\n",
            "\u001b[34m\u001b[1mtrain: \u001b[0m/kaggle/working/dataset-fold_8/train/images/ID_Qinkut.jpg: corrupt JPEG restored and saved\n",
            "\u001b[34m\u001b[1mtrain: \u001b[0m/kaggle/working/dataset-fold_8/train/images/ID_QopCWu.jpeg: corrupt JPEG restored and saved\n",
            "\u001b[34m\u001b[1mtrain: \u001b[0m/kaggle/working/dataset-fold_8/train/images/ID_Qrlnom.jpg: corrupt JPEG restored and saved\n",
            "\u001b[34m\u001b[1mtrain: \u001b[0m/kaggle/working/dataset-fold_8/train/images/ID_Qu5Gdd.jpg: corrupt JPEG restored and saved\n",
            "\u001b[34m\u001b[1mtrain: \u001b[0m/kaggle/working/dataset-fold_8/train/images/ID_R0gFs3.jpeg: corrupt JPEG restored and saved\n",
            "\u001b[34m\u001b[1mtrain: \u001b[0m/kaggle/working/dataset-fold_8/train/images/ID_R6QBuf.jpg: corrupt JPEG restored and saved\n",
            "\u001b[34m\u001b[1mtrain: \u001b[0m/kaggle/working/dataset-fold_8/train/images/ID_RA4964.jpg: corrupt JPEG restored and saved\n",
            "\u001b[34m\u001b[1mtrain: \u001b[0m/kaggle/working/dataset-fold_8/train/images/ID_RDpYbj.jpeg: corrupt JPEG restored and saved\n",
            "\u001b[34m\u001b[1mtrain: \u001b[0m/kaggle/working/dataset-fold_8/train/images/ID_RWPGUG.jpg: corrupt JPEG restored and saved\n",
            "\u001b[34m\u001b[1mtrain: \u001b[0m/kaggle/working/dataset-fold_8/train/images/ID_RoWnbg.jpg: corrupt JPEG restored and saved\n",
            "\u001b[34m\u001b[1mtrain: \u001b[0m/kaggle/working/dataset-fold_8/train/images/ID_S7q92y.jpg: corrupt JPEG restored and saved\n",
            "\u001b[34m\u001b[1mtrain: \u001b[0m/kaggle/working/dataset-fold_8/train/images/ID_SJKaao.jpeg: corrupt JPEG restored and saved\n",
            "\u001b[34m\u001b[1mtrain: \u001b[0m/kaggle/working/dataset-fold_8/train/images/ID_SSGiW2.jpeg: corrupt JPEG restored and saved\n",
            "\u001b[34m\u001b[1mtrain: \u001b[0m/kaggle/working/dataset-fold_8/train/images/ID_SSPUE6.jpg: corrupt JPEG restored and saved\n",
            "\u001b[34m\u001b[1mtrain: \u001b[0m/kaggle/working/dataset-fold_8/train/images/ID_SVzl5X.jpeg: corrupt JPEG restored and saved\n",
            "\u001b[34m\u001b[1mtrain: \u001b[0m/kaggle/working/dataset-fold_8/train/images/ID_SWwaf9.jpg: corrupt JPEG restored and saved\n",
            "\u001b[34m\u001b[1mtrain: \u001b[0m/kaggle/working/dataset-fold_8/train/images/ID_SnC6Z6.jpg: corrupt JPEG restored and saved\n",
            "\u001b[34m\u001b[1mtrain: \u001b[0m/kaggle/working/dataset-fold_8/train/images/ID_Spq7s1.jpeg: corrupt JPEG restored and saved\n",
            "\u001b[34m\u001b[1mtrain: \u001b[0m/kaggle/working/dataset-fold_8/train/images/ID_SuY5t1.jpeg: corrupt JPEG restored and saved\n",
            "\u001b[34m\u001b[1mtrain: \u001b[0m/kaggle/working/dataset-fold_8/train/images/ID_T65cSF.jpeg: corrupt JPEG restored and saved\n",
            "\u001b[34m\u001b[1mtrain: \u001b[0m/kaggle/working/dataset-fold_8/train/images/ID_T7RQCl.jpeg: corrupt JPEG restored and saved\n",
            "\u001b[34m\u001b[1mtrain: \u001b[0m/kaggle/working/dataset-fold_8/train/images/ID_T9Sifn.jpeg: corrupt JPEG restored and saved\n",
            "\u001b[34m\u001b[1mtrain: \u001b[0m/kaggle/working/dataset-fold_8/train/images/ID_T9n3Yk.jpeg: corrupt JPEG restored and saved\n",
            "\u001b[34m\u001b[1mtrain: \u001b[0m/kaggle/working/dataset-fold_8/train/images/ID_TB2QQA.jpg: corrupt JPEG restored and saved\n",
            "\u001b[34m\u001b[1mtrain: \u001b[0m/kaggle/working/dataset-fold_8/train/images/ID_TaRNtN.jpg: corrupt JPEG restored and saved\n",
            "\u001b[34m\u001b[1mtrain: \u001b[0m/kaggle/working/dataset-fold_8/train/images/ID_TgWLRl.jpeg: corrupt JPEG restored and saved\n",
            "\u001b[34m\u001b[1mtrain: \u001b[0m/kaggle/working/dataset-fold_8/train/images/ID_TmV8Jj.jpg: corrupt JPEG restored and saved\n",
            "\u001b[34m\u001b[1mtrain: \u001b[0m/kaggle/working/dataset-fold_8/train/images/ID_TrS7AO.jpeg: corrupt JPEG restored and saved\n",
            "\u001b[34m\u001b[1mtrain: \u001b[0m/kaggle/working/dataset-fold_8/train/images/ID_U2iecI.jpg: corrupt JPEG restored and saved\n",
            "\u001b[34m\u001b[1mtrain: \u001b[0m/kaggle/working/dataset-fold_8/train/images/ID_U5jOiU.jpg: corrupt JPEG restored and saved\n",
            "\u001b[34m\u001b[1mtrain: \u001b[0m/kaggle/working/dataset-fold_8/train/images/ID_USBlAz.jpg: corrupt JPEG restored and saved\n",
            "\u001b[34m\u001b[1mtrain: \u001b[0m/kaggle/working/dataset-fold_8/train/images/ID_UY44L0.jpg: corrupt JPEG restored and saved\n",
            "\u001b[34m\u001b[1mtrain: \u001b[0m/kaggle/working/dataset-fold_8/train/images/ID_UYftKa.jpg: corrupt JPEG restored and saved\n",
            "\u001b[34m\u001b[1mtrain: \u001b[0m/kaggle/working/dataset-fold_8/train/images/ID_UhR2o3.jpg: corrupt JPEG restored and saved\n",
            "\u001b[34m\u001b[1mtrain: \u001b[0m/kaggle/working/dataset-fold_8/train/images/ID_Ui8E1j.jpg: corrupt JPEG restored and saved\n",
            "\u001b[34m\u001b[1mtrain: \u001b[0m/kaggle/working/dataset-fold_8/train/images/ID_UjkxXW.jpg: corrupt JPEG restored and saved\n",
            "\u001b[34m\u001b[1mtrain: \u001b[0m/kaggle/working/dataset-fold_8/train/images/ID_Umc0P2.jpeg: corrupt JPEG restored and saved\n",
            "\u001b[34m\u001b[1mtrain: \u001b[0m/kaggle/working/dataset-fold_8/train/images/ID_Uoy7f2.jpg: corrupt JPEG restored and saved\n",
            "\u001b[34m\u001b[1mtrain: \u001b[0m/kaggle/working/dataset-fold_8/train/images/ID_UrKjY8.jpeg: corrupt JPEG restored and saved\n",
            "\u001b[34m\u001b[1mtrain: \u001b[0m/kaggle/working/dataset-fold_8/train/images/ID_V42JvR.jpg: corrupt JPEG restored and saved\n",
            "\u001b[34m\u001b[1mtrain: \u001b[0m/kaggle/working/dataset-fold_8/train/images/ID_VGRSR0.jpg: corrupt JPEG restored and saved\n",
            "\u001b[34m\u001b[1mtrain: \u001b[0m/kaggle/working/dataset-fold_8/train/images/ID_VTnQu1.jpg: corrupt JPEG restored and saved\n",
            "\u001b[34m\u001b[1mtrain: \u001b[0m/kaggle/working/dataset-fold_8/train/images/ID_VX3dMQ.jpg: corrupt JPEG restored and saved\n",
            "\u001b[34m\u001b[1mtrain: \u001b[0m/kaggle/working/dataset-fold_8/train/images/ID_VYmWg8.jpg: corrupt JPEG restored and saved\n",
            "\u001b[34m\u001b[1mtrain: \u001b[0m/kaggle/working/dataset-fold_8/train/images/ID_VwIYf0.jpg: corrupt JPEG restored and saved\n",
            "\u001b[34m\u001b[1mtrain: \u001b[0m/kaggle/working/dataset-fold_8/train/images/ID_W2eGlr.jpg: corrupt JPEG restored and saved\n",
            "\u001b[34m\u001b[1mtrain: \u001b[0m/kaggle/working/dataset-fold_8/train/images/ID_W31F1e.jpeg: corrupt JPEG restored and saved\n",
            "\u001b[34m\u001b[1mtrain: \u001b[0m/kaggle/working/dataset-fold_8/train/images/ID_W3tZGh.jpg: corrupt JPEG restored and saved\n",
            "\u001b[34m\u001b[1mtrain: \u001b[0m/kaggle/working/dataset-fold_8/train/images/ID_WB25bW.jpeg: corrupt JPEG restored and saved\n",
            "\u001b[34m\u001b[1mtrain: \u001b[0m/kaggle/working/dataset-fold_8/train/images/ID_WIuXLH.jpg: corrupt JPEG restored and saved\n",
            "\u001b[34m\u001b[1mtrain: \u001b[0m/kaggle/working/dataset-fold_8/train/images/ID_WKcQeb.jpg: corrupt JPEG restored and saved\n",
            "\u001b[34m\u001b[1mtrain: \u001b[0m/kaggle/working/dataset-fold_8/train/images/ID_WULBQy.jpeg: corrupt JPEG restored and saved\n",
            "\u001b[34m\u001b[1mtrain: \u001b[0m/kaggle/working/dataset-fold_8/train/images/ID_Wa1IXp.jpg: corrupt JPEG restored and saved\n",
            "\u001b[34m\u001b[1mtrain: \u001b[0m/kaggle/working/dataset-fold_8/train/images/ID_WgGnAX.jpg: corrupt JPEG restored and saved\n",
            "\u001b[34m\u001b[1mtrain: \u001b[0m/kaggle/working/dataset-fold_8/train/images/ID_WmaGX7.jpg: corrupt JPEG restored and saved\n",
            "\u001b[34m\u001b[1mtrain: \u001b[0m/kaggle/working/dataset-fold_8/train/images/ID_X0udgZ.jpeg: corrupt JPEG restored and saved\n",
            "\u001b[34m\u001b[1mtrain: \u001b[0m/kaggle/working/dataset-fold_8/train/images/ID_X9IstM.jpg: corrupt JPEG restored and saved\n",
            "\u001b[34m\u001b[1mtrain: \u001b[0m/kaggle/working/dataset-fold_8/train/images/ID_X9VSUI.jpg: corrupt JPEG restored and saved\n",
            "\u001b[34m\u001b[1mtrain: \u001b[0m/kaggle/working/dataset-fold_8/train/images/ID_XF1b8f.jpeg: corrupt JPEG restored and saved\n",
            "\u001b[34m\u001b[1mtrain: \u001b[0m/kaggle/working/dataset-fold_8/train/images/ID_XVJE0g.jpg: corrupt JPEG restored and saved\n",
            "\u001b[34m\u001b[1mtrain: \u001b[0m/kaggle/working/dataset-fold_8/train/images/ID_XifZNH.jpg: corrupt JPEG restored and saved\n",
            "\u001b[34m\u001b[1mtrain: \u001b[0m/kaggle/working/dataset-fold_8/train/images/ID_XptLVA.jpg: corrupt JPEG restored and saved\n",
            "\u001b[34m\u001b[1mtrain: \u001b[0m/kaggle/working/dataset-fold_8/train/images/ID_Xr3yGD.jpeg: corrupt JPEG restored and saved\n",
            "\u001b[34m\u001b[1mtrain: \u001b[0m/kaggle/working/dataset-fold_8/train/images/ID_XuMRrm.jpeg: corrupt JPEG restored and saved\n",
            "\u001b[34m\u001b[1mtrain: \u001b[0m/kaggle/working/dataset-fold_8/train/images/ID_Y5sfOy.jpg: corrupt JPEG restored and saved\n",
            "\u001b[34m\u001b[1mtrain: \u001b[0m/kaggle/working/dataset-fold_8/train/images/ID_YG32gk.jpg: corrupt JPEG restored and saved\n",
            "\u001b[34m\u001b[1mtrain: \u001b[0m/kaggle/working/dataset-fold_8/train/images/ID_YHBAKF.jpg: corrupt JPEG restored and saved\n",
            "\u001b[34m\u001b[1mtrain: \u001b[0m/kaggle/working/dataset-fold_8/train/images/ID_YVZEp0.jpg: corrupt JPEG restored and saved\n",
            "\u001b[34m\u001b[1mtrain: \u001b[0m/kaggle/working/dataset-fold_8/train/images/ID_YVrqE6.jpg: corrupt JPEG restored and saved\n",
            "\u001b[34m\u001b[1mtrain: \u001b[0m/kaggle/working/dataset-fold_8/train/images/ID_YXkAP3.jpg: corrupt JPEG restored and saved\n",
            "\u001b[34m\u001b[1mtrain: \u001b[0m/kaggle/working/dataset-fold_8/train/images/ID_YevJzo.jpeg: corrupt JPEG restored and saved\n",
            "\u001b[34m\u001b[1mtrain: \u001b[0m/kaggle/working/dataset-fold_8/train/images/ID_YmrSKa.jpg: corrupt JPEG restored and saved\n",
            "\u001b[34m\u001b[1mtrain: \u001b[0m/kaggle/working/dataset-fold_8/train/images/ID_Yo2e8I.jpg: corrupt JPEG restored and saved\n",
            "\u001b[34m\u001b[1mtrain: \u001b[0m/kaggle/working/dataset-fold_8/train/images/ID_YraieG.jpg: corrupt JPEG restored and saved\n",
            "\u001b[34m\u001b[1mtrain: \u001b[0m/kaggle/working/dataset-fold_8/train/images/ID_ZJ6Kwe.jpg: corrupt JPEG restored and saved\n",
            "\u001b[34m\u001b[1mtrain: \u001b[0m/kaggle/working/dataset-fold_8/train/images/ID_ZOM8YH.jpg: corrupt JPEG restored and saved\n",
            "\u001b[34m\u001b[1mtrain: \u001b[0m/kaggle/working/dataset-fold_8/train/images/ID_ZpcJbg.jpg: corrupt JPEG restored and saved\n",
            "\u001b[34m\u001b[1mtrain: \u001b[0m/kaggle/working/dataset-fold_8/train/images/ID_Zwe8i7.jpeg: corrupt JPEG restored and saved\n",
            "\u001b[34m\u001b[1mtrain: \u001b[0m/kaggle/working/dataset-fold_8/train/images/ID_aEWltK.jpg: corrupt JPEG restored and saved\n",
            "\u001b[34m\u001b[1mtrain: \u001b[0m/kaggle/working/dataset-fold_8/train/images/ID_aHFDK5.jpg: corrupt JPEG restored and saved\n",
            "\u001b[34m\u001b[1mtrain: \u001b[0m/kaggle/working/dataset-fold_8/train/images/ID_aKIqHp.jpeg: corrupt JPEG restored and saved\n",
            "\u001b[34m\u001b[1mtrain: \u001b[0m/kaggle/working/dataset-fold_8/train/images/ID_aMP9qP.jpg: corrupt JPEG restored and saved\n",
            "\u001b[34m\u001b[1mtrain: \u001b[0m/kaggle/working/dataset-fold_8/train/images/ID_aSDtdm.jpeg: corrupt JPEG restored and saved\n",
            "\u001b[34m\u001b[1mtrain: \u001b[0m/kaggle/working/dataset-fold_8/train/images/ID_aYoINI.jpg: corrupt JPEG restored and saved\n",
            "\u001b[34m\u001b[1mtrain: \u001b[0m/kaggle/working/dataset-fold_8/train/images/ID_agSNVy.jpg: corrupt JPEG restored and saved\n",
            "\u001b[34m\u001b[1mtrain: \u001b[0m/kaggle/working/dataset-fold_8/train/images/ID_atEszE.jpg: corrupt JPEG restored and saved\n",
            "\u001b[34m\u001b[1mtrain: \u001b[0m/kaggle/working/dataset-fold_8/train/images/ID_axCg8f.jpg: corrupt JPEG restored and saved\n",
            "\u001b[34m\u001b[1mtrain: \u001b[0m/kaggle/working/dataset-fold_8/train/images/ID_azgMN3.jpg: corrupt JPEG restored and saved\n",
            "\u001b[34m\u001b[1mtrain: \u001b[0m/kaggle/working/dataset-fold_8/train/images/ID_bCoAZg.jpg: corrupt JPEG restored and saved\n",
            "\u001b[34m\u001b[1mtrain: \u001b[0m/kaggle/working/dataset-fold_8/train/images/ID_bErrYD.jpeg: corrupt JPEG restored and saved\n",
            "\u001b[34m\u001b[1mtrain: \u001b[0m/kaggle/working/dataset-fold_8/train/images/ID_bPjaHt.jpg: corrupt JPEG restored and saved\n",
            "\u001b[34m\u001b[1mtrain: \u001b[0m/kaggle/working/dataset-fold_8/train/images/ID_bnU2qZ.jpg: corrupt JPEG restored and saved\n",
            "\u001b[34m\u001b[1mtrain: \u001b[0m/kaggle/working/dataset-fold_8/train/images/ID_bouUUL.jpeg: corrupt JPEG restored and saved\n",
            "\u001b[34m\u001b[1mtrain: \u001b[0m/kaggle/working/dataset-fold_8/train/images/ID_bq4JF6.jpg: corrupt JPEG restored and saved\n",
            "\u001b[34m\u001b[1mtrain: \u001b[0m/kaggle/working/dataset-fold_8/train/images/ID_bv9Nvh.jpg: corrupt JPEG restored and saved\n",
            "\u001b[34m\u001b[1mtrain: \u001b[0m/kaggle/working/dataset-fold_8/train/images/ID_cCrbt6.jpg: corrupt JPEG restored and saved\n",
            "\u001b[34m\u001b[1mtrain: \u001b[0m/kaggle/working/dataset-fold_8/train/images/ID_cGrCAD.jpg: corrupt JPEG restored and saved\n",
            "\u001b[34m\u001b[1mtrain: \u001b[0m/kaggle/working/dataset-fold_8/train/images/ID_cNZUqh.jpg: corrupt JPEG restored and saved\n",
            "\u001b[34m\u001b[1mtrain: \u001b[0m/kaggle/working/dataset-fold_8/train/images/ID_cRrzcV.jpg: corrupt JPEG restored and saved\n",
            "\u001b[34m\u001b[1mtrain: \u001b[0m/kaggle/working/dataset-fold_8/train/images/ID_cbNtpG.jpg: corrupt JPEG restored and saved\n",
            "\u001b[34m\u001b[1mtrain: \u001b[0m/kaggle/working/dataset-fold_8/train/images/ID_cecsNW.jpg: corrupt JPEG restored and saved\n",
            "\u001b[34m\u001b[1mtrain: \u001b[0m/kaggle/working/dataset-fold_8/train/images/ID_clLM5l.jpeg: corrupt JPEG restored and saved\n",
            "\u001b[34m\u001b[1mtrain: \u001b[0m/kaggle/working/dataset-fold_8/train/images/ID_csx6y8.jpeg: corrupt JPEG restored and saved\n",
            "\u001b[34m\u001b[1mtrain: \u001b[0m/kaggle/working/dataset-fold_8/train/images/ID_dCfvUH.jpg: corrupt JPEG restored and saved\n",
            "\u001b[34m\u001b[1mtrain: \u001b[0m/kaggle/working/dataset-fold_8/train/images/ID_dH0o4x.jpeg: corrupt JPEG restored and saved\n",
            "\u001b[34m\u001b[1mtrain: \u001b[0m/kaggle/working/dataset-fold_8/train/images/ID_dUrLhB.jpeg: corrupt JPEG restored and saved\n",
            "\u001b[34m\u001b[1mtrain: \u001b[0m/kaggle/working/dataset-fold_8/train/images/ID_dW2xhB.jpg: corrupt JPEG restored and saved\n",
            "\u001b[34m\u001b[1mtrain: \u001b[0m/kaggle/working/dataset-fold_8/train/images/ID_dWBtGY.jpg: corrupt JPEG restored and saved\n",
            "\u001b[34m\u001b[1mtrain: \u001b[0m/kaggle/working/dataset-fold_8/train/images/ID_dhyPDO.jpeg: corrupt JPEG restored and saved\n",
            "\u001b[34m\u001b[1mtrain: \u001b[0m/kaggle/working/dataset-fold_8/train/images/ID_dvs1xy.jpg: corrupt JPEG restored and saved\n",
            "\u001b[34m\u001b[1mtrain: \u001b[0m/kaggle/working/dataset-fold_8/train/images/ID_eGsJiZ.jpeg: corrupt JPEG restored and saved\n",
            "\u001b[34m\u001b[1mtrain: \u001b[0m/kaggle/working/dataset-fold_8/train/images/ID_eUmInK.jpg: corrupt JPEG restored and saved\n",
            "\u001b[34m\u001b[1mtrain: \u001b[0m/kaggle/working/dataset-fold_8/train/images/ID_ealn0i.jpg: corrupt JPEG restored and saved\n",
            "\u001b[34m\u001b[1mtrain: \u001b[0m/kaggle/working/dataset-fold_8/train/images/ID_eyApHR.jpg: corrupt JPEG restored and saved\n",
            "\u001b[34m\u001b[1mtrain: \u001b[0m/kaggle/working/dataset-fold_8/train/images/ID_f22xL0.jpeg: corrupt JPEG restored and saved\n",
            "\u001b[34m\u001b[1mtrain: \u001b[0m/kaggle/working/dataset-fold_8/train/images/ID_fLhKY2.jpeg: corrupt JPEG restored and saved\n",
            "\u001b[34m\u001b[1mtrain: \u001b[0m/kaggle/working/dataset-fold_8/train/images/ID_fVeoSx.jpg: corrupt JPEG restored and saved\n",
            "\u001b[34m\u001b[1mtrain: \u001b[0m/kaggle/working/dataset-fold_8/train/images/ID_fmYejW.jpg: corrupt JPEG restored and saved\n",
            "\u001b[34m\u001b[1mtrain: \u001b[0m/kaggle/working/dataset-fold_8/train/images/ID_fsOn06.jpg: corrupt JPEG restored and saved\n",
            "\u001b[34m\u001b[1mtrain: \u001b[0m/kaggle/working/dataset-fold_8/train/images/ID_fuwnO7.jpg: corrupt JPEG restored and saved\n",
            "\u001b[34m\u001b[1mtrain: \u001b[0m/kaggle/working/dataset-fold_8/train/images/ID_gC5IgG.jpg: corrupt JPEG restored and saved\n",
            "\u001b[34m\u001b[1mtrain: \u001b[0m/kaggle/working/dataset-fold_8/train/images/ID_gKZt2c.jpg: corrupt JPEG restored and saved\n",
            "\u001b[34m\u001b[1mtrain: \u001b[0m/kaggle/working/dataset-fold_8/train/images/ID_gOeLwX.jpg: corrupt JPEG restored and saved\n",
            "\u001b[34m\u001b[1mtrain: \u001b[0m/kaggle/working/dataset-fold_8/train/images/ID_gVPrzr.jpeg: corrupt JPEG restored and saved\n",
            "\u001b[34m\u001b[1mtrain: \u001b[0m/kaggle/working/dataset-fold_8/train/images/ID_gueBKx.jpeg: corrupt JPEG restored and saved\n",
            "\u001b[34m\u001b[1mtrain: \u001b[0m/kaggle/working/dataset-fold_8/train/images/ID_h0qMvf.jpg: corrupt JPEG restored and saved\n",
            "\u001b[34m\u001b[1mtrain: \u001b[0m/kaggle/working/dataset-fold_8/train/images/ID_h4tUyq.jpg: corrupt JPEG restored and saved\n",
            "\u001b[34m\u001b[1mtrain: \u001b[0m/kaggle/working/dataset-fold_8/train/images/ID_h8iMcZ.jpeg: corrupt JPEG restored and saved\n",
            "\u001b[34m\u001b[1mtrain: \u001b[0m/kaggle/working/dataset-fold_8/train/images/ID_hADR5u.jpeg: corrupt JPEG restored and saved\n",
            "\u001b[34m\u001b[1mtrain: \u001b[0m/kaggle/working/dataset-fold_8/train/images/ID_hOWY3t.jpg: corrupt JPEG restored and saved\n",
            "\u001b[34m\u001b[1mtrain: \u001b[0m/kaggle/working/dataset-fold_8/train/images/ID_hUfLpX.jpg: corrupt JPEG restored and saved\n",
            "\u001b[34m\u001b[1mtrain: \u001b[0m/kaggle/working/dataset-fold_8/train/images/ID_hoBmXG.jpeg: corrupt JPEG restored and saved\n",
            "\u001b[34m\u001b[1mtrain: \u001b[0m/kaggle/working/dataset-fold_8/train/images/ID_i3aAKz.jpeg: corrupt JPEG restored and saved\n",
            "\u001b[34m\u001b[1mtrain: \u001b[0m/kaggle/working/dataset-fold_8/train/images/ID_i6jMk3.jpg: corrupt JPEG restored and saved\n",
            "\u001b[34m\u001b[1mtrain: \u001b[0m/kaggle/working/dataset-fold_8/train/images/ID_iDXwsn.jpg: corrupt JPEG restored and saved\n",
            "\u001b[34m\u001b[1mtrain: \u001b[0m/kaggle/working/dataset-fold_8/train/images/ID_iG2aj8.jpeg: corrupt JPEG restored and saved\n",
            "\u001b[34m\u001b[1mtrain: \u001b[0m/kaggle/working/dataset-fold_8/train/images/ID_iI4qR6.jpeg: corrupt JPEG restored and saved\n",
            "\u001b[34m\u001b[1mtrain: \u001b[0m/kaggle/working/dataset-fold_8/train/images/ID_iQqECO.jpeg: corrupt JPEG restored and saved\n",
            "\u001b[34m\u001b[1mtrain: \u001b[0m/kaggle/working/dataset-fold_8/train/images/ID_iTMCUv.jpg: corrupt JPEG restored and saved\n",
            "\u001b[34m\u001b[1mtrain: \u001b[0m/kaggle/working/dataset-fold_8/train/images/ID_ikyHG9.jpg: corrupt JPEG restored and saved\n",
            "\u001b[34m\u001b[1mtrain: \u001b[0m/kaggle/working/dataset-fold_8/train/images/ID_j8Nxxw.jpg: corrupt JPEG restored and saved\n",
            "\u001b[34m\u001b[1mtrain: \u001b[0m/kaggle/working/dataset-fold_8/train/images/ID_jEyYQe.jpg: corrupt JPEG restored and saved\n",
            "\u001b[34m\u001b[1mtrain: \u001b[0m/kaggle/working/dataset-fold_8/train/images/ID_jO2qKy.jpg: corrupt JPEG restored and saved\n",
            "\u001b[34m\u001b[1mtrain: \u001b[0m/kaggle/working/dataset-fold_8/train/images/ID_jTIuus.jpg: corrupt JPEG restored and saved\n",
            "\u001b[34m\u001b[1mtrain: \u001b[0m/kaggle/working/dataset-fold_8/train/images/ID_jZ6PSF.jpeg: corrupt JPEG restored and saved\n",
            "\u001b[34m\u001b[1mtrain: \u001b[0m/kaggle/working/dataset-fold_8/train/images/ID_jbDUGG.jpg: corrupt JPEG restored and saved\n",
            "\u001b[34m\u001b[1mtrain: \u001b[0m/kaggle/working/dataset-fold_8/train/images/ID_jj4SlG.jpeg: corrupt JPEG restored and saved\n",
            "\u001b[34m\u001b[1mtrain: \u001b[0m/kaggle/working/dataset-fold_8/train/images/ID_jkpHUf.jpg: corrupt JPEG restored and saved\n",
            "\u001b[34m\u001b[1mtrain: \u001b[0m/kaggle/working/dataset-fold_8/train/images/ID_jqgCmS.jpg: corrupt JPEG restored and saved\n",
            "\u001b[34m\u001b[1mtrain: \u001b[0m/kaggle/working/dataset-fold_8/train/images/ID_jwgpnM.jpeg: corrupt JPEG restored and saved\n",
            "\u001b[34m\u001b[1mtrain: \u001b[0m/kaggle/working/dataset-fold_8/train/images/ID_jx5Ekq.jpg: corrupt JPEG restored and saved\n",
            "\u001b[34m\u001b[1mtrain: \u001b[0m/kaggle/working/dataset-fold_8/train/images/ID_jxbrcX.jpeg: corrupt JPEG restored and saved\n",
            "\u001b[34m\u001b[1mtrain: \u001b[0m/kaggle/working/dataset-fold_8/train/images/ID_k6EcBg.jpg: corrupt JPEG restored and saved\n",
            "\u001b[34m\u001b[1mtrain: \u001b[0m/kaggle/working/dataset-fold_8/train/images/ID_k6xl0H.jpeg: corrupt JPEG restored and saved\n",
            "\u001b[34m\u001b[1mtrain: \u001b[0m/kaggle/working/dataset-fold_8/train/images/ID_k7E9yz.jpeg: corrupt JPEG restored and saved\n",
            "\u001b[34m\u001b[1mtrain: \u001b[0m/kaggle/working/dataset-fold_8/train/images/ID_kASNKy.jpg: corrupt JPEG restored and saved\n",
            "\u001b[34m\u001b[1mtrain: \u001b[0m/kaggle/working/dataset-fold_8/train/images/ID_kQDcaQ.jpg: corrupt JPEG restored and saved\n",
            "\u001b[34m\u001b[1mtrain: \u001b[0m/kaggle/working/dataset-fold_8/train/images/ID_kQnitp.jpg: corrupt JPEG restored and saved\n",
            "\u001b[34m\u001b[1mtrain: \u001b[0m/kaggle/working/dataset-fold_8/train/images/ID_kk7SDW.jpg: corrupt JPEG restored and saved\n",
            "\u001b[34m\u001b[1mtrain: \u001b[0m/kaggle/working/dataset-fold_8/train/images/ID_krz5Kc.jpeg: corrupt JPEG restored and saved\n",
            "\u001b[34m\u001b[1mtrain: \u001b[0m/kaggle/working/dataset-fold_8/train/images/ID_kyQg6b.jpg: corrupt JPEG restored and saved\n",
            "\u001b[34m\u001b[1mtrain: \u001b[0m/kaggle/working/dataset-fold_8/train/images/ID_lTXAIY.jpg: corrupt JPEG restored and saved\n",
            "\u001b[34m\u001b[1mtrain: \u001b[0m/kaggle/working/dataset-fold_8/train/images/ID_leOirQ.jpeg: corrupt JPEG restored and saved\n",
            "\u001b[34m\u001b[1mtrain: \u001b[0m/kaggle/working/dataset-fold_8/train/images/ID_lqgUrK.jpg: corrupt JPEG restored and saved\n",
            "\u001b[34m\u001b[1mtrain: \u001b[0m/kaggle/working/dataset-fold_8/train/images/ID_mAbOtc.jpg: corrupt JPEG restored and saved\n",
            "\u001b[34m\u001b[1mtrain: \u001b[0m/kaggle/working/dataset-fold_8/train/images/ID_mBvPIf.jpg: corrupt JPEG restored and saved\n",
            "\u001b[34m\u001b[1mtrain: \u001b[0m/kaggle/working/dataset-fold_8/train/images/ID_mDXn0w.jpg: corrupt JPEG restored and saved\n",
            "\u001b[34m\u001b[1mtrain: \u001b[0m/kaggle/working/dataset-fold_8/train/images/ID_mhIu8M.jpg: corrupt JPEG restored and saved\n",
            "\u001b[34m\u001b[1mtrain: \u001b[0m/kaggle/working/dataset-fold_8/train/images/ID_n2ei3B.jpg: corrupt JPEG restored and saved\n",
            "\u001b[34m\u001b[1mtrain: \u001b[0m/kaggle/working/dataset-fold_8/train/images/ID_n8PmEh.jpg: corrupt JPEG restored and saved\n",
            "\u001b[34m\u001b[1mtrain: \u001b[0m/kaggle/working/dataset-fold_8/train/images/ID_nHlwiJ.jpg: corrupt JPEG restored and saved\n",
            "\u001b[34m\u001b[1mtrain: \u001b[0m/kaggle/working/dataset-fold_8/train/images/ID_nIw6DH.jpg: corrupt JPEG restored and saved\n",
            "\u001b[34m\u001b[1mtrain: \u001b[0m/kaggle/working/dataset-fold_8/train/images/ID_nIzLHr.jpeg: corrupt JPEG restored and saved\n",
            "\u001b[34m\u001b[1mtrain: \u001b[0m/kaggle/working/dataset-fold_8/train/images/ID_nZim7G.jpg: corrupt JPEG restored and saved\n",
            "\u001b[34m\u001b[1mtrain: \u001b[0m/kaggle/working/dataset-fold_8/train/images/ID_njuz8k.jpeg: corrupt JPEG restored and saved\n",
            "\u001b[34m\u001b[1mtrain: \u001b[0m/kaggle/working/dataset-fold_8/train/images/ID_ntnNvs.jpg: corrupt JPEG restored and saved\n",
            "\u001b[34m\u001b[1mtrain: \u001b[0m/kaggle/working/dataset-fold_8/train/images/ID_o01U4Q.jpg: corrupt JPEG restored and saved\n",
            "\u001b[34m\u001b[1mtrain: \u001b[0m/kaggle/working/dataset-fold_8/train/images/ID_oFBCwO.jpg: corrupt JPEG restored and saved\n",
            "\u001b[34m\u001b[1mtrain: \u001b[0m/kaggle/working/dataset-fold_8/train/images/ID_oOXqz9.jpg: corrupt JPEG restored and saved\n",
            "\u001b[34m\u001b[1mtrain: \u001b[0m/kaggle/working/dataset-fold_8/train/images/ID_ocfe8h.jpg: corrupt JPEG restored and saved\n",
            "\u001b[34m\u001b[1mtrain: \u001b[0m/kaggle/working/dataset-fold_8/train/images/ID_olXkHS.jpg: corrupt JPEG restored and saved\n",
            "\u001b[34m\u001b[1mtrain: \u001b[0m/kaggle/working/dataset-fold_8/train/images/ID_ovUeNf.jpg: corrupt JPEG restored and saved\n",
            "\u001b[34m\u001b[1mtrain: \u001b[0m/kaggle/working/dataset-fold_8/train/images/ID_pDP6VA.jpg: corrupt JPEG restored and saved\n",
            "\u001b[34m\u001b[1mtrain: \u001b[0m/kaggle/working/dataset-fold_8/train/images/ID_pSHicD.jpeg: corrupt JPEG restored and saved\n",
            "\u001b[34m\u001b[1mtrain: \u001b[0m/kaggle/working/dataset-fold_8/train/images/ID_pTosIS.jpg: corrupt JPEG restored and saved\n",
            "\u001b[34m\u001b[1mtrain: \u001b[0m/kaggle/working/dataset-fold_8/train/images/ID_pYvX3q.jpg: corrupt JPEG restored and saved\n",
            "\u001b[34m\u001b[1mtrain: \u001b[0m/kaggle/working/dataset-fold_8/train/images/ID_pb4bRg.jpeg: corrupt JPEG restored and saved\n",
            "\u001b[34m\u001b[1mtrain: \u001b[0m/kaggle/working/dataset-fold_8/train/images/ID_pm15xu.jpg: corrupt JPEG restored and saved\n",
            "\u001b[34m\u001b[1mtrain: \u001b[0m/kaggle/working/dataset-fold_8/train/images/ID_prbmy9.jpg: corrupt JPEG restored and saved\n",
            "\u001b[34m\u001b[1mtrain: \u001b[0m/kaggle/working/dataset-fold_8/train/images/ID_pxJLAz.jpeg: corrupt JPEG restored and saved\n",
            "\u001b[34m\u001b[1mtrain: \u001b[0m/kaggle/working/dataset-fold_8/train/images/ID_pxjZs8.jpeg: corrupt JPEG restored and saved\n",
            "\u001b[34m\u001b[1mtrain: \u001b[0m/kaggle/working/dataset-fold_8/train/images/ID_q0MS9f.jpeg: corrupt JPEG restored and saved\n",
            "\u001b[34m\u001b[1mtrain: \u001b[0m/kaggle/working/dataset-fold_8/train/images/ID_q8BevT.jpg: corrupt JPEG restored and saved\n",
            "\u001b[34m\u001b[1mtrain: \u001b[0m/kaggle/working/dataset-fold_8/train/images/ID_qH6m1X.jpg: corrupt JPEG restored and saved\n",
            "\u001b[34m\u001b[1mtrain: \u001b[0m/kaggle/working/dataset-fold_8/train/images/ID_qNUMbX.jpg: corrupt JPEG restored and saved\n",
            "\u001b[34m\u001b[1mtrain: \u001b[0m/kaggle/working/dataset-fold_8/train/images/ID_qWwuLB.jpg: corrupt JPEG restored and saved\n",
            "\u001b[34m\u001b[1mtrain: \u001b[0m/kaggle/working/dataset-fold_8/train/images/ID_qrGPyJ.jpg: corrupt JPEG restored and saved\n",
            "\u001b[34m\u001b[1mtrain: \u001b[0m/kaggle/working/dataset-fold_8/train/images/ID_r0axyw.jpeg: corrupt JPEG restored and saved\n",
            "\u001b[34m\u001b[1mtrain: \u001b[0m/kaggle/working/dataset-fold_8/train/images/ID_r0pE4O.jpg: corrupt JPEG restored and saved\n",
            "\u001b[34m\u001b[1mtrain: \u001b[0m/kaggle/working/dataset-fold_8/train/images/ID_r8QuGZ.jpg: corrupt JPEG restored and saved\n",
            "\u001b[34m\u001b[1mtrain: \u001b[0m/kaggle/working/dataset-fold_8/train/images/ID_rCMbN1.jpg: corrupt JPEG restored and saved\n",
            "\u001b[34m\u001b[1mtrain: \u001b[0m/kaggle/working/dataset-fold_8/train/images/ID_rMWHEF.jpg: corrupt JPEG restored and saved\n",
            "\u001b[34m\u001b[1mtrain: \u001b[0m/kaggle/working/dataset-fold_8/train/images/ID_rMXZc5.jpeg: corrupt JPEG restored and saved\n",
            "\u001b[34m\u001b[1mtrain: \u001b[0m/kaggle/working/dataset-fold_8/train/images/ID_rdwvgq.jpg: corrupt JPEG restored and saved\n",
            "\u001b[34m\u001b[1mtrain: \u001b[0m/kaggle/working/dataset-fold_8/train/images/ID_rs2rv6.jpeg: corrupt JPEG restored and saved\n",
            "\u001b[34m\u001b[1mtrain: \u001b[0m/kaggle/working/dataset-fold_8/train/images/ID_ruSpV7.jpg: corrupt JPEG restored and saved\n",
            "\u001b[34m\u001b[1mtrain: \u001b[0m/kaggle/working/dataset-fold_8/train/images/ID_sGmRwf.jpg: corrupt JPEG restored and saved\n",
            "\u001b[34m\u001b[1mtrain: \u001b[0m/kaggle/working/dataset-fold_8/train/images/ID_sZNOcT.jpg: corrupt JPEG restored and saved\n",
            "\u001b[34m\u001b[1mtrain: \u001b[0m/kaggle/working/dataset-fold_8/train/images/ID_sgk3L1.jpg: corrupt JPEG restored and saved\n",
            "\u001b[34m\u001b[1mtrain: \u001b[0m/kaggle/working/dataset-fold_8/train/images/ID_soB3nB.jpg: corrupt JPEG restored and saved\n",
            "\u001b[34m\u001b[1mtrain: \u001b[0m/kaggle/working/dataset-fold_8/train/images/ID_svC6nh.jpeg: corrupt JPEG restored and saved\n",
            "\u001b[34m\u001b[1mtrain: \u001b[0m/kaggle/working/dataset-fold_8/train/images/ID_tLQKlj.jpg: corrupt JPEG restored and saved\n",
            "\u001b[34m\u001b[1mtrain: \u001b[0m/kaggle/working/dataset-fold_8/train/images/ID_tOOxT6.jpeg: corrupt JPEG restored and saved\n",
            "\u001b[34m\u001b[1mtrain: \u001b[0m/kaggle/working/dataset-fold_8/train/images/ID_tSdU7L.jpg: corrupt JPEG restored and saved\n",
            "\u001b[34m\u001b[1mtrain: \u001b[0m/kaggle/working/dataset-fold_8/train/images/ID_tbbAga.jpeg: corrupt JPEG restored and saved\n",
            "\u001b[34m\u001b[1mtrain: \u001b[0m/kaggle/working/dataset-fold_8/train/images/ID_teXsR2.jpeg: corrupt JPEG restored and saved\n",
            "\u001b[34m\u001b[1mtrain: \u001b[0m/kaggle/working/dataset-fold_8/train/images/ID_tqDtkc.jpeg: corrupt JPEG restored and saved\n",
            "\u001b[34m\u001b[1mtrain: \u001b[0m/kaggle/working/dataset-fold_8/train/images/ID_tqIQWi.jpeg: corrupt JPEG restored and saved\n",
            "\u001b[34m\u001b[1mtrain: \u001b[0m/kaggle/working/dataset-fold_8/train/images/ID_ttOYvp.jpg: corrupt JPEG restored and saved\n",
            "\u001b[34m\u001b[1mtrain: \u001b[0m/kaggle/working/dataset-fold_8/train/images/ID_u9JmKd.jpg: corrupt JPEG restored and saved\n",
            "\u001b[34m\u001b[1mtrain: \u001b[0m/kaggle/working/dataset-fold_8/train/images/ID_uCZCap.jpg: corrupt JPEG restored and saved\n",
            "\u001b[34m\u001b[1mtrain: \u001b[0m/kaggle/working/dataset-fold_8/train/images/ID_uKHtOl.jpeg: corrupt JPEG restored and saved\n",
            "\u001b[34m\u001b[1mtrain: \u001b[0m/kaggle/working/dataset-fold_8/train/images/ID_uLcPmF.jpg: corrupt JPEG restored and saved\n",
            "\u001b[34m\u001b[1mtrain: \u001b[0m/kaggle/working/dataset-fold_8/train/images/ID_uTB3hB.jpg: corrupt JPEG restored and saved\n",
            "\u001b[34m\u001b[1mtrain: \u001b[0m/kaggle/working/dataset-fold_8/train/images/ID_ueWf24.jpeg: corrupt JPEG restored and saved\n",
            "\u001b[34m\u001b[1mtrain: \u001b[0m/kaggle/working/dataset-fold_8/train/images/ID_uiDeaI.jpg: corrupt JPEG restored and saved\n",
            "\u001b[34m\u001b[1mtrain: \u001b[0m/kaggle/working/dataset-fold_8/train/images/ID_unaCV7.jpeg: corrupt JPEG restored and saved\n",
            "\u001b[34m\u001b[1mtrain: \u001b[0m/kaggle/working/dataset-fold_8/train/images/ID_urNuzC.jpeg: corrupt JPEG restored and saved\n",
            "\u001b[34m\u001b[1mtrain: \u001b[0m/kaggle/working/dataset-fold_8/train/images/ID_usg4S9.jpeg: corrupt JPEG restored and saved\n",
            "\u001b[34m\u001b[1mtrain: \u001b[0m/kaggle/working/dataset-fold_8/train/images/ID_uyPxtk.jpg: corrupt JPEG restored and saved\n",
            "\u001b[34m\u001b[1mtrain: \u001b[0m/kaggle/working/dataset-fold_8/train/images/ID_vHSudl.jpg: corrupt JPEG restored and saved\n",
            "\u001b[34m\u001b[1mtrain: \u001b[0m/kaggle/working/dataset-fold_8/train/images/ID_vKQXPV.jpeg: corrupt JPEG restored and saved\n",
            "\u001b[34m\u001b[1mtrain: \u001b[0m/kaggle/working/dataset-fold_8/train/images/ID_vO5hXL.jpg: corrupt JPEG restored and saved\n",
            "\u001b[34m\u001b[1mtrain: \u001b[0m/kaggle/working/dataset-fold_8/train/images/ID_vYNFqM.jpg: corrupt JPEG restored and saved\n",
            "\u001b[34m\u001b[1mtrain: \u001b[0m/kaggle/working/dataset-fold_8/train/images/ID_vc8s7j.jpg: corrupt JPEG restored and saved\n",
            "\u001b[34m\u001b[1mtrain: \u001b[0m/kaggle/working/dataset-fold_8/train/images/ID_voTg2J.jpg: corrupt JPEG restored and saved\n",
            "\u001b[34m\u001b[1mtrain: \u001b[0m/kaggle/working/dataset-fold_8/train/images/ID_vypkcl.jpg: corrupt JPEG restored and saved\n",
            "\u001b[34m\u001b[1mtrain: \u001b[0m/kaggle/working/dataset-fold_8/train/images/ID_vyxJFi.jpg: corrupt JPEG restored and saved\n",
            "\u001b[34m\u001b[1mtrain: \u001b[0m/kaggle/working/dataset-fold_8/train/images/ID_wCQDfX.jpg: corrupt JPEG restored and saved\n",
            "\u001b[34m\u001b[1mtrain: \u001b[0m/kaggle/working/dataset-fold_8/train/images/ID_wF7EbR.jpeg: corrupt JPEG restored and saved\n",
            "\u001b[34m\u001b[1mtrain: \u001b[0m/kaggle/working/dataset-fold_8/train/images/ID_wUQeJr.jpeg: corrupt JPEG restored and saved\n",
            "\u001b[34m\u001b[1mtrain: \u001b[0m/kaggle/working/dataset-fold_8/train/images/ID_wapUmF.jpg: corrupt JPEG restored and saved\n",
            "\u001b[34m\u001b[1mtrain: \u001b[0m/kaggle/working/dataset-fold_8/train/images/ID_wvMeOv.jpg: corrupt JPEG restored and saved\n",
            "\u001b[34m\u001b[1mtrain: \u001b[0m/kaggle/working/dataset-fold_8/train/images/ID_x6WZsy.jpeg: corrupt JPEG restored and saved\n",
            "\u001b[34m\u001b[1mtrain: \u001b[0m/kaggle/working/dataset-fold_8/train/images/ID_xADtex.jpeg: corrupt JPEG restored and saved\n",
            "\u001b[34m\u001b[1mtrain: \u001b[0m/kaggle/working/dataset-fold_8/train/images/ID_xFalb9.jpg: corrupt JPEG restored and saved\n",
            "\u001b[34m\u001b[1mtrain: \u001b[0m/kaggle/working/dataset-fold_8/train/images/ID_xQUj9z.jpg: corrupt JPEG restored and saved\n",
            "\u001b[34m\u001b[1mtrain: \u001b[0m/kaggle/working/dataset-fold_8/train/images/ID_xaQ1Pp.jpeg: corrupt JPEG restored and saved\n",
            "\u001b[34m\u001b[1mtrain: \u001b[0m/kaggle/working/dataset-fold_8/train/images/ID_xhwazg.jpeg: corrupt JPEG restored and saved\n",
            "\u001b[34m\u001b[1mtrain: \u001b[0m/kaggle/working/dataset-fold_8/train/images/ID_y0FHMz.jpg: corrupt JPEG restored and saved\n",
            "\u001b[34m\u001b[1mtrain: \u001b[0m/kaggle/working/dataset-fold_8/train/images/ID_y31JbP.jpeg: corrupt JPEG restored and saved\n",
            "\u001b[34m\u001b[1mtrain: \u001b[0m/kaggle/working/dataset-fold_8/train/images/ID_yJY6yx.jpeg: corrupt JPEG restored and saved\n",
            "\u001b[34m\u001b[1mtrain: \u001b[0m/kaggle/working/dataset-fold_8/train/images/ID_yXnHjb.jpg: corrupt JPEG restored and saved\n",
            "\u001b[34m\u001b[1mtrain: \u001b[0m/kaggle/working/dataset-fold_8/train/images/ID_yZxf2F.jpeg: corrupt JPEG restored and saved\n",
            "\u001b[34m\u001b[1mtrain: \u001b[0m/kaggle/working/dataset-fold_8/train/images/ID_ya4jVu.jpeg: corrupt JPEG restored and saved\n",
            "\u001b[34m\u001b[1mtrain: \u001b[0m/kaggle/working/dataset-fold_8/train/images/ID_yd0aFD.jpg: corrupt JPEG restored and saved\n",
            "\u001b[34m\u001b[1mtrain: \u001b[0m/kaggle/working/dataset-fold_8/train/images/ID_yfr2HJ.jpeg: corrupt JPEG restored and saved\n",
            "\u001b[34m\u001b[1mtrain: \u001b[0m/kaggle/working/dataset-fold_8/train/images/ID_yiEku4.jpg: corrupt JPEG restored and saved\n",
            "\u001b[34m\u001b[1mtrain: \u001b[0m/kaggle/working/dataset-fold_8/train/images/ID_yjwlQG.jpeg: corrupt JPEG restored and saved\n",
            "\u001b[34m\u001b[1mtrain: \u001b[0m/kaggle/working/dataset-fold_8/train/images/ID_ykasdx.jpg: corrupt JPEG restored and saved\n",
            "\u001b[34m\u001b[1mtrain: \u001b[0m/kaggle/working/dataset-fold_8/train/images/ID_ylXlTv.jpg: corrupt JPEG restored and saved\n",
            "\u001b[34m\u001b[1mtrain: \u001b[0m/kaggle/working/dataset-fold_8/train/images/ID_ymMXcD.jpeg: corrupt JPEG restored and saved\n",
            "\u001b[34m\u001b[1mtrain: \u001b[0m/kaggle/working/dataset-fold_8/train/images/ID_yol9H8.jpeg: corrupt JPEG restored and saved\n",
            "\u001b[34m\u001b[1mtrain: \u001b[0m/kaggle/working/dataset-fold_8/train/images/ID_yqUspW.jpg: corrupt JPEG restored and saved\n",
            "\u001b[34m\u001b[1mtrain: \u001b[0m/kaggle/working/dataset-fold_8/train/images/ID_z6gC1L.jpg: corrupt JPEG restored and saved\n",
            "\u001b[34m\u001b[1mtrain: \u001b[0m/kaggle/working/dataset-fold_8/train/images/ID_zOEJFj.jpg: corrupt JPEG restored and saved\n",
            "\u001b[34m\u001b[1mtrain: \u001b[0m/kaggle/working/dataset-fold_8/train/images/ID_zQiLcy.jpg: corrupt JPEG restored and saved\n",
            "\u001b[34m\u001b[1mtrain: \u001b[0m/kaggle/working/dataset-fold_8/train/images/ID_zVL36E.jpg: corrupt JPEG restored and saved\n",
            "\u001b[34m\u001b[1mtrain: \u001b[0m/kaggle/working/dataset-fold_8/train/images/ID_zZM2jq.jpg: corrupt JPEG restored and saved\n",
            "\u001b[34m\u001b[1mtrain: \u001b[0m/kaggle/working/dataset-fold_8/train/images/ID_zltnVS.jpeg: corrupt JPEG restored and saved\n",
            "\u001b[34m\u001b[1mtrain: \u001b[0mNew cache created: /kaggle/working/dataset-fold_8/train/labels.cache\n",
            "\u001b[34m\u001b[1malbumentations: \u001b[0mBlur(p=0.01, blur_limit=(3, 7)), MedianBlur(p=0.01, blur_limit=(3, 7)), ToGray(p=0.01, num_output_channels=3, method='weighted_average'), CLAHE(p=0.01, clip_limit=(1.0, 4.0), tile_grid_size=(8, 8))\n"
          ]
        },
        {
          "name": "stderr",
          "output_type": "stream",
          "text": [
            "\n"
          ]
        },
        {
          "name": "stdout",
          "output_type": "stream",
          "text": [
            "\u001b[34m\u001b[1mval: \u001b[0mFast image access ✅ (ping: 0.0±0.0 ms, read: 672.3±832.8 MB/s, size: 1656.6 KB)\n"
          ]
        },
        {
          "name": "stderr",
          "output_type": "stream",
          "text": [
            "\u001b[34m\u001b[1mval: \u001b[0mScanning /kaggle/working/dataset-fold_8/valid/labels... 277 images, 0 backgrounds, 0 corrupt: 100%|██████████| 277/277 [00:05<00:00, 51.56it/s]"
          ]
        },
        {
          "name": "stdout",
          "output_type": "stream",
          "text": [
            "\u001b[34m\u001b[1mval: \u001b[0m/kaggle/working/dataset-fold_8/valid/images/ID_DOTVrd.jpg: corrupt JPEG restored and saved\n",
            "\u001b[34m\u001b[1mval: \u001b[0m/kaggle/working/dataset-fold_8/valid/images/ID_Dvliuk.jpg: corrupt JPEG restored and saved\n",
            "\u001b[34m\u001b[1mval: \u001b[0m/kaggle/working/dataset-fold_8/valid/images/ID_FHK3pa.jpeg: corrupt JPEG restored and saved\n",
            "\u001b[34m\u001b[1mval: \u001b[0m/kaggle/working/dataset-fold_8/valid/images/ID_GFYqTL.jpeg: corrupt JPEG restored and saved\n",
            "\u001b[34m\u001b[1mval: \u001b[0m/kaggle/working/dataset-fold_8/valid/images/ID_KRiWgS.jpg: corrupt JPEG restored and saved\n",
            "\u001b[34m\u001b[1mval: \u001b[0m/kaggle/working/dataset-fold_8/valid/images/ID_LA1RfJ.jpg: corrupt JPEG restored and saved\n",
            "\u001b[34m\u001b[1mval: \u001b[0m/kaggle/working/dataset-fold_8/valid/images/ID_OFTTvl.jpeg: corrupt JPEG restored and saved\n",
            "\u001b[34m\u001b[1mval: \u001b[0m/kaggle/working/dataset-fold_8/valid/images/ID_QVEUhP.jpg: corrupt JPEG restored and saved\n",
            "\u001b[34m\u001b[1mval: \u001b[0m/kaggle/working/dataset-fold_8/valid/images/ID_ULx8cJ.jpg: corrupt JPEG restored and saved\n",
            "\u001b[34m\u001b[1mval: \u001b[0m/kaggle/working/dataset-fold_8/valid/images/ID_WzxXRK.jpeg: corrupt JPEG restored and saved\n",
            "\u001b[34m\u001b[1mval: \u001b[0m/kaggle/working/dataset-fold_8/valid/images/ID_dfvVln.jpeg: corrupt JPEG restored and saved\n",
            "\u001b[34m\u001b[1mval: \u001b[0m/kaggle/working/dataset-fold_8/valid/images/ID_edNUod.jpg: corrupt JPEG restored and saved\n",
            "\u001b[34m\u001b[1mval: \u001b[0m/kaggle/working/dataset-fold_8/valid/images/ID_f9nN0T.jpg: corrupt JPEG restored and saved\n",
            "\u001b[34m\u001b[1mval: \u001b[0m/kaggle/working/dataset-fold_8/valid/images/ID_fXioHc.jpeg: corrupt JPEG restored and saved\n",
            "\u001b[34m\u001b[1mval: \u001b[0m/kaggle/working/dataset-fold_8/valid/images/ID_iK8ci4.jpg: corrupt JPEG restored and saved\n",
            "\u001b[34m\u001b[1mval: \u001b[0m/kaggle/working/dataset-fold_8/valid/images/ID_ir1VRs.jpeg: corrupt JPEG restored and saved\n",
            "\u001b[34m\u001b[1mval: \u001b[0m/kaggle/working/dataset-fold_8/valid/images/ID_lg3nG2.jpg: corrupt JPEG restored and saved\n",
            "\u001b[34m\u001b[1mval: \u001b[0m/kaggle/working/dataset-fold_8/valid/images/ID_mIRMvI.jpg: corrupt JPEG restored and saved\n",
            "\u001b[34m\u001b[1mval: \u001b[0m/kaggle/working/dataset-fold_8/valid/images/ID_nx4hoN.jpg: corrupt JPEG restored and saved\n",
            "\u001b[34m\u001b[1mval: \u001b[0m/kaggle/working/dataset-fold_8/valid/images/ID_o4UT3S.jpeg: corrupt JPEG restored and saved\n",
            "\u001b[34m\u001b[1mval: \u001b[0m/kaggle/working/dataset-fold_8/valid/images/ID_rYlNow.jpg: corrupt JPEG restored and saved\n",
            "\u001b[34m\u001b[1mval: \u001b[0m/kaggle/working/dataset-fold_8/valid/images/ID_u0KnR0.jpg: corrupt JPEG restored and saved\n",
            "\u001b[34m\u001b[1mval: \u001b[0m/kaggle/working/dataset-fold_8/valid/images/ID_vwSjRo.jpg: corrupt JPEG restored and saved\n",
            "\u001b[34m\u001b[1mval: \u001b[0m/kaggle/working/dataset-fold_8/valid/images/ID_y3QgnO.jpg: corrupt JPEG restored and saved\n",
            "\u001b[34m\u001b[1mval: \u001b[0m/kaggle/working/dataset-fold_8/valid/images/ID_yTKAOl.jpeg: corrupt JPEG restored and saved\n",
            "\u001b[34m\u001b[1mval: \u001b[0mNew cache created: /kaggle/working/dataset-fold_8/valid/labels.cache\n"
          ]
        },
        {
          "name": "stderr",
          "output_type": "stream",
          "text": [
            "\n"
          ]
        },
        {
          "name": "stdout",
          "output_type": "stream",
          "text": [
            "Plotting labels to runs/detect/train_fold_8_model_yolo11s_imgs_800/labels.jpg... \n",
            "\u001b[34m\u001b[1moptimizer:\u001b[0m AdamW(lr=0.0003, momentum=0.9) with parameter groups 81 weight(decay=0.0), 88 weight(decay=0.009375000000000001), 87 bias(decay=0.0)\n",
            "Image sizes 800 train, 800 val\n",
            "Using 4 dataloader workers\n",
            "Logging results to \u001b[1mruns/detect/train_fold_8_model_yolo11s_imgs_800\u001b[0m\n",
            "Starting training for 50 epochs...\n",
            "\n",
            "      Epoch    GPU_mem   box_loss   cls_loss   dfl_loss  Instances       Size\n"
          ]
        },
        {
          "name": "stderr",
          "output_type": "stream",
          "text": [
            "       1/50      4.16G      1.335      1.714      1.754         10        800: 100%|██████████| 526/526 [03:23<00:00,  2.58it/s]\n",
            "                 Class     Images  Instances      Box(P          R      mAP50  mAP50-95): 100%|██████████| 14/14 [00:05<00:00,  2.64it/s]"
          ]
        },
        {
          "name": "stdout",
          "output_type": "stream",
          "text": [
            "                   all        277        469      0.583        0.5      0.542      0.297\n"
          ]
        },
        {
          "name": "stderr",
          "output_type": "stream",
          "text": [
            "\n"
          ]
        },
        {
          "name": "stdout",
          "output_type": "stream",
          "text": [
            "\n",
            "      Epoch    GPU_mem   box_loss   cls_loss   dfl_loss  Instances       Size\n"
          ]
        },
        {
          "name": "stderr",
          "output_type": "stream",
          "text": [
            "       2/50      4.92G      1.258      1.421      1.681          5        800: 100%|██████████| 526/526 [03:11<00:00,  2.75it/s]\n",
            "                 Class     Images  Instances      Box(P          R      mAP50  mAP50-95): 100%|██████████| 14/14 [00:05<00:00,  2.51it/s]\n"
          ]
        },
        {
          "name": "stdout",
          "output_type": "stream",
          "text": [
            "                   all        277        469      0.583      0.556      0.578      0.337\n",
            "\n",
            "      Epoch    GPU_mem   box_loss   cls_loss   dfl_loss  Instances       Size\n"
          ]
        },
        {
          "name": "stderr",
          "output_type": "stream",
          "text": [
            "       3/50      4.92G      1.246      1.382      1.673          6        800: 100%|██████████| 526/526 [03:06<00:00,  2.82it/s]\n",
            "                 Class     Images  Instances      Box(P          R      mAP50  mAP50-95): 100%|██████████| 14/14 [00:04<00:00,  3.04it/s]\n"
          ]
        },
        {
          "name": "stdout",
          "output_type": "stream",
          "text": [
            "                   all        277        469      0.706      0.583      0.638      0.397\n",
            "\n",
            "      Epoch    GPU_mem   box_loss   cls_loss   dfl_loss  Instances       Size\n"
          ]
        },
        {
          "name": "stderr",
          "output_type": "stream",
          "text": [
            "       4/50      4.92G      1.228      1.339      1.655          2        800: 100%|██████████| 526/526 [03:06<00:00,  2.82it/s]\n",
            "                 Class     Images  Instances      Box(P          R      mAP50  mAP50-95): 100%|██████████| 14/14 [00:05<00:00,  2.58it/s]"
          ]
        },
        {
          "name": "stdout",
          "output_type": "stream",
          "text": [
            "                   all        277        469      0.717      0.656      0.728      0.464\n"
          ]
        },
        {
          "name": "stderr",
          "output_type": "stream",
          "text": [
            "\n"
          ]
        },
        {
          "name": "stdout",
          "output_type": "stream",
          "text": [
            "\n",
            "      Epoch    GPU_mem   box_loss   cls_loss   dfl_loss  Instances       Size\n"
          ]
        },
        {
          "name": "stderr",
          "output_type": "stream",
          "text": [
            "       5/50      4.92G        1.2      1.288       1.63         10        800: 100%|██████████| 526/526 [03:04<00:00,  2.85it/s]\n",
            "                 Class     Images  Instances      Box(P          R      mAP50  mAP50-95): 100%|██████████| 14/14 [00:04<00:00,  2.86it/s]"
          ]
        },
        {
          "name": "stdout",
          "output_type": "stream",
          "text": [
            "                   all        277        469      0.776      0.647      0.719      0.436\n"
          ]
        },
        {
          "name": "stderr",
          "output_type": "stream",
          "text": [
            "\n"
          ]
        },
        {
          "name": "stdout",
          "output_type": "stream",
          "text": [
            "\n",
            "      Epoch    GPU_mem   box_loss   cls_loss   dfl_loss  Instances       Size\n"
          ]
        },
        {
          "name": "stderr",
          "output_type": "stream",
          "text": [
            "       6/50      4.92G      1.199      1.262      1.629          6        800: 100%|██████████| 526/526 [03:09<00:00,  2.78it/s]\n",
            "                 Class     Images  Instances      Box(P          R      mAP50  mAP50-95): 100%|██████████| 14/14 [00:05<00:00,  2.78it/s]\n"
          ]
        },
        {
          "name": "stdout",
          "output_type": "stream",
          "text": [
            "                   all        277        469      0.719       0.62      0.711      0.436\n",
            "\n",
            "      Epoch    GPU_mem   box_loss   cls_loss   dfl_loss  Instances       Size\n"
          ]
        },
        {
          "name": "stderr",
          "output_type": "stream",
          "text": [
            "       7/50      4.92G      1.174       1.23      1.611          8        800: 100%|██████████| 526/526 [03:10<00:00,  2.76it/s]\n",
            "                 Class     Images  Instances      Box(P          R      mAP50  mAP50-95): 100%|██████████| 14/14 [00:05<00:00,  2.34it/s]\n"
          ]
        },
        {
          "name": "stdout",
          "output_type": "stream",
          "text": [
            "                   all        277        469      0.721      0.664      0.745      0.481\n",
            "\n",
            "      Epoch    GPU_mem   box_loss   cls_loss   dfl_loss  Instances       Size\n"
          ]
        },
        {
          "name": "stderr",
          "output_type": "stream",
          "text": [
            "       8/50      4.92G      1.169       1.22        1.6          6        800: 100%|██████████| 526/526 [03:06<00:00,  2.82it/s]\n",
            "                 Class     Images  Instances      Box(P          R      mAP50  mAP50-95): 100%|██████████| 14/14 [00:05<00:00,  2.76it/s]"
          ]
        },
        {
          "name": "stdout",
          "output_type": "stream",
          "text": [
            "                   all        277        469      0.764       0.68      0.754      0.477\n"
          ]
        },
        {
          "name": "stderr",
          "output_type": "stream",
          "text": [
            "\n"
          ]
        },
        {
          "name": "stdout",
          "output_type": "stream",
          "text": [
            "\n",
            "      Epoch    GPU_mem   box_loss   cls_loss   dfl_loss  Instances       Size\n"
          ]
        },
        {
          "name": "stderr",
          "output_type": "stream",
          "text": [
            "       9/50      4.92G      1.153      1.184      1.587          7        800: 100%|██████████| 526/526 [03:10<00:00,  2.77it/s]\n",
            "                 Class     Images  Instances      Box(P          R      mAP50  mAP50-95): 100%|██████████| 14/14 [00:05<00:00,  2.51it/s]"
          ]
        },
        {
          "name": "stdout",
          "output_type": "stream",
          "text": [
            "                   all        277        469      0.776      0.613      0.742      0.482\n"
          ]
        },
        {
          "name": "stderr",
          "output_type": "stream",
          "text": [
            "\n"
          ]
        },
        {
          "name": "stdout",
          "output_type": "stream",
          "text": [
            "\n",
            "      Epoch    GPU_mem   box_loss   cls_loss   dfl_loss  Instances       Size\n"
          ]
        },
        {
          "name": "stderr",
          "output_type": "stream",
          "text": [
            "      10/50      4.92G      1.145      1.163      1.583          4        800: 100%|██████████| 526/526 [03:10<00:00,  2.77it/s]\n",
            "                 Class     Images  Instances      Box(P          R      mAP50  mAP50-95): 100%|██████████| 14/14 [00:04<00:00,  2.89it/s]"
          ]
        },
        {
          "name": "stdout",
          "output_type": "stream",
          "text": [
            "                   all        277        469      0.745      0.709      0.773      0.491\n"
          ]
        },
        {
          "name": "stderr",
          "output_type": "stream",
          "text": [
            "\n"
          ]
        },
        {
          "name": "stdout",
          "output_type": "stream",
          "text": [
            "\n",
            "      Epoch    GPU_mem   box_loss   cls_loss   dfl_loss  Instances       Size\n"
          ]
        },
        {
          "name": "stderr",
          "output_type": "stream",
          "text": [
            "      11/50      4.92G      1.128      1.139      1.566          4        800: 100%|██████████| 526/526 [03:10<00:00,  2.76it/s]\n",
            "                 Class     Images  Instances      Box(P          R      mAP50  mAP50-95): 100%|██████████| 14/14 [00:06<00:00,  2.25it/s]\n"
          ]
        },
        {
          "name": "stdout",
          "output_type": "stream",
          "text": [
            "                   all        277        469      0.809      0.673      0.777      0.506\n",
            "\n",
            "      Epoch    GPU_mem   box_loss   cls_loss   dfl_loss  Instances       Size\n"
          ]
        },
        {
          "name": "stderr",
          "output_type": "stream",
          "text": [
            "      12/50      4.92G      1.132      1.129      1.568          7        800: 100%|██████████| 526/526 [03:10<00:00,  2.76it/s]\n",
            "                 Class     Images  Instances      Box(P          R      mAP50  mAP50-95): 100%|██████████| 14/14 [00:05<00:00,  2.76it/s]"
          ]
        },
        {
          "name": "stdout",
          "output_type": "stream",
          "text": [
            "                   all        277        469      0.778      0.705      0.783      0.517\n"
          ]
        },
        {
          "name": "stderr",
          "output_type": "stream",
          "text": [
            "\n"
          ]
        },
        {
          "name": "stdout",
          "output_type": "stream",
          "text": [
            "\n",
            "      Epoch    GPU_mem   box_loss   cls_loss   dfl_loss  Instances       Size\n"
          ]
        },
        {
          "name": "stderr",
          "output_type": "stream",
          "text": [
            "      13/50      4.92G      1.121       1.11      1.566          8        800: 100%|██████████| 526/526 [03:12<00:00,  2.73it/s]\n",
            "                 Class     Images  Instances      Box(P          R      mAP50  mAP50-95): 100%|██████████| 14/14 [00:06<00:00,  2.12it/s]\n"
          ]
        },
        {
          "name": "stdout",
          "output_type": "stream",
          "text": [
            "                   all        277        469      0.771      0.692      0.778      0.506\n",
            "\n",
            "      Epoch    GPU_mem   box_loss   cls_loss   dfl_loss  Instances       Size\n"
          ]
        },
        {
          "name": "stderr",
          "output_type": "stream",
          "text": [
            "      14/50      4.92G      1.104      1.088      1.551         10        800: 100%|██████████| 526/526 [03:11<00:00,  2.75it/s]\n",
            "                 Class     Images  Instances      Box(P          R      mAP50  mAP50-95): 100%|██████████| 14/14 [00:05<00:00,  2.36it/s]"
          ]
        },
        {
          "name": "stdout",
          "output_type": "stream",
          "text": [
            "                   all        277        469       0.83       0.66      0.783      0.523\n"
          ]
        },
        {
          "name": "stderr",
          "output_type": "stream",
          "text": [
            "\n"
          ]
        },
        {
          "name": "stdout",
          "output_type": "stream",
          "text": [
            "\n",
            "      Epoch    GPU_mem   box_loss   cls_loss   dfl_loss  Instances       Size\n"
          ]
        },
        {
          "name": "stderr",
          "output_type": "stream",
          "text": [
            "      15/50      4.92G      1.104       1.08       1.55          3        800: 100%|██████████| 526/526 [03:06<00:00,  2.82it/s]\n",
            "                 Class     Images  Instances      Box(P          R      mAP50  mAP50-95): 100%|██████████| 14/14 [00:06<00:00,  2.31it/s]\n"
          ]
        },
        {
          "name": "stdout",
          "output_type": "stream",
          "text": [
            "                   all        277        469      0.761      0.715      0.778      0.513\n",
            "\n",
            "      Epoch    GPU_mem   box_loss   cls_loss   dfl_loss  Instances       Size\n"
          ]
        },
        {
          "name": "stderr",
          "output_type": "stream",
          "text": [
            "      16/50      4.92G      1.094      1.065       1.54          5        800: 100%|██████████| 526/526 [03:10<00:00,  2.76it/s]\n",
            "                 Class     Images  Instances      Box(P          R      mAP50  mAP50-95): 100%|██████████| 14/14 [00:07<00:00,  1.98it/s]\n"
          ]
        },
        {
          "name": "stdout",
          "output_type": "stream",
          "text": [
            "                   all        277        469      0.761      0.761      0.791      0.524\n",
            "\n",
            "      Epoch    GPU_mem   box_loss   cls_loss   dfl_loss  Instances       Size\n"
          ]
        },
        {
          "name": "stderr",
          "output_type": "stream",
          "text": [
            "      17/50      4.92G       1.09      1.037      1.532          8        800: 100%|██████████| 526/526 [03:07<00:00,  2.80it/s]\n",
            "                 Class     Images  Instances      Box(P          R      mAP50  mAP50-95): 100%|██████████| 14/14 [00:05<00:00,  2.48it/s]"
          ]
        },
        {
          "name": "stdout",
          "output_type": "stream",
          "text": [
            "                   all        277        469      0.772      0.697      0.787      0.523\n"
          ]
        },
        {
          "name": "stderr",
          "output_type": "stream",
          "text": [
            "\n"
          ]
        },
        {
          "name": "stdout",
          "output_type": "stream",
          "text": [
            "\n",
            "      Epoch    GPU_mem   box_loss   cls_loss   dfl_loss  Instances       Size\n"
          ]
        },
        {
          "name": "stderr",
          "output_type": "stream",
          "text": [
            "      18/50      4.92G      1.095       1.05      1.538          8        800: 100%|██████████| 526/526 [03:09<00:00,  2.78it/s]\n",
            "                 Class     Images  Instances      Box(P          R      mAP50  mAP50-95): 100%|██████████| 14/14 [00:05<00:00,  2.45it/s]\n"
          ]
        },
        {
          "name": "stdout",
          "output_type": "stream",
          "text": [
            "                   all        277        469       0.76      0.728      0.777       0.52\n",
            "\n",
            "      Epoch    GPU_mem   box_loss   cls_loss   dfl_loss  Instances       Size\n"
          ]
        },
        {
          "name": "stderr",
          "output_type": "stream",
          "text": [
            "      19/50      4.92G      1.079       1.02      1.521          7        800: 100%|██████████| 526/526 [03:11<00:00,  2.75it/s]\n",
            "                 Class     Images  Instances      Box(P          R      mAP50  mAP50-95): 100%|██████████| 14/14 [00:05<00:00,  2.60it/s]"
          ]
        },
        {
          "name": "stdout",
          "output_type": "stream",
          "text": [
            "                   all        277        469      0.831      0.704      0.806      0.541\n"
          ]
        },
        {
          "name": "stderr",
          "output_type": "stream",
          "text": [
            "\n"
          ]
        },
        {
          "name": "stdout",
          "output_type": "stream",
          "text": [
            "\n",
            "      Epoch    GPU_mem   box_loss   cls_loss   dfl_loss  Instances       Size\n"
          ]
        },
        {
          "name": "stderr",
          "output_type": "stream",
          "text": [
            "      20/50      4.92G      1.075      1.019      1.523         12        800: 100%|██████████| 526/526 [03:07<00:00,  2.80it/s]\n",
            "                 Class     Images  Instances      Box(P          R      mAP50  mAP50-95): 100%|██████████| 14/14 [00:05<00:00,  2.54it/s]"
          ]
        },
        {
          "name": "stdout",
          "output_type": "stream",
          "text": [
            "                   all        277        469      0.768      0.727      0.787      0.526\n"
          ]
        },
        {
          "name": "stderr",
          "output_type": "stream",
          "text": [
            "\n"
          ]
        },
        {
          "name": "stdout",
          "output_type": "stream",
          "text": [
            "\n",
            "      Epoch    GPU_mem   box_loss   cls_loss   dfl_loss  Instances       Size\n"
          ]
        },
        {
          "name": "stderr",
          "output_type": "stream",
          "text": [
            "      21/50      4.92G      1.062      1.012      1.516          3        800: 100%|██████████| 526/526 [03:11<00:00,  2.75it/s]\n",
            "                 Class     Images  Instances      Box(P          R      mAP50  mAP50-95): 100%|██████████| 14/14 [00:06<00:00,  2.12it/s]\n"
          ]
        },
        {
          "name": "stdout",
          "output_type": "stream",
          "text": [
            "                   all        277        469      0.777       0.73      0.794      0.527\n",
            "\n",
            "      Epoch    GPU_mem   box_loss   cls_loss   dfl_loss  Instances       Size\n"
          ]
        },
        {
          "name": "stderr",
          "output_type": "stream",
          "text": [
            "      22/50      4.92G      1.055     0.9986      1.506         11        800: 100%|██████████| 526/526 [03:08<00:00,  2.79it/s]\n",
            "                 Class     Images  Instances      Box(P          R      mAP50  mAP50-95): 100%|██████████| 14/14 [00:05<00:00,  2.50it/s]"
          ]
        },
        {
          "name": "stdout",
          "output_type": "stream",
          "text": [
            "                   all        277        469      0.738      0.726      0.784      0.527\n"
          ]
        },
        {
          "name": "stderr",
          "output_type": "stream",
          "text": [
            "\n"
          ]
        },
        {
          "name": "stdout",
          "output_type": "stream",
          "text": [
            "\n",
            "      Epoch    GPU_mem   box_loss   cls_loss   dfl_loss  Instances       Size\n"
          ]
        },
        {
          "name": "stderr",
          "output_type": "stream",
          "text": [
            "      23/50      4.92G      1.058     0.9924      1.509          9        800: 100%|██████████| 526/526 [03:08<00:00,  2.79it/s]\n",
            "                 Class     Images  Instances      Box(P          R      mAP50  mAP50-95): 100%|██████████| 14/14 [00:05<00:00,  2.60it/s]"
          ]
        },
        {
          "name": "stdout",
          "output_type": "stream",
          "text": [
            "                   all        277        469      0.842      0.709      0.802      0.538\n"
          ]
        },
        {
          "name": "stderr",
          "output_type": "stream",
          "text": [
            "\n"
          ]
        },
        {
          "name": "stdout",
          "output_type": "stream",
          "text": [
            "\n",
            "      Epoch    GPU_mem   box_loss   cls_loss   dfl_loss  Instances       Size\n"
          ]
        },
        {
          "name": "stderr",
          "output_type": "stream",
          "text": [
            "      24/50      4.92G       1.05     0.9694      1.496          3        800: 100%|██████████| 526/526 [03:15<00:00,  2.70it/s]\n",
            "                 Class     Images  Instances      Box(P          R      mAP50  mAP50-95): 100%|██████████| 14/14 [00:05<00:00,  2.42it/s]"
          ]
        },
        {
          "name": "stdout",
          "output_type": "stream",
          "text": [
            "                   all        277        469      0.816      0.717      0.798      0.531\n"
          ]
        },
        {
          "name": "stderr",
          "output_type": "stream",
          "text": [
            "\n"
          ]
        },
        {
          "name": "stdout",
          "output_type": "stream",
          "text": [
            "\n",
            "      Epoch    GPU_mem   box_loss   cls_loss   dfl_loss  Instances       Size\n"
          ]
        },
        {
          "name": "stderr",
          "output_type": "stream",
          "text": [
            "      25/50      4.92G      1.033     0.9606      1.496          2        800: 100%|██████████| 526/526 [03:10<00:00,  2.76it/s]\n",
            "                 Class     Images  Instances      Box(P          R      mAP50  mAP50-95): 100%|██████████| 14/14 [00:04<00:00,  2.88it/s]"
          ]
        },
        {
          "name": "stdout",
          "output_type": "stream",
          "text": [
            "                   all        277        469      0.827      0.659      0.793      0.534\n"
          ]
        },
        {
          "name": "stderr",
          "output_type": "stream",
          "text": [
            "\n"
          ]
        },
        {
          "name": "stdout",
          "output_type": "stream",
          "text": [
            "\n",
            "      Epoch    GPU_mem   box_loss   cls_loss   dfl_loss  Instances       Size\n"
          ]
        },
        {
          "name": "stderr",
          "output_type": "stream",
          "text": [
            "      26/50      4.92G      1.039      0.941      1.491          3        800: 100%|██████████| 526/526 [03:07<00:00,  2.81it/s]\n",
            "                 Class     Images  Instances      Box(P          R      mAP50  mAP50-95): 100%|██████████| 14/14 [00:06<00:00,  2.21it/s]"
          ]
        },
        {
          "name": "stdout",
          "output_type": "stream",
          "text": [
            "                   all        277        469      0.783      0.711      0.802      0.538\n"
          ]
        },
        {
          "name": "stderr",
          "output_type": "stream",
          "text": [
            "\n"
          ]
        },
        {
          "name": "stdout",
          "output_type": "stream",
          "text": [
            "\n",
            "      Epoch    GPU_mem   box_loss   cls_loss   dfl_loss  Instances       Size\n"
          ]
        },
        {
          "name": "stderr",
          "output_type": "stream",
          "text": [
            "      27/50      4.92G      1.033      0.941      1.479         11        800: 100%|██████████| 526/526 [03:07<00:00,  2.80it/s]\n",
            "                 Class     Images  Instances      Box(P          R      mAP50  mAP50-95): 100%|██████████| 14/14 [00:05<00:00,  2.78it/s]\n"
          ]
        },
        {
          "name": "stdout",
          "output_type": "stream",
          "text": [
            "                   all        277        469       0.82       0.71      0.816      0.552\n",
            "\n",
            "      Epoch    GPU_mem   box_loss   cls_loss   dfl_loss  Instances       Size\n"
          ]
        },
        {
          "name": "stderr",
          "output_type": "stream",
          "text": [
            "      28/50      4.92G      1.021     0.9407      1.475          6        800: 100%|██████████| 526/526 [03:07<00:00,  2.80it/s]\n",
            "                 Class     Images  Instances      Box(P          R      mAP50  mAP50-95): 100%|██████████| 14/14 [00:05<00:00,  2.60it/s]"
          ]
        },
        {
          "name": "stdout",
          "output_type": "stream",
          "text": [
            "                   all        277        469       0.83      0.714      0.808      0.544\n"
          ]
        },
        {
          "name": "stderr",
          "output_type": "stream",
          "text": [
            "\n"
          ]
        },
        {
          "name": "stdout",
          "output_type": "stream",
          "text": [
            "\n",
            "      Epoch    GPU_mem   box_loss   cls_loss   dfl_loss  Instances       Size\n"
          ]
        },
        {
          "name": "stderr",
          "output_type": "stream",
          "text": [
            "      29/50      4.92G      1.018     0.9291      1.476          5        800: 100%|██████████| 526/526 [03:12<00:00,  2.73it/s]\n",
            "                 Class     Images  Instances      Box(P          R      mAP50  mAP50-95): 100%|██████████| 14/14 [00:05<00:00,  2.76it/s]"
          ]
        },
        {
          "name": "stdout",
          "output_type": "stream",
          "text": [
            "                   all        277        469      0.773       0.75      0.803      0.546\n"
          ]
        },
        {
          "name": "stderr",
          "output_type": "stream",
          "text": [
            "\n"
          ]
        },
        {
          "name": "stdout",
          "output_type": "stream",
          "text": [
            "\n",
            "      Epoch    GPU_mem   box_loss   cls_loss   dfl_loss  Instances       Size\n"
          ]
        },
        {
          "name": "stderr",
          "output_type": "stream",
          "text": [
            "      30/50      4.92G      1.006     0.9033      1.462         13        800: 100%|██████████| 526/526 [03:09<00:00,  2.78it/s]\n",
            "                 Class     Images  Instances      Box(P          R      mAP50  mAP50-95): 100%|██████████| 14/14 [00:04<00:00,  2.90it/s]"
          ]
        },
        {
          "name": "stdout",
          "output_type": "stream",
          "text": [
            "                   all        277        469       0.79      0.729      0.805      0.542\n"
          ]
        },
        {
          "name": "stderr",
          "output_type": "stream",
          "text": [
            "\n"
          ]
        },
        {
          "name": "stdout",
          "output_type": "stream",
          "text": [
            "Closing dataloader mosaic\n",
            "\u001b[34m\u001b[1malbumentations: \u001b[0mBlur(p=0.01, blur_limit=(3, 7)), MedianBlur(p=0.01, blur_limit=(3, 7)), ToGray(p=0.01, num_output_channels=3, method='weighted_average'), CLAHE(p=0.01, clip_limit=(1.0, 4.0), tile_grid_size=(8, 8))\n",
            "\n",
            "      Epoch    GPU_mem   box_loss   cls_loss   dfl_loss  Instances       Size\n"
          ]
        },
        {
          "name": "stderr",
          "output_type": "stream",
          "text": [
            "      31/50      4.92G      1.032     0.8739      1.585          3        800: 100%|██████████| 526/526 [03:08<00:00,  2.79it/s]\n",
            "                 Class     Images  Instances      Box(P          R      mAP50  mAP50-95): 100%|██████████| 14/14 [00:05<00:00,  2.67it/s]"
          ]
        },
        {
          "name": "stdout",
          "output_type": "stream",
          "text": [
            "                   all        277        469      0.796      0.752      0.812      0.552\n"
          ]
        },
        {
          "name": "stderr",
          "output_type": "stream",
          "text": [
            "\n"
          ]
        },
        {
          "name": "stdout",
          "output_type": "stream",
          "text": [
            "\n",
            "      Epoch    GPU_mem   box_loss   cls_loss   dfl_loss  Instances       Size\n"
          ]
        },
        {
          "name": "stderr",
          "output_type": "stream",
          "text": [
            "      32/50      4.92G      1.017     0.8325      1.578          4        800: 100%|██████████| 526/526 [03:03<00:00,  2.86it/s]\n",
            "                 Class     Images  Instances      Box(P          R      mAP50  mAP50-95): 100%|██████████| 14/14 [00:05<00:00,  2.79it/s]"
          ]
        },
        {
          "name": "stdout",
          "output_type": "stream",
          "text": [
            "                   all        277        469      0.798      0.738      0.802      0.547\n"
          ]
        },
        {
          "name": "stderr",
          "output_type": "stream",
          "text": [
            "\n"
          ]
        },
        {
          "name": "stdout",
          "output_type": "stream",
          "text": [
            "\n",
            "      Epoch    GPU_mem   box_loss   cls_loss   dfl_loss  Instances       Size\n"
          ]
        },
        {
          "name": "stderr",
          "output_type": "stream",
          "text": [
            "      33/50      4.92G      1.001     0.8136      1.561          4        800: 100%|██████████| 526/526 [03:04<00:00,  2.85it/s]\n",
            "                 Class     Images  Instances      Box(P          R      mAP50  mAP50-95): 100%|██████████| 14/14 [00:04<00:00,  2.98it/s]\n"
          ]
        },
        {
          "name": "stdout",
          "output_type": "stream",
          "text": [
            "                   all        277        469      0.828      0.698      0.806      0.552\n",
            "\n",
            "      Epoch    GPU_mem   box_loss   cls_loss   dfl_loss  Instances       Size\n"
          ]
        },
        {
          "name": "stderr",
          "output_type": "stream",
          "text": [
            "      34/50      4.92G     0.9955     0.8091      1.558          5        800: 100%|██████████| 526/526 [03:00<00:00,  2.92it/s]\n",
            "                 Class     Images  Instances      Box(P          R      mAP50  mAP50-95): 100%|██████████| 14/14 [00:05<00:00,  2.57it/s]\n"
          ]
        },
        {
          "name": "stdout",
          "output_type": "stream",
          "text": [
            "                   all        277        469      0.817      0.701      0.801      0.547\n",
            "\n",
            "      Epoch    GPU_mem   box_loss   cls_loss   dfl_loss  Instances       Size\n"
          ]
        },
        {
          "name": "stderr",
          "output_type": "stream",
          "text": [
            "      35/50      4.92G     0.9869     0.7898      1.551          3        800: 100%|██████████| 526/526 [03:01<00:00,  2.90it/s]\n",
            "                 Class     Images  Instances      Box(P          R      mAP50  mAP50-95): 100%|██████████| 14/14 [00:05<00:00,  2.57it/s]\n"
          ]
        },
        {
          "name": "stdout",
          "output_type": "stream",
          "text": [
            "                   all        277        469      0.789      0.718      0.804      0.548\n",
            "\n",
            "      Epoch    GPU_mem   box_loss   cls_loss   dfl_loss  Instances       Size\n"
          ]
        },
        {
          "name": "stderr",
          "output_type": "stream",
          "text": [
            "      36/50      4.92G     0.9671      0.776      1.536          6        800: 100%|██████████| 526/526 [02:59<00:00,  2.92it/s]\n",
            "                 Class     Images  Instances      Box(P          R      mAP50  mAP50-95): 100%|██████████| 14/14 [00:05<00:00,  2.76it/s]\n"
          ]
        },
        {
          "name": "stdout",
          "output_type": "stream",
          "text": [
            "                   all        277        469      0.796      0.714      0.804      0.549\n",
            "\n",
            "      Epoch    GPU_mem   box_loss   cls_loss   dfl_loss  Instances       Size\n"
          ]
        },
        {
          "name": "stderr",
          "output_type": "stream",
          "text": [
            "      37/50      4.92G     0.9545     0.7561      1.523          4        800: 100%|██████████| 526/526 [03:04<00:00,  2.85it/s]\n",
            "                 Class     Images  Instances      Box(P          R      mAP50  mAP50-95): 100%|██████████| 14/14 [00:04<00:00,  2.88it/s]\n"
          ]
        },
        {
          "name": "stdout",
          "output_type": "stream",
          "text": [
            "                   all        277        469      0.842      0.697      0.813      0.551\n",
            "\n",
            "      Epoch    GPU_mem   box_loss   cls_loss   dfl_loss  Instances       Size\n"
          ]
        },
        {
          "name": "stderr",
          "output_type": "stream",
          "text": [
            "      38/50      4.92G     0.9423     0.7415      1.511          4        800: 100%|██████████| 526/526 [03:01<00:00,  2.90it/s]\n",
            "                 Class     Images  Instances      Box(P          R      mAP50  mAP50-95): 100%|██████████| 14/14 [00:04<00:00,  2.81it/s]"
          ]
        },
        {
          "name": "stdout",
          "output_type": "stream",
          "text": [
            "                   all        277        469      0.805      0.736      0.816      0.554\n"
          ]
        },
        {
          "name": "stderr",
          "output_type": "stream",
          "text": [
            "\n"
          ]
        },
        {
          "name": "stdout",
          "output_type": "stream",
          "text": [
            "\n",
            "      Epoch    GPU_mem   box_loss   cls_loss   dfl_loss  Instances       Size\n"
          ]
        },
        {
          "name": "stderr",
          "output_type": "stream",
          "text": [
            "      39/50      4.92G     0.9392     0.7267      1.506          7        800: 100%|██████████| 526/526 [02:59<00:00,  2.93it/s]\n",
            "                 Class     Images  Instances      Box(P          R      mAP50  mAP50-95): 100%|██████████| 14/14 [00:05<00:00,  2.51it/s]"
          ]
        },
        {
          "name": "stdout",
          "output_type": "stream",
          "text": [
            "                   all        277        469       0.78      0.741      0.803      0.546\n"
          ]
        },
        {
          "name": "stderr",
          "output_type": "stream",
          "text": [
            "\n"
          ]
        },
        {
          "name": "stdout",
          "output_type": "stream",
          "text": [
            "\n",
            "      Epoch    GPU_mem   box_loss   cls_loss   dfl_loss  Instances       Size\n"
          ]
        },
        {
          "name": "stderr",
          "output_type": "stream",
          "text": [
            "      40/50      4.92G      0.927     0.7167      1.493          2        800: 100%|██████████| 526/526 [03:01<00:00,  2.90it/s]\n",
            "                 Class     Images  Instances      Box(P          R      mAP50  mAP50-95): 100%|██████████| 14/14 [00:04<00:00,  2.85it/s]\n"
          ]
        },
        {
          "name": "stdout",
          "output_type": "stream",
          "text": [
            "                   all        277        469      0.766      0.771      0.806      0.545\n",
            "\n",
            "      Epoch    GPU_mem   box_loss   cls_loss   dfl_loss  Instances       Size\n"
          ]
        },
        {
          "name": "stderr",
          "output_type": "stream",
          "text": [
            "      41/50      4.92G     0.9107     0.6971      1.483          2        800: 100%|██████████| 526/526 [03:07<00:00,  2.81it/s]\n",
            "                 Class     Images  Instances      Box(P          R      mAP50  mAP50-95): 100%|██████████| 14/14 [00:04<00:00,  2.83it/s]"
          ]
        },
        {
          "name": "stdout",
          "output_type": "stream",
          "text": [
            "                   all        277        469      0.762      0.771      0.806      0.555\n"
          ]
        },
        {
          "name": "stderr",
          "output_type": "stream",
          "text": [
            "\n"
          ]
        },
        {
          "name": "stdout",
          "output_type": "stream",
          "text": [
            "\n",
            "      Epoch    GPU_mem   box_loss   cls_loss   dfl_loss  Instances       Size\n"
          ]
        },
        {
          "name": "stderr",
          "output_type": "stream",
          "text": [
            "      42/50      4.92G     0.9006     0.6896      1.472          2        800: 100%|██████████| 526/526 [03:04<00:00,  2.86it/s]\n",
            "                 Class     Images  Instances      Box(P          R      mAP50  mAP50-95): 100%|██████████| 14/14 [00:04<00:00,  2.94it/s]"
          ]
        },
        {
          "name": "stdout",
          "output_type": "stream",
          "text": [
            "                   all        277        469      0.809      0.701      0.797      0.548\n"
          ]
        },
        {
          "name": "stderr",
          "output_type": "stream",
          "text": [
            "\n"
          ]
        },
        {
          "name": "stdout",
          "output_type": "stream",
          "text": [
            "\n",
            "      Epoch    GPU_mem   box_loss   cls_loss   dfl_loss  Instances       Size\n"
          ]
        },
        {
          "name": "stderr",
          "output_type": "stream",
          "text": [
            "      43/50      4.92G      0.891     0.6759      1.461          4        800: 100%|██████████| 526/526 [03:08<00:00,  2.79it/s]\n",
            "                 Class     Images  Instances      Box(P          R      mAP50  mAP50-95): 100%|██████████| 14/14 [00:04<00:00,  2.89it/s]"
          ]
        },
        {
          "name": "stdout",
          "output_type": "stream",
          "text": [
            "                   all        277        469      0.802      0.719      0.794      0.543\n"
          ]
        },
        {
          "name": "stderr",
          "output_type": "stream",
          "text": [
            "\n"
          ]
        },
        {
          "name": "stdout",
          "output_type": "stream",
          "text": [
            "\n",
            "      Epoch    GPU_mem   box_loss   cls_loss   dfl_loss  Instances       Size\n"
          ]
        },
        {
          "name": "stderr",
          "output_type": "stream",
          "text": [
            "      44/50      4.92G     0.8837     0.6573      1.454          3        800: 100%|██████████| 526/526 [03:08<00:00,  2.78it/s]\n",
            "                 Class     Images  Instances      Box(P          R      mAP50  mAP50-95): 100%|██████████| 14/14 [00:05<00:00,  2.55it/s]"
          ]
        },
        {
          "name": "stdout",
          "output_type": "stream",
          "text": [
            "                   all        277        469      0.813       0.72      0.799      0.544\n"
          ]
        },
        {
          "name": "stderr",
          "output_type": "stream",
          "text": [
            "\n"
          ]
        },
        {
          "name": "stdout",
          "output_type": "stream",
          "text": [
            "\n",
            "      Epoch    GPU_mem   box_loss   cls_loss   dfl_loss  Instances       Size\n"
          ]
        },
        {
          "name": "stderr",
          "output_type": "stream",
          "text": [
            "      45/50      4.92G     0.8765     0.6513      1.449          2        800: 100%|██████████| 526/526 [03:05<00:00,  2.84it/s]\n",
            "                 Class     Images  Instances      Box(P          R      mAP50  mAP50-95): 100%|██████████| 14/14 [00:05<00:00,  2.73it/s]"
          ]
        },
        {
          "name": "stdout",
          "output_type": "stream",
          "text": [
            "                   all        277        469      0.753      0.772        0.8      0.542\n"
          ]
        },
        {
          "name": "stderr",
          "output_type": "stream",
          "text": [
            "\n"
          ]
        },
        {
          "name": "stdout",
          "output_type": "stream",
          "text": [
            "\n",
            "      Epoch    GPU_mem   box_loss   cls_loss   dfl_loss  Instances       Size\n"
          ]
        },
        {
          "name": "stderr",
          "output_type": "stream",
          "text": [
            "      46/50      4.92G     0.8624     0.6357      1.436          2        800: 100%|██████████| 526/526 [03:03<00:00,  2.86it/s]\n",
            "                 Class     Images  Instances      Box(P          R      mAP50  mAP50-95): 100%|██████████| 14/14 [00:04<00:00,  2.80it/s]\n"
          ]
        },
        {
          "name": "stdout",
          "output_type": "stream",
          "text": [
            "                   all        277        469      0.746      0.762      0.794      0.542\n",
            "\n",
            "      Epoch    GPU_mem   box_loss   cls_loss   dfl_loss  Instances       Size\n"
          ]
        },
        {
          "name": "stderr",
          "output_type": "stream",
          "text": [
            "      47/50      4.92G     0.8555     0.6286      1.431          4        800: 100%|██████████| 526/526 [03:05<00:00,  2.84it/s]\n",
            "                 Class     Images  Instances      Box(P          R      mAP50  mAP50-95): 100%|██████████| 14/14 [00:05<00:00,  2.67it/s]"
          ]
        },
        {
          "name": "stdout",
          "output_type": "stream",
          "text": [
            "                   all        277        469      0.757      0.756      0.794      0.538\n"
          ]
        },
        {
          "name": "stderr",
          "output_type": "stream",
          "text": [
            "\n"
          ]
        },
        {
          "name": "stdout",
          "output_type": "stream",
          "text": [
            "\n",
            "      Epoch    GPU_mem   box_loss   cls_loss   dfl_loss  Instances       Size\n"
          ]
        },
        {
          "name": "stderr",
          "output_type": "stream",
          "text": [
            "      48/50      4.92G     0.8468     0.6211      1.416          6        800: 100%|██████████| 526/526 [03:00<00:00,  2.91it/s]\n",
            "                 Class     Images  Instances      Box(P          R      mAP50  mAP50-95): 100%|██████████| 14/14 [00:05<00:00,  2.73it/s]\n"
          ]
        },
        {
          "name": "stdout",
          "output_type": "stream",
          "text": [
            "                   all        277        469      0.744      0.761      0.795       0.54\n",
            "\n",
            "      Epoch    GPU_mem   box_loss   cls_loss   dfl_loss  Instances       Size\n"
          ]
        },
        {
          "name": "stderr",
          "output_type": "stream",
          "text": [
            "      49/50      4.92G     0.8422     0.6161      1.419          4        800: 100%|██████████| 526/526 [03:01<00:00,  2.90it/s]\n",
            "                 Class     Images  Instances      Box(P          R      mAP50  mAP50-95): 100%|██████████| 14/14 [00:04<00:00,  2.91it/s]"
          ]
        },
        {
          "name": "stdout",
          "output_type": "stream",
          "text": [
            "                   all        277        469      0.739      0.765      0.792      0.538\n"
          ]
        },
        {
          "name": "stderr",
          "output_type": "stream",
          "text": [
            "\n"
          ]
        },
        {
          "name": "stdout",
          "output_type": "stream",
          "text": [
            "\n",
            "      Epoch    GPU_mem   box_loss   cls_loss   dfl_loss  Instances       Size\n"
          ]
        },
        {
          "name": "stderr",
          "output_type": "stream",
          "text": [
            "      50/50      4.92G      0.828     0.6055      1.414          3        800: 100%|██████████| 526/526 [03:04<00:00,  2.85it/s]\n",
            "                 Class     Images  Instances      Box(P          R      mAP50  mAP50-95): 100%|██████████| 14/14 [00:06<00:00,  2.18it/s]\n"
          ]
        },
        {
          "name": "stdout",
          "output_type": "stream",
          "text": [
            "                   all        277        469      0.758      0.746      0.789      0.535\n",
            "\n",
            "50 epochs completed in 2.695 hours.\n",
            "Optimizer stripped from runs/detect/train_fold_8_model_yolo11s_imgs_800/weights/last.pt, 19.2MB\n",
            "Optimizer stripped from runs/detect/train_fold_8_model_yolo11s_imgs_800/weights/best.pt, 19.2MB\n",
            "\n",
            "Validating runs/detect/train_fold_8_model_yolo11s_imgs_800/weights/best.pt...\n",
            "Ultralytics 8.3.116 🚀 Python-3.10.12 torch-2.5.1+cu121 CUDA:0 (Tesla T4, 15095MiB)\n",
            "YOLO11s summary (fused): 100 layers, 9,413,961 parameters, 0 gradients, 21.3 GFLOPs\n"
          ]
        },
        {
          "name": "stderr",
          "output_type": "stream",
          "text": [
            "                 Class     Images  Instances      Box(P          R      mAP50  mAP50-95): 100%|██████████| 14/14 [00:07<00:00,  1.90it/s]\n"
          ]
        },
        {
          "name": "stdout",
          "output_type": "stream",
          "text": [
            "                   all        277        469      0.763      0.771      0.806      0.555\n",
            "           anthracnose         82        118      0.745       0.78      0.818      0.579\n",
            "                 cssvd        115        159      0.777      0.768      0.801      0.562\n",
            "               healthy         80        192      0.766      0.765      0.798      0.524\n",
            "Speed: 0.4ms preprocess, 6.5ms inference, 0.0ms loss, 3.6ms postprocess per image\n",
            "Results saved to \u001b[1mruns/detect/train_fold_8_model_yolo11s_imgs_800\u001b[0m\n",
            "CPU times: user 5h 59min 25s, sys: 22min 27s, total: 6h 21min 52s\n",
            "Wall time: 8h 30min 5s\n"
          ]
        }
      ],
      "source": [
        "%%time\n",
        "\n",
        "for FOLD in [6,7,8]:\n",
        "    IMGSZ = 800\n",
        "    MODEL_NAME = 'yolo11s'\n",
        "\n",
        "    # build.YOLODataset = YOLOWeightedDataset\n",
        "    run_dir = f'train_fold_{FOLD}_model_{MODEL_NAME}_imgs_{IMGSZ}'\n",
        "    DATASET_DIRECTORY = f'/kaggle/working/dataset-fold_{FOLD}'\n",
        "\n",
        "    os.makedirs(DATASET_DIRECTORY,exist_ok=True)\n",
        "\n",
        "    conf = {\n",
        "            'path': DATASET_DIRECTORY,\n",
        "            'train': 'train/images',\n",
        "            'val': 'valid/images',\n",
        "            'nc': len(label_map),\n",
        "            'names': label_map\n",
        "        }\n",
        "\n",
        "    with open(f'{DATASET_DIRECTORY}/config.yaml','w') as f:\n",
        "        yaml.dump(conf,f,default_flow_style=False)\n",
        "\n",
        "\n",
        "    print(f\"========================= Runnign fold {FOLD} =======================================\")\n",
        "    generate_split_and_prepare_yolo_format(FOLD,\n",
        "                                           train, DATASET_DIRECTORY)\n",
        "\n",
        "\n",
        "    model = YOLO(f'{MODEL_NAME}.pt')\n",
        "\n",
        "    results = model.train(data=f'{DATASET_DIRECTORY}/config.yaml',\n",
        "                          epochs=50,\n",
        "                          imgsz=IMGSZ,\n",
        "                          # project = project,  # 👈 where 'runs' will be saved\n",
        "                          name=run_dir,\n",
        "                          device=0,\n",
        "                          batch=10,\n",
        "                          optimizer='AdamW',\n",
        "                          lr0=3e-4,\n",
        "                          momentum=0.9,\n",
        "                          weight_decay=1e-2,\n",
        "                          close_mosaic=20,\n",
        "                          seed=CFG.YOLO_SEED,\n",
        "                          # patience=10  # 👈 Add this for early stopping after 10 epochs without improvement\n",
        "    )\n",
        "\n",
        "    shutil.rmtree(DATASET_DIRECTORY)\n"
      ]
    },
    {
      "cell_type": "code",
      "execution_count": null,
      "id": "58c50777",
      "metadata": {
        "id": "58c50777",
        "papermill": {
          "duration": 9.102602,
          "end_time": "2025-05-03T19:08:52.832801",
          "exception": false,
          "start_time": "2025-05-03T19:08:43.730199",
          "status": "completed"
        },
        "tags": []
      },
      "outputs": [],
      "source": []
    }
  ],
  "metadata": {
    "accelerator": "GPU",
    "colab": {
      "gpuType": "T4",
      "provenance": []
    },
    "kaggle": {
      "accelerator": "nvidiaTeslaT4",
      "dataSources": [
        {
          "datasetId": 6743253,
          "sourceId": 10856302,
          "sourceType": "datasetVersion"
        }
      ],
      "dockerImageVersionId": 30919,
      "isGpuEnabled": true,
      "isInternetEnabled": true,
      "language": "python",
      "sourceType": "notebook"
    },
    "kernelspec": {
      "display_name": "Python 3",
      "language": "python",
      "name": "python3"
    },
    "language_info": {
      "codemirror_mode": {
        "name": "ipython",
        "version": 3
      },
      "file_extension": ".py",
      "mimetype": "text/x-python",
      "name": "python",
      "nbconvert_exporter": "python",
      "pygments_lexer": "ipython3",
      "version": "3.10.12"
    },
    "papermill": {
      "default_parameters": {},
      "duration": 30760.826165,
      "end_time": "2025-05-03T19:09:04.810957",
      "environment_variables": {},
      "exception": null,
      "input_path": "__notebook__.ipynb",
      "output_path": "__notebook__.ipynb",
      "parameters": {},
      "start_time": "2025-05-03T10:36:23.984792",
      "version": "2.6.0"
    }
  },
  "nbformat": 4,
  "nbformat_minor": 5
}
